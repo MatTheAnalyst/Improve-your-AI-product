{
 "cells": [
  {
   "cell_type": "markdown",
   "metadata": {},
   "source": [
    "# 1. [Imports](#section1)\n",
    "\n",
    "# 2. [Détection des sujets d'insatisfaction](#section2)\n",
    "- [Chargement des données](#section21)\n",
    "- [Preprocessing des données](#section22)\n",
    "- [EDA](#section23)\n",
    "- [Modeling](#section24)\n",
    "\n",
    "# 3. [Classement d'images non supervisé](#section3)\n",
    "- [Chargement des données](#section31)\n",
    "- [Preprocessing des données](#section32)\n",
    "- [EDA](#section33)\n",
    "- [Modeling](#section34)"
   ]
  },
  {
   "cell_type": "markdown",
   "metadata": {},
   "source": [
    "<a id=\"section1\"></a>\n",
    "# Import"
   ]
  },
  {
   "cell_type": "code",
   "execution_count": 1,
   "metadata": {},
   "outputs": [],
   "source": [
    "import pandas as pd\n",
    "import numpy as np\n",
    "import seaborn as sns\n",
    "from PIL import Image, ImageOps\n",
    "from PIL import ImageFilter\n",
    "from matplotlib import pyplot as plt\n",
    "import cv2\n",
    "from pathlib import Path\n",
    "import shutil\n",
    "from PIL import Image\n",
    "from wordcloud import WordCloud\n",
    "from sklearn.cluster import KMeans\n",
    "from sklearn.preprocessing import StandardScaler, LabelEncoder\n",
    "from sklearn.decomposition import PCA, LatentDirichletAllocation\n",
    "from sklearn.manifold import TSNE\n",
    "from sklearn.model_selection import train_test_split\n",
    "from sklearn.utils import compute_class_weight\n",
    "from sklearn.feature_extraction.text import CountVectorizer, TfidfVectorizer\n",
    "from sklearn.metrics import confusion_matrix, adjusted_rand_score\n",
    "from sklearn.pipeline import Pipeline\n",
    "from sklearn.base import BaseEstimator, TransformerMixin\n",
    "from tensorflow.keras.preprocessing.image import ImageDataGenerator, load_img, img_to_array\n",
    "from tensorflow.keras.models import Sequential\n",
    "from tensorflow.keras import Model\n",
    "from tensorflow.keras.regularizers import l2\n",
    "from tensorflow.keras.layers import Dense, Flatten, Dropout\n",
    "from tensorflow.keras.applications.vgg16 import VGG16\n",
    "from nltk.stem import WordNetLemmatizer\n",
    "from nltk.corpus import wordnet, stopwords\n",
    "from nltk.collections import Counter\n",
    "from nltk.tokenize import word_tokenize\n",
    "from nltk import pos_tag\n",
    "import pickle\n",
    "import ssl\n",
    "import pyLDAvis\n",
    "from pyLDAvis import lda_model\n",
    "pyLDAvis.enable_notebook()\n",
    "\n",
    "try:\n",
    "    from PIL import UnidentifiedImageError\n",
    "except ImportError:\n",
    "    UnidentifiedImageError = IOError\n",
    "\n",
    "import sys\n",
    "from pathlib import Path\n",
    "\n",
    "# Ajout chemin du dossier racine au sys.path\n",
    "if str(Path().absolute().parents[0]) not in sys.path:\n",
    "    sys.path.append(str(Path().absolute().parents[0]))\n",
    "    \n",
    "from src.data_processing.general_preprocessing import clean_comment, tokenize_comment, delete_stopwords, lemmatized_tokens, most_frequent_word, delete_most_frequent_word, unique_word, delete_unique_word\n",
    "from src.data_processing.lda_preprocessing import create_bow, create_tfidf\n",
    "from src.models.lda_tuning import tune_lda, train_lda\n",
    "from src.visualization.lda_visualisation import sklearn_print_top_words"
   ]
  },
  {
   "cell_type": "code",
   "execution_count": 6,
   "metadata": {},
   "outputs": [
    {
     "name": "stdout",
     "output_type": "stream",
     "text": [
      "Querying https://api.yelp.com/v3/businesses/search ...\n",
      "Status Code: 429\n",
      "Error occurred: {\"error\": {\"code\": \"ACCESS_LIMIT_REACHED\", \"description\": \"You've reached the access limit for this client. See instructions for requesting a higher access limit at https://docs.developer.yelp.com/docs/fusion-rate-limiting\"}}\n"
     ]
    }
   ],
   "source": [
    "from src.utils.api_yelp import search_with_pagination, get_review\n",
    "\n",
    "restaurants = search_with_pagination(term=\"restaurants\", location=\"New York, NY\", total=10)\n",
    "reviews = list()\n",
    "for restaurant in restaurants:\n",
    "    reviews = get_review(restaurant['id'])\n",
    "    print(reviews)\n",
    "    print(type(reviews))\n",
    "    if reviews and 'reviews' in reviews:\n",
    "        for review in reviews['reviews']:\n",
    "            print(f\"Review: {review['text']}\\n\")\n",
    "    else:\n",
    "        print(\"Aucun avis disponible.\\n\")"
   ]
  },
  {
   "cell_type": "code",
   "execution_count": 5,
   "metadata": {},
   "outputs": [
    {
     "name": "stdout",
     "output_type": "stream",
     "text": [
      "50\n",
      "50\n",
      "50\n",
      "50\n"
     ]
    }
   ],
   "source": [
    "for offset in range(0, 200, 50):\n",
    "    print(min(200 - offset, 50))"
   ]
  },
  {
   "cell_type": "code",
   "execution_count": null,
   "metadata": {},
   "outputs": [],
   "source": [
    "min(200 - offset, 50)"
   ]
  },
  {
   "cell_type": "code",
   "execution_count": 2,
   "metadata": {},
   "outputs": [],
   "source": [
    "pd.set_option('display.max_rows', 500)"
   ]
  },
  {
   "cell_type": "markdown",
   "metadata": {},
   "source": [
    "<a id=\"section2\"></a>\n",
    "# 2. Détection des sujets d'insatisfaction"
   ]
  },
  {
   "cell_type": "markdown",
   "metadata": {},
   "source": [
    "<a id=\"section21\"></a>\n",
    "## 2.1. Chargement des données"
   ]
  },
  {
   "cell_type": "markdown",
   "metadata": {},
   "source": [
    "Faire en sorte de prendre un sample avec des 'user_id' unique."
   ]
  },
  {
   "cell_type": "code",
   "execution_count": 3,
   "metadata": {},
   "outputs": [
    {
     "data": {
      "text/html": [
       "<div>\n",
       "<style scoped>\n",
       "    .dataframe tbody tr th:only-of-type {\n",
       "        vertical-align: middle;\n",
       "    }\n",
       "\n",
       "    .dataframe tbody tr th {\n",
       "        vertical-align: top;\n",
       "    }\n",
       "\n",
       "    .dataframe thead th {\n",
       "        text-align: right;\n",
       "    }\n",
       "</style>\n",
       "<table border=\"1\" class=\"dataframe\">\n",
       "  <thead>\n",
       "    <tr style=\"text-align: right;\">\n",
       "      <th></th>\n",
       "      <th>business_id</th>\n",
       "      <th>name</th>\n",
       "      <th>address</th>\n",
       "      <th>city</th>\n",
       "      <th>state</th>\n",
       "      <th>postal_code</th>\n",
       "      <th>latitude</th>\n",
       "      <th>longitude</th>\n",
       "      <th>stars</th>\n",
       "      <th>review_count</th>\n",
       "      <th>is_open</th>\n",
       "      <th>attributes</th>\n",
       "      <th>categories</th>\n",
       "      <th>hours</th>\n",
       "    </tr>\n",
       "  </thead>\n",
       "  <tbody>\n",
       "    <tr>\n",
       "      <th>0</th>\n",
       "      <td>Pns2l4eNsfO8kk83dixA6A</td>\n",
       "      <td>Abby Rappoport, LAC, CMQ</td>\n",
       "      <td>1616 Chapala St, Ste 2</td>\n",
       "      <td>Santa Barbara</td>\n",
       "      <td>CA</td>\n",
       "      <td>93101</td>\n",
       "      <td>34.426679</td>\n",
       "      <td>-119.711197</td>\n",
       "      <td>5.0</td>\n",
       "      <td>7</td>\n",
       "      <td>0</td>\n",
       "      <td>{'ByAppointmentOnly': 'True'}</td>\n",
       "      <td>Doctors, Traditional Chinese Medicine, Naturop...</td>\n",
       "      <td>None</td>\n",
       "    </tr>\n",
       "    <tr>\n",
       "      <th>1</th>\n",
       "      <td>mpf3x-BjTdTEA3yCZrAYPw</td>\n",
       "      <td>The UPS Store</td>\n",
       "      <td>87 Grasso Plaza Shopping Center</td>\n",
       "      <td>Affton</td>\n",
       "      <td>MO</td>\n",
       "      <td>63123</td>\n",
       "      <td>38.551126</td>\n",
       "      <td>-90.335695</td>\n",
       "      <td>3.0</td>\n",
       "      <td>15</td>\n",
       "      <td>1</td>\n",
       "      <td>{'BusinessAcceptsCreditCards': 'True'}</td>\n",
       "      <td>Shipping Centers, Local Services, Notaries, Ma...</td>\n",
       "      <td>{'Monday': '0:0-0:0', 'Tuesday': '8:0-18:30', ...</td>\n",
       "    </tr>\n",
       "    <tr>\n",
       "      <th>2</th>\n",
       "      <td>tUFrWirKiKi_TAnsVWINQQ</td>\n",
       "      <td>Target</td>\n",
       "      <td>5255 E Broadway Blvd</td>\n",
       "      <td>Tucson</td>\n",
       "      <td>AZ</td>\n",
       "      <td>85711</td>\n",
       "      <td>32.223236</td>\n",
       "      <td>-110.880452</td>\n",
       "      <td>3.5</td>\n",
       "      <td>22</td>\n",
       "      <td>0</td>\n",
       "      <td>{'BikeParking': 'True', 'BusinessAcceptsCredit...</td>\n",
       "      <td>Department Stores, Shopping, Fashion, Home &amp; G...</td>\n",
       "      <td>{'Monday': '8:0-22:0', 'Tuesday': '8:0-22:0', ...</td>\n",
       "    </tr>\n",
       "    <tr>\n",
       "      <th>3</th>\n",
       "      <td>MTSW4McQd7CbVtyjqoe9mw</td>\n",
       "      <td>St Honore Pastries</td>\n",
       "      <td>935 Race St</td>\n",
       "      <td>Philadelphia</td>\n",
       "      <td>PA</td>\n",
       "      <td>19107</td>\n",
       "      <td>39.955505</td>\n",
       "      <td>-75.155564</td>\n",
       "      <td>4.0</td>\n",
       "      <td>80</td>\n",
       "      <td>1</td>\n",
       "      <td>{'RestaurantsDelivery': 'False', 'OutdoorSeati...</td>\n",
       "      <td>Restaurants, Food, Bubble Tea, Coffee &amp; Tea, B...</td>\n",
       "      <td>{'Monday': '7:0-20:0', 'Tuesday': '7:0-20:0', ...</td>\n",
       "    </tr>\n",
       "    <tr>\n",
       "      <th>4</th>\n",
       "      <td>mWMc6_wTdE0EUBKIGXDVfA</td>\n",
       "      <td>Perkiomen Valley Brewery</td>\n",
       "      <td>101 Walnut St</td>\n",
       "      <td>Green Lane</td>\n",
       "      <td>PA</td>\n",
       "      <td>18054</td>\n",
       "      <td>40.338183</td>\n",
       "      <td>-75.471659</td>\n",
       "      <td>4.5</td>\n",
       "      <td>13</td>\n",
       "      <td>1</td>\n",
       "      <td>{'BusinessAcceptsCreditCards': 'True', 'Wheelc...</td>\n",
       "      <td>Brewpubs, Breweries, Food</td>\n",
       "      <td>{'Wednesday': '14:0-22:0', 'Thursday': '16:0-2...</td>\n",
       "    </tr>\n",
       "  </tbody>\n",
       "</table>\n",
       "</div>"
      ],
      "text/plain": [
       "              business_id                      name  \\\n",
       "0  Pns2l4eNsfO8kk83dixA6A  Abby Rappoport, LAC, CMQ   \n",
       "1  mpf3x-BjTdTEA3yCZrAYPw             The UPS Store   \n",
       "2  tUFrWirKiKi_TAnsVWINQQ                    Target   \n",
       "3  MTSW4McQd7CbVtyjqoe9mw        St Honore Pastries   \n",
       "4  mWMc6_wTdE0EUBKIGXDVfA  Perkiomen Valley Brewery   \n",
       "\n",
       "                           address           city state postal_code  \\\n",
       "0           1616 Chapala St, Ste 2  Santa Barbara    CA       93101   \n",
       "1  87 Grasso Plaza Shopping Center         Affton    MO       63123   \n",
       "2             5255 E Broadway Blvd         Tucson    AZ       85711   \n",
       "3                      935 Race St   Philadelphia    PA       19107   \n",
       "4                    101 Walnut St     Green Lane    PA       18054   \n",
       "\n",
       "    latitude   longitude  stars  review_count  is_open  \\\n",
       "0  34.426679 -119.711197    5.0             7        0   \n",
       "1  38.551126  -90.335695    3.0            15        1   \n",
       "2  32.223236 -110.880452    3.5            22        0   \n",
       "3  39.955505  -75.155564    4.0            80        1   \n",
       "4  40.338183  -75.471659    4.5            13        1   \n",
       "\n",
       "                                          attributes  \\\n",
       "0                      {'ByAppointmentOnly': 'True'}   \n",
       "1             {'BusinessAcceptsCreditCards': 'True'}   \n",
       "2  {'BikeParking': 'True', 'BusinessAcceptsCredit...   \n",
       "3  {'RestaurantsDelivery': 'False', 'OutdoorSeati...   \n",
       "4  {'BusinessAcceptsCreditCards': 'True', 'Wheelc...   \n",
       "\n",
       "                                          categories  \\\n",
       "0  Doctors, Traditional Chinese Medicine, Naturop...   \n",
       "1  Shipping Centers, Local Services, Notaries, Ma...   \n",
       "2  Department Stores, Shopping, Fashion, Home & G...   \n",
       "3  Restaurants, Food, Bubble Tea, Coffee & Tea, B...   \n",
       "4                          Brewpubs, Breweries, Food   \n",
       "\n",
       "                                               hours  \n",
       "0                                               None  \n",
       "1  {'Monday': '0:0-0:0', 'Tuesday': '8:0-18:30', ...  \n",
       "2  {'Monday': '8:0-22:0', 'Tuesday': '8:0-22:0', ...  \n",
       "3  {'Monday': '7:0-20:0', 'Tuesday': '7:0-20:0', ...  \n",
       "4  {'Wednesday': '14:0-22:0', 'Thursday': '16:0-2...  "
      ]
     },
     "execution_count": 3,
     "metadata": {},
     "output_type": "execute_result"
    }
   ],
   "source": [
    "review = pd.read_json(\"../data/raw/yelp_dataset/yelp_academic_dataset_review.json\", lines=True)\n",
    "business = pd.read_json(\"../data/raw/yelp_dataset/yelp_academic_dataset_business.json\", lines=True)\n",
    "business.head()"
   ]
  },
  {
   "cell_type": "code",
   "execution_count": 4,
   "metadata": {},
   "outputs": [],
   "source": [
    "business_id_restaurants = business.loc[(business['categories'].str.contains(r'Restaurants'))&(~business['categories'].isna()),'business_id'].to_list()"
   ]
  },
  {
   "cell_type": "code",
   "execution_count": 5,
   "metadata": {},
   "outputs": [],
   "source": [
    "review_sample = review.loc[review['business_id'].isin(business_id_restaurants),:]"
   ]
  },
  {
   "cell_type": "markdown",
   "metadata": {},
   "source": [
    "Nous passons de 6 990 280 lignes à 4 724 471 lignes concernant des restaurants, dont 567 185 lignes ayant une note de satisfaction d'une étoile."
   ]
  },
  {
   "cell_type": "code",
   "execution_count": 6,
   "metadata": {},
   "outputs": [],
   "source": [
    "review_sample = review_sample.loc[review_sample['stars']==1,'text'].sample(n=100000, random_state=0)\n",
    "review_sample = review_sample.to_frame()"
   ]
  },
  {
   "cell_type": "code",
   "execution_count": 7,
   "metadata": {},
   "outputs": [
    {
     "data": {
      "text/html": [
       "<div>\n",
       "<style scoped>\n",
       "    .dataframe tbody tr th:only-of-type {\n",
       "        vertical-align: middle;\n",
       "    }\n",
       "\n",
       "    .dataframe tbody tr th {\n",
       "        vertical-align: top;\n",
       "    }\n",
       "\n",
       "    .dataframe thead th {\n",
       "        text-align: right;\n",
       "    }\n",
       "</style>\n",
       "<table border=\"1\" class=\"dataframe\">\n",
       "  <thead>\n",
       "    <tr style=\"text-align: right;\">\n",
       "      <th></th>\n",
       "      <th>text</th>\n",
       "    </tr>\n",
       "  </thead>\n",
       "  <tbody>\n",
       "    <tr>\n",
       "      <th>3155066</th>\n",
       "      <td>I have a laundry list of issues with this plac...</td>\n",
       "    </tr>\n",
       "    <tr>\n",
       "      <th>5796398</th>\n",
       "      <td>I expected better food, after being in NO for ...</td>\n",
       "    </tr>\n",
       "    <tr>\n",
       "      <th>2221781</th>\n",
       "      <td>Worst dinner experience, drinks and food was g...</td>\n",
       "    </tr>\n",
       "    <tr>\n",
       "      <th>3226366</th>\n",
       "      <td>Hello my fellow yelpers, word to the wise don'...</td>\n",
       "    </tr>\n",
       "    <tr>\n",
       "      <th>2684804</th>\n",
       "      <td>Do not go here you will be sorry or sick, I wa...</td>\n",
       "    </tr>\n",
       "    <tr>\n",
       "      <th>...</th>\n",
       "      <td>...</td>\n",
       "    </tr>\n",
       "    <tr>\n",
       "      <th>1333806</th>\n",
       "      <td>If I could give 0 stars I would. This is the w...</td>\n",
       "    </tr>\n",
       "    <tr>\n",
       "      <th>4306050</th>\n",
       "      <td>Tried to go through the drive thru two people ...</td>\n",
       "    </tr>\n",
       "    <tr>\n",
       "      <th>3022807</th>\n",
       "      <td>New to town, was recommended by locals as bein...</td>\n",
       "    </tr>\n",
       "    <tr>\n",
       "      <th>4983596</th>\n",
       "      <td>Was so excited to try Bella Vita but drove by ...</td>\n",
       "    </tr>\n",
       "    <tr>\n",
       "      <th>1465622</th>\n",
       "      <td>After I ate there, I had to see if there were ...</td>\n",
       "    </tr>\n",
       "  </tbody>\n",
       "</table>\n",
       "<p>100000 rows × 1 columns</p>\n",
       "</div>"
      ],
      "text/plain": [
       "                                                      text\n",
       "3155066  I have a laundry list of issues with this plac...\n",
       "5796398  I expected better food, after being in NO for ...\n",
       "2221781  Worst dinner experience, drinks and food was g...\n",
       "3226366  Hello my fellow yelpers, word to the wise don'...\n",
       "2684804  Do not go here you will be sorry or sick, I wa...\n",
       "...                                                    ...\n",
       "1333806  If I could give 0 stars I would. This is the w...\n",
       "4306050  Tried to go through the drive thru two people ...\n",
       "3022807  New to town, was recommended by locals as bein...\n",
       "4983596  Was so excited to try Bella Vita but drove by ...\n",
       "1465622  After I ate there, I had to see if there were ...\n",
       "\n",
       "[100000 rows x 1 columns]"
      ]
     },
     "execution_count": 7,
     "metadata": {},
     "output_type": "execute_result"
    }
   ],
   "source": [
    "review_sample"
   ]
  },
  {
   "cell_type": "markdown",
   "metadata": {},
   "source": [
    "<a id=\"section22\"></a>\n",
    "## 2.2. Preprocessing des données"
   ]
  },
  {
   "cell_type": "code",
   "execution_count": 8,
   "metadata": {},
   "outputs": [],
   "source": [
    "review_sample['clean_comment'] = review_sample['text'].apply(clean_comment)\n",
    "review_sample['tokens'] = review_sample['clean_comment'].apply(tokenize_comment)\n",
    "review_sample['tokens_without_stopwords'] = review_sample['tokens'].apply(delete_stopwords)\n",
    "review_sample['tokens_lemm'] = review_sample['tokens_without_stopwords'].apply(lemmatized_tokens)\n",
    "top_words = most_frequent_word(review_sample['tokens_lemm'], 20)\n",
    "review_sample['tokens_without_top_words'] = review_sample['tokens_lemm'].apply(lambda comment: delete_most_frequent_word(comment, top_words))\n",
    "#unique_word = unique_word(review_sample['tokens_without_top_words'])\n",
    "#review_sample['tokens_without_unique_word'] = review_sample['tokens_without_top_words'].apply(lambda comment: delete_unique_word(comment, unique_word))"
   ]
  },
  {
   "cell_type": "code",
   "execution_count": 9,
   "metadata": {},
   "outputs": [],
   "source": [
    "# Enregistrement des top words\n",
    "with open('../src/models/top_words.pkl', 'wb') as f:\n",
    "    pickle.dump(top_words, f)"
   ]
  },
  {
   "cell_type": "code",
   "execution_count": 10,
   "metadata": {},
   "outputs": [],
   "source": [
    "com_test = \"This is a new comment\""
   ]
  },
  {
   "cell_type": "code",
   "execution_count": 11,
   "metadata": {},
   "outputs": [
    {
     "data": {
      "text/plain": [
       "['food',\n",
       " 'order',\n",
       " 'get',\n",
       " 'go',\n",
       " 'place',\n",
       " 'come',\n",
       " 'time',\n",
       " 'say',\n",
       " 'u',\n",
       " 'service',\n",
       " 'one',\n",
       " 'back',\n",
       " 'like',\n",
       " 'take',\n",
       " 'would',\n",
       " 'ask',\n",
       " 'wait',\n",
       " 'good',\n",
       " 'minute',\n",
       " 'never']"
      ]
     },
     "execution_count": 11,
     "metadata": {},
     "output_type": "execute_result"
    }
   ],
   "source": [
    "top_words"
   ]
  },
  {
   "cell_type": "code",
   "execution_count": 12,
   "metadata": {},
   "outputs": [
    {
     "data": {
      "text/plain": [
       "<function src.data_processing.general_preprocessing.unique_word(corpus)>"
      ]
     },
     "execution_count": 12,
     "metadata": {},
     "output_type": "execute_result"
    }
   ],
   "source": [
    "unique_word"
   ]
  },
  {
   "cell_type": "markdown",
   "metadata": {},
   "source": [
    "<a id=\"section23\"></a>\n",
    "## EDA"
   ]
  },
  {
   "cell_type": "code",
   "execution_count": 13,
   "metadata": {},
   "outputs": [
    {
     "data": {
      "image/png": "[encoded data removed]",
      "text/plain": [
       "<Figure size 640x480 with 1 Axes>"
      ]
     },
     "metadata": {},
     "output_type": "display_data"
    }
   ],
   "source": [
    "joined_corpus = \" \".join([\" \".join(word) for word in review_sample['tokens_without_top_words'].values])\n",
    "wordcloud = WordCloud(background_color = 'white', max_words = 50).generate(joined_corpus)\n",
    "plt.imshow(wordcloud)\n",
    "plt.axis(\"off\")\n",
    "plt.show()"
   ]
  },
  {
   "cell_type": "code",
   "execution_count": 14,
   "metadata": {},
   "outputs": [
    {
     "data": {
      "image/png": "[encoded data removed]",
      "text/plain": [
       "<Figure size 2000x1000 with 1 Axes>"
      ]
     },
     "metadata": {},
     "output_type": "display_data"
    }
   ],
   "source": [
    "word_freq = pd.Series(joined_corpus.split()).value_counts()\n",
    "plt.figure(figsize=(20,10))\n",
    "sns.barplot(word_freq.head(30))\n",
    "plt.xticks(rotation=90);"
   ]
  },
  {
   "cell_type": "code",
   "execution_count": 15,
   "metadata": {},
   "outputs": [
    {
     "data": {
      "text/plain": [
       "0"
      ]
     },
     "execution_count": 15,
     "metadata": {},
     "output_type": "execute_result"
    }
   ],
   "source": [
    "review_sample['tokens_without_top_words'].isna().sum()"
   ]
  },
  {
   "cell_type": "code",
   "execution_count": null,
   "metadata": {},
   "outputs": [],
   "source": []
  },
  {
   "cell_type": "markdown",
   "metadata": {},
   "source": [
    "<a id=\"section24\"></a>\n",
    "## Modeling"
   ]
  },
  {
   "cell_type": "markdown",
   "metadata": {},
   "source": [
    "Gensim lda tune coherence score: bow, tf-idf\n",
    "Sklearn lda tune perplexity\n",
    "Enlever les commentaires non anglophones"
   ]
  },
  {
   "cell_type": "markdown",
   "metadata": {},
   "source": [
    "### Bag of words : sklearn"
   ]
  },
  {
   "cell_type": "code",
   "execution_count": 16,
   "metadata": {},
   "outputs": [],
   "source": [
    "# Create bag of words\n",
    "bow, vectorizer_bow = create_bow(review_sample['tokens_without_top_words'])"
   ]
  },
  {
   "cell_type": "code",
   "execution_count": 17,
   "metadata": {},
   "outputs": [],
   "source": [
    "# Enregistrement du vectorizer\n",
    "with open('../src/models/vectorizer.pkl', 'wb') as f:\n",
    "    pickle.dump(vectorizer_bow, f)"
   ]
  },
  {
   "cell_type": "code",
   "execution_count": 18,
   "metadata": {},
   "outputs": [
    {
     "data": {
      "image/png": "[encoded data removed]",
      "text/plain": [
       "<Figure size 640x480 with 2 Axes>"
      ]
     },
     "metadata": {},
     "output_type": "display_data"
    }
   ],
   "source": [
    "# LDA tuning with perplexity\n",
    "topic_range = range(2, 8)\n",
    "best_model_bow, best_num_topics_bow, best_perplexity_bow, best_log_likelihood_bow = tune_lda(bow, topic_range, max_iter=10)"
   ]
  },
  {
   "cell_type": "code",
   "execution_count": null,
   "metadata": {},
   "outputs": [],
   "source": [
    "# Si je souhaite entrainer le modèle moi-même\n",
    "# best_model_bow = train_lda(bow, n_components=5)"
   ]
  },
  {
   "cell_type": "code",
   "execution_count": 19,
   "metadata": {},
   "outputs": [
    {
     "name": "stdout",
     "output_type": "stream",
     "text": [
      "Topic #0: customer call tell give make dont manager rude know want\n",
      "Topic #1: pizza chicken cheese sandwich fry burger sauce salad cold wing\n",
      "Topic #2: taste meal restaurant dish eat menu price steak bad rice\n",
      "Topic #3: bad dont eat look taco use ive coffee ever restaurant\n",
      "Topic #4: table drink server leave sit bar even waitress walk restaurant\n"
     ]
    }
   ],
   "source": [
    "sklearn_print_top_words(best_model_bow,vectorizer_bow.get_feature_names_out(), 10)"
   ]
  },
  {
   "cell_type": "code",
   "execution_count": 20,
   "metadata": {},
   "outputs": [],
   "source": [
    "# Enregistrement du modèle\n",
    "with open('../src/models/lda_model.pkl', 'wb') as f:\n",
    "    pickle.dump(best_model_bow, f)"
   ]
  },
  {
   "cell_type": "code",
   "execution_count": 23,
   "metadata": {},
   "outputs": [
    {
     "ename": "AttributeError",
     "evalue": "'numpy.ndarray' object has no attribute 'components_'",
     "output_type": "error",
     "traceback": [
      "\u001b[0;31m---------------------------------------------------------------------------\u001b[0m",
      "\u001b[0;31mAttributeError\u001b[0m                            Traceback (most recent call last)",
      "Cell \u001b[0;32mIn[23], line 1\u001b[0m\n\u001b[0;32m----> 1\u001b[0m \u001b[43mbest_model_bow\u001b[49m\u001b[38;5;241;43m.\u001b[39;49m\u001b[43mtransform\u001b[49m\u001b[43m(\u001b[49m\u001b[43mbow\u001b[49m\u001b[43m)\u001b[49m\u001b[38;5;241;43m.\u001b[39;49m\u001b[43mcomponents_\u001b[49m\n",
      "\u001b[0;31mAttributeError\u001b[0m: 'numpy.ndarray' object has no attribute 'components_'"
     ]
    }
   ],
   "source": [
    "best_model_bow.transform(bow)"
   ]
  },
  {
   "cell_type": "markdown",
   "metadata": {},
   "source": [
    "Interprétation des topics :\n",
    "- Sujet en lien avec la salle du restaurant et son staff\n",
    "- Sujet en lien avec les appels téléphonques (et la livraison ?)\n",
    "- Sujet en lien avec le temps d'attente\n",
    "- Sujet en lien avec la qualité de la nourriture (surgelé, mauvaise), notamment les pizzas, le poulet et le fromage"
   ]
  },
  {
   "cell_type": "code",
   "execution_count": null,
   "metadata": {},
   "outputs": [
    {
     "data": {
      "text/html": [
       "\n",
       "<link rel=\"stylesheet\" type=\"text/css\" href=\"https://cdn.jsdelivr.net/gh/bmabey/pyLDAvis@3.4.0/pyLDAvis/js/ldavis.v1.0.0.css\">\n",
       "\n",
       "\n",
       "<div id=\"ldavis_el779820548093536150537551\" style=\"background-color:white;\"></div>\n",
       "<script type=\"text/javascript\">\n",
       "\n",
       "var ldavis_el779820548093536150537551_data = {\"mdsDat\": {\"x\": [-36.55551528930664, 222.76255798339844, -90.3995590209961], \"y\": [117.06934356689453, -94.77593231201172, -212.69186401367188], \"topics\": [1, 2, 3], \"cluster\": [1, 1, 1], \"Freq\": [36.69067851116286, 32.05324060862591, 31.256080880211236]}, \"tinfo\": {\"Term\": [\"table\", \"drink\", \"customer\", \"chicken\", \"server\", \"taste\", \"call\", \"waitress\", \"bar\", \"fry\", \"seat\", \"cheese\", \"sauce\", \"rude\", \"sit\", \"waiter\", \"tell\", \"business\", \"burger\", \"meat\", \"employee\", \"salad\", \"manager\", \"party\", \"flavor\", \"rice\", \"dry\", \"bill\", \"leave\", \"shrimp\", \"employee\", \"customer\", \"phone\", \"card\", \"refund\", \"answer\", \"car\", \"woman\", \"window\", \"credit\", \"thru\", \"refuse\", \"driver\", \"worker\", \"number\", \"receipt\", \"yell\", \"mask\", \"unprofessional\", \"register\", \"cancel\", \"lady\", \"email\", \"wear\", \"corporate\", \"desk\", \"hung\", \"system\", \"address\", \"hire\", \"call\", \"rude\", \"business\", \"girl\", \"counter\", \"online\", \"contact\", \"cashier\", \"treat\", \"drive\", \"owner\", \"line\", \"guy\", \"work\", \"delivery\", \"location\", \"close\", \"tell\", \"pick\", \"manager\", \"attitude\", \"dont\", \"give\", \"pizza\", \"make\", \"im\", \"people\", \"know\", \"hour\", \"pay\", \"want\", \"even\", \"staff\", \"need\", \"didnt\", \"bad\", \"could\", \"try\", \"restaurant\", \"ever\", \"chicken\", \"cheese\", \"fry\", \"sauce\", \"meat\", \"flavor\", \"rice\", \"dry\", \"beef\", \"onion\", \"bean\", \"slice\", \"pork\", \"bacon\", \"soggy\", \"lettuce\", \"tomato\", \"frozen\", \"burnt\", \"tasteless\", \"noodle\", \"spicy\", \"burrito\", \"bowl\", \"greasy\", \"potato\", \"bbq\", \"pepper\", \"chinese\", \"stale\", \"taste\", \"bland\", \"shrimp\", \"egg\", \"fresh\", \"piece\", \"fish\", \"burger\", \"crab\", \"salad\", \"taco\", \"soup\", \"bread\", \"cook\", \"sandwich\", \"steak\", \"quality\", \"eat\", \"roll\", \"bad\", \"price\", \"cold\", \"dish\", \"well\", \"dont\", \"also\", \"really\", \"even\", \"small\", \"look\", \"make\", \"try\", \"pizza\", \"meal\", \"ever\", \"restaurant\", \"give\", \"table\", \"server\", \"waitress\", \"seat\", \"waiter\", \"beer\", \"appetizer\", \"glass\", \"refill\", \"wine\", \"bar\", \"hostess\", \"bottle\", \"brunch\", \"booth\", \"silverware\", \"patio\", \"cocktail\", \"flag\", \"drink\", \"entree\", \"chair\", \"atmosphere\", \"gratuity\", \"split\", \"alcohol\", \"apps\", \"seated\", \"comped\", \"outdoor\", \"bartender\", \"empty\", \"party\", \"music\", \"host\", \"bill\", \"birthday\", \"reservation\", \"group\", \"din\", \"sat\", \"sit\", \"dinner\", \"water\", \"bring\", \"check\", \"leave\", \"arrive\", \"finally\", \"restaurant\", \"friend\", \"walk\", \"experience\", \"another\", \"night\", \"even\", \"didnt\", \"meal\", \"menu\", \"tell\", \"hour\", \"could\", \"manager\", \"want\", \"look\", \"eat\", \"make\", \"bad\"], \"Freq\": [29138.0, 20954.0, 21585.0, 17988.0, 16795.0, 17356.0, 19355.0, 15232.0, 13210.0, 11789.0, 11232.0, 11297.0, 10335.0, 11789.0, 13566.0, 8460.0, 29131.0, 8832.0, 8753.0, 7159.0, 7976.0, 10223.0, 19317.0, 6613.0, 6190.0, 6011.0, 5957.0, 6499.0, 19777.0, 5727.0, 7975.262833678999, 21582.86114478112, 6310.689981602515, 4903.682567644857, 3198.659161707135, 3057.9382153908236, 2943.107572314717, 3384.8669406576096, 2747.4250629442977, 2398.1555893139707, 2369.0007045473635, 2389.218864320242, 1949.1770432407882, 2411.209095976414, 2239.7522212957433, 1893.0576159985762, 1984.199566429293, 1707.1122981556193, 1754.1439617155913, 1610.1188673238855, 1622.480045868901, 4156.966735905678, 1236.1416720105938, 1741.2098371945876, 1098.6506504772995, 1161.4712053618434, 938.8456576443456, 1014.353780443882, 972.2323433624176, 920.1735147754879, 19256.097061476215, 11711.584830969437, 8758.294072883664, 4087.9730754362777, 4281.7690178831135, 2842.5306904367258, 1767.134326287831, 2032.7758816210232, 3761.873506855044, 6299.765727440569, 7634.541897186545, 5306.207098783924, 6113.550184895096, 9326.84423105164, 4446.775105392025, 9296.76352868365, 6940.834295201351, 18801.918923676578, 4763.397074333413, 11986.726538531842, 3818.375214641532, 15050.696211852966, 15295.531001945707, 10195.605838381169, 14973.916051668879, 9745.581528694214, 10404.593327952149, 10157.414103838893, 8848.050199074438, 7808.686503983986, 9850.276091800437, 11167.119593761938, 7157.0967572564905, 6617.8604864966865, 9204.03979919928, 9805.841823429515, 8281.888533102592, 7992.913214534314, 7809.959943297482, 6955.448822849946, 17987.977758912897, 11297.244340953213, 11788.420102504373, 10334.854600479059, 7158.3729804719815, 6189.905440729094, 6010.781187905108, 5956.953599973901, 3525.571782134567, 2968.26221595462, 2847.6584756236157, 2983.4536916463717, 2685.458017258452, 2681.8795739236334, 2520.9106292733395, 2442.734153467058, 2317.394253685141, 2313.0925895829764, 2288.9070598399803, 2067.089241732187, 1980.9480877897508, 1967.6488011511053, 2085.1941133160362, 2946.7967491498075, 1928.967186521358, 3770.975276185025, 1890.114038001201, 1826.2861189231467, 1947.1311820463825, 1672.9101467307992, 17254.876402441987, 4418.779663138556, 5707.573387871231, 4201.8970305323965, 4393.7948873030655, 5316.230751404363, 4245.771620289463, 8322.830620295128, 2968.6449142632027, 8951.12999971788, 4477.699113232781, 4573.065093626456, 5567.389894154516, 8114.45097762608, 7700.5837975332715, 5409.523614415581, 5151.260600766845, 12454.754210068057, 4707.845965574536, 13279.4542921018, 6423.068525802393, 7010.393659301174, 5100.448609473675, 8450.55869416707, 8737.650293923436, 6641.843880858744, 6988.490429140715, 8546.886946873557, 5257.289821296716, 6948.133708732367, 7775.036113588124, 6839.59323230667, 6484.940821965288, 6255.802215759056, 6361.773243691088, 6604.2690776193185, 6300.470366994726, 29138.013920091093, 16795.016429393563, 15231.768825311123, 11231.764474306585, 8459.652493809434, 5360.861343770453, 4720.787942487829, 3619.947249824302, 2861.20868731361, 2641.6163901114596, 13205.744533969195, 4851.006166484726, 1736.5090024023136, 1441.7313233863342, 1128.8308118983869, 1028.456938924857, 989.6056461631539, 1074.5239874536958, 973.8707033424515, 20934.288246271917, 3068.4679470955202, 1059.1014034296713, 1999.353796130376, 683.5755728099114, 886.78968896363, 609.7104744546873, 540.8816607655876, 482.9857223739563, 497.04504542824503, 447.02421519022494, 5426.645866651541, 4503.377776506822, 6538.512112075551, 1734.220581840896, 1888.408263924734, 6272.7664395967695, 2442.7563753282516, 5012.052801253964, 3741.5572169302704, 3658.1431475559807, 2674.463798401684, 11586.98659983921, 7287.722910583637, 6334.731788550446, 8048.635844997946, 8009.478703239221, 12251.831987306587, 6203.711649047335, 6433.231104452284, 15580.991304659294, 6797.765874718951, 8472.132925571805, 10121.587022702002, 8776.893451882393, 6996.136819945256, 12124.603241892577, 10086.77478271994, 7777.325272396721, 7202.535812011943, 9958.425554828249, 7804.449626218741, 7639.837342052963, 7330.022169815624, 7434.359323195588, 7239.955516907925, 7246.260544862444, 7251.798981771689, 7241.305754490868], \"Total\": [29138.0, 20954.0, 21585.0, 17988.0, 16795.0, 17356.0, 19355.0, 15232.0, 13210.0, 11789.0, 11232.0, 11297.0, 10335.0, 11789.0, 13566.0, 8460.0, 29131.0, 8832.0, 8753.0, 7159.0, 7976.0, 10223.0, 19317.0, 6613.0, 6190.0, 6011.0, 5957.0, 6499.0, 19777.0, 5727.0, 7976.009443459288, 21585.1681901789, 6311.416243873455, 4904.4688141225615, 3199.417516035383, 3058.6947416445, 2943.8491181190525, 3385.809016288949, 2748.2285307287593, 2398.935115334468, 2369.7876437302007, 2390.0525568749904, 1949.8715764097944, 2412.0842777549033, 2240.584703513498, 1893.8227095425827, 1985.0186870562545, 1707.8362788490824, 1754.9453262445627, 1610.8837084142244, 1623.3281695402793, 4159.3709867779025, 1236.8633832366631, 1742.290002947016, 1099.3833043551276, 1162.2789463791894, 939.5403952710487, 1015.1610943446678, 973.0307929877913, 921.0281792917035, 19355.512892787454, 11789.561382692573, 8832.442402016224, 4111.749990506923, 4314.152822306392, 2857.314655665942, 1769.549552035373, 2047.1156396050078, 3868.815140362608, 6659.130237036936, 8200.935847723435, 5779.0806538699735, 6755.715340794886, 10966.151152438748, 4873.011327525742, 11096.965911658188, 8570.40329441071, 29131.619613944626, 5795.395160315381, 19317.12219694702, 4379.727802877501, 26770.864703439824, 27460.557749898926, 16680.906749644728, 30000.75114702869, 16268.86395882303, 18442.272216687885, 18970.082808695188, 16679.665050346914, 14016.35802961601, 22022.93486101869, 31838.609782528074, 13276.241437990988, 11373.232888689294, 25187.75117741429, 30326.601870022183, 20487.38145692522, 19713.844334256988, 29995.220325576094, 16884.807069859013, 17988.710814438655, 11297.987971883087, 11789.247526158999, 10335.587387079344, 7159.099386661917, 6190.619807350028, 6011.492425809444, 5957.927922980291, 3526.288027132745, 2968.9874783220007, 2848.3730021408633, 2984.243123344162, 2686.1759410038217, 2682.6170908974486, 2521.6421757670355, 2443.4501626222695, 2318.1076095658827, 2313.8387387605426, 2289.6739720911914, 2067.806220446522, 1981.660749573344, 1968.369254755668, 2085.9583020080677, 2947.924362187483, 1929.7158120622298, 3772.494065568255, 1890.8761168343, 1827.0286153213708, 1947.9569654288628, 1673.6430873124643, 17356.391628462417, 4422.006834187504, 5727.42279690587, 4209.4352128200335, 4416.902709960546, 5359.392126325432, 4309.972826860024, 8753.665170143737, 3032.0893343370467, 10223.709956146826, 4805.172426196239, 4919.612552557085, 6213.463419593501, 9689.28583310913, 9724.517577624536, 6488.083097400907, 6427.0267324922515, 23623.99573368128, 5932.886617958802, 30326.601870022183, 9757.742085072176, 11355.841605492347, 6933.093701522988, 20329.844819682774, 26770.864703439824, 13606.902683051481, 15859.7759159845, 31838.609782528074, 7580.827007068753, 19437.020629793515, 30000.75114702869, 19713.844334256988, 16680.906749644728, 14509.345453873186, 16884.807069859013, 29995.220325576094, 27460.557749898926, 29138.761235352886, 16795.7725444625, 15232.52924304294, 11232.498430039492, 8460.399399404165, 5361.615148244495, 4721.6485619709565, 3620.687840693657, 2861.9458962166595, 2642.349354534427, 13210.398321514265, 4853.115247248308, 1737.3888454125135, 1442.4969201853364, 1129.5534810202082, 1029.1874286017612, 990.3248890003304, 1075.3260115287358, 974.63473082842, 20954.689424744494, 3071.5493056890214, 1060.2072982273805, 2001.4976112885174, 684.3117918068909, 887.7582685873556, 610.4678155887665, 541.6396566324406, 483.68380595179707, 497.81448199352315, 447.76884908865054, 5439.731013052765, 4528.09748785775, 6613.175669865449, 1738.5089720684475, 1911.4613196996706, 6499.647247615253, 2541.5883228656885, 5386.938583503319, 3966.7505176080604, 3882.7940068827857, 2814.814609402145, 13566.065286871999, 9136.529546282829, 7838.848848327947, 10444.092225842844, 11349.779991846799, 19777.795229249874, 8557.629802303823, 9088.118472687202, 29995.220325576094, 9895.708332434617, 13530.797872732972, 18351.941194972886, 15059.134432531086, 11226.991253905555, 31838.609782528074, 25187.75117741429, 14509.345453873186, 12627.870502855869, 29131.619613944626, 16679.665050346914, 20487.38145692522, 19317.12219694702, 22022.93486101869, 19437.020629793515, 23623.99573368128, 30000.75114702869, 30326.601870022183], \"Category\": [\"Default\", \"Default\", \"Default\", \"Default\", \"Default\", \"Default\", \"Default\", \"Default\", \"Default\", \"Default\", \"Default\", \"Default\", \"Default\", \"Default\", \"Default\", \"Default\", \"Default\", \"Default\", \"Default\", \"Default\", \"Default\", \"Default\", \"Default\", \"Default\", \"Default\", \"Default\", \"Default\", \"Default\", \"Default\", \"Default\", \"Topic1\", \"Topic1\", \"Topic1\", \"Topic1\", \"Topic1\", \"Topic1\", \"Topic1\", \"Topic1\", \"Topic1\", \"Topic1\", \"Topic1\", \"Topic1\", \"Topic1\", \"Topic1\", \"Topic1\", \"Topic1\", \"Topic1\", \"Topic1\", \"Topic1\", \"Topic1\", \"Topic1\", \"Topic1\", \"Topic1\", \"Topic1\", \"Topic1\", \"Topic1\", \"Topic1\", \"Topic1\", \"Topic1\", \"Topic1\", \"Topic1\", \"Topic1\", \"Topic1\", \"Topic1\", \"Topic1\", \"Topic1\", \"Topic1\", \"Topic1\", \"Topic1\", \"Topic1\", \"Topic1\", \"Topic1\", \"Topic1\", \"Topic1\", \"Topic1\", \"Topic1\", \"Topic1\", \"Topic1\", \"Topic1\", \"Topic1\", \"Topic1\", \"Topic1\", \"Topic1\", \"Topic1\", \"Topic1\", \"Topic1\", \"Topic1\", \"Topic1\", \"Topic1\", \"Topic1\", \"Topic1\", \"Topic1\", \"Topic1\", \"Topic1\", \"Topic1\", \"Topic1\", \"Topic1\", \"Topic1\", \"Topic1\", \"Topic1\", \"Topic2\", \"Topic2\", \"Topic2\", \"Topic2\", \"Topic2\", \"Topic2\", \"Topic2\", \"Topic2\", \"Topic2\", \"Topic2\", \"Topic2\", \"Topic2\", \"Topic2\", \"Topic2\", \"Topic2\", \"Topic2\", \"Topic2\", \"Topic2\", \"Topic2\", \"Topic2\", \"Topic2\", \"Topic2\", \"Topic2\", \"Topic2\", \"Topic2\", \"Topic2\", \"Topic2\", \"Topic2\", \"Topic2\", \"Topic2\", \"Topic2\", \"Topic2\", \"Topic2\", \"Topic2\", \"Topic2\", \"Topic2\", \"Topic2\", \"Topic2\", \"Topic2\", \"Topic2\", \"Topic2\", \"Topic2\", \"Topic2\", \"Topic2\", \"Topic2\", \"Topic2\", \"Topic2\", \"Topic2\", \"Topic2\", \"Topic2\", \"Topic2\", \"Topic2\", \"Topic2\", \"Topic2\", \"Topic2\", \"Topic2\", \"Topic2\", \"Topic2\", \"Topic2\", \"Topic2\", \"Topic2\", \"Topic2\", \"Topic2\", \"Topic2\", \"Topic2\", \"Topic2\", \"Topic2\", \"Topic3\", \"Topic3\", \"Topic3\", \"Topic3\", \"Topic3\", \"Topic3\", \"Topic3\", \"Topic3\", \"Topic3\", \"Topic3\", \"Topic3\", \"Topic3\", \"Topic3\", \"Topic3\", \"Topic3\", \"Topic3\", \"Topic3\", \"Topic3\", \"Topic3\", \"Topic3\", \"Topic3\", \"Topic3\", \"Topic3\", \"Topic3\", \"Topic3\", \"Topic3\", \"Topic3\", \"Topic3\", \"Topic3\", \"Topic3\", \"Topic3\", \"Topic3\", \"Topic3\", \"Topic3\", \"Topic3\", \"Topic3\", \"Topic3\", \"Topic3\", \"Topic3\", \"Topic3\", \"Topic3\", \"Topic3\", \"Topic3\", \"Topic3\", \"Topic3\", \"Topic3\", \"Topic3\", \"Topic3\", \"Topic3\", \"Topic3\", \"Topic3\", \"Topic3\", \"Topic3\", \"Topic3\", \"Topic3\", \"Topic3\", \"Topic3\", \"Topic3\", \"Topic3\", \"Topic3\", \"Topic3\", \"Topic3\", \"Topic3\", \"Topic3\", \"Topic3\", \"Topic3\", \"Topic3\", \"Topic3\"], \"logprob\": [30.0, 29.0, 28.0, 27.0, 26.0, 25.0, 24.0, 23.0, 22.0, 21.0, 20.0, 19.0, 18.0, 17.0, 16.0, 15.0, 14.0, 13.0, 12.0, 11.0, 10.0, 9.0, 8.0, 7.0, 6.0, 5.0, 4.0, 3.0, 2.0, 1.0, -5.3359, -4.3404, -5.57, -5.8223, -6.2495, -6.2945, -6.3328, -6.193, -6.4016, -6.5376, -6.5498, -6.5413, -6.7449, -6.5321, -6.6059, -6.7741, -6.7271, -6.8775, -6.8503, -6.936, -6.9283, -5.9875, -7.2003, -6.8577, -7.3182, -7.2626, -7.4754, -7.398, -7.4404, -7.4955, -4.4544, -4.9517, -5.2423, -6.0042, -5.9579, -6.3676, -6.8429, -6.7029, -6.0874, -5.5718, -5.3796, -5.7434, -5.6018, -5.1794, -5.9201, -5.1826, -5.4748, -4.4783, -5.8513, -4.9285, -6.0724, -4.7008, -4.6847, -5.0903, -4.706, -5.1355, -5.07, -5.0941, -5.2321, -5.357, -5.1248, -4.9993, -5.4442, -5.5225, -5.1926, -5.1293, -5.2982, -5.3337, -5.3569, -5.4727, -4.3874, -4.8526, -4.81, -4.9416, -5.3089, -5.4542, -5.4836, -5.4926, -6.0171, -6.1892, -6.2306, -6.1841, -6.2893, -6.2906, -6.3525, -6.384, -6.4367, -6.4386, -6.4491, -6.551, -6.5936, -6.6003, -6.5423, -6.1964, -6.6202, -5.9498, -6.6405, -6.6749, -6.6108, -6.7626, -4.429, -5.7913, -5.5354, -5.8416, -5.797, -5.6064, -5.8312, -5.1581, -6.189, -5.0854, -5.778, -5.757, -5.5602, -5.1835, -5.2358, -5.589, -5.6379, -4.755, -5.7279, -4.6909, -5.4172, -5.3298, -5.6478, -5.1429, -5.1095, -5.3838, -5.3329, -5.1316, -5.6175, -5.3387, -5.2262, -5.3544, -5.4077, -5.4436, -5.4268, -5.3894, -5.4365, -3.8799, -4.4309, -4.5286, -4.8332, -5.1167, -5.5728, -5.7, -5.9655, -6.2007, -6.2806, -4.6713, -5.6728, -6.7001, -6.8861, -7.1308, -7.2239, -7.2624, -7.1801, -7.2784, -4.2106, -6.1308, -7.1945, -6.5591, -7.6324, -7.3721, -7.7467, -7.8665, -7.9797, -7.951, -8.0571, -5.5606, -5.7471, -5.3743, -6.7014, -6.6162, -5.4157, -6.3588, -5.6401, -5.9325, -5.955, -6.2682, -4.8021, -5.2658, -5.4059, -5.1665, -5.1713, -4.7463, -5.4268, -5.3905, -4.5059, -5.3354, -5.1152, -4.9373, -5.0798, -5.3066, -4.7567, -4.9407, -5.2007, -5.2775, -4.9535, -5.1973, -5.2186, -5.26, -5.2458, -5.2723, -5.2715, -5.2707, -5.2722], \"loglift\": [30.0, 29.0, 28.0, 27.0, 26.0, 25.0, 24.0, 23.0, 22.0, 21.0, 20.0, 19.0, 18.0, 17.0, 16.0, 15.0, 14.0, 13.0, 12.0, 11.0, 10.0, 9.0, 8.0, 7.0, 6.0, 5.0, 4.0, 3.0, 2.0, 1.0, 1.0026, 1.0025, 1.0025, 1.0025, 1.0024, 1.0024, 1.0024, 1.0024, 1.0024, 1.0023, 1.0023, 1.0023, 1.0023, 1.0023, 1.0023, 1.0022, 1.0022, 1.0022, 1.0022, 1.0022, 1.0021, 1.0021, 1.0021, 1.002, 1.002, 1.002, 1.0019, 1.0019, 1.0018, 1.0017, 0.9975, 0.996, 0.9942, 0.9968, 0.9951, 0.9975, 1.0013, 0.9956, 0.9746, 0.9472, 0.9311, 0.9173, 0.9028, 0.8407, 0.9111, 0.8256, 0.7918, 0.5648, 0.8065, 0.5255, 0.8655, 0.4268, 0.4175, 0.5103, 0.3077, 0.4902, 0.4302, 0.378, 0.3687, 0.4177, 0.1981, -0.0451, 0.3848, 0.4612, -0.0041, -0.1264, 0.0969, 0.0999, -0.343, 0.1158, 1.1377, 1.1377, 1.1377, 1.1377, 1.1377, 1.1377, 1.1377, 1.1376, 1.1376, 1.1375, 1.1375, 1.1375, 1.1375, 1.1375, 1.1375, 1.1375, 1.1375, 1.1374, 1.1374, 1.1374, 1.1374, 1.1374, 1.1374, 1.1374, 1.1374, 1.1374, 1.1374, 1.1374, 1.1373, 1.1373, 1.1319, 1.137, 1.1343, 1.136, 1.1325, 1.1297, 1.1228, 1.0873, 1.1166, 1.0048, 1.0672, 1.0647, 1.028, 0.9604, 0.9044, 0.956, 0.9165, 0.4976, 0.9065, 0.312, 0.7196, 0.6554, 0.8308, 0.2599, 0.0181, 0.4206, 0.3183, -0.1773, 0.7718, 0.1091, -0.2125, 0.0792, 0.193, 0.2965, 0.1617, -0.3755, -0.3344, 1.1629, 1.1629, 1.1629, 1.1629, 1.1629, 1.1628, 1.1628, 1.1628, 1.1627, 1.1627, 1.1626, 1.1625, 1.1624, 1.1624, 1.1623, 1.1622, 1.1622, 1.1622, 1.1622, 1.162, 1.162, 1.1619, 1.1619, 1.1619, 1.1619, 1.1617, 1.1616, 1.1615, 1.1614, 1.1613, 1.1605, 1.1575, 1.1516, 1.1605, 1.1508, 1.1274, 1.1233, 1.0908, 1.1045, 1.1034, 1.1118, 1.0053, 0.9369, 0.9499, 0.9024, 0.8144, 0.6841, 0.8413, 0.8175, 0.508, 0.7874, 0.6948, 0.5679, 0.6231, 0.69, 0.1975, 0.2478, 0.5394, 0.6015, 0.0896, 0.4035, 0.1765, 0.1939, 0.077, 0.1754, -0.0188, -0.257, -0.2693]}, \"token.table\": {\"Topic\": [1, 3, 1, 2, 3, 1, 2, 3, 1, 2, 3, 3, 1, 2, 3, 2, 3, 1, 3, 2, 1, 2, 3, 1, 3, 1, 3, 2, 2, 2, 3, 1, 3, 1, 3, 2, 3, 3, 2, 3, 2, 3, 2, 3, 1, 2, 3, 3, 1, 2, 3, 2, 2, 1, 2, 1, 2, 1, 1, 1, 1, 2, 1, 3, 1, 3, 2, 2, 2, 1, 2, 3, 3, 1, 2, 3, 3, 1, 3, 1, 2, 3, 1, 1, 2, 3, 1, 2, 2, 3, 1, 1, 3, 1, 2, 1, 1, 2, 3, 1, 3, 1, 2, 3, 2, 3, 1, 2, 3, 1, 3, 1, 2, 1, 2, 3, 1, 2, 3, 2, 3, 1, 1, 1, 3, 2, 3, 1, 2, 3, 1, 2, 3, 1, 2, 3, 1, 3, 2, 3, 3, 2, 2, 3, 1, 2, 3, 2, 2, 1, 2, 3, 1, 2, 3, 3, 3, 2, 1, 3, 1, 2, 3, 1, 1, 3, 1, 3, 1, 2, 3, 1, 1, 2, 3, 1, 2, 3, 1, 2, 1, 2, 3, 2, 1, 2, 1, 2, 3, 1, 2, 3, 1, 2, 3, 1, 3, 1, 1, 2, 3, 2, 1, 2, 3, 1, 3, 1, 2, 3, 1, 2, 3, 2, 1, 2, 1, 2, 3, 1, 2, 3, 1, 3, 3, 1, 2, 3, 1, 2, 3, 2, 1, 1, 2, 2, 3, 1, 2, 2, 2, 3, 1, 2, 3, 1, 2, 3, 1, 2, 3, 1, 3, 1, 1, 1, 1, 3, 1, 2, 3, 2, 1, 2, 3, 1, 3, 2, 3, 1, 2, 1, 3, 2, 3, 3, 3, 2, 3, 3, 1, 2, 3, 2, 1, 2, 3, 2, 2, 3, 2, 2, 3, 1, 2, 3, 2, 2, 3, 1, 3, 1, 2, 2, 3, 2, 1, 2, 3, 1, 2, 1, 3, 1, 2, 3, 1, 3, 3, 1, 3, 1, 2, 3, 2, 3, 1, 3, 1, 2, 3, 1, 3, 1, 3, 1, 2, 3, 1, 1], \"Freq\": [0.9989406368275087, 0.9992336769002059, 0.2751544629376574, 0.4881346001153634, 0.23671808897494512, 0.36376592722130824, 0.053389522724704604, 0.5828356230780253, 0.9997728633606221, 0.0002117904343949246, 0.9998626407784391, 0.9988190365594396, 0.2747256021015399, 0.0003505643582750403, 0.7249670929127834, 0.0009992517546460857, 0.9987521287687625, 0.871743672629965, 0.12809015200246474, 0.9997699668359147, 0.3233464811530111, 0.4378664004926407, 0.23876727208127205, 0.0003027917783134258, 0.9996670561017753, 0.002389824049903605, 0.9976596245251436, 0.9995366609020548, 0.999869047298025, 0.99991832002079, 0.9998852681090518, 0.03477111778380285, 0.9651293002557314, 0.03855856557032933, 0.9612099560032097, 0.999320029502384, 0.0006784250030566082, 0.9995100001642169, 0.0005755763901906294, 0.9997761897611233, 0.9996864362602583, 0.00033922172930446503, 0.8959576365163836, 0.10396778034661107, 0.1272489720754787, 0.10216301971748364, 0.7706749256851226, 0.99965551386739, 0.00011423786271957439, 0.9508017314150177, 0.049008043106697416, 0.9997056471360524, 0.9995405938809299, 0.9915717081835449, 0.00837820351742205, 0.9948586796258685, 0.005114821836464529, 0.9991818231426025, 0.9997115619432306, 0.999904410826059, 0.9931046203097098, 0.0068388906465007065, 0.0009432117678042356, 0.9988612621046855, 0.2942788320477855, 0.7056524448714712, 0.9999125532895285, 0.9999604855263956, 0.9995087337934839, 0.8098802076824851, 0.10092873932363487, 0.0892606769740817, 0.9996968254043513, 0.15542661313154835, 0.6173034323241665, 0.2272839028286268, 0.9983638844931519, 0.9985592084536766, 0.001130231135770998, 0.07028381778902258, 0.8374198201764013, 0.09226686211950982, 0.9996513460286243, 0.4042488307943565, 0.22286889174197436, 0.37291246888057034, 0.9925471294989492, 0.007417447021010363, 0.9791927851126982, 0.020777751923913772, 0.9996101956536921, 0.99989955185154, 9.265621571158227e-05, 0.9125773984724046, 0.087420276984314, 0.9988996218307372, 0.3654157108020494, 0.23412173474572853, 0.40047243316604436, 0.05769041561384128, 0.9421050906938901, 0.017512119803202032, 0.18486231467255143, 0.7976770570358526, 0.7356023471714634, 0.26423990196433744, 0.5622156836071894, 0.32639961752439184, 0.11142710678361878, 0.0009544402970908677, 0.9990126589650112, 0.946069497929397, 0.05391094440581802, 0.9995530083004752, 0.999844254077544, 0.00016784358806069228, 0.16605996903423445, 0.5272181785167959, 0.3067220330415658, 0.9982336792362574, 0.0016629309268571637, 0.9993019574769819, 0.9998734400370958, 0.005300239242718787, 0.9944573879151123, 0.0009767057928855318, 0.9988444575242704, 0.35073767593106603, 0.26844765077306537, 0.3808269294048693, 0.4119087633767126, 0.3767884331563833, 0.21131422972366795, 0.3128824323812075, 0.13557148933550056, 0.5515492825779489, 0.292029643756972, 0.7078472864689529, 0.9851570231577004, 0.014849281554897039, 0.9993487500410739, 0.9998998795969845, 0.9948147578825093, 0.005207268873759152, 0.19584247381745523, 0.11722253334790922, 0.6869644669819714, 0.9996375120069985, 0.9998941810190828, 0.9942238729101341, 0.0055937253123613225, 0.00024320544836353575, 0.55701709117894, 0.22941995779467328, 0.21357905594694584, 0.9998100248560712, 0.999544371716776, 0.9996290583008361, 0.056721490046133374, 0.943341403345027, 0.9050114890247313, 0.0942905329585793, 0.0007401140734582363, 0.9988836614179447, 0.012032678748431993, 0.9877259772625915, 0.00041210643022211144, 0.9995641465037313, 0.5304662877397514, 0.0016187375417013208, 0.46787510279396693, 0.9994248301895601, 0.5990584237883733, 0.31495745572456646, 0.0860539496515209, 0.5354220169953293, 0.24090564316911048, 0.22366797460974525, 0.9994299650631214, 0.00048084193652303173, 0.33234240337765386, 0.04818535074074306, 0.6194825994497208, 0.9998157676267944, 0.9181391155091123, 0.08167389041091237, 0.8377965719650279, 0.1622064998964236, 9.011472216467978e-05, 0.2700516761274725, 0.35746219198584095, 0.3724850705206517, 0.49912083622889697, 0.2591601777534175, 0.24172728090903972, 0.6205375665063861, 0.3794561076576133, 0.9995103284433997, 0.03280644199376579, 0.4311703804894932, 0.5359993684569675, 0.999846435060817, 0.056937549354611594, 0.37274693297935574, 0.5704049624496068, 0.0023008221782375216, 0.9974064142659657, 0.5818925950757252, 0.12538211553006712, 0.2927927382293994, 0.28734323622794, 0.08942734320299187, 0.6231411285339951, 0.9996665677646962, 0.9997390397637809, 0.9996674023285006, 0.9949901717553029, 0.0048997053832480625, 0.9982829330575019, 0.9309913090125516, 0.04975041965646641, 0.01926609388657278, 0.011189782896165769, 0.9887836534868644, 0.9996719369532777, 0.5571347409576647, 0.2052601677212449, 0.2376508928326266, 0.564192951809095, 0.06349542975189335, 0.3723510812179775, 0.9994370009792157, 0.999934049053751, 0.8218594018601487, 0.17807241291616072, 0.9919035358296906, 0.008023297976049039, 0.6112377554186109, 0.3887678348263723, 0.9995622248766839, 0.9996039581395525, 0.0002650766263960627, 0.13066547454154903, 0.6582465435140152, 0.21111441376909099, 0.1319428151298766, 0.8014592461485782, 0.06659377933441885, 0.27642256884484245, 0.44061152168972606, 0.28291698595045806, 0.9995655825973375, 0.9996694919292815, 0.999869502484971, 0.9995596093182292, 0.999451413898093, 0.06961282260547401, 0.930398578396362, 0.2603748168950981, 0.2201684111107846, 0.5194494266379671, 0.9999180859303207, 0.07180315880477157, 0.7935428912039074, 0.1346730607629401, 0.993421181655966, 0.006616022213897315, 0.8755138827680032, 0.12441667510679255, 0.20813371808356732, 0.7919158907912806, 0.04973684573483702, 0.949973753535387, 0.9999431684859945, 0.9999556260753032, 0.9985862541946149, 0.9999540036363047, 0.9966088068587563, 0.003317373393538257, 0.9988462464962534, 0.1458049890054803, 7.371334125656235e-05, 0.8541164851397879, 0.9995834376447288, 0.08310438945679087, 0.6934599609116661, 0.22332655769896342, 0.9997453343011127, 0.9295447458810705, 0.07033074176139303, 0.9998124057491876, 0.0011264327637198457, 0.9991458614195031, 0.539083296535998, 0.026136915453121603, 0.43476160229227057, 0.9996157560011812, 0.8338364226819504, 0.16615076962128325, 0.998856246214383, 0.9999738755073787, 0.06805166828505513, 0.9319124482583391, 0.9941582541675226, 0.0058191818992129685, 0.9996101083174285, 0.6454155398555295, 0.01273530290854172, 0.3418278877715861, 0.9996676310924801, 0.9995221923428783, 0.9723907355385824, 0.027657046438763506, 0.4054511065662858, 0.3469642898678087, 0.24759249983110734, 0.9994613357861207, 0.9999527918972486, 0.9999652557343238, 0.3738138761345917, 0.6261271567046779, 0.447261005954062, 0.21513935494521277, 0.3375571896713195, 0.19186490632751624, 0.8081543760537335, 0.9992595934403377, 0.00057395726217136, 0.2980347392585038, 0.4156942699246766, 0.28632781271228763, 0.9995529735918892, 0.9998677863947749, 0.9997610567267508, 0.0002953503860344906, 0.8505263031985275, 0.0588173545151764, 0.09064255874121757, 0.9995504809824006, 0.9994868123595525], \"Term\": [\"address\", \"alcohol\", \"also\", \"also\", \"also\", \"another\", \"another\", \"another\", \"answer\", \"appetizer\", \"appetizer\", \"apps\", \"arrive\", \"arrive\", \"arrive\", \"atmosphere\", \"atmosphere\", \"attitude\", \"attitude\", \"bacon\", \"bad\", \"bad\", \"bad\", \"bar\", \"bar\", \"bartender\", \"bartender\", \"bbq\", \"bean\", \"beef\", \"beer\", \"bill\", \"bill\", \"birthday\", \"birthday\", \"bland\", \"bland\", \"booth\", \"bottle\", \"bottle\", \"bowl\", \"bowl\", \"bread\", \"bread\", \"bring\", \"bring\", \"bring\", \"brunch\", \"burger\", \"burger\", \"burger\", \"burnt\", \"burrito\", \"business\", \"business\", \"call\", \"call\", \"cancel\", \"car\", \"card\", \"cashier\", \"cashier\", \"chair\", \"chair\", \"check\", \"check\", \"cheese\", \"chicken\", \"chinese\", \"close\", \"close\", \"close\", \"cocktail\", \"cold\", \"cold\", \"cold\", \"comped\", \"contact\", \"contact\", \"cook\", \"cook\", \"cook\", \"corporate\", \"could\", \"could\", \"could\", \"counter\", \"counter\", \"crab\", \"crab\", \"credit\", \"customer\", \"customer\", \"delivery\", \"delivery\", \"desk\", \"didnt\", \"didnt\", \"didnt\", \"din\", \"din\", \"dinner\", \"dinner\", \"dinner\", \"dish\", \"dish\", \"dont\", \"dont\", \"dont\", \"drink\", \"drink\", \"drive\", \"drive\", \"driver\", \"dry\", \"dry\", \"eat\", \"eat\", \"eat\", \"egg\", \"egg\", \"email\", \"employee\", \"empty\", \"empty\", \"entree\", \"entree\", \"even\", \"even\", \"even\", \"ever\", \"ever\", \"ever\", \"experience\", \"experience\", \"experience\", \"finally\", \"finally\", \"fish\", \"fish\", \"flag\", \"flavor\", \"fresh\", \"fresh\", \"friend\", \"friend\", \"friend\", \"frozen\", \"fry\", \"girl\", \"girl\", \"girl\", \"give\", \"give\", \"give\", \"glass\", \"gratuity\", \"greasy\", \"group\", \"group\", \"guy\", \"guy\", \"guy\", \"hire\", \"host\", \"host\", \"hostess\", \"hostess\", \"hour\", \"hour\", \"hour\", \"hung\", \"im\", \"im\", \"im\", \"know\", \"know\", \"know\", \"lady\", \"lady\", \"leave\", \"leave\", \"leave\", \"lettuce\", \"line\", \"line\", \"location\", \"location\", \"location\", \"look\", \"look\", \"look\", \"make\", \"make\", \"make\", \"manager\", \"manager\", \"mask\", \"meal\", \"meal\", \"meal\", \"meat\", \"menu\", \"menu\", \"menu\", \"music\", \"music\", \"need\", \"need\", \"need\", \"night\", \"night\", \"night\", \"noodle\", \"number\", \"onion\", \"online\", \"online\", \"outdoor\", \"owner\", \"owner\", \"owner\", \"party\", \"party\", \"patio\", \"pay\", \"pay\", \"pay\", \"people\", \"people\", \"people\", \"pepper\", \"phone\", \"pick\", \"pick\", \"piece\", \"piece\", \"pizza\", \"pizza\", \"pork\", \"potato\", \"potato\", \"price\", \"price\", \"price\", \"quality\", \"quality\", \"quality\", \"really\", \"really\", \"really\", \"receipt\", \"refill\", \"refund\", \"refuse\", \"register\", \"reservation\", \"reservation\", \"restaurant\", \"restaurant\", \"restaurant\", \"rice\", \"roll\", \"roll\", \"roll\", \"rude\", \"rude\", \"salad\", \"salad\", \"sandwich\", \"sandwich\", \"sat\", \"sat\", \"sauce\", \"seat\", \"seated\", \"server\", \"shrimp\", \"shrimp\", \"silverware\", \"sit\", \"sit\", \"sit\", \"slice\", \"small\", \"small\", \"small\", \"soggy\", \"soup\", \"soup\", \"spicy\", \"split\", \"split\", \"staff\", \"staff\", \"staff\", \"stale\", \"steak\", \"steak\", \"system\", \"table\", \"taco\", \"taco\", \"taste\", \"taste\", \"tasteless\", \"tell\", \"tell\", \"tell\", \"thru\", \"tomato\", \"treat\", \"treat\", \"try\", \"try\", \"try\", \"unprofessional\", \"waiter\", \"waitress\", \"walk\", \"walk\", \"want\", \"want\", \"want\", \"water\", \"water\", \"wear\", \"wear\", \"well\", \"well\", \"well\", \"window\", \"wine\", \"woman\", \"woman\", \"work\", \"work\", \"work\", \"worker\", \"yell\"]}, \"R\": 30, \"lambda.step\": 0.01, \"plot.opts\": {\"xlab\": \"PC1\", \"ylab\": \"PC2\"}, \"topic.order\": [1, 2, 3]};\n",
       "\n",
       "function LDAvis_load_lib(url, callback){\n",
       "  var s = document.createElement('script');\n",
       "  s.src = url;\n",
       "  s.async = true;\n",
       "  s.onreadystatechange = s.onload = callback;\n",
       "  s.onerror = function(){console.warn(\"failed to load library \" + url);};\n",
       "  document.getElementsByTagName(\"head\")[0].appendChild(s);\n",
       "}\n",
       "\n",
       "if(typeof(LDAvis) !== \"undefined\"){\n",
       "   // already loaded: just create the visualization\n",
       "   !function(LDAvis){\n",
       "       new LDAvis(\"#\" + \"ldavis_el779820548093536150537551\", ldavis_el779820548093536150537551_data);\n",
       "   }(LDAvis);\n",
       "}else if(typeof define === \"function\" && define.amd){\n",
       "   // require.js is available: use it to load d3/LDAvis\n",
       "   require.config({paths: {d3: \"https://d3js.org/d3.v5\"}});\n",
       "   require([\"d3\"], function(d3){\n",
       "      window.d3 = d3;\n",
       "      LDAvis_load_lib(\"https://cdn.jsdelivr.net/gh/bmabey/pyLDAvis@3.4.0/pyLDAvis/js/ldavis.v3.0.0.js\", function(){\n",
       "        new LDAvis(\"#\" + \"ldavis_el779820548093536150537551\", ldavis_el779820548093536150537551_data);\n",
       "      });\n",
       "    });\n",
       "}else{\n",
       "    // require.js not available: dynamically load d3 & LDAvis\n",
       "    LDAvis_load_lib(\"https://d3js.org/d3.v5.js\", function(){\n",
       "         LDAvis_load_lib(\"https://cdn.jsdelivr.net/gh/bmabey/pyLDAvis@3.4.0/pyLDAvis/js/ldavis.v3.0.0.js\", function(){\n",
       "                 new LDAvis(\"#\" + \"ldavis_el779820548093536150537551\", ldavis_el779820548093536150537551_data);\n",
       "            })\n",
       "         });\n",
       "}\n",
       "</script>"
      ],
      "text/plain": [
       "<IPython.core.display.HTML object>"
      ]
     },
     "execution_count": 85,
     "metadata": {},
     "output_type": "execute_result"
    }
   ],
   "source": [
    "panel_bow = lda_model.prepare(best_model_bow, bow, vectorizer_bow, mds='tsne')\n",
    "pyLDAvis.display(panel_bow)"
   ]
  },
  {
   "cell_type": "markdown",
   "metadata": {},
   "source": [
    "### TF-IDF : sklearn"
   ]
  },
  {
   "cell_type": "code",
   "execution_count": 21,
   "metadata": {},
   "outputs": [],
   "source": [
    "# Create bag of words\n",
    "tfidf, vectorizer_tfidf = create_tfidf(review_sample['tokens_without_top_words'])"
   ]
  },
  {
   "cell_type": "code",
   "execution_count": 22,
   "metadata": {},
   "outputs": [
    {
     "name": "stdout",
     "output_type": "stream",
     "text": [
      "/Users/matthieudridi/Documents/OpenClassrooms_Ingénieur IA/Improve_your_AI_product/src/visualization/lda_optimization.png\n"
     ]
    },
    {
     "ename": "ValueError",
     "evalue": "too many values to unpack (expected 4)",
     "output_type": "error",
     "traceback": [
      "\u001b[0;31m---------------------------------------------------------------------------\u001b[0m",
      "\u001b[0;31mValueError\u001b[0m                                Traceback (most recent call last)",
      "Cell \u001b[0;32mIn[22], line 3\u001b[0m\n\u001b[1;32m      1\u001b[0m \u001b[38;5;66;03m# LDA tuning with perplexity\u001b[39;00m\n\u001b[1;32m      2\u001b[0m topic_range \u001b[38;5;241m=\u001b[39m \u001b[38;5;28mrange\u001b[39m(\u001b[38;5;241m2\u001b[39m, \u001b[38;5;241m7\u001b[39m)\n\u001b[0;32m----> 3\u001b[0m best_model_tfidf, best_num_topics_tfidf, best_perplexity_tfidf, best_log_likelihood_tfidf \u001b[38;5;241m=\u001b[39m tune_lda(tfidf, topic_range, max_iter\u001b[38;5;241m=\u001b[39m\u001b[38;5;241m10\u001b[39m)\n",
      "\u001b[0;31mValueError\u001b[0m: too many values to unpack (expected 4)"
     ]
    },
    {
     "data": {
      "image/png": "[encoded data removed]",
      "text/plain": [
       "<Figure size 640x480 with 2 Axes>"
      ]
     },
     "metadata": {},
     "output_type": "display_data"
    }
   ],
   "source": [
    "# LDA tuning with perplexity\n",
    "topic_range = range(2, 7)\n",
    "best_model_tfidf, best_num_topics_tfidf, best_perplexity_tfidf, best_log_likelihood_tfidf = tune_lda(tfidf, topic_range, max_iter=10)"
   ]
  },
  {
   "cell_type": "markdown",
   "metadata": {},
   "source": [
    "Décision basée sur le graphique et non sur les chiffres."
   ]
  },
  {
   "cell_type": "code",
   "execution_count": 88,
   "metadata": {},
   "outputs": [],
   "source": [
    "#best_params_sklearn_bow = 2\n",
    "best_params_sklearn_tfidf = LatentDirichletAllocation(n_components=4, max_iter=10, learning_method='online', random_state=100).fit(tfidf)"
   ]
  },
  {
   "cell_type": "code",
   "execution_count": 89,
   "metadata": {},
   "outputs": [
    {
     "name": "stdout",
     "output_type": "stream",
     "text": [
      "Topic #0: table tell customer drink restaurant manager even leave make people server bad give didnt rude\n",
      "Topic #1: pizza call drive delivery hour location phone thru close online deliver pick mcdonalds burrito dont\n",
      "Topic #2: chicken taste fry cheese bad sauce eat burger salad meat sandwich cook rice dry flavor\n",
      "Topic #3: dirty coffee bathroom clean trash mask smell wear disgust bagel breakfast floor hand filthy fly\n"
     ]
    }
   ],
   "source": [
    "sklearn_print_top_words(best_params_sklearn_tfidf,vectorizer_tfidf.get_feature_names_out(), 15)"
   ]
  },
  {
   "cell_type": "code",
   "execution_count": 31,
   "metadata": {},
   "outputs": [
    {
     "data": {
      "text/html": [
       "<div>\n",
       "<style scoped>\n",
       "    .dataframe tbody tr th:only-of-type {\n",
       "        vertical-align: middle;\n",
       "    }\n",
       "\n",
       "    .dataframe tbody tr th {\n",
       "        vertical-align: top;\n",
       "    }\n",
       "\n",
       "    .dataframe thead th {\n",
       "        text-align: right;\n",
       "    }\n",
       "</style>\n",
       "<table border=\"1\" class=\"dataframe\">\n",
       "  <thead>\n",
       "    <tr style=\"text-align: right;\">\n",
       "      <th></th>\n",
       "      <th>text</th>\n",
       "      <th>clean_comment</th>\n",
       "      <th>tokens</th>\n",
       "      <th>tokens_without_stopwords</th>\n",
       "      <th>tokens_lemm</th>\n",
       "      <th>tokens_without_top_words</th>\n",
       "    </tr>\n",
       "  </thead>\n",
       "  <tbody>\n",
       "    <tr>\n",
       "      <th>4378699</th>\n",
       "      <td>Steak fries are good. That's about it. I've be...</td>\n",
       "      <td>steak fries are good thats about it ive been h...</td>\n",
       "      <td>[steak, fries, are, good, thats, about, it, iv...</td>\n",
       "      <td>[steak, fries, good, thats, ive, twice, tried,...</td>\n",
       "      <td>[steak, fry, good, thats, ive, twice, try, dif...</td>\n",
       "      <td>[steak, fry, good, thats, ive, twice, try, dif...</td>\n",
       "    </tr>\n",
       "    <tr>\n",
       "      <th>6588325</th>\n",
       "      <td>Absolutely terrible service.  After 2 hours an...</td>\n",
       "      <td>absolutely terrible service  after  hours and ...</td>\n",
       "      <td>[absolutely, terrible, service, after, hours, ...</td>\n",
       "      <td>[absolutely, terrible, service, hours, phone, ...</td>\n",
       "      <td>[absolutely, terrible, service, hour, phone, c...</td>\n",
       "      <td>[absolutely, terrible, hour, phone, callsno, e...</td>\n",
       "    </tr>\n",
       "    <tr>\n",
       "      <th>6579516</th>\n",
       "      <td>Well, I guess they couldn't put enough lipstic...</td>\n",
       "      <td>well i guess they couldnt put enough lipstick ...</td>\n",
       "      <td>[well, i, guess, they, couldnt, put, enough, l...</td>\n",
       "      <td>[well, guess, couldnt, put, enough, lipstick, ...</td>\n",
       "      <td>[well, guess, couldnt, put, enough, lipstick, ...</td>\n",
       "      <td>[well, guess, couldnt, put, enough, lipstick, ...</td>\n",
       "    </tr>\n",
       "    <tr>\n",
       "      <th>4628998</th>\n",
       "      <td>The Copper Shaker is unsafe. It is illegal for...</td>\n",
       "      <td>the copper shaker is unsafe it is illegal for ...</td>\n",
       "      <td>[the, copper, shaker, is, unsafe, it, is, ille...</td>\n",
       "      <td>[copper, shaker, unsafe, illegal, bouncer, thr...</td>\n",
       "      <td>[copper, shaker, unsafe, illegal, bouncer, thr...</td>\n",
       "      <td>[copper, shaker, unsafe, illegal, bouncer, thr...</td>\n",
       "    </tr>\n",
       "    <tr>\n",
       "      <th>2259483</th>\n",
       "      <td>Food actually good... service horrendous.   Vi...</td>\n",
       "      <td>food actually good service horrendous   visite...</td>\n",
       "      <td>[food, actually, good, service, horrendous, vi...</td>\n",
       "      <td>[food, actually, good, service, horrendous, vi...</td>\n",
       "      <td>[food, actually, good, service, horrendous, vi...</td>\n",
       "      <td>[actually, good, horrendous, visit, today, gro...</td>\n",
       "    </tr>\n",
       "  </tbody>\n",
       "</table>\n",
       "</div>"
      ],
      "text/plain": [
       "                                                      text  \\\n",
       "4378699  Steak fries are good. That's about it. I've be...   \n",
       "6588325  Absolutely terrible service.  After 2 hours an...   \n",
       "6579516  Well, I guess they couldn't put enough lipstic...   \n",
       "4628998  The Copper Shaker is unsafe. It is illegal for...   \n",
       "2259483  Food actually good... service horrendous.   Vi...   \n",
       "\n",
       "                                             clean_comment  \\\n",
       "4378699  steak fries are good thats about it ive been h...   \n",
       "6588325  absolutely terrible service  after  hours and ...   \n",
       "6579516  well i guess they couldnt put enough lipstick ...   \n",
       "4628998  the copper shaker is unsafe it is illegal for ...   \n",
       "2259483  food actually good service horrendous   visite...   \n",
       "\n",
       "                                                    tokens  \\\n",
       "4378699  [steak, fries, are, good, thats, about, it, iv...   \n",
       "6588325  [absolutely, terrible, service, after, hours, ...   \n",
       "6579516  [well, i, guess, they, couldnt, put, enough, l...   \n",
       "4628998  [the, copper, shaker, is, unsafe, it, is, ille...   \n",
       "2259483  [food, actually, good, service, horrendous, vi...   \n",
       "\n",
       "                                  tokens_without_stopwords  \\\n",
       "4378699  [steak, fries, good, thats, ive, twice, tried,...   \n",
       "6588325  [absolutely, terrible, service, hours, phone, ...   \n",
       "6579516  [well, guess, couldnt, put, enough, lipstick, ...   \n",
       "4628998  [copper, shaker, unsafe, illegal, bouncer, thr...   \n",
       "2259483  [food, actually, good, service, horrendous, vi...   \n",
       "\n",
       "                                               tokens_lemm  \\\n",
       "4378699  [steak, fry, good, thats, ive, twice, try, dif...   \n",
       "6588325  [absolutely, terrible, service, hour, phone, c...   \n",
       "6579516  [well, guess, couldnt, put, enough, lipstick, ...   \n",
       "4628998  [copper, shaker, unsafe, illegal, bouncer, thr...   \n",
       "2259483  [food, actually, good, service, horrendous, vi...   \n",
       "\n",
       "                                  tokens_without_top_words  \n",
       "4378699  [steak, fry, good, thats, ive, twice, try, dif...  \n",
       "6588325  [absolutely, terrible, hour, phone, callsno, e...  \n",
       "6579516  [well, guess, couldnt, put, enough, lipstick, ...  \n",
       "4628998  [copper, shaker, unsafe, illegal, bouncer, thr...  \n",
       "2259483  [actually, good, horrendous, visit, today, gro...  "
      ]
     },
     "execution_count": 31,
     "metadata": {},
     "output_type": "execute_result"
    }
   ],
   "source": [
    "review_sample.head()"
   ]
  },
  {
   "cell_type": "code",
   "execution_count": 36,
   "metadata": {},
   "outputs": [
    {
     "data": {
      "text/plain": [
       "\"I went to see dr swing since I was 12 week pregnancy. The first thing I noticed is that seems the dr is very busy and she does not have enough time to carefully listen to your situation and concerns. Every routine check i need to wait outside for more than 30 min and about another 20 min in the exam room. \\n\\nThe thing started to happen since I am 27 week pregnancy and this is the first time the dr told me that my baby was smaller than the average for a week. I asked her if I need to worry, she said no. But she changed the exam to every two weeks instead of one month, and Everytime after that I had ton do an ultrasound(and this made my bill is very high.) and finally when I was 32 week, she said she referred me to another dr to see the baby why she was so small. I doubled checked with her to see if my baby was small because I am Asia but she said no. So I went to see the dr, turned out that doc is the one who treat high risk pregnant women, but dr swing was never told me that my situation was that bad. Then the new doctor did another ultrasound and told me that the baby's size was not a problem. The new problem is that she had double bubble, and there was 90% that she was don. I did five ultrasounds at dr swing, and none of them told me that my baby had this serious issue and needs a surgery immediately after she was born.  All of those things made me blood pressure increased too much and i had no choice to do c section to get y baby out when she was only 35 weeks. But, after she was born and did x Ray and turned out my baby was perfectly healthy!!! So all of those things were misdiagnosed.\""
      ]
     },
     "execution_count": 36,
     "metadata": {},
     "output_type": "execute_result"
    }
   ],
   "source": [
    "review_sample.loc[985112,'text']"
   ]
  },
  {
   "cell_type": "code",
   "execution_count": 34,
   "metadata": {},
   "outputs": [
    {
     "data": {
      "text/html": [
       "<div>\n",
       "<style scoped>\n",
       "    .dataframe tbody tr th:only-of-type {\n",
       "        vertical-align: middle;\n",
       "    }\n",
       "\n",
       "    .dataframe tbody tr th {\n",
       "        vertical-align: top;\n",
       "    }\n",
       "\n",
       "    .dataframe thead th {\n",
       "        text-align: right;\n",
       "    }\n",
       "</style>\n",
       "<table border=\"1\" class=\"dataframe\">\n",
       "  <thead>\n",
       "    <tr style=\"text-align: right;\">\n",
       "      <th></th>\n",
       "      <th>text</th>\n",
       "      <th>tokens_without_top_words</th>\n",
       "    </tr>\n",
       "  </thead>\n",
       "  <tbody>\n",
       "    <tr>\n",
       "      <th>1866840</th>\n",
       "      <td>If I could give this place 0 stars I would! I ...</td>\n",
       "      <td>[could, give, star, hour, drug, screen, physic...</td>\n",
       "    </tr>\n",
       "    <tr>\n",
       "      <th>985112</th>\n",
       "      <td>I went to see dr swing since I was 12 week pre...</td>\n",
       "      <td>[see, dr, swing, since, week, pregnancy, first...</td>\n",
       "    </tr>\n",
       "    <tr>\n",
       "      <th>2489435</th>\n",
       "      <td>I was VERY disappointed with Rachael at the Le...</td>\n",
       "      <td>[disappointed, rachael, lemmon, dr, location, ...</td>\n",
       "    </tr>\n",
       "    <tr>\n",
       "      <th>5414486</th>\n",
       "      <td>Would give zero starts if I could.  Had a crow...</td>\n",
       "      <td>[give, zero, start, could, crown, do, dr, knif...</td>\n",
       "    </tr>\n",
       "    <tr>\n",
       "      <th>6228086</th>\n",
       "      <td>I am a current PA MMJ card holder. Im beginnin...</td>\n",
       "      <td>[current, pa, mmj, card, holder, im, begin, se...</td>\n",
       "    </tr>\n",
       "    <tr>\n",
       "      <th>860018</th>\n",
       "      <td>Positives:  easy parking, comfortable waiting ...</td>\n",
       "      <td>[positive, easy, park, comfortable, wait, area...</td>\n",
       "    </tr>\n",
       "    <tr>\n",
       "      <th>779784</th>\n",
       "      <td>The pharmacy people refuse to work with you......</td>\n",
       "      <td>[pharmacy, people, refuse, work, dr, put, day,...</td>\n",
       "    </tr>\n",
       "    <tr>\n",
       "      <th>714754</th>\n",
       "      <td>I blame this place for my miscarriage.  Just l...</td>\n",
       "      <td>[blame, miscarriage, listen, tonight, baby, co...</td>\n",
       "    </tr>\n",
       "    <tr>\n",
       "      <th>5752664</th>\n",
       "      <td>I've had to go here three times because of the...</td>\n",
       "      <td>[ive, three, proximity, drs, office, first, la...</td>\n",
       "    </tr>\n",
       "    <tr>\n",
       "      <th>5573240</th>\n",
       "      <td>Although staff was very polite and friendly ov...</td>\n",
       "      <td>[although, staff, polite, friendly, phone, als...</td>\n",
       "    </tr>\n",
       "    <tr>\n",
       "      <th>474914</th>\n",
       "      <td>Dr Becker  is a pecker arrogant treats you lik...</td>\n",
       "      <td>[dr, becker, pecker, arrogant, treat, moron, t...</td>\n",
       "    </tr>\n",
       "    <tr>\n",
       "      <th>1800316</th>\n",
       "      <td>The eye appointment with Dr Son was terrific b...</td>\n",
       "      <td>[eye, appointment, dr, son, terrific, thats, g...</td>\n",
       "    </tr>\n",
       "    <tr>\n",
       "      <th>4853333</th>\n",
       "      <td>Be ware Dr . Vu lied to me in front of my fami...</td>\n",
       "      <td>[ware, dr, vu, lie, front, family, member, abl...</td>\n",
       "    </tr>\n",
       "    <tr>\n",
       "      <th>464000</th>\n",
       "      <td>If I could give this place zero stars I would....</td>\n",
       "      <td>[could, give, zero, star, new, patient, clinic...</td>\n",
       "    </tr>\n",
       "    <tr>\n",
       "      <th>1909778</th>\n",
       "      <td>If I could give no stars I would! This will be...</td>\n",
       "      <td>[could, give, star, long, please, bare, please...</td>\n",
       "    </tr>\n",
       "    <tr>\n",
       "      <th>4868815</th>\n",
       "      <td>Well I can vouch for the crappy reviews this p...</td>\n",
       "      <td>[well, vouch, crappy, review, psychiatrist, do...</td>\n",
       "    </tr>\n",
       "    <tr>\n",
       "      <th>4587026</th>\n",
       "      <td>Like most people that have reviewed this facil...</td>\n",
       "      <td>[people, review, facility, leave, negative, re...</td>\n",
       "    </tr>\n",
       "    <tr>\n",
       "      <th>6176559</th>\n",
       "      <td>Arrived at 11:30 pm on Saturday 12/2/17 with 8...</td>\n",
       "      <td>[arrive, pm, saturday, year, father, severe, s...</td>\n",
       "    </tr>\n",
       "    <tr>\n",
       "      <th>4113134</th>\n",
       "      <td>This is the worse vision center do not come he...</td>\n",
       "      <td>[bad, vision, center, front, desk, doesnt, eve...</td>\n",
       "    </tr>\n",
       "    <tr>\n",
       "      <th>4301983</th>\n",
       "      <td>UPDATE! September 2017:  I would like to say I...</td>\n",
       "      <td>[update, september, im, glad, didnt, stick, ar...</td>\n",
       "    </tr>\n",
       "    <tr>\n",
       "      <th>1146333</th>\n",
       "      <td>My wife and i went there for ultrasound i was ...</td>\n",
       "      <td>[wife, ultrasound, alound, test, po, see, baby...</td>\n",
       "    </tr>\n",
       "    <tr>\n",
       "      <th>2452574</th>\n",
       "      <td>The waiting room was empty when I arrived for ...</td>\n",
       "      <td>[wait, room, empty, arrive, appointment, still...</td>\n",
       "    </tr>\n",
       "    <tr>\n",
       "      <th>6450768</th>\n",
       "      <td>First I would like to start off by saying I ha...</td>\n",
       "      <td>[first, start, doctor, delaney, nurse, jackie,...</td>\n",
       "    </tr>\n",
       "    <tr>\n",
       "      <th>5991539</th>\n",
       "      <td>This dr has some kind of nerve calling freedom...</td>\n",
       "      <td>[dr, kind, nerve, freedom, speech, harassment,...</td>\n",
       "    </tr>\n",
       "    <tr>\n",
       "      <th>5285264</th>\n",
       "      <td>It may be of interest to know Sonshine pre-sch...</td>\n",
       "      <td>[may, interest, know, sonshine, preschool, tra...</td>\n",
       "    </tr>\n",
       "    <tr>\n",
       "      <th>2108709</th>\n",
       "      <td>I am writing this review on behalf of my Lelan...</td>\n",
       "      <td>[write, review, behalf, leland, sadly, pass, b...</td>\n",
       "    </tr>\n",
       "    <tr>\n",
       "      <th>686835</th>\n",
       "      <td>Stay away from here if you have endometreoisis...</td>\n",
       "      <td>[stay, away, endometreoisis, dr, kasper, try, ...</td>\n",
       "    </tr>\n",
       "    <tr>\n",
       "      <th>5798636</th>\n",
       "      <td>i would NOT recommend this place to anybody. m...</td>\n",
       "      <td>[recommend, anybody, first, visit, wait, hour,...</td>\n",
       "    </tr>\n",
       "    <tr>\n",
       "      <th>6287269</th>\n",
       "      <td>I was referred to this location from a former ...</td>\n",
       "      <td>[refer, location, former, employee, specifical...</td>\n",
       "    </tr>\n",
       "    <tr>\n",
       "      <th>5992501</th>\n",
       "      <td>I would like to leave a 5 star review due the ...</td>\n",
       "      <td>[leave, star, review, due, dr, megha, amaze, t...</td>\n",
       "    </tr>\n",
       "    <tr>\n",
       "      <th>1950223</th>\n",
       "      <td>Went here for a cleaning and it went fine. The...</td>\n",
       "      <td>[clean, fine, staff, really, nice, good, job, ...</td>\n",
       "    </tr>\n",
       "    <tr>\n",
       "      <th>3985801</th>\n",
       "      <td>If I could leave a no star review I would. Pri...</td>\n",
       "      <td>[could, leave, star, review, prior, apt, offic...</td>\n",
       "    </tr>\n",
       "    <tr>\n",
       "      <th>5622531</th>\n",
       "      <td>We were the only person in line at there drive...</td>\n",
       "      <td>[person, line, drive, thru, wait, min, wait, a...</td>\n",
       "    </tr>\n",
       "    <tr>\n",
       "      <th>5397138</th>\n",
       "      <td>Went here months ago with a very very sick kit...</td>\n",
       "      <td>[month, ago, sick, kitten, assistant, tech, or...</td>\n",
       "    </tr>\n",
       "    <tr>\n",
       "      <th>4808187</th>\n",
       "      <td>I took both my parents there for their catarac...</td>\n",
       "      <td>[parent, cataract, surgery, first, eye, do, ea...</td>\n",
       "    </tr>\n",
       "    <tr>\n",
       "      <th>1993468</th>\n",
       "      <td>Never trust a dentist that doesn't allow paren...</td>\n",
       "      <td>[trust, dentist, doesnt, allow, parent, room, ...</td>\n",
       "    </tr>\n",
       "    <tr>\n",
       "      <th>4718021</th>\n",
       "      <td>They aren't receiving a 5 star review from me....</td>\n",
       "      <td>[arent, receive, star, review, mei, recommend,...</td>\n",
       "    </tr>\n",
       "    <tr>\n",
       "      <th>6788097</th>\n",
       "      <td>This is for the pharmacy. I have been here sev...</td>\n",
       "      <td>[pharmacy, several, pick, prescription, didnt,...</td>\n",
       "    </tr>\n",
       "    <tr>\n",
       "      <th>1871214</th>\n",
       "      <td>I worked at nikodem dental in warren ton and i...</td>\n",
       "      <td>[work, nikodem, dental, warren, ton, first, dr...</td>\n",
       "    </tr>\n",
       "    <tr>\n",
       "      <th>3374474</th>\n",
       "      <td>I cant stress this enough- do not go here. HOR...</td>\n",
       "      <td>[cant, stress, enough, horrible, see, dr, firs...</td>\n",
       "    </tr>\n",
       "    <tr>\n",
       "      <th>1002555</th>\n",
       "      <td>I have gone here for the last few years!  Serv...</td>\n",
       "      <td>[last, year, ok, great, reason, continue, dr, ...</td>\n",
       "    </tr>\n",
       "    <tr>\n",
       "      <th>5167926</th>\n",
       "      <td>I had a horrible experience at this hospital. ...</td>\n",
       "      <td>[horrible, experience, hospital, yr, old, daug...</td>\n",
       "    </tr>\n",
       "    <tr>\n",
       "      <th>2082669</th>\n",
       "      <td>I don't even feel comfortable giving Knightswo...</td>\n",
       "      <td>[dont, even, feel, comfortable, give, knightsw...</td>\n",
       "    </tr>\n",
       "    <tr>\n",
       "      <th>6190016</th>\n",
       "      <td>Really rude staff. Would not let me return my ...</td>\n",
       "      <td>[really, rude, staff, let, return, compression...</td>\n",
       "    </tr>\n",
       "    <tr>\n",
       "      <th>4842141</th>\n",
       "      <td>My daughter (18) was suffering from dehydratio...</td>\n",
       "      <td>[daughter, suffer, dehydration, day, ago, due,...</td>\n",
       "    </tr>\n",
       "    <tr>\n",
       "      <th>3407335</th>\n",
       "      <td>WARNING!! This business will charge you for se...</td>\n",
       "      <td>[warn, business, charge, didnt, authorize, bil...</td>\n",
       "    </tr>\n",
       "    <tr>\n",
       "      <th>3242729</th>\n",
       "      <td>My son had been enrolled full time for over a ...</td>\n",
       "      <td>[son, enrol, full, year, experience, numerous,...</td>\n",
       "    </tr>\n",
       "    <tr>\n",
       "      <th>2797421</th>\n",
       "      <td>This office is absolutely horrible. Doctor Can...</td>\n",
       "      <td>[office, absolutely, horrible, doctor, cancell...</td>\n",
       "    </tr>\n",
       "    <tr>\n",
       "      <th>5949106</th>\n",
       "      <td>If I could give 0 stars I would. I took my 8 m...</td>\n",
       "      <td>[could, give, star, month, old, baby, couldnt,...</td>\n",
       "    </tr>\n",
       "    <tr>\n",
       "      <th>5431304</th>\n",
       "      <td>DONT GO HERE.!!!! Went in for a cleaning. They...</td>\n",
       "      <td>[dont, clean, need, root, canal, implant, deep...</td>\n",
       "    </tr>\n",
       "    <tr>\n",
       "      <th>6438168</th>\n",
       "      <td>I had to go here for a drug test today for a n...</td>\n",
       "      <td>[drug, test, today, new, job, wait, minnow, mi...</td>\n",
       "    </tr>\n",
       "    <tr>\n",
       "      <th>1031299</th>\n",
       "      <td>Hey all! I'd stay away from this gym. It's a b...</td>\n",
       "      <td>[hey, id, stay, away, gym, big, rib, charge, m...</td>\n",
       "    </tr>\n",
       "    <tr>\n",
       "      <th>6381900</th>\n",
       "      <td>Poor customer service; poor management of sche...</td>\n",
       "      <td>[poor, customer, poor, management, schedule, u...</td>\n",
       "    </tr>\n",
       "    <tr>\n",
       "      <th>6721</th>\n",
       "      <td>I went here today because all week I've been e...</td>\n",
       "      <td>[today, week, ive, experience, swell, wrist, n...</td>\n",
       "    </tr>\n",
       "    <tr>\n",
       "      <th>4734178</th>\n",
       "      <td>I drove all the way to 21st Ave. after a dr ap...</td>\n",
       "      <td>[drive, way, st, ave, dr, appointment, pick, b...</td>\n",
       "    </tr>\n",
       "    <tr>\n",
       "      <th>4850813</th>\n",
       "      <td>Very dissapointed.  I have been here a number ...</td>\n",
       "      <td>[dissapointed, number, past, good, deal, exper...</td>\n",
       "    </tr>\n",
       "    <tr>\n",
       "      <th>414528</th>\n",
       "      <td>Went to  that office and the dr misdiagnosed m...</td>\n",
       "      <td>[office, dr, misdiagnosed, prescribe, wrong, m...</td>\n",
       "    </tr>\n",
       "    <tr>\n",
       "      <th>676813</th>\n",
       "      <td>I am very upset with this place and I will not...</td>\n",
       "      <td>[upset, endoscopy, last, friday, schedule, las...</td>\n",
       "    </tr>\n",
       "    <tr>\n",
       "      <th>2735126</th>\n",
       "      <td>I haven't had much experience considering it t...</td>\n",
       "      <td>[havent, much, experience, consider, visit, tu...</td>\n",
       "    </tr>\n",
       "    <tr>\n",
       "      <th>1976379</th>\n",
       "      <td>I went to the emergency room with back pain.  ...</td>\n",
       "      <td>[emergency, room, pain, send, home, rx, lidoca...</td>\n",
       "    </tr>\n",
       "    <tr>\n",
       "      <th>4993193</th>\n",
       "      <td>office help lie, missinform you.rude\\nlong wai...</td>\n",
       "      <td>[office, help, lie, missinform, yourude, long,...</td>\n",
       "    </tr>\n",
       "    <tr>\n",
       "      <th>6662168</th>\n",
       "      <td>Do not go to this group. They don't care what ...</td>\n",
       "      <td>[group, dont, care, need, think, dr, care, doe...</td>\n",
       "    </tr>\n",
       "    <tr>\n",
       "      <th>3298825</th>\n",
       "      <td>Slowest place ever!! This is supposed to be UR...</td>\n",
       "      <td>[slow, ever, suppose, urgent, carenot, emergen...</td>\n",
       "    </tr>\n",
       "    <tr>\n",
       "      <th>2588795</th>\n",
       "      <td>Very unprofessional and discourteous front des...</td>\n",
       "      <td>[unprofessional, discourteous, front, desk, pe...</td>\n",
       "    </tr>\n",
       "    <tr>\n",
       "      <th>3989381</th>\n",
       "      <td>Well let's see.... Where do I begin? I walked ...</td>\n",
       "      <td>[well, let, see, begin, walked, front, desk, o...</td>\n",
       "    </tr>\n",
       "    <tr>\n",
       "      <th>5445838</th>\n",
       "      <td>They will nickel and dime you to death.   I've...</td>\n",
       "      <td>[nickel, dime, death, ive, year, although, dr,...</td>\n",
       "    </tr>\n",
       "    <tr>\n",
       "      <th>4063657</th>\n",
       "      <td>I would not recommend Roc to anyone! I have be...</td>\n",
       "      <td>[recommend, roc, anyone, clinic, none, doctor,...</td>\n",
       "    </tr>\n",
       "    <tr>\n",
       "      <th>1311784</th>\n",
       "      <td>Went with my Dad to his appointment this past ...</td>\n",
       "      <td>[dad, appointment, past, monday, appointment, ...</td>\n",
       "    </tr>\n",
       "    <tr>\n",
       "      <th>40184</th>\n",
       "      <td>I saw Dr Cassidy and nurse shea and personally...</td>\n",
       "      <td>[saw, dr, cassidy, nurse, shea, personally, de...</td>\n",
       "    </tr>\n",
       "    <tr>\n",
       "      <th>3906431</th>\n",
       "      <td>My grandson sick couple of weeks with diarrhea...</td>\n",
       "      <td>[grandson, sick, couple, week, diarrhea, dont,...</td>\n",
       "    </tr>\n",
       "    <tr>\n",
       "      <th>4072932</th>\n",
       "      <td>Took my daughter here for an eye exam and new ...</td>\n",
       "      <td>[daughter, eye, exam, new, glass, wait, min, a...</td>\n",
       "    </tr>\n",
       "    <tr>\n",
       "      <th>2813138</th>\n",
       "      <td>If I could give them a 0 star I would \\nI was ...</td>\n",
       "      <td>[could, give, star, big, group, doctor, restau...</td>\n",
       "    </tr>\n",
       "    <tr>\n",
       "      <th>2619520</th>\n",
       "      <td>If I could rate this hospital 0 or negative st...</td>\n",
       "      <td>[could, rate, hospital, negative, star, emerge...</td>\n",
       "    </tr>\n",
       "    <tr>\n",
       "      <th>5121493</th>\n",
       "      <td>I've had no problem with the dr I actually see...</td>\n",
       "      <td>[ive, problem, dr, actually, see, nice, listen...</td>\n",
       "    </tr>\n",
       "    <tr>\n",
       "      <th>1358603</th>\n",
       "      <td>I had a dental implant placed by Dr Kim in  au...</td>\n",
       "      <td>[dental, implant, dr, kim, august, prepay, ful...</td>\n",
       "    </tr>\n",
       "    <tr>\n",
       "      <th>3102756</th>\n",
       "      <td>AWFUL PLACE: first appointment i went for a to...</td>\n",
       "      <td>[awful, first, appointment, toothache, dr, nee...</td>\n",
       "    </tr>\n",
       "    <tr>\n",
       "      <th>5430681</th>\n",
       "      <td>On 7/31/19 at this location , had new employee...</td>\n",
       "      <td>[location, new, employee, excellent, customer,...</td>\n",
       "    </tr>\n",
       "    <tr>\n",
       "      <th>4093229</th>\n",
       "      <td>Absolutely worst Dr. ... consistently and alwa...</td>\n",
       "      <td>[absolutely, bad, dr, consistently, always, be...</td>\n",
       "    </tr>\n",
       "    <tr>\n",
       "      <th>2009658</th>\n",
       "      <td>This is a very poorly run office. Not only did...</td>\n",
       "      <td>[poorly, run, office, wait, almost, minute, wa...</td>\n",
       "    </tr>\n",
       "    <tr>\n",
       "      <th>2499072</th>\n",
       "      <td>If I could give 0 stars I would, nothing but a...</td>\n",
       "      <td>[could, give, star, nothing, money, grab, dog,...</td>\n",
       "    </tr>\n",
       "    <tr>\n",
       "      <th>2036649</th>\n",
       "      <td>Would love to give them a negative stars.  I h...</td>\n",
       "      <td>[love, give, negative, star, problem, last, cp...</td>\n",
       "    </tr>\n",
       "    <tr>\n",
       "      <th>1199951</th>\n",
       "      <td>$46 for 3 cheesesteaks 2 fries and 2 drinks.  ...</td>\n",
       "      <td>[cheesesteaks, fry, drink, bad, cheesesteaks, ...</td>\n",
       "    </tr>\n",
       "    <tr>\n",
       "      <th>1755067</th>\n",
       "      <td>Horrible absolute horrible.  Was there sept 20...</td>\n",
       "      <td>[horrible, absolute, horrible, sept, nov, due,...</td>\n",
       "    </tr>\n",
       "    <tr>\n",
       "      <th>4503383</th>\n",
       "      <td>My husband went to have 2 teeth extracted. Doc...</td>\n",
       "      <td>[husband, teeth, extract, doc, ok, pull, denti...</td>\n",
       "    </tr>\n",
       "    <tr>\n",
       "      <th>1756360</th>\n",
       "      <td>Saw  dr Lautersztain here Had to check his pho...</td>\n",
       "      <td>[saw, dr, lautersztain, check, phone, presumab...</td>\n",
       "    </tr>\n",
       "    <tr>\n",
       "      <th>491665</th>\n",
       "      <td>Front office staff is very rude and disrespect...</td>\n",
       "      <td>[front, office, staff, rude, disrespectful, pr...</td>\n",
       "    </tr>\n",
       "    <tr>\n",
       "      <th>6746140</th>\n",
       "      <td>In Mid July 2019 I had to bring my small dog i...</td>\n",
       "      <td>[mid, july, bring, small, dog, regular, vet, n...</td>\n",
       "    </tr>\n",
       "    <tr>\n",
       "      <th>1390918</th>\n",
       "      <td>I am very disappointed in this vet hospital. I...</td>\n",
       "      <td>[disappointed, vet, hospital, beloved, brookly...</td>\n",
       "    </tr>\n",
       "    <tr>\n",
       "      <th>3404887</th>\n",
       "      <td>If I could I would give a rating below a one ....</td>\n",
       "      <td>[could, give, rating, grand, daughter, thursda...</td>\n",
       "    </tr>\n",
       "    <tr>\n",
       "      <th>3129999</th>\n",
       "      <td>They burned my eyebrows when i went to have th...</td>\n",
       "      <td>[burn, eyebrow, waxedi, togo, dr, aloe, cream,...</td>\n",
       "    </tr>\n",
       "    <tr>\n",
       "      <th>5367719</th>\n",
       "      <td>TERRIBLE FRONT OFFICE STAFF. I read the amazin...</td>\n",
       "      <td>[terrible, front, office, staff, read, amaze, ...</td>\n",
       "    </tr>\n",
       "    <tr>\n",
       "      <th>603324</th>\n",
       "      <td>Make sure you have lots of money before you go...</td>\n",
       "      <td>[sure, lot, money, money, dog, could, death, b...</td>\n",
       "    </tr>\n",
       "    <tr>\n",
       "      <th>3411157</th>\n",
       "      <td>Absolutely terrible experience, I will never g...</td>\n",
       "      <td>[absolutely, terrible, experience, drs, talk, ...</td>\n",
       "    </tr>\n",
       "    <tr>\n",
       "      <th>6653236</th>\n",
       "      <td>horrible called ahead to in fact make sure eye...</td>\n",
       "      <td>[horrible, ahead, fact, sure, eye, exam, glass...</td>\n",
       "    </tr>\n",
       "    <tr>\n",
       "      <th>3912849</th>\n",
       "      <td>worst urgent care ever received. routine test ...</td>\n",
       "      <td>[worst, urgent, care, ever, receive, routine, ...</td>\n",
       "    </tr>\n",
       "    <tr>\n",
       "      <th>1357827</th>\n",
       "      <td>Went in very excited because I finally found a...</td>\n",
       "      <td>[excite, finally, find, clean, brace, front, d...</td>\n",
       "    </tr>\n",
       "  </tbody>\n",
       "</table>\n",
       "</div>"
      ],
      "text/plain": [
       "                                                      text  \\\n",
       "1866840  If I could give this place 0 stars I would! I ...   \n",
       "985112   I went to see dr swing since I was 12 week pre...   \n",
       "2489435  I was VERY disappointed with Rachael at the Le...   \n",
       "5414486  Would give zero starts if I could.  Had a crow...   \n",
       "6228086  I am a current PA MMJ card holder. Im beginnin...   \n",
       "860018   Positives:  easy parking, comfortable waiting ...   \n",
       "779784   The pharmacy people refuse to work with you......   \n",
       "714754   I blame this place for my miscarriage.  Just l...   \n",
       "5752664  I've had to go here three times because of the...   \n",
       "5573240  Although staff was very polite and friendly ov...   \n",
       "474914   Dr Becker  is a pecker arrogant treats you lik...   \n",
       "1800316  The eye appointment with Dr Son was terrific b...   \n",
       "4853333  Be ware Dr . Vu lied to me in front of my fami...   \n",
       "464000   If I could give this place zero stars I would....   \n",
       "1909778  If I could give no stars I would! This will be...   \n",
       "4868815  Well I can vouch for the crappy reviews this p...   \n",
       "4587026  Like most people that have reviewed this facil...   \n",
       "6176559  Arrived at 11:30 pm on Saturday 12/2/17 with 8...   \n",
       "4113134  This is the worse vision center do not come he...   \n",
       "4301983  UPDATE! September 2017:  I would like to say I...   \n",
       "1146333  My wife and i went there for ultrasound i was ...   \n",
       "2452574  The waiting room was empty when I arrived for ...   \n",
       "6450768  First I would like to start off by saying I ha...   \n",
       "5991539  This dr has some kind of nerve calling freedom...   \n",
       "5285264  It may be of interest to know Sonshine pre-sch...   \n",
       "2108709  I am writing this review on behalf of my Lelan...   \n",
       "686835   Stay away from here if you have endometreoisis...   \n",
       "5798636  i would NOT recommend this place to anybody. m...   \n",
       "6287269  I was referred to this location from a former ...   \n",
       "5992501  I would like to leave a 5 star review due the ...   \n",
       "1950223  Went here for a cleaning and it went fine. The...   \n",
       "3985801  If I could leave a no star review I would. Pri...   \n",
       "5622531  We were the only person in line at there drive...   \n",
       "5397138  Went here months ago with a very very sick kit...   \n",
       "4808187  I took both my parents there for their catarac...   \n",
       "1993468  Never trust a dentist that doesn't allow paren...   \n",
       "4718021  They aren't receiving a 5 star review from me....   \n",
       "6788097  This is for the pharmacy. I have been here sev...   \n",
       "1871214  I worked at nikodem dental in warren ton and i...   \n",
       "3374474  I cant stress this enough- do not go here. HOR...   \n",
       "1002555  I have gone here for the last few years!  Serv...   \n",
       "5167926  I had a horrible experience at this hospital. ...   \n",
       "2082669  I don't even feel comfortable giving Knightswo...   \n",
       "6190016  Really rude staff. Would not let me return my ...   \n",
       "4842141  My daughter (18) was suffering from dehydratio...   \n",
       "3407335  WARNING!! This business will charge you for se...   \n",
       "3242729  My son had been enrolled full time for over a ...   \n",
       "2797421  This office is absolutely horrible. Doctor Can...   \n",
       "5949106  If I could give 0 stars I would. I took my 8 m...   \n",
       "5431304  DONT GO HERE.!!!! Went in for a cleaning. They...   \n",
       "6438168  I had to go here for a drug test today for a n...   \n",
       "1031299  Hey all! I'd stay away from this gym. It's a b...   \n",
       "6381900  Poor customer service; poor management of sche...   \n",
       "6721     I went here today because all week I've been e...   \n",
       "4734178  I drove all the way to 21st Ave. after a dr ap...   \n",
       "4850813  Very dissapointed.  I have been here a number ...   \n",
       "414528   Went to  that office and the dr misdiagnosed m...   \n",
       "676813   I am very upset with this place and I will not...   \n",
       "2735126  I haven't had much experience considering it t...   \n",
       "1976379  I went to the emergency room with back pain.  ...   \n",
       "4993193  office help lie, missinform you.rude\\nlong wai...   \n",
       "6662168  Do not go to this group. They don't care what ...   \n",
       "3298825  Slowest place ever!! This is supposed to be UR...   \n",
       "2588795  Very unprofessional and discourteous front des...   \n",
       "3989381  Well let's see.... Where do I begin? I walked ...   \n",
       "5445838  They will nickel and dime you to death.   I've...   \n",
       "4063657  I would not recommend Roc to anyone! I have be...   \n",
       "1311784  Went with my Dad to his appointment this past ...   \n",
       "40184    I saw Dr Cassidy and nurse shea and personally...   \n",
       "3906431  My grandson sick couple of weeks with diarrhea...   \n",
       "4072932  Took my daughter here for an eye exam and new ...   \n",
       "2813138  If I could give them a 0 star I would \\nI was ...   \n",
       "2619520  If I could rate this hospital 0 or negative st...   \n",
       "5121493  I've had no problem with the dr I actually see...   \n",
       "1358603  I had a dental implant placed by Dr Kim in  au...   \n",
       "3102756  AWFUL PLACE: first appointment i went for a to...   \n",
       "5430681  On 7/31/19 at this location , had new employee...   \n",
       "4093229  Absolutely worst Dr. ... consistently and alwa...   \n",
       "2009658  This is a very poorly run office. Not only did...   \n",
       "2499072  If I could give 0 stars I would, nothing but a...   \n",
       "2036649  Would love to give them a negative stars.  I h...   \n",
       "1199951  $46 for 3 cheesesteaks 2 fries and 2 drinks.  ...   \n",
       "1755067  Horrible absolute horrible.  Was there sept 20...   \n",
       "4503383  My husband went to have 2 teeth extracted. Doc...   \n",
       "1756360  Saw  dr Lautersztain here Had to check his pho...   \n",
       "491665   Front office staff is very rude and disrespect...   \n",
       "6746140  In Mid July 2019 I had to bring my small dog i...   \n",
       "1390918  I am very disappointed in this vet hospital. I...   \n",
       "3404887  If I could I would give a rating below a one ....   \n",
       "3129999  They burned my eyebrows when i went to have th...   \n",
       "5367719  TERRIBLE FRONT OFFICE STAFF. I read the amazin...   \n",
       "603324   Make sure you have lots of money before you go...   \n",
       "3411157  Absolutely terrible experience, I will never g...   \n",
       "6653236  horrible called ahead to in fact make sure eye...   \n",
       "3912849  worst urgent care ever received. routine test ...   \n",
       "1357827  Went in very excited because I finally found a...   \n",
       "\n",
       "                                  tokens_without_top_words  \n",
       "1866840  [could, give, star, hour, drug, screen, physic...  \n",
       "985112   [see, dr, swing, since, week, pregnancy, first...  \n",
       "2489435  [disappointed, rachael, lemmon, dr, location, ...  \n",
       "5414486  [give, zero, start, could, crown, do, dr, knif...  \n",
       "6228086  [current, pa, mmj, card, holder, im, begin, se...  \n",
       "860018   [positive, easy, park, comfortable, wait, area...  \n",
       "779784   [pharmacy, people, refuse, work, dr, put, day,...  \n",
       "714754   [blame, miscarriage, listen, tonight, baby, co...  \n",
       "5752664  [ive, three, proximity, drs, office, first, la...  \n",
       "5573240  [although, staff, polite, friendly, phone, als...  \n",
       "474914   [dr, becker, pecker, arrogant, treat, moron, t...  \n",
       "1800316  [eye, appointment, dr, son, terrific, thats, g...  \n",
       "4853333  [ware, dr, vu, lie, front, family, member, abl...  \n",
       "464000   [could, give, zero, star, new, patient, clinic...  \n",
       "1909778  [could, give, star, long, please, bare, please...  \n",
       "4868815  [well, vouch, crappy, review, psychiatrist, do...  \n",
       "4587026  [people, review, facility, leave, negative, re...  \n",
       "6176559  [arrive, pm, saturday, year, father, severe, s...  \n",
       "4113134  [bad, vision, center, front, desk, doesnt, eve...  \n",
       "4301983  [update, september, im, glad, didnt, stick, ar...  \n",
       "1146333  [wife, ultrasound, alound, test, po, see, baby...  \n",
       "2452574  [wait, room, empty, arrive, appointment, still...  \n",
       "6450768  [first, start, doctor, delaney, nurse, jackie,...  \n",
       "5991539  [dr, kind, nerve, freedom, speech, harassment,...  \n",
       "5285264  [may, interest, know, sonshine, preschool, tra...  \n",
       "2108709  [write, review, behalf, leland, sadly, pass, b...  \n",
       "686835   [stay, away, endometreoisis, dr, kasper, try, ...  \n",
       "5798636  [recommend, anybody, first, visit, wait, hour,...  \n",
       "6287269  [refer, location, former, employee, specifical...  \n",
       "5992501  [leave, star, review, due, dr, megha, amaze, t...  \n",
       "1950223  [clean, fine, staff, really, nice, good, job, ...  \n",
       "3985801  [could, leave, star, review, prior, apt, offic...  \n",
       "5622531  [person, line, drive, thru, wait, min, wait, a...  \n",
       "5397138  [month, ago, sick, kitten, assistant, tech, or...  \n",
       "4808187  [parent, cataract, surgery, first, eye, do, ea...  \n",
       "1993468  [trust, dentist, doesnt, allow, parent, room, ...  \n",
       "4718021  [arent, receive, star, review, mei, recommend,...  \n",
       "6788097  [pharmacy, several, pick, prescription, didnt,...  \n",
       "1871214  [work, nikodem, dental, warren, ton, first, dr...  \n",
       "3374474  [cant, stress, enough, horrible, see, dr, firs...  \n",
       "1002555  [last, year, ok, great, reason, continue, dr, ...  \n",
       "5167926  [horrible, experience, hospital, yr, old, daug...  \n",
       "2082669  [dont, even, feel, comfortable, give, knightsw...  \n",
       "6190016  [really, rude, staff, let, return, compression...  \n",
       "4842141  [daughter, suffer, dehydration, day, ago, due,...  \n",
       "3407335  [warn, business, charge, didnt, authorize, bil...  \n",
       "3242729  [son, enrol, full, year, experience, numerous,...  \n",
       "2797421  [office, absolutely, horrible, doctor, cancell...  \n",
       "5949106  [could, give, star, month, old, baby, couldnt,...  \n",
       "5431304  [dont, clean, need, root, canal, implant, deep...  \n",
       "6438168  [drug, test, today, new, job, wait, minnow, mi...  \n",
       "1031299  [hey, id, stay, away, gym, big, rib, charge, m...  \n",
       "6381900  [poor, customer, poor, management, schedule, u...  \n",
       "6721     [today, week, ive, experience, swell, wrist, n...  \n",
       "4734178  [drive, way, st, ave, dr, appointment, pick, b...  \n",
       "4850813  [dissapointed, number, past, good, deal, exper...  \n",
       "414528   [office, dr, misdiagnosed, prescribe, wrong, m...  \n",
       "676813   [upset, endoscopy, last, friday, schedule, las...  \n",
       "2735126  [havent, much, experience, consider, visit, tu...  \n",
       "1976379  [emergency, room, pain, send, home, rx, lidoca...  \n",
       "4993193  [office, help, lie, missinform, yourude, long,...  \n",
       "6662168  [group, dont, care, need, think, dr, care, doe...  \n",
       "3298825  [slow, ever, suppose, urgent, carenot, emergen...  \n",
       "2588795  [unprofessional, discourteous, front, desk, pe...  \n",
       "3989381  [well, let, see, begin, walked, front, desk, o...  \n",
       "5445838  [nickel, dime, death, ive, year, although, dr,...  \n",
       "4063657  [recommend, roc, anyone, clinic, none, doctor,...  \n",
       "1311784  [dad, appointment, past, monday, appointment, ...  \n",
       "40184    [saw, dr, cassidy, nurse, shea, personally, de...  \n",
       "3906431  [grandson, sick, couple, week, diarrhea, dont,...  \n",
       "4072932  [daughter, eye, exam, new, glass, wait, min, a...  \n",
       "2813138  [could, give, star, big, group, doctor, restau...  \n",
       "2619520  [could, rate, hospital, negative, star, emerge...  \n",
       "5121493  [ive, problem, dr, actually, see, nice, listen...  \n",
       "1358603  [dental, implant, dr, kim, august, prepay, ful...  \n",
       "3102756  [awful, first, appointment, toothache, dr, nee...  \n",
       "5430681  [location, new, employee, excellent, customer,...  \n",
       "4093229  [absolutely, bad, dr, consistently, always, be...  \n",
       "2009658  [poorly, run, office, wait, almost, minute, wa...  \n",
       "2499072  [could, give, star, nothing, money, grab, dog,...  \n",
       "2036649  [love, give, negative, star, problem, last, cp...  \n",
       "1199951  [cheesesteaks, fry, drink, bad, cheesesteaks, ...  \n",
       "1755067  [horrible, absolute, horrible, sept, nov, due,...  \n",
       "4503383  [husband, teeth, extract, doc, ok, pull, denti...  \n",
       "1756360  [saw, dr, lautersztain, check, phone, presumab...  \n",
       "491665   [front, office, staff, rude, disrespectful, pr...  \n",
       "6746140  [mid, july, bring, small, dog, regular, vet, n...  \n",
       "1390918  [disappointed, vet, hospital, beloved, brookly...  \n",
       "3404887  [could, give, rating, grand, daughter, thursda...  \n",
       "3129999  [burn, eyebrow, waxedi, togo, dr, aloe, cream,...  \n",
       "5367719  [terrible, front, office, staff, read, amaze, ...  \n",
       "603324   [sure, lot, money, money, dog, could, death, b...  \n",
       "3411157  [absolutely, terrible, experience, drs, talk, ...  \n",
       "6653236  [horrible, ahead, fact, sure, eye, exam, glass...  \n",
       "3912849  [worst, urgent, care, ever, receive, routine, ...  \n",
       "1357827  [excite, finally, find, clean, brace, front, d...  "
      ]
     },
     "execution_count": 34,
     "metadata": {},
     "output_type": "execute_result"
    }
   ],
   "source": [
    "review_sample.loc[review_sample['text'].str.contains(r'\\sdr\\s'),['text','tokens_without_top_words']]"
   ]
  },
  {
   "cell_type": "markdown",
   "metadata": {},
   "source": [
    "Interprétation des topics :\n",
    "- Sujet en lien avec le contact client\n",
    "- Sujet en lien avec le temps d'attente et la qualité de la nourriture / boisson"
   ]
  },
  {
   "cell_type": "code",
   "execution_count": 25,
   "metadata": {},
   "outputs": [
    {
     "data": {
      "text/html": [
       "\n",
       "<link rel=\"stylesheet\" type=\"text/css\" href=\"https://cdn.jsdelivr.net/gh/bmabey/pyLDAvis@3.4.0/pyLDAvis/js/ldavis.v1.0.0.css\">\n",
       "\n",
       "\n",
       "<div id=\"ldavis_el7798419410505122538455405\" style=\"background-color:white;\"></div>\n",
       "<script type=\"text/javascript\">\n",
       "\n",
       "var ldavis_el7798419410505122538455405_data = {\"mdsDat\": {\"x\": [13.141898155212402, -13.141592979431152], \"y\": [-30.803396224975586, 30.803640365600586], \"topics\": [1, 2], \"cluster\": [1, 1], \"Freq\": [56.312229374556225, 43.68777062544377]}, \"tinfo\": {\"Term\": [\"restaurant\", \"table\", \"eat\", \"drink\", \"pizza\", \"chicken\", \"taste\", \"car\", \"server\", \"bar\", \"waitress\", \"cold\", \"good\", \"meal\", \"serve\", \"seat\", \"menu\", \"store\", \"fry\", \"cheese\", \"sandwich\", \"phone\", \"room\", \"company\", \"burger\", \"sauce\", \"salad\", \"cook\", \"slow\", \"dinner\", \"car\", \"company\", \"appointment\", \"phone\", \"nail\", \"office\", \"email\", \"month\", \"fix\", \"cancel\", \"purchase\", \"desk\", \"answer\", \"hotel\", \"sale\", \"schedule\", \"tire\", \"vehicle\", \"repair\", \"credit\", \"contact\", \"book\", \"card\", \"insurance\", \"doctor\", \"fee\", \"unprofessional\", \"number\", \"rent\", \"salon\", \"store\", \"room\", \"refund\", \"job\", \"shop\", \"online\", \"refuse\", \"business\", \"week\", \"issue\", \"work\", \"day\", \"buy\", \"customer\", \"help\", \"move\", \"need\", \"stay\", \"front\", \"employee\", \"charge\", \"pay\", \"show\", \"use\", \"rude\", \"dont\", \"give\", \"people\", \"could\", \"hour\", \"manager\", \"know\", \"even\", \"want\", \"leave\", \"didnt\", \"money\", \"try\", \"look\", \"bad\", \"table\", \"restaurant\", \"drink\", \"eat\", \"chicken\", \"pizza\", \"taste\", \"server\", \"waitress\", \"meal\", \"cheese\", \"bar\", \"fry\", \"cold\", \"menu\", \"sandwich\", \"serve\", \"sauce\", \"burger\", \"salad\", \"cook\", \"waiter\", \"meat\", \"dinner\", \"steak\", \"flavor\", \"rice\", \"bread\", \"coffee\", \"beer\", \"seat\", \"slow\", \"lunch\", \"bartender\", \"dry\", \"good\", \"minute\", \"wait\", \"bad\", \"sit\", \"terrible\", \"even\", \"really\", \"well\", \"ever\", \"dont\", \"didnt\", \"give\"], \"Freq\": [1351.0, 1322.0, 1186.0, 1180.0, 1103.0, 1005.0, 974.0, 1354.0, 882.0, 855.0, 805.0, 805.0, 1908.0, 733.0, 722.0, 719.0, 684.0, 1035.0, 677.0, 671.0, 656.0, 951.0, 1008.0, 891.0, 602.0, 592.0, 588.0, 578.0, 577.0, 523.0, 1353.6439312375978, 890.5307032975201, 718.5107803820204, 950.594715617407, 638.8662005224129, 469.4716997240152, 428.1287593307893, 717.2370456960355, 566.7491450483353, 440.32606791989764, 445.51792547673404, 377.1491750758564, 506.6786789174504, 564.5601985358554, 344.97518110083774, 327.1194682059926, 354.13530441851117, 312.83255349854494, 308.78852385540125, 416.74532897835167, 397.67326233168103, 339.8735993212496, 590.6503681058766, 284.8581175254373, 291.2663841283919, 317.3819562628667, 383.0534421623199, 397.9734306019293, 255.49619853002955, 259.86584278488033, 1030.6620362932504, 1002.3630748915735, 490.0849689749628, 535.6242073330392, 481.1113159562209, 419.6063162807443, 412.9166391363661, 1033.9778060687422, 786.335792515158, 588.6746059393348, 1226.3111462652232, 1225.2980852452715, 646.3954647936451, 1616.9269828750014, 672.9048135231095, 574.2082032044369, 1027.5938009689896, 743.2432290153395, 643.9240809699772, 747.4603070553925, 840.7837910457873, 1014.7984672383801, 654.8006998484722, 885.3277583556614, 950.5246747110449, 1157.7684975966506, 1077.5094273744487, 925.3954245554894, 923.344472964494, 932.6196704127678, 843.2300094810439, 839.2679829456825, 976.3002152073858, 874.2487714803121, 845.4171542396584, 876.995668492267, 778.750434887282, 783.9978945249194, 767.6320877192363, 764.199341107935, 1321.4092446670438, 1350.6088078577047, 1179.9320788174355, 1186.1215657382447, 1004.8645057261783, 1102.453347454502, 974.2664569809447, 881.4910997683568, 805.1965393732527, 733.0603765887871, 670.6615568084299, 854.7907613271075, 676.4865190525196, 805.0444158761474, 683.5389049509452, 655.6359450381027, 722.3236408330222, 592.294730135973, 602.2683970013411, 587.8826985036261, 577.8897453716539, 504.8196649206057, 487.7513274166081, 522.8668833541528, 448.51898658091676, 416.62864164767296, 402.92964801723093, 405.42936115416273, 502.5026751704772, 432.2285423967654, 718.6469176122284, 575.8210775169078, 479.5533537426792, 443.17026732295824, 507.27974969555476, 1499.7806614783456, 1351.76766084414, 1432.4888157900489, 1303.8999872154661, 713.0722941468728, 763.6500740873602, 976.7811484747956, 752.1679684202567, 753.4434563391795, 764.493108917261, 822.7019434020383, 749.8386760030718, 756.8886650933231], \"Total\": [1351.0, 1322.0, 1186.0, 1180.0, 1103.0, 1005.0, 974.0, 1354.0, 882.0, 855.0, 805.0, 805.0, 1908.0, 733.0, 722.0, 719.0, 684.0, 1035.0, 677.0, 671.0, 656.0, 951.0, 1008.0, 891.0, 602.0, 592.0, 588.0, 578.0, 577.0, 523.0, 1354.2208301905625, 891.0869168641262, 719.0413021471976, 951.317930050547, 639.427612672033, 470.04430564368005, 428.68697072390717, 718.2056656481085, 567.5371807073028, 440.9755481071166, 446.18622322224775, 377.7262355141594, 507.46878251129465, 565.4464791163781, 345.52899587669435, 327.6604432328975, 354.7268927718258, 313.3585075533261, 309.31297694586067, 417.46809372962855, 398.3771329552435, 340.4915370963704, 591.72595580602, 285.3803827767706, 291.8064421096904, 317.9977326887548, 383.79972434370495, 398.78273180120647, 256.0316610381533, 260.41348532991213, 1035.6436535828643, 1008.1427688765548, 491.7543131245404, 538.1420474243787, 483.2227281678791, 421.2060576411227, 414.75519335006567, 1073.976197708344, 816.9104155454377, 605.414777361218, 1337.4269808965332, 1366.1454685189424, 680.7840860714509, 1887.9368815209014, 722.8013557370722, 610.9315060848082, 1231.0926050770747, 835.874519603915, 704.9107425506525, 872.7040402986626, 1022.258871569536, 1319.0412860124418, 737.2021142210314, 1177.0026921489941, 1330.9908673505163, 1980.470440998689, 1834.3980924677717, 1459.5545436952998, 1469.0702735951904, 1507.3679322033972, 1311.999704541895, 1346.5609381958354, 1953.0813636821813, 1534.6394131703241, 1432.9582607869297, 1626.8343444953389, 1160.1187610083884, 1419.6474581126527, 1424.674589269754, 2068.099328323401, 1322.0162754598673, 1351.238886159209, 1180.5046763915714, 1186.7117684441534, 1005.3802118867336, 1103.0449969943813, 974.790320854322, 882.0386966697713, 805.736498572292, 733.6087796945725, 671.1749851309005, 855.4525259747045, 677.011562961498, 805.6988923331204, 684.0985468398243, 656.1802831090118, 722.9442770926535, 592.8070403736427, 602.7928731276917, 588.4008972687658, 578.429230190267, 505.3541910246007, 488.2742378535964, 523.4657135648753, 449.0369205886423, 417.1373328271835, 403.4388234023762, 405.94802740126414, 503.15079877282517, 432.7907151753114, 719.8614950122761, 577.3553951946958, 480.28236107690674, 443.76370203404696, 511.902862705812, 1908.563981045428, 1894.9994427449287, 2155.7148475450726, 2068.099328323401, 868.9273825094297, 1116.556678603688, 1953.0813636821813, 1139.80561754141, 1333.549691952761, 1410.13023644255, 1980.470440998689, 1626.8343444953389, 1834.3980924677717], \"Category\": [\"Default\", \"Default\", \"Default\", \"Default\", \"Default\", \"Default\", \"Default\", \"Default\", \"Default\", \"Default\", \"Default\", \"Default\", \"Default\", \"Default\", \"Default\", \"Default\", \"Default\", \"Default\", \"Default\", \"Default\", \"Default\", \"Default\", \"Default\", \"Default\", \"Default\", \"Default\", \"Default\", \"Default\", \"Default\", \"Default\", \"Topic1\", \"Topic1\", \"Topic1\", \"Topic1\", \"Topic1\", \"Topic1\", \"Topic1\", \"Topic1\", \"Topic1\", \"Topic1\", \"Topic1\", \"Topic1\", \"Topic1\", \"Topic1\", \"Topic1\", \"Topic1\", \"Topic1\", \"Topic1\", \"Topic1\", \"Topic1\", \"Topic1\", \"Topic1\", \"Topic1\", \"Topic1\", \"Topic1\", \"Topic1\", \"Topic1\", \"Topic1\", \"Topic1\", \"Topic1\", \"Topic1\", \"Topic1\", \"Topic1\", \"Topic1\", \"Topic1\", \"Topic1\", \"Topic1\", \"Topic1\", \"Topic1\", \"Topic1\", \"Topic1\", \"Topic1\", \"Topic1\", \"Topic1\", \"Topic1\", \"Topic1\", \"Topic1\", \"Topic1\", \"Topic1\", \"Topic1\", \"Topic1\", \"Topic1\", \"Topic1\", \"Topic1\", \"Topic1\", \"Topic1\", \"Topic1\", \"Topic1\", \"Topic1\", \"Topic1\", \"Topic1\", \"Topic1\", \"Topic1\", \"Topic1\", \"Topic1\", \"Topic1\", \"Topic1\", \"Topic1\", \"Topic1\", \"Topic1\", \"Topic2\", \"Topic2\", \"Topic2\", \"Topic2\", \"Topic2\", \"Topic2\", \"Topic2\", \"Topic2\", \"Topic2\", \"Topic2\", \"Topic2\", \"Topic2\", \"Topic2\", \"Topic2\", \"Topic2\", \"Topic2\", \"Topic2\", \"Topic2\", \"Topic2\", \"Topic2\", \"Topic2\", \"Topic2\", \"Topic2\", \"Topic2\", \"Topic2\", \"Topic2\", \"Topic2\", \"Topic2\", \"Topic2\", \"Topic2\", \"Topic2\", \"Topic2\", \"Topic2\", \"Topic2\", \"Topic2\", \"Topic2\", \"Topic2\", \"Topic2\", \"Topic2\", \"Topic2\", \"Topic2\", \"Topic2\", \"Topic2\", \"Topic2\", \"Topic2\", \"Topic2\", \"Topic2\", \"Topic2\"], \"logprob\": [30.0, 29.0, 28.0, 27.0, 26.0, 25.0, 24.0, 23.0, 22.0, 21.0, 20.0, 19.0, 18.0, 17.0, 16.0, 15.0, 14.0, 13.0, 12.0, 11.0, 10.0, 9.0, 8.0, 7.0, 6.0, 5.0, 4.0, 3.0, 2.0, 1.0, -5.4027, -5.8215, -6.0361, -5.7562, -6.1536, -6.4617, -6.5539, -6.0379, -6.2734, -6.5258, -6.5141, -6.6807, -6.3854, -6.2773, -6.7698, -6.823, -6.7436, -6.8676, -6.8806, -6.5808, -6.6277, -6.7847, -6.2321, -6.9613, -6.9391, -6.8532, -6.6651, -6.6269, -7.0701, -7.0531, -5.6753, -5.7032, -6.4187, -6.3299, -6.4372, -6.574, -6.5901, -5.6721, -5.9459, -6.2354, -5.5015, -5.5024, -6.1419, -5.225, -6.1017, -6.2603, -5.6783, -6.0023, -6.1457, -5.9966, -5.879, -5.6909, -6.129, -5.8273, -5.7563, -5.5591, -5.6309, -5.7831, -5.7853, -5.7753, -5.8761, -5.8808, -5.7295, -5.8399, -5.8735, -5.8368, -5.9556, -5.9489, -5.97, -5.9745, -5.173, -5.1511, -5.2862, -5.281, -5.4468, -5.3542, -5.4778, -5.5778, -5.6684, -5.7622, -5.8512, -5.6086, -5.8425, -5.6686, -5.8322, -5.8739, -5.777, -5.9755, -5.9588, -5.9829, -6.0001, -6.1353, -6.1697, -6.1001, -6.2535, -6.3273, -6.3607, -6.3545, -6.1399, -6.2905, -5.7821, -6.0037, -6.1866, -6.2655, -6.1304, -5.0464, -5.1503, -5.0923, -5.1863, -5.7899, -5.7213, -5.4752, -5.7365, -5.7348, -5.7202, -5.6469, -5.7396, -5.7302], \"loglift\": [30.0, 29.0, 28.0, 27.0, 26.0, 25.0, 24.0, 23.0, 22.0, 21.0, 20.0, 19.0, 18.0, 17.0, 16.0, 15.0, 14.0, 13.0, 12.0, 11.0, 10.0, 9.0, 8.0, 7.0, 6.0, 5.0, 4.0, 3.0, 2.0, 1.0, 0.5738, 0.5736, 0.5735, 0.5735, 0.5734, 0.573, 0.573, 0.5729, 0.5729, 0.5728, 0.5728, 0.5727, 0.5727, 0.5727, 0.5727, 0.5726, 0.5726, 0.5726, 0.5726, 0.5725, 0.5725, 0.5724, 0.5724, 0.5724, 0.5724, 0.5723, 0.5723, 0.5722, 0.5722, 0.5722, 0.5694, 0.5685, 0.5709, 0.5696, 0.5699, 0.5705, 0.5698, 0.5363, 0.5361, 0.5462, 0.4875, 0.4654, 0.5224, 0.4193, 0.5027, 0.5123, 0.3936, 0.4568, 0.4838, 0.4193, 0.3788, 0.312, 0.4557, 0.2895, 0.2376, 0.0374, 0.0422, 0.1186, 0.1099, 0.0941, 0.1322, 0.1015, -0.1191, 0.0116, 0.0466, -0.0436, 0.1757, -0.0195, -0.0441, -0.4213, 0.8276, 0.8276, 0.8276, 0.8276, 0.8276, 0.8276, 0.8276, 0.8275, 0.8274, 0.8274, 0.8273, 0.8273, 0.8273, 0.8273, 0.8273, 0.8273, 0.8272, 0.8272, 0.8272, 0.8272, 0.8272, 0.827, 0.827, 0.827, 0.8269, 0.8269, 0.8268, 0.8268, 0.8268, 0.8268, 0.8264, 0.8254, 0.8266, 0.8268, 0.819, 0.5871, 0.4903, 0.4194, 0.3668, 0.6304, 0.4482, 0.1352, 0.4124, 0.2572, 0.2159, -0.0504, 0.0536, -0.0572]}, \"token.table\": {\"Topic\": [1, 2, 1, 2, 1, 2, 1, 2, 1, 2, 1, 2, 1, 2, 1, 2, 1, 2, 1, 2, 1, 2, 1, 2, 1, 2, 1, 2, 1, 2, 1, 2, 1, 2, 1, 2, 1, 2, 1, 2, 1, 2, 1, 2, 1, 2, 1, 2, 1, 2, 1, 2, 1, 2, 1, 2, 1, 2, 1, 2, 1, 2, 1, 2, 1, 2, 1, 2, 1, 2, 1, 2, 1, 2, 1, 2, 1, 2, 1, 2, 1, 2, 1, 2, 1, 2, 1, 2, 1, 2, 1, 2, 1, 2, 1, 2, 1, 2, 1, 2, 1, 2, 1, 2, 1, 2, 1, 2, 1, 2, 1, 2, 1, 2, 1, 2, 1, 2, 1, 2, 1, 2, 1, 2, 1, 2, 1, 2, 1, 2, 1, 2, 1, 2, 1, 2, 1, 2, 1, 2, 1, 2, 1, 2, 1, 2, 1, 2, 1, 2, 1, 2, 1, 2, 1, 2, 1, 2, 1, 2, 1, 2, 1, 2, 1, 2, 1, 2, 1, 2, 1, 2, 1, 2, 1, 2, 1, 2, 1, 2, 1, 2, 1, 2, 1, 2, 1, 2, 1, 2, 1, 2, 1, 2, 1, 2, 1, 2, 1, 2, 1, 2, 1, 2, 1, 2, 1, 2, 1, 2, 1, 2, 1, 2, 1, 2, 1, 2, 1, 2, 1, 2, 1, 2, 1, 2], \"Freq\": [0.9990762337951612, 0.001970564563698543, 0.9999425594231176, 0.0013907406946079522, 0.36942132785245446, 0.6305306433502625, 0.0011689719413249704, 0.9994710098328498, 0.002253451545082155, 0.9982790344713945, 0.002310585613175477, 0.998172984891806, 0.9985563896813351, 0.0029369305578862796, 0.0024633695263939245, 0.9976646581895395, 0.0016589446302032946, 0.9986846673823834, 0.9627773894862425, 0.03724477328766895, 0.9489058472677044, 0.04994241301408971, 0.9977877501115331, 0.002267699432071666, 0.9998369319200832, 0.000738432002895187, 0.9987731553789437, 0.0016899714981031197, 0.8226878957858901, 0.1770588693665233, 0.0014899244193449315, 0.9997392853804491, 0.0009946485798873674, 0.9996218227868041, 0.0019874757278314577, 0.9997002910992232, 0.0012411584644286004, 0.9991325638650234, 0.9999024597236461, 0.0011222249828548216, 0.9990533268000453, 0.002510184238191069, 0.0017288199624197113, 0.9992579382785931, 0.6282885281867308, 0.37166363639215055, 0.9988787317242699, 0.002395392642024628, 0.8564904980813567, 0.14354293443416677, 0.8966834266397998, 0.10321009237241777, 0.9980773495566946, 0.0026474200253493226, 0.5390837751658449, 0.46101805173817983, 0.0019103447925745874, 0.9991103265165092, 0.9972363800337648, 0.003426929141009501, 0.584709559924589, 0.41555783058543755, 0.0008470953313431023, 0.9995724909848608, 0.009767478098424846, 0.9904222791802794, 0.0008426646019623255, 0.999400217927318, 0.9983975003421561, 0.002332704440051767, 0.8559602860831912, 0.14323297959892758, 0.49972316471236444, 0.5002351761516189, 0.45811371411318474, 0.5417939281462433, 0.9968624534511026, 0.0031446765093094717, 0.9990534880787311, 0.001761999097140619, 0.0023972920218442583, 0.9996707731090556, 0.9135908436715651, 0.08653577867075384, 0.0014770796463588177, 0.9985058409385608, 0.5876587009255949, 0.41266942170749105, 0.2142972434049435, 0.7859312105315776, 0.9310995263888409, 0.06917529913735816, 0.9992103954434807, 0.001768513974236249, 0.6189596979392987, 0.38145962091650243, 0.9986671025770256, 0.0035040950967614934, 0.972886724977603, 0.028079922452664264, 0.9960195501640676, 0.005574736288231722, 0.6230687198784471, 0.3765147091518149, 0.5896891927165806, 0.410339935286804, 0.5390704696948754, 0.4611579408717879, 0.0020821085283202227, 0.9994120935937068, 0.6425306325006731, 0.357469592696104, 0.001363124362301574, 0.9991701575670537, 0.002048029411496084, 0.9994383528100891, 0.0014617776994549608, 0.9998559464271931, 0.2865436198827891, 0.7134566741832981, 0.6714829775900567, 0.3284146527109263, 0.9983212807893677, 0.001392358829552814, 0.9395488598689467, 0.060563254033364156, 0.999331257106264, 0.001563898680917471, 0.8350306027024184, 0.1648941754363725, 0.9980371973538797, 0.002507631149130351, 0.9977782825339199, 0.0021274590245925797, 0.9971366564672005, 0.004748269792700955, 0.7694982793665384, 0.23047042061815534, 0.633755006961292, 0.3658650526673837, 0.999665800422231, 0.001051173291716331, 0.0009065813296146918, 0.9990526252353904, 0.9995826334105458, 0.0022412166668397886, 0.34040892063413936, 0.6597616193733835, 0.996432541458775, 0.0040670715977909186, 0.9957681220676501, 0.004822121656501937, 0.9959705724129191, 0.0039057669506388985, 0.9989881544933841, 0.003232971373764997, 0.0007400615910650869, 0.9998232095289324, 0.0024786905523037227, 0.9989122925784003, 0.9939068462660302, 0.005951538001592996, 0.7145052782316006, 0.2855015833102084, 0.001699521541591441, 0.9993186664557674, 0.9984690260933032, 0.002894113119111024, 0.9984121969360062, 0.0038400469112923317, 0.0015239714233136583, 0.9997252536937599, 0.0016868895473469848, 0.9986386120294151, 0.9979843669062364, 0.0030519399599579096, 0.0013891561181265106, 0.9988032489329611, 0.0013832324726623967, 0.9986938452622505, 0.0011337371067455474, 0.9988223910428272, 0.9954001994560427, 0.004138878168216394, 0.888494467615722, 0.11123136846486903, 0.17953168830918628, 0.8205518831054475, 0.0034640708593803994, 0.997652407501555, 0.8888893997535369, 0.11126071894627043, 0.0022269883703306633, 0.9999177782784678, 0.9955161666208262, 0.004827915454029225, 0.0007564203395696826, 0.9992312685715509, 0.0010258616428644714, 0.9991892401499952, 0.31615054279326404, 0.6842465005497272, 0.9979508382740708, 0.002819070164616019, 0.5522497825215615, 0.44799854806596057, 0.9979162977642246, 0.0026055255816298294, 0.7519099199205314, 0.24808779278733917, 0.9988559188766717, 0.003191232967657098, 0.3353875865462225, 0.6642808076544823, 0.0019788101449648805, 0.9992991232072647, 0.0012411005356862065, 0.9990859312273962, 0.5695148922276492, 0.4300684540849525, 0.9621618050679409, 0.03794785745178902, 0.4349294244526328, 0.5646583734704008, 0.9166855592954771, 0.08299518522169491], \"Term\": [\"answer\", \"answer\", \"appointment\", \"appointment\", \"bad\", \"bad\", \"bar\", \"bar\", \"bartender\", \"bartender\", \"beer\", \"beer\", \"book\", \"book\", \"bread\", \"bread\", \"burger\", \"burger\", \"business\", \"business\", \"buy\", \"buy\", \"cancel\", \"cancel\", \"car\", \"car\", \"card\", \"card\", \"charge\", \"charge\", \"cheese\", \"cheese\", \"chicken\", \"chicken\", \"coffee\", \"coffee\", \"cold\", \"cold\", \"company\", \"company\", \"contact\", \"contact\", \"cook\", \"cook\", \"could\", \"could\", \"credit\", \"credit\", \"customer\", \"customer\", \"day\", \"day\", \"desk\", \"desk\", \"didnt\", \"didnt\", \"dinner\", \"dinner\", \"doctor\", \"doctor\", \"dont\", \"dont\", \"drink\", \"drink\", \"dry\", \"dry\", \"eat\", \"eat\", \"email\", \"email\", \"employee\", \"employee\", \"even\", \"even\", \"ever\", \"ever\", \"fee\", \"fee\", \"fix\", \"fix\", \"flavor\", \"flavor\", \"front\", \"front\", \"fry\", \"fry\", \"give\", \"give\", \"good\", \"good\", \"help\", \"help\", \"hotel\", \"hotel\", \"hour\", \"hour\", \"insurance\", \"insurance\", \"issue\", \"issue\", \"job\", \"job\", \"know\", \"know\", \"leave\", \"leave\", \"look\", \"look\", \"lunch\", \"lunch\", \"manager\", \"manager\", \"meal\", \"meal\", \"meat\", \"meat\", \"menu\", \"menu\", \"minute\", \"minute\", \"money\", \"money\", \"month\", \"month\", \"move\", \"move\", \"nail\", \"nail\", \"need\", \"need\", \"number\", \"number\", \"office\", \"office\", \"online\", \"online\", \"pay\", \"pay\", \"people\", \"people\", \"phone\", \"phone\", \"pizza\", \"pizza\", \"purchase\", \"purchase\", \"really\", \"really\", \"refund\", \"refund\", \"refuse\", \"refuse\", \"rent\", \"rent\", \"repair\", \"repair\", \"restaurant\", \"restaurant\", \"rice\", \"rice\", \"room\", \"room\", \"rude\", \"rude\", \"salad\", \"salad\", \"sale\", \"sale\", \"salon\", \"salon\", \"sandwich\", \"sandwich\", \"sauce\", \"sauce\", \"schedule\", \"schedule\", \"seat\", \"seat\", \"serve\", \"serve\", \"server\", \"server\", \"shop\", \"shop\", \"show\", \"show\", \"sit\", \"sit\", \"slow\", \"slow\", \"stay\", \"stay\", \"steak\", \"steak\", \"store\", \"store\", \"table\", \"table\", \"taste\", \"taste\", \"terrible\", \"terrible\", \"tire\", \"tire\", \"try\", \"try\", \"unprofessional\", \"unprofessional\", \"use\", \"use\", \"vehicle\", \"vehicle\", \"wait\", \"wait\", \"waiter\", \"waiter\", \"waitress\", \"waitress\", \"want\", \"want\", \"week\", \"week\", \"well\", \"well\", \"work\", \"work\"]}, \"R\": 30, \"lambda.step\": 0.01, \"plot.opts\": {\"xlab\": \"PC1\", \"ylab\": \"PC2\"}, \"topic.order\": [1, 2]};\n",
       "\n",
       "function LDAvis_load_lib(url, callback){\n",
       "  var s = document.createElement('script');\n",
       "  s.src = url;\n",
       "  s.async = true;\n",
       "  s.onreadystatechange = s.onload = callback;\n",
       "  s.onerror = function(){console.warn(\"failed to load library \" + url);};\n",
       "  document.getElementsByTagName(\"head\")[0].appendChild(s);\n",
       "}\n",
       "\n",
       "if(typeof(LDAvis) !== \"undefined\"){\n",
       "   // already loaded: just create the visualization\n",
       "   !function(LDAvis){\n",
       "       new LDAvis(\"#\" + \"ldavis_el7798419410505122538455405\", ldavis_el7798419410505122538455405_data);\n",
       "   }(LDAvis);\n",
       "}else if(typeof define === \"function\" && define.amd){\n",
       "   // require.js is available: use it to load d3/LDAvis\n",
       "   require.config({paths: {d3: \"https://d3js.org/d3.v5\"}});\n",
       "   require([\"d3\"], function(d3){\n",
       "      window.d3 = d3;\n",
       "      LDAvis_load_lib(\"https://cdn.jsdelivr.net/gh/bmabey/pyLDAvis@3.4.0/pyLDAvis/js/ldavis.v3.0.0.js\", function(){\n",
       "        new LDAvis(\"#\" + \"ldavis_el7798419410505122538455405\", ldavis_el7798419410505122538455405_data);\n",
       "      });\n",
       "    });\n",
       "}else{\n",
       "    // require.js not available: dynamically load d3 & LDAvis\n",
       "    LDAvis_load_lib(\"https://d3js.org/d3.v5.js\", function(){\n",
       "         LDAvis_load_lib(\"https://cdn.jsdelivr.net/gh/bmabey/pyLDAvis@3.4.0/pyLDAvis/js/ldavis.v3.0.0.js\", function(){\n",
       "                 new LDAvis(\"#\" + \"ldavis_el7798419410505122538455405\", ldavis_el7798419410505122538455405_data);\n",
       "            })\n",
       "         });\n",
       "}\n",
       "</script>"
      ],
      "text/plain": [
       "<IPython.core.display.HTML object>"
      ]
     },
     "execution_count": 25,
     "metadata": {},
     "output_type": "execute_result"
    }
   ],
   "source": [
    "panel_tfidf = lda_model.prepare(best_model_tfidf, tfidf, vectorizer_tfidf, mds='tsne')\n",
    "pyLDAvis.display(panel_tfidf)"
   ]
  },
  {
   "cell_type": "markdown",
   "metadata": {},
   "source": [
    "## Pipeline"
   ]
  },
  {
   "cell_type": "markdown",
   "metadata": {},
   "source": [
    "Modularité du pipeline : \n",
    "- Dagster \n",
    "- Airflow\n",
    "- Spark : contraintes de rapidité\n",
    "\n",
    "Création d'une class homemade pour structurer le code.\n",
    "\n",
    "Nouveau comm : probabilité d'appartenance à chaque topic --> Choix du topic"
   ]
  },
  {
   "cell_type": "markdown",
   "metadata": {},
   "source": [
    "Page web : \n",
    "Dashboard : zone de texte + bouton -> prediction du topic associé (Streamlit)\n",
    "API : récupération des commentaires (graphql, requests ?)\n",
    "- Requête 1 : Liste des restaurants choisi\n",
    "- Requête 2 : Récupérer les reviews"
   ]
  },
  {
   "cell_type": "code",
   "execution_count": null,
   "metadata": {},
   "outputs": [],
   "source": [
    "pipeline.transform(new_data)"
   ]
  },
  {
   "cell_type": "code",
   "execution_count": null,
   "metadata": {},
   "outputs": [],
   "source": [
    "class CleanCommentTransformer(BaseEstimator, TransformerMixin):\n",
    "    def fit(self, X, y=None):\n",
    "        return self\n",
    "    \n",
    "    def transform(self, X):\n",
    "        return X.apply(clean_comment)\n",
    "\n",
    "class TokenizeTransformer(BaseEstimator, TransformerMixin):\n",
    "    def fit(self, X, y=None):\n",
    "        return self\n",
    "    \n",
    "    def transform(self, X):\n",
    "        return X.apply(tokenize_comment)\n",
    "\n",
    "class RemoveStopwordsTransformer(BaseEstimator, TransformerMixin):\n",
    "    def fit(self, X, y=None):\n",
    "        return self\n",
    "    \n",
    "    def transform(self, X):\n",
    "        return X.apply(delete_stopwords)\n",
    "\n",
    "class LemmatizeTransformer(BaseEstimator, TransformerMixin):\n",
    "    def fit(self, X, y=None):\n",
    "        return self\n",
    "    \n",
    "    def transform(self, X):\n",
    "        return X.apply(lemmatized_tokens)"
   ]
  },
  {
   "cell_type": "code",
   "execution_count": null,
   "metadata": {},
   "outputs": [],
   "source": [
    "class BOWTransformer(BaseEstimator, TransformerMixin):\n",
    "    def __init__(self, max_features=5000):\n",
    "        self.max_features = max_features\n",
    "        self.vectorizer = None\n",
    "\n",
    "    def fit(self, X, y=None):\n",
    "        self.vectorizer = CountVectorizer(max_features=self.max_features)\n",
    "        self.vectorizer.fit(X.apply(\" \".join))\n",
    "        return self\n",
    "\n",
    "    def transform(self, X):\n",
    "        return self.vectorizer.transform(X.apply(\" \".join))\n",
    "\n",
    "class TFIDFTransformer(BaseEstimator, TransformerMixin):\n",
    "    def __init__(self, max_features=5000):\n",
    "        self.max_features = max_features\n",
    "        self.vectorizer = None\n",
    "\n",
    "    def fit(self, X, y=None):\n",
    "        self.vectorizer = TfidfVectorizer(max_features=self.max_features)\n",
    "        self.vectorizer.fit(X.apply(\" \".join))\n",
    "        return self\n",
    "\n",
    "    def transform(self, X):\n",
    "        return self.vectorizer.transform(X.apply(\" \".join))"
   ]
  },
  {
   "cell_type": "code",
   "execution_count": null,
   "metadata": {},
   "outputs": [],
   "source": [
    "# Pipeline pour le prétraitement textuel\n",
    "preprocessing_pipeline = Pipeline([\n",
    "    ('clean', CleanCommentTransformer()),\n",
    "    ('tokenize', TokenizeTransformer()),\n",
    "    ('remove_stopwords', RemoveStopwordsTransformer()),\n",
    "    ('lemmatize', LemmatizeTransformer()),\n",
    "    # Ajouter ici les autres transformateurs personnalisés si nécessaire\n",
    "])\n",
    "\n",
    "# Pipeline complet avec BoW ou TF-IDF et LDA\n",
    "bow_lda_pipeline = Pipeline([\n",
    "    ('preprocessing', preprocessing_pipeline),\n",
    "    ('bow', BOWTransformer()),\n",
    "    ('lda', LatentDirichletAllocation(n_components=10, random_state=0))\n",
    "])\n",
    "\n",
    "tfidf_lda_pipeline = Pipeline([\n",
    "    ('preprocessing', preprocessing_pipeline),\n",
    "    ('tfidf', TFIDFTransformer()),\n",
    "    ('lda', LatentDirichletAllocation(n_components=10, random_state=0))\n",
    "])"
   ]
  },
  {
   "cell_type": "markdown",
   "metadata": {},
   "source": [
    "<a id=\"section3\"></a>\n",
    "# 3. Classement d'images non supervisé"
   ]
  },
  {
   "cell_type": "markdown",
   "metadata": {},
   "source": [
    "<a id=\"section31\"></a>\n",
    "## 3.1. Chargement des données"
   ]
  },
  {
   "cell_type": "code",
   "execution_count": null,
   "metadata": {},
   "outputs": [],
   "source": [
    "img_folder = Path(\"/Users/matthieudridi/Documents/OpenClassrooms_Ingénieur IA/Improve_your_AI_product/yelp_photos/photos\")\n",
    "img_folder_sample = img_folder / \"sample\"\n",
    "img_folder_sample.mkdir(exist_ok=True)\n",
    "dest_path = img_folder_sample / \"processed_images\"\n",
    "ssl._create_default_https_context = ssl._create_unverified_context"
   ]
  },
  {
   "cell_type": "code",
   "execution_count": null,
   "metadata": {},
   "outputs": [],
   "source": [
    "photo = pd.read_json(\"/Users/matthieudridi/Documents/OpenClassrooms_Ingénieur IA/Improve_your_AI_product/yelp_photos/photos.json\", lines=True)"
   ]
  },
  {
   "cell_type": "code",
   "execution_count": 39,
   "metadata": {},
   "outputs": [],
   "source": [
    "checkin = pd.read_json(\"../data/raw/yelp_dataset/yelp_academic_dataset_checkin.json\", lines=True)\n",
    "review = pd.read_json(\"../data/raw/yelp_dataset/yelp_academic_dataset_review.json\", lines=True)\n",
    "tip = pd.read_json(\"../data/raw/yelp_dataset/yelp_academic_dataset_tip.json\", lines=True)\n",
    "user = pd.read_json(\"../data/raw/yelp_dataset/yelp_academic_dataset_user.json\", lines=True)"
   ]
  },
  {
   "cell_type": "markdown",
   "metadata": {},
   "source": [
    "<a id=\"section32\"></a>\n",
    "## 3.2. Preprocessing des données"
   ]
  },
  {
   "cell_type": "code",
   "execution_count": null,
   "metadata": {},
   "outputs": [],
   "source": [
    "LABELS = list(photo['label'].unique())"
   ]
  },
  {
   "cell_type": "code",
   "execution_count": null,
   "metadata": {},
   "outputs": [],
   "source": [
    "def select_and_copy_images(dataframe, source_path:Path, dest_path:Path, num_images:int):\n",
    "    sample = pd.DataFrame(columns=dataframe.columns)\n",
    "\n",
    "    for label in dataframe['label'].unique():\n",
    "        sample = pd.concat([sample, dataframe.loc[dataframe['label']==label,:].sample(n=num_images)])\n",
    "    \n",
    "    print(f\"Taille de l'échantillon : {len(sample)}\")\n",
    "\n",
    "    # Copying selected images to sample folder\n",
    "    for img in source_path.glob('*.jpg'):\n",
    "        if img.stem in sample['photo_id'].to_list():\n",
    "            shutil.copyfile(img, dest_path / img.name)\n",
    "            sample.loc[sample['photo_id'] == img.stem, 'path'] = str(img)\n",
    "    \n",
    "    return sample\n",
    "\n",
    "def jpg_to_png(img_path:Path) -> Path:\n",
    "    # Create png dir if not exist\n",
    "    png_folder = img_path.parent / \"png_img\"\n",
    "    png_folder.mkdir(exist_ok=True)\n",
    "    \n",
    "    # Log error file if not exist\n",
    "    log_error_file = png_folder / \"log_errors.txt\" \n",
    "    log_error_file.touch(exist_ok=True)\n",
    "\n",
    "    if img_path.suffix == '.jpg':\n",
    "        try:\n",
    "            with Image.open(img_path) as img:\n",
    "                png_img = img_path.stem + \".png\"\n",
    "                img.save(png_folder / png_img, \"PNG\")\n",
    "                png_img = Path(png_folder.absolute() / png_img)\n",
    "                return png_img\n",
    "        except IOError as e:\n",
    "            with open(log_error_file, 'a') as file:\n",
    "                file.write(f\"Impossible de traiter l'image {img_path.name}: {e}\")\n",
    "\n",
    "    else:\n",
    "        return img_path\n",
    "    \n",
    "def process_images(directory:Path, batch_size=100):\n",
    "    # Get the list of images\n",
    "    images = list(directory.glob('*.jpg'))\n",
    "\n",
    "    # Create destination dir if not exist\n",
    "    dest_folder = directory / \"processed_images\"\n",
    "    dest_folder.mkdir(exist_ok=True)\n",
    "\n",
    "    # Create file for record errors if not exist\n",
    "    error_file = dest_folder / \"errors.txt\"   \n",
    "    error_file.touch(exist_ok=True)\n",
    "\n",
    "    for i in range(0, len(images), batch_size):\n",
    "        for img_path in images[i: i + batch_size]:\n",
    "\n",
    "            # Conversion to png if necessary\n",
    "            img_path = jpg_to_png(img_path)\n",
    "\n",
    "            try:\n",
    "                img = Image.open(img_path)\n",
    "                img.verify()\n",
    "            except (UnidentifiedImageError, IOError):\n",
    "                with open(error_file, 'a') as file:\n",
    "                    file.write(f\"Le fichier {img_path} n'a pas pu être identifié comme une image valide.\")\n",
    "                continue\n",
    "            \n",
    "            img = Image.open(img_path)\n",
    "\n",
    "            # Median filter --> Gaussien filter instead\n",
    "            img = img.filter(ImageFilter.MedianFilter(size=3))\n",
    "\n",
    "            # Equalize histogram\n",
    "            img = ImageOps.equalize(img)\n",
    "\n",
    "            # Path destination\n",
    "            dest_path = dest_folder / img_path.name\n",
    "\n",
    "            # Save image processed\n",
    "            img.save(dest_path)\n",
    "\n",
    "            # Free memory\n",
    "            img.close()\n",
    "\n",
    "def sift_features(directory:Path, batch_size=100):\n",
    "    destination_path = directory / 'sift'\n",
    "    destination_path.mkdir(exist_ok=True)\n",
    "    \n",
    "    # Create SIFT detector\n",
    "    sift = cv2.SIFT_create()\n",
    "\n",
    "    batch_num = 0\n",
    "    batch_descriptors = list()\n",
    "    images_files = list(directory.glob('*.png'))\n",
    "    total_images = len(images_files)\n",
    "    images_processed = 0\n",
    "    image_names = list()\n",
    "\n",
    "    # Pour le diagnostic\n",
    "    descriptor_count = {}\n",
    "\n",
    "    # Iterate over all images\n",
    "    for i, img_path in enumerate(images_files):\n",
    "        img = cv2.imread(str(img_path), cv2.IMREAD_GRAYSCALE)\n",
    "        keypoints, descriptors = sift.detectAndCompute(img, None)\n",
    "\n",
    "        if descriptors is not None:\n",
    "            batch_descriptors.extend(descriptors)\n",
    "            for _ in range(len(descriptors)):\n",
    "                image_names.append(img_path.stem)\n",
    "\n",
    "            # Ajout dans le dictionnaire pour le diagnostic\n",
    "            descriptor_count[img_path.stem] = len(descriptors)\n",
    "\n",
    "            images_processed += 1\n",
    "        \n",
    "        if images_processed >= batch_size or i == total_images - 1:\n",
    "            # Concatenate all numpy array in batch_descriptors in one numpy array\n",
    "            descriptors_to_save = np.vstack(batch_descriptors)\n",
    "            descriptor_path = destination_path / f\"descriptors_batch_{batch_num}.npy\"\n",
    "            image_names_path = destination_path / f\"images_names_batch_{batch_num}.npy\"\n",
    "            np.save(image_names_path, np.array(image_names))\n",
    "            np.save(descriptor_path, descriptors_to_save)\n",
    "            batch_descriptors = list()\n",
    "            images_processed = 0\n",
    "            batch_num += 1\n",
    "            image_names = list()\n",
    "\n",
    "    # # Afficher les statistiques de descripteurs\n",
    "    # print(\"Nombre de descripteurs par image :\")\n",
    "    # for photo_id, count in descriptor_count.items():\n",
    "    #     print(f\"{photo_id}: {count}\")\n",
    "\n",
    "    return batch_num\n",
    "\n",
    "def load_descriptors(directory:Path):\n",
    "    descriptor_files = list(directory.glob('descriptors_batch_*.npy'))\n",
    "\n",
    "    all_descriptors = [np.load(file) for file in descriptor_files]\n",
    "\n",
    "    all_descriptors_stacked = np.vstack(all_descriptors)\n",
    "\n",
    "    return all_descriptors_stacked\n",
    "\n",
    "def elbow_method(descriptors, range_n_clusters):\n",
    "    inertia = list()\n",
    "\n",
    "    for n_clusters in range_n_clusters:\n",
    "        kmeans = KMeans(n_clusters=n_clusters, random_state=42)\n",
    "        kmeans.fit(descriptors)\n",
    "        inertia.append(kmeans.inertia_)\n",
    "\n",
    "    plt.figure(figsize=(8, 4))\n",
    "    plt.plot(range_n_clusters, inertia, 'bo-')\n",
    "    plt.xlabel('Number of Clusters (k)')\n",
    "    plt.ylabel('Inertia')\n",
    "    plt.title('Elbow Method For Optimal k')\n",
    "    plt.show()\n",
    "\n",
    "def apply_pca_and_kmean(descriptors, n_components=None, n_clusters=100):\n",
    "    # Descriptors normalisation before ACP\n",
    "    scaler = StandardScaler()\n",
    "    descriptors_scaled = scaler.fit_transform(descriptors)\n",
    "\n",
    "    # Apply ACP\n",
    "    pca = PCA(n_components=n_components, random_state=42)\n",
    "    descriptors_pca = pca.fit_transform(descriptors_scaled)\n",
    "\n",
    "    # Apply Kmeans\n",
    "    kmeans = KMeans(n_clusters=n_clusters, random_state=42)\n",
    "    kmeans.fit(descriptors_pca)\n",
    "\n",
    "    return pca, kmeans, kmeans.cluster_centers_, descriptors_pca\n",
    "\n",
    "def create_photo_cluster_table(directory, kmeans_labels):\n",
    "    # Load images\n",
    "    image_names_files = list(Path(directory).glob('images_names_batch_*.npy'))\n",
    "    image_names = [np.load(file) for file in image_names_files]\n",
    "    image_names = np.concatenate(image_names)\n",
    "\n",
    "    # Create Dataframe\n",
    "    photo_cluster_df = pd.DataFrame({\n",
    "        'photo_id' : image_names,\n",
    "        'cluster_label' : kmeans_labels\n",
    "    })\n",
    "    \n",
    "    # Get the most frequent cluster by photo\n",
    "    photo_cluster_df = photo_cluster_df.groupby('photo_id')['cluster_label'].agg(lambda x: x.value_counts().index[0])\n",
    "\n",
    "    # Reset index to turn the Series back into a DataFrame\n",
    "    photo_cluster_df = photo_cluster_df.reset_index()\n",
    "\n",
    "    return photo_cluster_df"
   ]
  },
  {
   "cell_type": "code",
   "execution_count": null,
   "metadata": {},
   "outputs": [],
   "source": [
    "photo_sample = select_and_copy_images(photo, img_folder, img_folder_sample, 200)"
   ]
  },
  {
   "cell_type": "code",
   "execution_count": null,
   "metadata": {},
   "outputs": [],
   "source": [
    "process_images(img_folder_sample)"
   ]
  },
  {
   "cell_type": "code",
   "execution_count": null,
   "metadata": {},
   "outputs": [],
   "source": [
    "batch_sift = sift_features(dest_path)"
   ]
  },
  {
   "cell_type": "markdown",
   "metadata": {},
   "source": []
  },
  {
   "cell_type": "code",
   "execution_count": null,
   "metadata": {},
   "outputs": [],
   "source": [
    "img_folder_sample_sift = dest_path / \"sift\""
   ]
  },
  {
   "cell_type": "code",
   "execution_count": null,
   "metadata": {},
   "outputs": [],
   "source": [
    "# Load descriptors and train KMeans with k = 5 because we have 5 categories of photo\n",
    "descriptors = load_descriptors(img_folder_sample_sift)\n",
    "pca_model, kmeans_model, cluster_center, descriptors_pca = apply_pca_and_kmean(descriptors, n_components=0.80, n_clusters=5)"
   ]
  },
  {
   "cell_type": "code",
   "execution_count": null,
   "metadata": {},
   "outputs": [],
   "source": [
    "elbow_method(descriptors, range(2,10));"
   ]
  },
  {
   "cell_type": "code",
   "execution_count": null,
   "metadata": {},
   "outputs": [],
   "source": [
    "photo_cluster_df = create_photo_cluster_table(img_folder_sample_sift, kmeans_model.labels_)"
   ]
  },
  {
   "cell_type": "code",
   "execution_count": null,
   "metadata": {},
   "outputs": [],
   "source": [
    "encoder = LabelEncoder()\n",
    "photo['label_numeric'] = encoder.fit_transform(photo['label'])\n",
    "comparison_df = photo_cluster_df.merge(photo[['photo_id','label_numeric']], left_on='photo_id', right_on='photo_id')\n",
    "#cluster_mod = comparison_df.groupby('cluster_label')['label_numeric'].agg(lambda x: x.mode()[0])\n",
    "#comparison_df['predicted_category'] = comparison_df['cluster_label'].map(cluster_mod)"
   ]
  },
  {
   "cell_type": "code",
   "execution_count": null,
   "metadata": {},
   "outputs": [],
   "source": [
    "# Utilisation de la fonction crosstab pour créer la matrice de correspondance\n",
    "correspondence_matrix = pd.crosstab(comparison_df['label_numeric'], comparison_df['cluster_label'])\n",
    "\n",
    "# Affichage de la matrice de correspondance\n",
    "print(correspondence_matrix)\n",
    "\n",
    "# Visualisation de la matrice de correspondance en tant que heatmap\n",
    "sns.set(context='talk', style='whitegrid')\n",
    "plt.figure(figsize=(10,8))\n",
    "sns.heatmap(correspondence_matrix, annot=True, fmt='d', cmap='Blues')\n",
    "plt.xlabel('Cluster Labels')\n",
    "plt.ylabel('True Labels')\n",
    "plt.title('Correspondence Matrix Heatmap')\n",
    "plt.show();"
   ]
  },
  {
   "cell_type": "code",
   "execution_count": null,
   "metadata": {},
   "outputs": [],
   "source": [
    "#conf_matrix = confusion_matrix(comparison_df['label_numeric'], comparison_df['predicted_category'])\n",
    "\n",
    "# labels = encoder.classes_\n",
    "# sns.set(context='talk', style='whitegrid')\n",
    "# plt.figure(figsize=(10,8))\n",
    "# sns.heatmap(conf_matrix, annot=True, fmt='d', cmap='Blues', xticklabels=labels, yticklabels=labels)\n",
    "# plt.title('Matrice de Confusion')\n",
    "# plt.xlabel('Prédictions')\n",
    "# plt.ylabel('Véritables Étiquettes')\n",
    "# plt.show()"
   ]
  },
  {
   "cell_type": "code",
   "execution_count": null,
   "metadata": {},
   "outputs": [],
   "source": [
    "ari_score = adjusted_rand_score(comparison_df['label_numeric'], comparison_df['cluster_label'])\n",
    "print(\"Adjusted Rand Index:\", ari_score)"
   ]
  },
  {
   "cell_type": "code",
   "execution_count": null,
   "metadata": {},
   "outputs": [],
   "source": [
    "pca_model, kmeans_model, cluster_center, descriptors_pca = apply_pca_and_kmean(descriptors, n_components=0.80, n_clusters=5)\n"
   ]
  },
  {
   "cell_type": "code",
   "execution_count": null,
   "metadata": {},
   "outputs": [],
   "source": [
    "def visualize_clusters_with_tsne(descriptors_pca, kmeans_labels, perplexity=30, n_iter=1000):\n",
    "    # Apply t-SNE on descriptors\n",
    "    tsne = TSNE(n_components=2, perplexity=perplexity, n_iter=n_iter, random_state=42)\n",
    "    descriptors_tsne = tsne.fit_transform(descriptors_pca)\n",
    "\n",
    "    # Visualisation\n",
    "    plt.figure(figsize=(10, 10))\n",
    "    unique_labels = np.unique(kmeans_labels)\n",
    "    for label in unique_labels:\n",
    "        cluster_descriptors = descriptors_tsne[kmeans_labels == label]\n",
    "        plt.scatter(cluster_descriptors[:, 0], cluster_descriptors[:, 1], label=f'Cluster {label}')"
   ]
  },
  {
   "cell_type": "code",
   "execution_count": null,
   "metadata": {},
   "outputs": [],
   "source": [
    "# Avec 5 clusters\n",
    "#visualize_clusters_with_tsne(descriptors_pca, kmeans_model.labels_)"
   ]
  },
  {
   "cell_type": "markdown",
   "metadata": {},
   "source": [
    "# CNN unsupervised"
   ]
  },
  {
   "cell_type": "code",
   "execution_count": null,
   "metadata": {},
   "outputs": [],
   "source": [
    "# Diviser le DataFrame de manière stratifiée\n",
    "train_df, validation_df = train_test_split(\n",
    "    photo_sample, \n",
    "    test_size=0.2,\n",
    "    stratify=photo_sample['label'],\n",
    "    random_state=42\n",
    ")"
   ]
  },
  {
   "cell_type": "code",
   "execution_count": null,
   "metadata": {},
   "outputs": [],
   "source": [
    "# Set paths for architecture folder\n",
    "cnn_folder = Path(\"/Users/matthieudridi/Documents/OpenClassrooms_Ingénieur IA/Improve_your_AI_product/yelp_photos/photos/cnn\")\n",
    "cnn_folder.mkdir(exist_ok=True)\n",
    "\n",
    "train_folder = Path(\"/Users/matthieudridi/Documents/OpenClassrooms_Ingénieur IA/Improve_your_AI_product/yelp_photos/photos/cnn/train\")\n",
    "train_folder.mkdir(exist_ok=True)\n",
    "\n",
    "validation_folder = Path(\"/Users/matthieudridi/Documents/OpenClassrooms_Ingénieur IA/Improve_your_AI_product/yelp_photos/photos/cnn/validation\")\n",
    "validation_folder.mkdir(exist_ok=True)\n",
    "\n",
    "# Copy images\n",
    "for label in LABELS :\n",
    "    train_label_path = train_folder / label\n",
    "    train_label_path.mkdir(exist_ok=True)\n",
    "    validation_label_path = validation_folder / label\n",
    "    validation_label_path.mkdir(exist_ok=True)\n",
    "\n",
    "    for img in img_folder.glob('*.jpg'):\n",
    "        if img.stem in train_df['photo_id'].to_list() and train_df.loc[train_df['photo_id']==img.stem,'label'].values == label:\n",
    "            shutil.copyfile(img, train_label_path / img.name)\n",
    "        elif img.stem in validation_df['photo_id'].to_list() and validation_df.loc[validation_df['photo_id']==img.stem,'label'].values == label:\n",
    "            shutil.copyfile(img, validation_label_path / img.name)"
   ]
  },
  {
   "cell_type": "code",
   "execution_count": null,
   "metadata": {},
   "outputs": [],
   "source": [
    "#shutil.rmtree(train_folder)\n",
    "#shutil.rmtree(validation_folder)"
   ]
  },
  {
   "cell_type": "code",
   "execution_count": null,
   "metadata": {},
   "outputs": [],
   "source": [
    "# Charger VGG-16 pré-entraîné sur ImageNet et sans les couches fully-connected\n",
    "base_model = VGG16(weights='imagenet', include_top=False, input_shape=(224, 224, 3))"
   ]
  },
  {
   "cell_type": "code",
   "execution_count": null,
   "metadata": {},
   "outputs": [],
   "source": [
    "# Créer un ImageDataGenerator pour le prétraitement\n",
    "datagen = ImageDataGenerator(rescale=1./255)\n",
    "batch_size = 32"
   ]
  },
  {
   "cell_type": "code",
   "execution_count": null,
   "metadata": {},
   "outputs": [],
   "source": [
    "def extract_features(directory, sample_count):\n",
    "    features = np.zeros(shape=(sample_count, 7, 7, 512))\n",
    "    labels = np.zeros(shape=(sample_count, 5))\n",
    "\n",
    "    generator = ImageDataGenerator(rescale=1./255).flow_from_directory(directory,\n",
    "        target_size=(224, 224),\n",
    "        batch_size = batch_size, \n",
    "        class_mode='categorical')\n",
    "    \n",
    "    i = 0\n",
    "    labels_name = list(generator.class_indices.keys())\n",
    "    \n",
    "    for inputs_batch, labels_batch in generator:\n",
    "        features_batch = base_model.predict(inputs_batch)\n",
    "        features[i * batch_size : (i+1) * batch_size] = features_batch\n",
    "        labels[i * batch_size : (i+1) * batch_size] = labels_batch\n",
    "\n",
    "        i += 1\n",
    "        \n",
    "        if i * batch_size >= sample_count:\n",
    "            break\n",
    "\n",
    "    return features, labels, labels_name"
   ]
  },
  {
   "cell_type": "code",
   "execution_count": null,
   "metadata": {},
   "outputs": [],
   "source": [
    "train_features, train_labels, train_labels_name = extract_features(train_folder, 800)"
   ]
  },
  {
   "cell_type": "code",
   "execution_count": null,
   "metadata": {},
   "outputs": [],
   "source": [
    "validation_features, validation_labels, validation_labels_name = extract_features(validation_folder, 200)"
   ]
  },
  {
   "cell_type": "code",
   "execution_count": null,
   "metadata": {},
   "outputs": [],
   "source": [
    "train_features = np.reshape(train_features, (800, 7 * 7 * 512))\n",
    "validation_features = np.reshape(validation_features, (200, 7 * 7 * 512))"
   ]
  },
  {
   "cell_type": "code",
   "execution_count": null,
   "metadata": {},
   "outputs": [],
   "source": [
    "model = Sequential()\n",
    "model.add(Dense(2048, activation='relu', input_dim=7 * 7 * 512))\n",
    "model.add(Dropout(0.5))\n",
    "model.add(Dense(512, activation='relu', input_dim=7 * 7 * 512))\n",
    "model.add(Dropout(0.5))\n",
    "model.add(Dense(128, activation='relu', input_dim=7 * 7 * 512))\n",
    "model.add(Dropout(0.5))\n",
    "model.add(Dense(5, activation='softmax'))"
   ]
  },
  {
   "cell_type": "code",
   "execution_count": null,
   "metadata": {},
   "outputs": [],
   "source": [
    "model.summary()"
   ]
  },
  {
   "cell_type": "code",
   "execution_count": null,
   "metadata": {},
   "outputs": [],
   "source": [
    "model.compile(optimizer='adam',\n",
    "              loss='categorical_crossentropy',\n",
    "              metrics=['accuracy'])"
   ]
  },
  {
   "cell_type": "code",
   "execution_count": null,
   "metadata": {},
   "outputs": [],
   "source": [
    "history = model.fit(train_features, train_labels,\n",
    "                    epochs=25,\n",
    "                    batch_size=16,\n",
    "                    validation_data=(validation_features, validation_labels))"
   ]
  },
  {
   "cell_type": "code",
   "execution_count": null,
   "metadata": {},
   "outputs": [],
   "source": [
    "acc = history.history['accuracy']\n",
    "val_acc = history.history['val_accuracy']\n",
    "loss = history.history['loss']\n",
    "val_loss = history.history['val_loss']\n",
    "epochs = range(1, len(acc) + 1)\n",
    "\n",
    "f, axes = plt.subplots(1,2,figsize=(14,4))\n",
    "\n",
    "axes[0].plot(epochs, acc, 'bo', label='Training accuracy')\n",
    "axes[0].plot(epochs, val_acc, 'b', label='Validation accuracy')\n",
    "axes[0].legend()\n",
    "\n",
    "axes[1].plot(epochs, loss, 'bo', label='Training loss')\n",
    "axes[1].plot(epochs, val_loss, 'b', label='Validation loss')\n",
    "axes[1].yaxis.set_label_position(\"right\")\n",
    "axes[1].legend()\n",
    "\n",
    "plt.show()"
   ]
  },
  {
   "cell_type": "code",
   "execution_count": null,
   "metadata": {},
   "outputs": [],
   "source": [
    "# Prédire les étiquettes pour l'ensemble de validation\n",
    "val_predictions = model.predict(validation_features)\n",
    "val_predicted_labels = np.argmax(val_predictions, axis=1)\n",
    "\n",
    "# Obtenir les vraies étiquettes de l'ensemble de validation\n",
    "true_labels = validation_labels.argmax(1)\n",
    "\n",
    "# Calculer la matrice de confusion\n",
    "conf_matrix = confusion_matrix(true_labels, val_predicted_labels)\n",
    "\n",
    "# Afficher la matrice de confusion\n",
    "sns.set(context='talk', style='whitegrid')\n",
    "plt.figure(figsize=(10,8))\n",
    "sns.heatmap(conf_matrix, annot=True, fmt='d', cmap='Blues', xticklabels=train_labels_name, yticklabels=train_labels_name)\n",
    "plt.title('Matrice de Confusion')\n",
    "plt.xlabel('Prédictions')\n",
    "plt.ylabel('Véritables Étiquettes')\n",
    "plt.show()"
   ]
  },
  {
   "cell_type": "markdown",
   "metadata": {},
   "source": [
    "# CNN"
   ]
  },
  {
   "cell_type": "code",
   "execution_count": null,
   "metadata": {},
   "outputs": [],
   "source": []
  },
  {
   "cell_type": "code",
   "execution_count": null,
   "metadata": {},
   "outputs": [],
   "source": [
    "photo_sample['label'].value_counts()"
   ]
  },
  {
   "cell_type": "code",
   "execution_count": null,
   "metadata": {},
   "outputs": [],
   "source": [
    "# Diviser le DataFrame de manière stratifiée\n",
    "train_df, validation_df = train_test_split(\n",
    "    photo_sample, \n",
    "    test_size=0.2,\n",
    "    stratify=photo_sample['label'],\n",
    "    random_state=42\n",
    ")"
   ]
  },
  {
   "cell_type": "code",
   "execution_count": null,
   "metadata": {},
   "outputs": [],
   "source": [
    "# Créer un ImageDataGenerator pour le prétraitement\n",
    "datagen = ImageDataGenerator(rescale=1./255)\n",
    "\n",
    "# Créer le train_generator avec train_df\n",
    "train_generator = datagen.flow_from_dataframe(\n",
    "    dataframe=train_df,\n",
    "    directory=img_folder_sample,\n",
    "    x_col='path',\n",
    "    y_col='label',\n",
    "    target_size=(224, 224),\n",
    "    batch_size=32,\n",
    "    class_mode='categorical',\n",
    "    shuffle=True\n",
    ")\n",
    "\n",
    "# Créer le validation_generator avec validation_df\n",
    "validation_generator = datagen.flow_from_dataframe(\n",
    "    dataframe=validation_df,\n",
    "    directory=img_folder_sample,\n",
    "    x_col='path',\n",
    "    y_col='label',\n",
    "    target_size=(224, 224),\n",
    "    batch_size=32,\n",
    "    class_mode='categorical',\n",
    "    shuffle=True\n",
    ")"
   ]
  },
  {
   "cell_type": "code",
   "execution_count": null,
   "metadata": {},
   "outputs": [],
   "source": [
    "# Charger VGG-16 pré-entraîné sur ImageNet et sans les couches fully-connected\n",
    "base_model = VGG16(weights='imagenet', include_top=False, input_shape=(224, 224, 3))\n",
    "\n",
    "# Geler les couches du modèle de base pour ne pas les réentraîner\n",
    "for layer in base_model.layers:\n",
    "    layer.trainable = False"
   ]
  },
  {
   "cell_type": "code",
   "execution_count": null,
   "metadata": {},
   "outputs": [],
   "source": [
    "# Créer un modèle séquentiel\n",
    "model = Sequential()\n",
    "\n",
    "# Ajouter le modèle de base\n",
    "model.add(base_model)\n",
    "\n",
    "# Ajouter des nouvelles couches\n",
    "model.add(Flatten())\n",
    "\n",
    "# Ajouter une couche Dense avec régularisation L2\n",
    "model.add(Dense(64, activation='relu', kernel_regularizer=l2(0.01)))\n",
    "\n",
    "# Ajouter une couche Dense avec régularisation L2\n",
    "model.add(Dense(64, activation='relu'))\n",
    "\n",
    "# Augmenter le taux de dropout pour plus de régularisation\n",
    "model.add(Dropout(0.5))\n",
    "\n",
    "# La dernière couche Dense pour la classification finale, pas besoin de régularisation ici\n",
    "model.add(Dense(5, activation='softmax'))"
   ]
  },
  {
   "cell_type": "code",
   "execution_count": null,
   "metadata": {},
   "outputs": [],
   "source": [
    "model.compile(optimizer='adam',\n",
    "              loss='categorical_crossentropy',\n",
    "              metrics=['accuracy'])"
   ]
  },
  {
   "cell_type": "code",
   "execution_count": null,
   "metadata": {},
   "outputs": [],
   "source": [
    "# Obtenir les noms et indices des classes\n",
    "class_indices = train_generator.class_indices\n",
    "class_names = list(class_indices.keys())\n",
    "\n",
    "# Identifier les classes uniques et leurs fréquences dans le générateur\n",
    "unique_classes, class_counts = np.unique(train_generator.classes, return_counts=True)\n",
    "\n",
    "# Calculer les poids pour les classes uniques\n",
    "class_weights = compute_class_weight(\n",
    "    'balanced',\n",
    "    classes=unique_classes,\n",
    "    y=train_generator.classes)\n",
    "\n",
    "# Créer un dictionnaire de poids de classe en fonction des noms de classe\n",
    "class_weights_dict = {class_names[class_idx]: weight for class_idx, weight in zip(unique_classes, class_weights)}\n",
    "\n",
    "# Ajuster les poids de classe en fonction des indices réels\n",
    "adjusted_class_weights = {class_indices[class_name]: weight for class_name, weight in class_weights_dict.items()}\n",
    "\n",
    "# Ajouter manuellement un poids par défaut pour toute classe manquante\n",
    "for class_name, class_index in class_indices.items():\n",
    "    if class_index not in adjusted_class_weights:\n",
    "        adjusted_class_weights[class_index] = np.mean(list(class_weights_dict.values()))\n",
    "\n",
    "# Vérifier les poids ajustés\n",
    "print(adjusted_class_weights)\n"
   ]
  },
  {
   "cell_type": "code",
   "execution_count": null,
   "metadata": {},
   "outputs": [],
   "source": [
    "# Nombre d'époques pour l'entraînement\n",
    "epochs = 10\n",
    "\n",
    "# Entraîner le modèle avec les poids des classes ajustés\n",
    "history = model.fit(\n",
    "    train_generator,\n",
    "    steps_per_epoch=train_generator.samples // train_generator.batch_size,\n",
    "    epochs=epochs,\n",
    "    validation_data=validation_generator,\n",
    "    validation_steps=validation_generator.samples // validation_generator.batch_size,\n",
    "    class_weight=adjusted_class_weights)"
   ]
  },
  {
   "cell_type": "code",
   "execution_count": null,
   "metadata": {},
   "outputs": [],
   "source": [
    "# Tracer l'accuracy d'entraînement et de validation\n",
    "plt.plot(history.history['accuracy'], label='Entraînement')\n",
    "plt.plot(history.history['val_accuracy'], label='Validation')\n",
    "plt.title('Accuracy au Cours des Époques')\n",
    "plt.ylabel('Accuracy')\n",
    "plt.xlabel('Époque')\n",
    "plt.legend()\n",
    "plt.show()"
   ]
  },
  {
   "cell_type": "code",
   "execution_count": null,
   "metadata": {},
   "outputs": [],
   "source": [
    "# Créer un nouveau générateur de validation pour les prédictions sans mélange\n",
    "validation_generator_for_pred = datagen.flow_from_dataframe(\n",
    "    dataframe=validation_df,\n",
    "    directory=img_folder_sample,\n",
    "    x_col='path',\n",
    "    y_col='label',\n",
    "    target_size=(224, 224),\n",
    "    batch_size=32,\n",
    "    class_mode='categorical',\n",
    "    shuffle=False  # Important pour garder le même ordre\n",
    ")\n",
    "\n",
    "# Prédire les étiquettes pour l'ensemble de validation\n",
    "val_predictions = model.predict(validation_generator_for_pred)\n",
    "val_predicted_labels = np.argmax(val_predictions, axis=1)\n",
    "\n",
    "# Obtenir les vraies étiquettes de l'ensemble de validation\n",
    "true_labels = validation_generator_for_pred.classes\n",
    "\n",
    "# Calculer la matrice de confusion\n",
    "conf_matrix = confusion_matrix(true_labels, val_predicted_labels)\n",
    "\n",
    "# Obtenir les noms des classes pour les étiquettes de l'axe\n",
    "class_labels = list(validation_generator_for_pred.class_indices.keys())\n",
    "\n",
    "# Afficher la matrice de confusion\n",
    "sns.set(context='talk', style='whitegrid')\n",
    "plt.figure(figsize=(10,8))\n",
    "sns.heatmap(conf_matrix, annot=True, fmt='d', cmap='Blues', xticklabels=class_labels, yticklabels=class_labels)\n",
    "plt.title('Matrice de Confusion')\n",
    "plt.xlabel('Prédictions')\n",
    "plt.ylabel('Véritables Étiquettes')\n",
    "plt.show()"
   ]
  },
  {
   "cell_type": "code",
   "execution_count": null,
   "metadata": {},
   "outputs": [],
   "source": [
    "# Prédire les étiquettes pour l'ensemble de validation avec shuffle=False\n",
    "val_predictions = model.predict(validation_generator_for_pred)\n",
    "val_predicted_labels = np.argmax(val_predictions, axis=1)\n",
    "\n",
    "# Obtenir les vraies étiquettes de l'ensemble de validation\n",
    "true_labels = validation_generator_for_pred.classes\n",
    "\n",
    "# Calculer l'Adjusted Rand Index\n",
    "ari_score = adjusted_rand_score(true_labels, val_predicted_labels)\n",
    "\n",
    "print(f\"L'Adjusted Rand Index est : {ari_score}\")"
   ]
  },
  {
   "cell_type": "code",
   "execution_count": null,
   "metadata": {},
   "outputs": [],
   "source": [
    "def predict_image(model, img_path, target_size=(224,224)):\n",
    "    # Charger et prétraiter l'image\n",
    "    img = load_img(img_path, target_size=target_size)\n",
    "    img_array = img_to_array(img)\n",
    "    img_array = np.expand_dims(img_array, axis=0) / 255.0  # Normalisation\n",
    "\n",
    "    # Prédiction\n",
    "    prediction = model.predict(img_array)\n",
    "\n",
    "    class_indices = train_generator.class_indices\n",
    "    classes = list(class_indices.keys())\n",
    "\n",
    "    # Obtenir le label de la classe avec la plus haute probabilité\n",
    "    predicted_class = classes[np.argmax(prediction)]\n",
    "\n",
    "    print(f\"Classe prédite pour l'image: {predicted_class}\")\n",
    "\n",
    "    return prediction"
   ]
  },
  {
   "cell_type": "code",
   "execution_count": null,
   "metadata": {},
   "outputs": [],
   "source": []
  },
  {
   "cell_type": "code",
   "execution_count": null,
   "metadata": {},
   "outputs": [],
   "source": []
  },
  {
   "cell_type": "code",
   "execution_count": null,
   "metadata": {},
   "outputs": [],
   "source": []
  },
  {
   "cell_type": "markdown",
   "metadata": {},
   "source": [
    "# Essais"
   ]
  },
  {
   "cell_type": "code",
   "execution_count": null,
   "metadata": {},
   "outputs": [],
   "source": [
    "# Création d'une instance de SentimentIntensityAnalyzer\n",
    "sia = SentimentIntensityAnalyzer()\n",
    "\n",
    "# Fonction pour obtenir le score de sentiment\n",
    "def get_vader_sentiment(comment):\n",
    "    # Calcul des scores de sentiment\n",
    "    sentiment_dict = sia.polarity_scores(comment)\n",
    "    # Retourne le score 'composé' qui est une métrique globale de sentiment\n",
    "    return sentiment_dict['compound']\n",
    "\n",
    "# Application de cette fonction aux commentaires nettoyés\n",
    "review_sample['vader_sentiment'] = review_sample['cleaned_comment'].apply(get_vader_sentiment)"
   ]
  },
  {
   "cell_type": "code",
   "execution_count": null,
   "metadata": {},
   "outputs": [],
   "source": [
    "def remove_most_frequent_words(text:str, n:int):\n",
    "    most_freq_words = pd.Series(corpus.split()).value_counts().head(n).index\n",
    "    return ' '.join(word for word in text.split() if word not in most_freq_words)\n",
    "\n",
    "corpus_witout_freq_word = remove_most_frequent_words(corpus, 20)\n",
    "word_freq_2 = pd.Series(corpus_witout_freq_word.split()).value_counts()\n",
    "word_freq_2"
   ]
  }
 ],
 "metadata": {
  "kernelspec": {
   "display_name": "env",
   "language": "python",
   "name": "python3"
  },
  "language_info": {
   "codemirror_mode": {
    "name": "ipython",
    "version": 3
   },
   "file_extension": ".py",
   "mimetype": "text/x-python",
   "name": "python",
   "nbconvert_exporter": "python",
   "pygments_lexer": "ipython3",
   "version": "3.10.11"
  }
 },
 "nbformat": 4,
 "nbformat_minor": 2
}

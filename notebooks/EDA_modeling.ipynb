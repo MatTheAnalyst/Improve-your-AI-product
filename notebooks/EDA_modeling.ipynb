{
 "cells": [
  {
   "cell_type": "markdown",
   "metadata": {},
   "source": [
    "# 1. [Imports](#section1)\n",
    "\n",
    "# 2. [Détection des sujets d'insatisfaction](#section2)\n",
    "- [Chargement des données](#section21)\n",
    "- [Preprocessing des données](#section22)\n",
    "- [EDA](#section23)\n",
    "- [Modeling](#section24)\n",
    "\n",
    "# 3. [Classement d'images non supervisé](#section3)\n",
    "- [Chargement des données](#section31)\n",
    "- [Preprocessing des données](#section32)\n",
    "- [EDA](#section33)\n",
    "- [Modeling](#section34)"
   ]
  },
  {
   "cell_type": "markdown",
   "metadata": {},
   "source": [
    "<a id=\"section1\"></a>\n",
    "# Import"
   ]
  },
  {
   "cell_type": "code",
   "execution_count": 3,
   "metadata": {},
   "outputs": [],
   "source": [
    "import pandas as pd\n",
    "import numpy as np\n",
    "import seaborn as sns\n",
    "from PIL import Image, ImageOps\n",
    "from PIL import ImageFilter\n",
    "from matplotlib import pyplot as plt\n",
    "import cv2\n",
    "from pathlib import Path\n",
    "import shutil\n",
    "from PIL import Image\n",
    "from wordcloud import WordCloud\n",
    "from sklearn.cluster import KMeans\n",
    "from sklearn.preprocessing import StandardScaler, LabelEncoder\n",
    "from sklearn.decomposition import PCA, LatentDirichletAllocation\n",
    "from sklearn.manifold import TSNE\n",
    "from sklearn.model_selection import train_test_split\n",
    "from sklearn.utils import compute_class_weight\n",
    "from sklearn.feature_extraction.text import CountVectorizer, TfidfVectorizer\n",
    "from sklearn.metrics import confusion_matrix, adjusted_rand_score\n",
    "from sklearn.pipeline import Pipeline\n",
    "from sklearn.base import BaseEstimator, TransformerMixin\n",
    "from tensorflow.keras.preprocessing.image import ImageDataGenerator, load_img, img_to_array\n",
    "from tensorflow.keras.models import Sequential\n",
    "from tensorflow.keras import Model\n",
    "from tensorflow.keras.regularizers import l2\n",
    "from tensorflow.keras.layers import Dense, Flatten, Dropout\n",
    "from tensorflow.keras.applications.vgg16 import VGG16\n",
    "from nltk.stem import WordNetLemmatizer\n",
    "from nltk.corpus import wordnet, stopwords\n",
    "from nltk.collections import Counter\n",
    "from nltk.tokenize import word_tokenize\n",
    "from nltk import pos_tag\n",
    "import pickle\n",
    "import json\n",
    "import ssl\n",
    "import pyLDAvis\n",
    "from pyLDAvis import lda_model\n",
    "pyLDAvis.enable_notebook()\n",
    "\n",
    "try:\n",
    "    from PIL import UnidentifiedImageError\n",
    "except ImportError:\n",
    "    UnidentifiedImageError = IOError\n",
    "\n",
    "import sys\n",
    "from pathlib import Path\n",
    "\n",
    "# Ajout chemin du dossier racine au sys.path\n",
    "if str(Path().absolute().parents[0]) not in sys.path:\n",
    "    sys.path.append(str(Path().absolute().parents[0]))\n",
    "    \n",
    "from src.data_processing.general_preprocessing import clean_comment, tokenize_comment, delete_stopwords, lemmatized_tokens, most_frequent_word, delete_most_frequent_word, unique_word, delete_unique_word\n",
    "from src.data_processing.lda_preprocessing import create_bow, create_tfidf\n",
    "from src.models.lda_tuning import tune_lda\n",
    "from src.visualization.lda_visualisation import sklearn_print_top_words\n",
    "from src.utils.api_yelp import search_with_pagination\n",
    "from src.pipeline import PipelineLDA"
   ]
  },
  {
   "cell_type": "code",
   "execution_count": 4,
   "metadata": {},
   "outputs": [],
   "source": [
    "pd.set_option('display.max_rows', 500)"
   ]
  },
  {
   "cell_type": "markdown",
   "metadata": {},
   "source": [
    "<a id=\"section2\"></a>\n",
    "# 2. Détection des sujets d'insatisfaction"
   ]
  },
  {
   "cell_type": "markdown",
   "metadata": {},
   "source": [
    "<a id=\"section21\"></a>\n",
    "## 2.1. Chargement des données"
   ]
  },
  {
   "cell_type": "markdown",
   "metadata": {},
   "source": [
    "Faire en sorte de prendre un sample avec des 'user_id' unique."
   ]
  },
  {
   "cell_type": "code",
   "execution_count": 5,
   "metadata": {},
   "outputs": [
    {
     "data": {
      "text/html": [
       "<div>\n",
       "<style scoped>\n",
       "    .dataframe tbody tr th:only-of-type {\n",
       "        vertical-align: middle;\n",
       "    }\n",
       "\n",
       "    .dataframe tbody tr th {\n",
       "        vertical-align: top;\n",
       "    }\n",
       "\n",
       "    .dataframe thead th {\n",
       "        text-align: right;\n",
       "    }\n",
       "</style>\n",
       "<table border=\"1\" class=\"dataframe\">\n",
       "  <thead>\n",
       "    <tr style=\"text-align: right;\">\n",
       "      <th></th>\n",
       "      <th>business_id</th>\n",
       "      <th>name</th>\n",
       "      <th>address</th>\n",
       "      <th>city</th>\n",
       "      <th>state</th>\n",
       "      <th>postal_code</th>\n",
       "      <th>latitude</th>\n",
       "      <th>longitude</th>\n",
       "      <th>stars</th>\n",
       "      <th>review_count</th>\n",
       "      <th>is_open</th>\n",
       "      <th>attributes</th>\n",
       "      <th>categories</th>\n",
       "      <th>hours</th>\n",
       "    </tr>\n",
       "  </thead>\n",
       "  <tbody>\n",
       "    <tr>\n",
       "      <th>0</th>\n",
       "      <td>Pns2l4eNsfO8kk83dixA6A</td>\n",
       "      <td>Abby Rappoport, LAC, CMQ</td>\n",
       "      <td>1616 Chapala St, Ste 2</td>\n",
       "      <td>Santa Barbara</td>\n",
       "      <td>CA</td>\n",
       "      <td>93101</td>\n",
       "      <td>34.426679</td>\n",
       "      <td>-119.711197</td>\n",
       "      <td>5.0</td>\n",
       "      <td>7</td>\n",
       "      <td>0</td>\n",
       "      <td>{'ByAppointmentOnly': 'True'}</td>\n",
       "      <td>Doctors, Traditional Chinese Medicine, Naturop...</td>\n",
       "      <td>None</td>\n",
       "    </tr>\n",
       "    <tr>\n",
       "      <th>1</th>\n",
       "      <td>mpf3x-BjTdTEA3yCZrAYPw</td>\n",
       "      <td>The UPS Store</td>\n",
       "      <td>87 Grasso Plaza Shopping Center</td>\n",
       "      <td>Affton</td>\n",
       "      <td>MO</td>\n",
       "      <td>63123</td>\n",
       "      <td>38.551126</td>\n",
       "      <td>-90.335695</td>\n",
       "      <td>3.0</td>\n",
       "      <td>15</td>\n",
       "      <td>1</td>\n",
       "      <td>{'BusinessAcceptsCreditCards': 'True'}</td>\n",
       "      <td>Shipping Centers, Local Services, Notaries, Ma...</td>\n",
       "      <td>{'Monday': '0:0-0:0', 'Tuesday': '8:0-18:30', ...</td>\n",
       "    </tr>\n",
       "    <tr>\n",
       "      <th>2</th>\n",
       "      <td>tUFrWirKiKi_TAnsVWINQQ</td>\n",
       "      <td>Target</td>\n",
       "      <td>5255 E Broadway Blvd</td>\n",
       "      <td>Tucson</td>\n",
       "      <td>AZ</td>\n",
       "      <td>85711</td>\n",
       "      <td>32.223236</td>\n",
       "      <td>-110.880452</td>\n",
       "      <td>3.5</td>\n",
       "      <td>22</td>\n",
       "      <td>0</td>\n",
       "      <td>{'BikeParking': 'True', 'BusinessAcceptsCredit...</td>\n",
       "      <td>Department Stores, Shopping, Fashion, Home &amp; G...</td>\n",
       "      <td>{'Monday': '8:0-22:0', 'Tuesday': '8:0-22:0', ...</td>\n",
       "    </tr>\n",
       "    <tr>\n",
       "      <th>3</th>\n",
       "      <td>MTSW4McQd7CbVtyjqoe9mw</td>\n",
       "      <td>St Honore Pastries</td>\n",
       "      <td>935 Race St</td>\n",
       "      <td>Philadelphia</td>\n",
       "      <td>PA</td>\n",
       "      <td>19107</td>\n",
       "      <td>39.955505</td>\n",
       "      <td>-75.155564</td>\n",
       "      <td>4.0</td>\n",
       "      <td>80</td>\n",
       "      <td>1</td>\n",
       "      <td>{'RestaurantsDelivery': 'False', 'OutdoorSeati...</td>\n",
       "      <td>Restaurants, Food, Bubble Tea, Coffee &amp; Tea, B...</td>\n",
       "      <td>{'Monday': '7:0-20:0', 'Tuesday': '7:0-20:0', ...</td>\n",
       "    </tr>\n",
       "    <tr>\n",
       "      <th>4</th>\n",
       "      <td>mWMc6_wTdE0EUBKIGXDVfA</td>\n",
       "      <td>Perkiomen Valley Brewery</td>\n",
       "      <td>101 Walnut St</td>\n",
       "      <td>Green Lane</td>\n",
       "      <td>PA</td>\n",
       "      <td>18054</td>\n",
       "      <td>40.338183</td>\n",
       "      <td>-75.471659</td>\n",
       "      <td>4.5</td>\n",
       "      <td>13</td>\n",
       "      <td>1</td>\n",
       "      <td>{'BusinessAcceptsCreditCards': 'True', 'Wheelc...</td>\n",
       "      <td>Brewpubs, Breweries, Food</td>\n",
       "      <td>{'Wednesday': '14:0-22:0', 'Thursday': '16:0-2...</td>\n",
       "    </tr>\n",
       "  </tbody>\n",
       "</table>\n",
       "</div>"
      ],
      "text/plain": [
       "              business_id                      name  \\\n",
       "0  Pns2l4eNsfO8kk83dixA6A  Abby Rappoport, LAC, CMQ   \n",
       "1  mpf3x-BjTdTEA3yCZrAYPw             The UPS Store   \n",
       "2  tUFrWirKiKi_TAnsVWINQQ                    Target   \n",
       "3  MTSW4McQd7CbVtyjqoe9mw        St Honore Pastries   \n",
       "4  mWMc6_wTdE0EUBKIGXDVfA  Perkiomen Valley Brewery   \n",
       "\n",
       "                           address           city state postal_code  \\\n",
       "0           1616 Chapala St, Ste 2  Santa Barbara    CA       93101   \n",
       "1  87 Grasso Plaza Shopping Center         Affton    MO       63123   \n",
       "2             5255 E Broadway Blvd         Tucson    AZ       85711   \n",
       "3                      935 Race St   Philadelphia    PA       19107   \n",
       "4                    101 Walnut St     Green Lane    PA       18054   \n",
       "\n",
       "    latitude   longitude  stars  review_count  is_open  \\\n",
       "0  34.426679 -119.711197    5.0             7        0   \n",
       "1  38.551126  -90.335695    3.0            15        1   \n",
       "2  32.223236 -110.880452    3.5            22        0   \n",
       "3  39.955505  -75.155564    4.0            80        1   \n",
       "4  40.338183  -75.471659    4.5            13        1   \n",
       "\n",
       "                                          attributes  \\\n",
       "0                      {'ByAppointmentOnly': 'True'}   \n",
       "1             {'BusinessAcceptsCreditCards': 'True'}   \n",
       "2  {'BikeParking': 'True', 'BusinessAcceptsCredit...   \n",
       "3  {'RestaurantsDelivery': 'False', 'OutdoorSeati...   \n",
       "4  {'BusinessAcceptsCreditCards': 'True', 'Wheelc...   \n",
       "\n",
       "                                          categories  \\\n",
       "0  Doctors, Traditional Chinese Medicine, Naturop...   \n",
       "1  Shipping Centers, Local Services, Notaries, Ma...   \n",
       "2  Department Stores, Shopping, Fashion, Home & G...   \n",
       "3  Restaurants, Food, Bubble Tea, Coffee & Tea, B...   \n",
       "4                          Brewpubs, Breweries, Food   \n",
       "\n",
       "                                               hours  \n",
       "0                                               None  \n",
       "1  {'Monday': '0:0-0:0', 'Tuesday': '8:0-18:30', ...  \n",
       "2  {'Monday': '8:0-22:0', 'Tuesday': '8:0-22:0', ...  \n",
       "3  {'Monday': '7:0-20:0', 'Tuesday': '7:0-20:0', ...  \n",
       "4  {'Wednesday': '14:0-22:0', 'Thursday': '16:0-2...  "
      ]
     },
     "execution_count": 5,
     "metadata": {},
     "output_type": "execute_result"
    }
   ],
   "source": [
    "review = pd.read_json(\"../data/raw/yelp_dataset/yelp_academic_dataset_review.json\", lines=True)\n",
    "business = pd.read_json(\"../data/raw/yelp_dataset/yelp_academic_dataset_business.json\", lines=True)\n",
    "business.head()"
   ]
  },
  {
   "cell_type": "code",
   "execution_count": 6,
   "metadata": {},
   "outputs": [],
   "source": [
    "business_id_restaurants = business.loc[(business['categories'].str.contains(r'Restaurants'))&(~business['categories'].isna()),'business_id'].to_list()"
   ]
  },
  {
   "cell_type": "code",
   "execution_count": 7,
   "metadata": {},
   "outputs": [],
   "source": [
    "review_sample = review.loc[review['business_id'].isin(business_id_restaurants),:]"
   ]
  },
  {
   "cell_type": "markdown",
   "metadata": {},
   "source": [
    "Nous passons de 6 990 280 lignes à 4 724 471 lignes concernant des restaurants, dont 567 185 lignes ayant une note de satisfaction d'une étoile."
   ]
  },
  {
   "cell_type": "code",
   "execution_count": 8,
   "metadata": {},
   "outputs": [],
   "source": [
    "review_sample = review_sample.loc[review_sample['stars']==1,'text'].sample(n=100000, random_state=0)\n",
    "review_sample = review_sample.to_frame()"
   ]
  },
  {
   "cell_type": "markdown",
   "metadata": {},
   "source": [
    "<a id=\"section22\"></a>\n",
    "## 2.2. Preprocessing des données"
   ]
  },
  {
   "cell_type": "code",
   "execution_count": 9,
   "metadata": {},
   "outputs": [],
   "source": [
    "# Enregistrement des données brutes au bon format\n",
    "with open('../data/raw/raw_comments.pkl', 'wb') as f:\n",
    "    pickle.dump(review_sample['text'], f)"
   ]
  },
  {
   "cell_type": "code",
   "execution_count": 10,
   "metadata": {},
   "outputs": [],
   "source": [
    "review_sample['clean_comment'] = review_sample['text'].apply(clean_comment)\n",
    "review_sample['tokens'] = review_sample['clean_comment'].apply(tokenize_comment)\n",
    "review_sample['tokens_without_stopwords'] = review_sample['tokens'].apply(delete_stopwords)\n",
    "review_sample['tokens_lemm'] = review_sample['tokens_without_stopwords'].apply(lemmatized_tokens)\n",
    "top_words = most_frequent_word(review_sample['tokens_lemm'], 20)\n",
    "review_sample['tokens_without_top_words'] = review_sample['tokens_lemm'].apply(lambda comment: delete_most_frequent_word(comment, top_words))\n",
    "#unique_word = unique_word(review_sample['tokens_without_top_words'])\n",
    "#review_sample['tokens_without_unique_word'] = review_sample['tokens_without_top_words'].apply(lambda comment: delete_unique_word(comment, unique_word))"
   ]
  },
  {
   "cell_type": "code",
   "execution_count": 11,
   "metadata": {},
   "outputs": [],
   "source": [
    "# Enregistrement des top words\n",
    "with open('../src/models/top_words.json', 'w') as f:\n",
    "    json.dump(top_words, f)"
   ]
  },
  {
   "cell_type": "code",
   "execution_count": 12,
   "metadata": {},
   "outputs": [],
   "source": [
    "# Enregistrement des données preprocessed\n",
    "with open('../data/processed/tokens_without_top_words.pkl', 'wb') as f:\n",
    "    pickle.dump(review_sample['tokens_without_top_words'], f)"
   ]
  },
  {
   "cell_type": "markdown",
   "metadata": {},
   "source": [
    "<a id=\"section23\"></a>\n",
    "## EDA"
   ]
  },
  {
   "cell_type": "code",
   "execution_count": 13,
   "metadata": {},
   "outputs": [
    {
     "data": {
      "image/png": "[encoded data removed]",
      "text/plain": [
       "<Figure size 640x480 with 1 Axes>"
      ]
     },
     "metadata": {},
     "output_type": "display_data"
    }
   ],
   "source": [
    "joined_corpus = \" \".join([\" \".join(word) for word in review_sample['tokens_without_top_words'].values])\n",
    "wordcloud = WordCloud(background_color = 'white', max_words = 50).generate(joined_corpus)\n",
    "plt.imshow(wordcloud)\n",
    "plt.axis(\"off\")\n",
    "plt.show()"
   ]
  },
  {
   "cell_type": "code",
   "execution_count": 14,
   "metadata": {},
   "outputs": [
    {
     "data": {
      "image/png": "[encoded data removed]",
      "text/plain": [
       "<Figure size 2000x1000 with 1 Axes>"
      ]
     },
     "metadata": {},
     "output_type": "display_data"
    }
   ],
   "source": [
    "word_freq = pd.Series(joined_corpus.split()).value_counts()\n",
    "plt.figure(figsize=(20,10))\n",
    "sns.barplot(word_freq.head(30))\n",
    "plt.xticks(rotation=90);"
   ]
  },
  {
   "cell_type": "code",
   "execution_count": 15,
   "metadata": {},
   "outputs": [
    {
     "data": {
      "text/plain": [
       "0"
      ]
     },
     "execution_count": 15,
     "metadata": {},
     "output_type": "execute_result"
    }
   ],
   "source": [
    "review_sample['tokens_without_top_words'].isna().sum()"
   ]
  },
  {
   "cell_type": "markdown",
   "metadata": {},
   "source": [
    "<a id=\"section24\"></a>\n",
    "## Modeling"
   ]
  },
  {
   "cell_type": "markdown",
   "metadata": {},
   "source": [
    "Gensim lda tune coherence score: bow, tf-idf\n",
    "Sklearn lda tune perplexity\n",
    "Enlever les commentaires non anglophones"
   ]
  },
  {
   "cell_type": "markdown",
   "metadata": {},
   "source": [
    "### Bag of words : sklearn"
   ]
  },
  {
   "cell_type": "code",
   "execution_count": 16,
   "metadata": {},
   "outputs": [],
   "source": [
    "# Create bag of words\n",
    "bow, vectorizer_bow = create_bow(review_sample['tokens_without_top_words'])"
   ]
  },
  {
   "cell_type": "code",
   "execution_count": 17,
   "metadata": {},
   "outputs": [],
   "source": [
    "# Enregistrement du vectorizer\n",
    "with open('../src/models/vectorizer.pkl', 'wb') as f:\n",
    "    pickle.dump(vectorizer_bow, f)"
   ]
  },
  {
   "cell_type": "code",
   "execution_count": 18,
   "metadata": {},
   "outputs": [
    {
     "data": {
      "image/png": "[encoded data removed]",
      "text/plain": [
       "<Figure size 640x480 with 2 Axes>"
      ]
     },
     "metadata": {},
     "output_type": "display_data"
    }
   ],
   "source": [
    "# LDA tuning with perplexity\n",
    "topic_range = range(2, 8)\n",
    "best_model_bow, best_num_topics_bow, best_perplexity_bow, best_log_likelihood_bow = tune_lda(bow, topic_range, max_iter=10)"
   ]
  },
  {
   "cell_type": "code",
   "execution_count": 19,
   "metadata": {},
   "outputs": [],
   "source": [
    "# Si je souhaite entrainer le modèle moi-même\n",
    "# best_model_bow = train_lda(bow, n_components=5)"
   ]
  },
  {
   "cell_type": "code",
   "execution_count": 20,
   "metadata": {},
   "outputs": [
    {
     "name": "stdout",
     "output_type": "stream",
     "text": [
      "Topic #0: customer call tell give make dont manager rude know want\n",
      "Topic #1: pizza chicken cheese sandwich fry burger sauce salad cold wing\n",
      "Topic #2: taste meal restaurant dish eat menu price steak bad rice\n",
      "Topic #3: bad dont eat look taco use ive coffee ever restaurant\n",
      "Topic #4: table drink server leave sit bar even waitress walk restaurant\n"
     ]
    }
   ],
   "source": [
    "sklearn_print_top_words(best_model_bow,vectorizer_bow.get_feature_names_out(), 10)"
   ]
  },
  {
   "cell_type": "code",
   "execution_count": 21,
   "metadata": {},
   "outputs": [],
   "source": [
    "# Enregistrement du modèle\n",
    "with open('../src/models/lda_model.pkl', 'wb') as f:\n",
    "    pickle.dump(best_model_bow, f)"
   ]
  },
  {
   "cell_type": "code",
   "execution_count": 22,
   "metadata": {},
   "outputs": [
    {
     "name": "stdout",
     "output_type": "stream",
     "text": [
      "Topic #0: customer call tell give make dont manager rude know want business pay even im didnt owner work employee could people\n",
      "Topic #1: pizza chicken cheese sandwich fry burger sauce salad cold wing taste bread eat bad make give even meat cook slice\n",
      "Topic #2: taste meal restaurant dish eat menu price steak bad rice well shrimp even cook roll chicken soup plate flavor didnt\n",
      "Topic #3: bad dont eat look taco use ive coffee ever restaurant dirty really make im think year old staff disgust well\n",
      "Topic #4: table drink server leave sit bar even waitress walk restaurant tell seat didnt another hour experience check people night could\n"
     ]
    }
   ],
   "source": [
    "sklearn_print_top_words(best_model_bow,vectorizer_bow.get_feature_names_out(), 15)"
   ]
  },
  {
   "cell_type": "code",
   "execution_count": 23,
   "metadata": {},
   "outputs": [],
   "source": [
    "# Interprétation des topics :\n",
    "dic_topics = {\n",
    "    0 : \"Relation client du restaurant et problématique avec son staff.\",\n",
    "    1 : \"Qualité de la nourriture de manière ciblé, goût déplaisant des aliments, aliments surgelés ou froid.\",\n",
    "    2 : \"Qualité de l'établissement, de ses prix, de sa cuisine d'une manière générale.\",\n",
    "    3 : \"Qualité de la propreté et expérience gachée pour des questions d'hygiène.\",\n",
    "    4 : \"Problématique du temps d'attente et du service.\"\n",
    "}"
   ]
  },
  {
   "cell_type": "code",
   "execution_count": 24,
   "metadata": {},
   "outputs": [],
   "source": [
    "# Enregistrement du dictionnaire d'interprétation des topics\n",
    "with open('../src/models/dic_topics.json', 'w') as f:\n",
    "    json.dump(dic_topics, f)"
   ]
  },
  {
   "cell_type": "code",
   "execution_count": 25,
   "metadata": {},
   "outputs": [
    {
     "name": "stdout",
     "output_type": "stream",
     "text": [
      "[1 3 4 ... 2 0 2]\n",
      "--------------------------------------------------\n",
      "[[0.16883549 0.31931571 0.27965868 0.19077473 0.04141539]\n",
      " [0.0203417  0.02012031 0.02030372 0.91901888 0.02021539]\n",
      " [0.02025931 0.02031393 0.02065361 0.02039646 0.9183767 ]\n",
      " ...\n",
      " [0.0036352  0.0036224  0.52858344 0.15810745 0.30605151]\n",
      " [0.52952636 0.06724392 0.09881769 0.09269605 0.21171598]\n",
      " [0.00891056 0.00887918 0.56064028 0.41268585 0.00888412]]\n"
     ]
    }
   ],
   "source": [
    "config = {\n",
    "    'model_path': \"../src/models/lda_model.pkl\",\n",
    "    'vectorizer_path': \"../src/models/vectorizer.pkl\",\n",
    "    'top_words': top_words,\n",
    "    'interpreted_topics': dic_topics\n",
    "}\n",
    "try:\n",
    "    pipeline = PipelineLDA(config)\n",
    "    raw_data = review_sample['text']\n",
    "    preprocessed_data = pipeline.preprocess_data(raw_data)\n",
    "    transformed_data = pipeline.transform_data(preprocessed_data)\n",
    "    most_probable_topics, topic_probabilities = pipeline.predict_topics(transformed_data)\n",
    "    # Numpy value counts\n",
    "    unique, counts = np.unique(most_probable_topics, return_counts=True)\n",
    "    topic_distribution = pd.DataFrame((unique, counts)).T\n",
    "    topic_distribution.rename(columns={topic_distribution.columns[0]: \"Topic\", \n",
    "                                    topic_distribution.columns[1]: \"Nb\"}, inplace=True)\n",
    "    topic_interpretation = topic_distribution[\"Topic\"].map(pipeline.interpreted_topics)\n",
    "    topic_distribution.insert(loc=1, column=\"Interpretation\", value=topic_interpretation)\n",
    "    print(topic_distribution)\n",
    "except ValueError as e:\n",
    "    print(f\"Error : {e}\")"
   ]
  },
  {
   "cell_type": "code",
   "execution_count": 49,
   "metadata": {},
   "outputs": [
    {
     "data": {
      "text/html": [
       "<div>\n",
       "<style scoped>\n",
       "    .dataframe tbody tr th:only-of-type {\n",
       "        vertical-align: middle;\n",
       "    }\n",
       "\n",
       "    .dataframe tbody tr th {\n",
       "        vertical-align: top;\n",
       "    }\n",
       "\n",
       "    .dataframe thead th {\n",
       "        text-align: right;\n",
       "    }\n",
       "</style>\n",
       "<table border=\"1\" class=\"dataframe\">\n",
       "  <thead>\n",
       "    <tr style=\"text-align: right;\">\n",
       "      <th></th>\n",
       "      <th>Topic</th>\n",
       "      <th>Interpretation</th>\n",
       "      <th>Nb</th>\n",
       "    </tr>\n",
       "  </thead>\n",
       "  <tbody>\n",
       "    <tr>\n",
       "      <th>0</th>\n",
       "      <td>0</td>\n",
       "      <td>Relation client du restaurant et problématique...</td>\n",
       "      <td>28557</td>\n",
       "    </tr>\n",
       "    <tr>\n",
       "      <th>1</th>\n",
       "      <td>1</td>\n",
       "      <td>Qualité de la nourriture de manière ciblé, goû...</td>\n",
       "      <td>10132</td>\n",
       "    </tr>\n",
       "    <tr>\n",
       "      <th>2</th>\n",
       "      <td>2</td>\n",
       "      <td>Qualité de l'établissement, de ses prix, de sa...</td>\n",
       "      <td>20320</td>\n",
       "    </tr>\n",
       "    <tr>\n",
       "      <th>3</th>\n",
       "      <td>3</td>\n",
       "      <td>Qualité de la propreté et expérience gachée po...</td>\n",
       "      <td>12843</td>\n",
       "    </tr>\n",
       "    <tr>\n",
       "      <th>4</th>\n",
       "      <td>4</td>\n",
       "      <td>Problématique du temps d'attente et du service.</td>\n",
       "      <td>28148</td>\n",
       "    </tr>\n",
       "  </tbody>\n",
       "</table>\n",
       "</div>"
      ],
      "text/plain": [
       "   Topic                                     Interpretation     Nb\n",
       "0      0  Relation client du restaurant et problématique...  28557\n",
       "1      1  Qualité de la nourriture de manière ciblé, goû...  10132\n",
       "2      2  Qualité de l'établissement, de ses prix, de sa...  20320\n",
       "3      3  Qualité de la propreté et expérience gachée po...  12843\n",
       "4      4    Problématique du temps d'attente et du service.  28148"
      ]
     },
     "execution_count": 49,
     "metadata": {},
     "output_type": "execute_result"
    }
   ],
   "source": [
    "topic_distribution"
   ]
  },
  {
   "cell_type": "code",
   "execution_count": 48,
   "metadata": {},
   "outputs": [],
   "source": [
    "topic_interpretation = topic_distribution[\"Topic\"].map(pipeline.interpreted_topics)\n",
    "topic_distribution.insert(loc=1, column=\"Interpretation\", value=topic_interpretation)"
   ]
  },
  {
   "cell_type": "code",
   "execution_count": 45,
   "metadata": {},
   "outputs": [
    {
     "ename": "TypeError",
     "evalue": "unhashable type: 'numpy.ndarray'",
     "output_type": "error",
     "traceback": [
      "\u001b[0;31m---------------------------------------------------------------------------\u001b[0m",
      "\u001b[0;31mTypeError\u001b[0m                                 Traceback (most recent call last)",
      "Cell \u001b[0;32mIn[45], line 1\u001b[0m\n\u001b[0;32m----> 1\u001b[0m topic_distribution\u001b[38;5;241m.\u001b[39minsert(loc\u001b[38;5;241m=\u001b[39m\u001b[38;5;241m1\u001b[39m, column\u001b[38;5;241m=\u001b[39m\u001b[38;5;124m\"\u001b[39m\u001b[38;5;124mInterpretation\u001b[39m\u001b[38;5;124m\"\u001b[39m, value\u001b[38;5;241m=\u001b[39m\u001b[43mpipeline\u001b[49m\u001b[38;5;241;43m.\u001b[39;49m\u001b[43minterpreted_topics\u001b[49m\u001b[43m[\u001b[49m\u001b[43mtopic_distribution\u001b[49m\u001b[43m[\u001b[49m\u001b[38;5;124;43m\"\u001b[39;49m\u001b[38;5;124;43mTopic\u001b[39;49m\u001b[38;5;124;43m\"\u001b[39;49m\u001b[43m]\u001b[49m\u001b[38;5;241;43m.\u001b[39;49m\u001b[43mvalues\u001b[49m\u001b[43m]\u001b[49m)\n",
      "\u001b[0;31mTypeError\u001b[0m: unhashable type: 'numpy.ndarray'"
     ]
    }
   ],
   "source": []
  },
  {
   "cell_type": "code",
   "execution_count": 47,
   "metadata": {},
   "outputs": [
    {
     "data": {
      "text/plain": [
       "0"
      ]
     },
     "execution_count": 47,
     "metadata": {},
     "output_type": "execute_result"
    }
   ],
   "source": [
    "topic_distribution[\"Topic\"].values[0]"
   ]
  },
  {
   "cell_type": "code",
   "execution_count": 30,
   "metadata": {},
   "outputs": [
    {
     "data": {
      "text/plain": [
       "'Qualité de la nourriture de manière ciblé, goût déplaisant des aliments, aliments surgelés ou froid.'"
      ]
     },
     "execution_count": 30,
     "metadata": {},
     "output_type": "execute_result"
    }
   ],
   "source": [
    "pipeline.interpreted_topics[most_probable_topics[0]]"
   ]
  },
  {
   "cell_type": "code",
   "execution_count": 27,
   "metadata": {},
   "outputs": [
    {
     "data": {
      "text/plain": [
       "{0: 'Relation client du restaurant et problématique avec son staff.',\n",
       " 1: 'Qualité de la nourriture de manière ciblé, goût déplaisant des aliments, aliments surgelés ou froid.',\n",
       " 2: \"Qualité de l'établissement, de ses prix, de sa cuisine d'une manière générale.\",\n",
       " 3: \"Qualité de la propreté et expérience gachée pour des questions d'hygiène.\",\n",
       " 4: \"Problématique du temps d'attente et du service.\"}"
      ]
     },
     "execution_count": 27,
     "metadata": {},
     "output_type": "execute_result"
    }
   ],
   "source": [
    "pipeline.interpreted_topics"
   ]
  },
  {
   "cell_type": "code",
   "execution_count": 27,
   "metadata": {},
   "outputs": [
    {
     "data": {
      "text/html": [
       "\n",
       "<link rel=\"stylesheet\" type=\"text/css\" href=\"https://cdn.jsdelivr.net/gh/bmabey/pyLDAvis@3.4.0/pyLDAvis/js/ldavis.v1.0.0.css\">\n",
       "\n",
       "\n",
       "<div id=\"ldavis_el22490272012820966572496361\" style=\"background-color:white;\"></div>\n",
       "<script type=\"text/javascript\">\n",
       "\n",
       "var ldavis_el22490272012820966572496361_data = {\"mdsDat\": {\"x\": [-19.29601287841797, -4.7953782081604, -36.61417770385742, 14.787620544433594, 28.33420181274414], \"y\": [-7.338144779205322, 36.17919158935547, 23.56596565246582, -5.3229079246521, 27.51064109802246], \"topics\": [1, 2, 3, 4, 5], \"cluster\": [1, 1, 1, 1, 1], \"Freq\": [28.881566633883573, 26.624396053923206, 18.59833429314467, 14.236507012655261, 11.659196006393291]}, \"tinfo\": {\"Term\": [\"pizza\", \"table\", \"chicken\", \"cheese\", \"call\", \"customer\", \"sandwich\", \"fry\", \"drink\", \"taste\", \"bar\", \"sauce\", \"burger\", \"salad\", \"seat\", \"server\", \"sit\", \"manager\", \"tell\", \"waitress\", \"dish\", \"meal\", \"walk\", \"cold\", \"steak\", \"rude\", \"business\", \"wing\", \"rice\", \"shrimp\", \"seat\", \"min\", \"party\", \"reservation\", \"hostess\", \"group\", \"sat\", \"greet\", \"thru\", \"friday\", \"host\", \"acknowledge\", \"ahead\", \"bartender\", \"waited\", \"bagel\", \"app\", \"booth\", \"chair\", \"table\", \"rate\", \"mad\", \"chat\", \"female\", \"reserve\", \"security\", \"shortly\", \"piss\", \"frustrate\", \"upstairs\", \"bar\", \"early\", \"guest\", \"sit\", \"drink\", \"empty\", \"saturday\", \"walk\", \"server\", \"car\", \"finally\", \"waitress\", \"arrive\", \"leave\", \"beer\", \"check\", \"stand\", \"night\", \"busy\", \"another\", \"bring\", \"around\", \"hour\", \"waiter\", \"pm\", \"friend\", \"even\", \"restaurant\", \"experience\", \"tell\", \"didnt\", \"people\", \"could\", \"two\", \"want\", \"look\", \"manager\", \"make\", \"phone\", \"card\", \"refund\", \"answer\", \"credit\", \"refuse\", \"driver\", \"receipt\", \"contact\", \"lie\", \"company\", \"meet\", \"email\", \"corporate\", \"shit\", \"gift\", \"listen\", \"hung\", \"rudely\", \"respect\", \"policy\", \"fuck\", \"shes\", \"message\", \"disrespectful\", \"office\", \"as\", \"lazy\", \"honor\", \"whether\", \"call\", \"job\", \"business\", \"customer\", \"website\", \"online\", \"owner\", \"employee\", \"rude\", \"number\", \"treat\", \"attitude\", \"cash\", \"lady\", \"manager\", \"cashier\", \"speak\", \"tell\", \"work\", \"charge\", \"delivery\", \"give\", \"drive\", \"girl\", \"pay\", \"dont\", \"guy\", \"pick\", \"location\", \"make\", \"know\", \"im\", \"want\", \"money\", \"didnt\", \"people\", \"wrong\", \"could\", \"even\", \"try\", \"hour\", \"bad\", \"restaurant\", \"way\", \"need\", \"dish\", \"shrimp\", \"sushi\", \"fish\", \"rice\", \"crab\", \"portion\", \"pasta\", \"salty\", \"noodle\", \"atmosphere\", \"seafood\", \"thai\", \"oil\", \"overcook\", \"vegetable\", \"lobster\", \"salmon\", \"fried\", \"rare\", \"pho\", \"melt\", \"buck\", \"tuna\", \"waffle\", \"par\", \"guacamole\", \"king\", \"mash\", \"chop\", \"steak\", \"soup\", \"rib\", \"tiny\", \"bland\", \"overprice\", \"bean\", \"roll\", \"tasteless\", \"flavor\", \"taste\", \"plate\", \"price\", \"meal\", \"potato\", \"menu\", \"cook\", \"small\", \"meat\", \"salad\", \"eat\", \"restaurant\", \"well\", \"dry\", \"much\", \"serve\", \"bad\", \"chicken\", \"sauce\", \"really\", \"even\", \"also\", \"didnt\", \"try\", \"taco\", \"smell\", \"mexican\", \"burrito\", \"dog\", \"chinese\", \"trash\", \"mask\", \"oyster\", \"health\", \"fly\", \"bell\", \"filthy\", \"wash\", \"selection\", \"pancake\", \"tortilla\", \"biscuit\", \"juice\", \"actual\", \"tourist\", \"poison\", \"glove\", \"tacos\", \"bug\", \"ground\", \"wet\", \"roach\", \"queso\", \"fake\", \"wear\", \"bathroom\", \"coffee\", \"dirty\", \"clean\", \"disgust\", \"sick\", \"breakfast\", \"floor\", \"hotel\", \"use\", \"bad\", \"stay\", \"ive\", \"old\", \"room\", \"dont\", \"look\", \"eat\", \"year\", \"area\", \"ever\", \"think\", \"really\", \"im\", \"restaurant\", \"staff\", \"quality\", \"make\", \"day\", \"great\", \"location\", \"well\", \"people\", \"review\", \"even\", \"pizza\", \"cheese\", \"sandwich\", \"wing\", \"slice\", \"bowl\", \"bacon\", \"lettuce\", \"burnt\", \"pepper\", \"bbq\", \"crust\", \"garlic\", \"mac\", \"pie\", \"microwave\", \"tomato\", \"takeout\", \"topping\", \"turkey\", \"cheesesteak\", \"sausage\", \"indian\", \"vegan\", \"milk\", \"mile\", \"buffalo\", \"curry\", \"brisket\", \"ranch\", \"toast\", \"onion\", \"fry\", \"chicken\", \"soggy\", \"burger\", \"bread\", \"sauce\", \"salad\", \"egg\", \"cold\", \"meat\", \"taste\", \"dry\", \"cook\", \"piece\", \"hot\", \"home\", \"eat\", \"make\", \"bad\", \"give\", \"even\", \"half\", \"two\", \"didnt\", \"ever\"], \"Freq\": [16994.0, 28813.0, 18168.0, 11452.0, 19384.0, 21607.0, 9874.0, 11916.0, 20734.0, 17424.0, 13063.0, 10424.0, 8842.0, 10298.0, 11107.0, 16630.0, 13441.0, 19251.0, 29052.0, 15090.0, 6931.0, 14449.0, 13436.0, 11411.0, 6487.0, 11799.0, 8842.0, 4860.0, 6013.0, 5728.0, 11106.218619830679, 7449.660273907036, 6539.246867323, 5329.7791924827525, 4798.116021881929, 3923.921830570198, 2783.9898979159802, 2436.197339802877, 2366.65067922195, 1920.20385151451, 1889.5360432125624, 1883.5283627382971, 1637.793592031418, 5376.288495778545, 1503.574686291617, 1485.2348902089207, 1356.6980684321143, 1116.1316587946235, 1047.5611578203382, 28787.438337063628, 801.6903835873267, 681.5812088825186, 655.9137186740874, 658.1659309272231, 620.355585450806, 622.7922889231988, 608.9383855864343, 642.1147623339856, 610.3657059328292, 531.7624095008002, 13022.966211245064, 1634.5665131896908, 2304.4548463419237, 13063.316170217024, 19334.844536638182, 4287.991195204657, 2391.120382060849, 11964.051197510758, 14247.145687998036, 2749.5136791930386, 7821.807159158096, 12160.484063898975, 6864.58986993122, 13778.852550586138, 4466.865037437153, 8435.234278215681, 3966.3004404393605, 8067.40810596165, 5025.926238917131, 9956.938987092148, 7323.420651312301, 7236.312280377967, 9843.312157975615, 5959.591271866285, 5062.74932354509, 6177.325265134337, 12620.01974894345, 11871.37155296576, 8775.761505197508, 11371.878925451208, 10006.297337413205, 8361.560592300955, 7904.050277819033, 6690.056911293059, 7017.34585447385, 6777.548585692994, 6737.12802816151, 6805.66159388498, 6318.443415331126, 4909.747239648901, 3202.577755341388, 3061.6797839468, 2401.099862657892, 2392.2021496798047, 1951.4829330299328, 1895.359488753136, 1770.9083659258206, 1367.4239522396033, 1353.8108837883055, 1382.8775810135207, 1237.588490505186, 1099.9331820249924, 1089.8035052180612, 1057.0999583310543, 1064.088344963121, 939.8980775565001, 943.7003496314671, 798.7202158252421, 774.9887779683771, 778.5372990361183, 770.8982154311518, 745.2030880997787, 699.9301035789061, 702.3102492052096, 678.7598157464602, 668.2899116476665, 640.9174738392995, 659.3154891423648, 19079.506474605132, 2494.5915909669056, 8553.741808176084, 19728.755706073676, 1426.726752133572, 2751.387928420191, 7394.371126350882, 7063.311056945927, 10050.99246973947, 2108.1708174618575, 3437.681216856223, 3729.698006812917, 1694.7499675045365, 3516.7838528869047, 12513.52214433052, 1863.2791894919299, 3626.7233034983515, 16666.342763719265, 7388.557859564431, 5696.722243467414, 3731.7877842799944, 14306.404177740578, 4741.108314396778, 3235.080600597484, 8193.880164549344, 12674.578916576544, 4691.407611029269, 4191.7477145864705, 6600.459859533468, 12827.763623600942, 9117.437555714741, 7790.958317835752, 8716.216465952843, 5485.108745158772, 7775.736776411465, 6739.6569998318455, 4717.377961337642, 6753.441616944075, 7814.386717154967, 6482.475715112372, 5841.671128143174, 6413.255213982578, 6078.097818046551, 5159.047253435078, 5001.203699624039, 6930.5019653509535, 5728.13095179203, 4517.255572197389, 4310.205996470611, 6011.840240042845, 3031.979687651064, 3052.5314913063294, 2320.860343539384, 2016.3440741373342, 1981.3774262735728, 1997.225740511755, 1818.6549791830441, 1639.211728740962, 1514.4683524242005, 1487.030215804723, 1442.2329750160507, 1394.876228496426, 1342.0421471996397, 1279.1159926149357, 1164.8866760858762, 1063.62406929477, 1076.3509503926432, 996.1591043210981, 939.5945809028019, 903.2715331878499, 871.9583556272879, 849.3958551640364, 888.4030361965054, 801.5032320279195, 781.0639925201108, 6477.3815959154335, 4905.772785104915, 1719.174906212174, 1736.747392580867, 4118.270325684414, 2351.840787600692, 2626.478699663224, 4994.760282164853, 1912.0607340362367, 4893.517635496805, 11300.205655917023, 4896.996682778077, 6529.111244646109, 8693.845841258579, 3044.9497876653923, 6553.066999283067, 5144.721618192647, 4258.5013387142935, 4037.135797625167, 4641.773068717702, 6897.845938463883, 7739.569187390221, 5953.047057334528, 3308.9506398233634, 4304.661753117783, 4416.277277789611, 6086.47378738281, 4926.973915474925, 3948.837929706588, 4427.961095125516, 5274.897387907022, 4191.091665912505, 4643.158925357849, 4393.916435125657, 4824.385812784484, 2589.0662779543604, 2359.732419763186, 2092.6566101401772, 2078.4160942726007, 1954.1465142941458, 1810.102024197598, 1727.4043638843834, 1531.1788019499882, 1261.6656457145402, 1216.4199950646966, 1208.8400327622348, 1196.3047461188391, 1135.6897146816434, 1120.8087111209131, 1107.8305570872258, 1070.075163188967, 1019.665924637052, 912.0182096037347, 904.7265121642374, 863.4252185312639, 977.6022004725287, 748.0397721572489, 727.1622915303459, 723.845830296798, 702.8351754932701, 678.5011679821662, 630.3870466756393, 609.787564288657, 584.913623026053, 1750.9799086775245, 2170.117996424463, 4516.810661280675, 4148.667395444449, 3082.786958624731, 3146.5670556006517, 1777.9445687695297, 2715.892279425794, 1926.734734548598, 2050.881209023733, 4787.291870842751, 9041.277230191914, 2833.4065067485058, 4787.240589604112, 3330.8287612029467, 3065.757973242757, 6803.114846308384, 5355.905468949181, 5835.295206092161, 3355.330052134414, 2663.4329741626316, 4415.718265334437, 3714.826772022451, 3852.382908808629, 3816.467746575372, 4203.923039200587, 3149.5089775822844, 2573.7566771129877, 3833.6933611296354, 2926.40894599508, 2959.033933373765, 2914.6798607010055, 3106.9556592062554, 2999.7313541562385, 2854.3489183361366, 2828.2554895461735, 16994.01764443111, 11451.626858925662, 9873.715988014144, 4859.600184771168, 3024.230262557571, 2987.3979475824854, 2718.4704696723174, 2476.042405942815, 2320.1596227039577, 1851.184737295478, 1915.8552975475673, 1475.5155688526568, 1484.64224538993, 1475.8725709382618, 1333.632942447607, 1311.4137821909558, 2348.31323608251, 1282.221137476257, 1102.9828085195734, 1068.749203909697, 1013.3202824397495, 1488.2249958892842, 901.4556083918852, 871.2237965974879, 845.6639712224857, 862.001352894323, 787.471364185031, 799.353596243872, 760.6573432310493, 715.8957932211663, 1762.0425436537425, 2952.634188857888, 9407.306819323476, 13241.09653127371, 2256.6253919977307, 6617.613468770142, 4368.909368214353, 6474.559528411286, 5656.3628422767515, 2865.4201507072507, 5386.778400013217, 3165.1430345346807, 4375.844290980834, 2573.0151900622873, 3118.208963358805, 2454.025049857337, 2431.6399156904404, 2480.882552452009, 3613.1648799702507, 3455.7006030826806, 3457.8696038229446, 3344.210443997577, 3252.840692098958, 2500.5934498253514, 2548.9517489196264, 2597.157818386099, 2551.323519458298], \"Total\": [16994.0, 28813.0, 18168.0, 11452.0, 19384.0, 21607.0, 9874.0, 11916.0, 20734.0, 17424.0, 13063.0, 10424.0, 8842.0, 10298.0, 11107.0, 16630.0, 13441.0, 19251.0, 29052.0, 15090.0, 6931.0, 14449.0, 13436.0, 11411.0, 6487.0, 11799.0, 8842.0, 4860.0, 6013.0, 5728.0, 11107.031950104874, 7450.483716762573, 6540.066964129817, 5330.591647965947, 4798.928275104147, 3924.741385219668, 2784.8082581512426, 2437.0181202117788, 2367.4961360506827, 1921.0302475388032, 1890.3498874758338, 1884.345197138262, 1638.623121459665, 5379.1072622283145, 1504.3941015985047, 1486.0884818502361, 1357.546514773133, 1116.9490780637623, 1048.381479283359, 28813.499147121947, 802.5460072409796, 682.4353445221527, 656.7367759510008, 658.9941206021381, 621.1704732946133, 623.6145294069453, 609.7627585533053, 642.9858146003571, 611.2008437774742, 532.5790506403653, 13063.381260075637, 1638.152839835187, 2319.1207727619026, 13441.358524189562, 20734.07238127991, 4479.578012688804, 2463.7189736362798, 13436.03451201621, 16630.71282084248, 2945.4036501678916, 9018.578740111228, 15090.107645795584, 8502.786561690998, 19659.955411107512, 5309.795542685068, 11267.247747406476, 4704.371092779484, 11161.3762331484, 6275.672403099437, 14981.749302434044, 10373.240835877004, 10498.948205753562, 16617.41131958106, 8388.893802875895, 7083.401613026469, 9830.640167072452, 31790.40003565057, 29893.169818002574, 18271.217331636573, 29052.821172503747, 25133.060516100733, 18401.383072698958, 20448.93516291787, 14756.503345112058, 21991.051640023066, 19441.72388609736, 19251.266228338216, 30018.226271199193, 6319.258731966316, 4910.562592485965, 3203.3932049319915, 3062.4955144381984, 2401.9159353485793, 2393.021801051644, 1952.295266704038, 1896.1760982447202, 1771.7316123123219, 1368.2462908154494, 1354.6330476772914, 1383.7187117853966, 1238.4008287101346, 1100.7499348606987, 1090.6323634104072, 1057.9193230359042, 1064.9172020773294, 940.7087101794604, 944.5195417538056, 799.5392122416193, 775.804826071909, 779.3586415436187, 771.7231937205431, 746.0174437099087, 700.7436029305765, 703.1326342360188, 679.5915427271325, 669.1227116621252, 641.7328887337413, 660.1585162152717, 19384.86337787976, 2516.8417518288466, 8842.17732035206, 21607.815972336073, 1453.7712619776712, 2863.0102709420426, 8214.810855941794, 7989.099289351582, 11799.553148832767, 2243.071649206287, 3871.5783877390827, 4378.004790842537, 1814.4502319824346, 4163.097410496262, 19251.266228338216, 2053.410019397597, 4594.109285382608, 29052.821172503747, 10977.651751184176, 8290.98636800138, 4899.361820401979, 27468.488478213716, 6682.396718547967, 4114.785983038069, 14003.398244287768, 26838.06507273301, 6775.783550913529, 5820.9050877044265, 11145.841906345051, 30018.226271199193, 18972.94485881183, 16316.771697067503, 21991.051640023066, 10846.337956227095, 25133.060516100733, 18401.383072698958, 8293.769788466663, 20448.93516291787, 31790.40003565057, 19715.369913155086, 16617.41131958106, 30379.18841962431, 29893.169818002574, 14074.409026437113, 11368.349079133077, 6931.3314219552685, 5728.941984060958, 4518.068562317495, 4311.01888213691, 6013.128850494798, 3032.7899599383545, 3053.347774405304, 2321.6859323944145, 2017.157855895908, 1982.2012095847087, 1998.063615617867, 1819.4672667762852, 1640.022065548724, 1515.2886228585935, 1487.8453722171807, 1443.0465650328483, 1395.685807196026, 1342.8537159844093, 1279.9332043939787, 1165.7005534235755, 1064.4355955488188, 1077.1885368668304, 997.000342300913, 940.4068962689819, 904.0969369106917, 872.7869244348199, 850.215932732205, 889.2671921507682, 802.3167751162479, 781.8812321167333, 6487.8287003521245, 4920.445381795796, 1722.8242184384583, 1745.5960664403945, 4426.996789798399, 2483.7373932374708, 2851.1212318905805, 5929.305847939124, 2068.8874861783006, 6209.695504801241, 17424.5631322671, 6580.866282493789, 9759.493616692334, 14449.686121129032, 3783.270823602621, 12571.227971623519, 9736.552043720985, 7591.4635568519625, 7202.894693507206, 10298.746230192726, 23649.94493984532, 29893.169818002574, 20335.474662931945, 5993.936524441964, 11025.417728446633, 11766.63858372533, 30379.18841962431, 18168.67840860219, 10424.00476381997, 15868.651135613458, 31790.40003565057, 13627.258867705845, 25133.060516100733, 19715.369913155086, 4825.200362189717, 2589.8835306484793, 2360.5453258832554, 2093.469851645043, 2079.236930888494, 1954.9718374284992, 1810.9254002712198, 1728.2155388104622, 1532.002089232621, 1262.4773430765927, 1217.237917050361, 1209.6544407524686, 1197.1162456664433, 1136.5035382707752, 1121.6357206201521, 1108.6526540072557, 1070.8933844111473, 1020.4900977045523, 912.8412416384898, 905.5616810121662, 864.2395184258319, 978.5972808332231, 748.8510962250348, 727.9793142392147, 724.6645166777464, 703.6618133737724, 679.329597004913, 631.1962910607912, 610.6059283766422, 585.736073556537, 1762.95759820956, 2207.6046947059053, 4770.5530967677905, 4766.2314456758395, 4162.816518107829, 4526.641250709673, 2253.741781487819, 3947.0208088822933, 2546.2104068195245, 2891.1683077484745, 10994.488456599483, 30379.18841962431, 5247.199480884389, 13073.658963639564, 7194.579721447048, 6512.392687644937, 26838.06507273301, 19441.72388609736, 23649.94493984532, 9020.745248983627, 5799.429706446032, 16920.800016974958, 14019.046676053345, 15868.651135613458, 16316.771697067503, 29893.169818002574, 13251.572048822383, 6447.091271918184, 30018.226271199193, 10714.308263392244, 11538.80975417024, 11145.841906345051, 20335.474662931945, 18401.383072698958, 12180.983112366195, 31790.40003565057, 16994.862949131828, 11452.477263984007, 9874.527558854994, 4860.411376531501, 3025.042069582203, 2988.225741758661, 2719.290695522405, 2476.853240547265, 2320.974269490752, 1852.0020288395913, 1916.722089029663, 1476.3222232358933, 1485.4550962342146, 1476.6823968684703, 1334.4457299084804, 1312.2345895341225, 2349.787691377051, 1283.051207914012, 1103.7915331583902, 1069.5574900671177, 1014.1280198269441, 1489.572977611782, 902.2763721147139, 872.0444420054257, 846.4869270785452, 862.8454791203264, 788.2793972730852, 800.1738335134773, 761.4661873985725, 716.7077787397387, 1775.7418799417896, 3008.835142958955, 11916.838562415103, 18168.67840860219, 2552.165259170906, 8842.699660381191, 6271.309653839653, 10424.00476381997, 10298.746230192726, 4250.925723132291, 11411.529522196799, 7202.894693507206, 17424.5631322671, 5993.936524441964, 9736.552043720985, 5393.213500351829, 5482.04257911431, 6227.586427307145, 23649.94493984532, 30018.226271199193, 30379.18841962431, 27468.488478213716, 31790.40003565057, 8237.454259746783, 14756.503345112058, 25133.060516100733, 16920.800016974958], \"Category\": [\"Default\", \"Default\", \"Default\", \"Default\", \"Default\", \"Default\", \"Default\", \"Default\", \"Default\", \"Default\", \"Default\", \"Default\", \"Default\", \"Default\", \"Default\", \"Default\", \"Default\", \"Default\", \"Default\", \"Default\", \"Default\", \"Default\", \"Default\", \"Default\", \"Default\", \"Default\", \"Default\", \"Default\", \"Default\", \"Default\", \"Topic1\", \"Topic1\", \"Topic1\", \"Topic1\", \"Topic1\", \"Topic1\", \"Topic1\", \"Topic1\", \"Topic1\", \"Topic1\", \"Topic1\", \"Topic1\", \"Topic1\", \"Topic1\", \"Topic1\", \"Topic1\", \"Topic1\", \"Topic1\", \"Topic1\", \"Topic1\", \"Topic1\", \"Topic1\", \"Topic1\", \"Topic1\", \"Topic1\", \"Topic1\", \"Topic1\", \"Topic1\", \"Topic1\", \"Topic1\", \"Topic1\", \"Topic1\", \"Topic1\", \"Topic1\", \"Topic1\", \"Topic1\", \"Topic1\", \"Topic1\", \"Topic1\", \"Topic1\", \"Topic1\", \"Topic1\", \"Topic1\", \"Topic1\", \"Topic1\", \"Topic1\", \"Topic1\", \"Topic1\", \"Topic1\", \"Topic1\", \"Topic1\", \"Topic1\", \"Topic1\", \"Topic1\", \"Topic1\", \"Topic1\", \"Topic1\", \"Topic1\", \"Topic1\", \"Topic1\", \"Topic1\", \"Topic1\", \"Topic1\", \"Topic1\", \"Topic1\", \"Topic1\", \"Topic1\", \"Topic1\", \"Topic2\", \"Topic2\", \"Topic2\", \"Topic2\", \"Topic2\", \"Topic2\", \"Topic2\", \"Topic2\", \"Topic2\", \"Topic2\", \"Topic2\", \"Topic2\", \"Topic2\", \"Topic2\", \"Topic2\", \"Topic2\", \"Topic2\", \"Topic2\", \"Topic2\", \"Topic2\", \"Topic2\", \"Topic2\", \"Topic2\", \"Topic2\", \"Topic2\", \"Topic2\", \"Topic2\", \"Topic2\", \"Topic2\", \"Topic2\", \"Topic2\", \"Topic2\", \"Topic2\", \"Topic2\", \"Topic2\", \"Topic2\", \"Topic2\", \"Topic2\", \"Topic2\", \"Topic2\", \"Topic2\", \"Topic2\", \"Topic2\", \"Topic2\", \"Topic2\", \"Topic2\", \"Topic2\", \"Topic2\", \"Topic2\", \"Topic2\", \"Topic2\", \"Topic2\", \"Topic2\", \"Topic2\", \"Topic2\", \"Topic2\", \"Topic2\", \"Topic2\", \"Topic2\", \"Topic2\", \"Topic2\", \"Topic2\", \"Topic2\", \"Topic2\", \"Topic2\", \"Topic2\", \"Topic2\", \"Topic2\", \"Topic2\", \"Topic2\", \"Topic2\", \"Topic2\", \"Topic2\", \"Topic2\", \"Topic2\", \"Topic3\", \"Topic3\", \"Topic3\", \"Topic3\", \"Topic3\", \"Topic3\", \"Topic3\", \"Topic3\", \"Topic3\", \"Topic3\", \"Topic3\", \"Topic3\", \"Topic3\", \"Topic3\", \"Topic3\", \"Topic3\", \"Topic3\", \"Topic3\", \"Topic3\", \"Topic3\", \"Topic3\", \"Topic3\", \"Topic3\", \"Topic3\", \"Topic3\", \"Topic3\", \"Topic3\", \"Topic3\", \"Topic3\", \"Topic3\", \"Topic3\", \"Topic3\", \"Topic3\", \"Topic3\", \"Topic3\", \"Topic3\", \"Topic3\", \"Topic3\", \"Topic3\", \"Topic3\", \"Topic3\", \"Topic3\", \"Topic3\", \"Topic3\", \"Topic3\", \"Topic3\", \"Topic3\", \"Topic3\", \"Topic3\", \"Topic3\", \"Topic3\", \"Topic3\", \"Topic3\", \"Topic3\", \"Topic3\", \"Topic3\", \"Topic3\", \"Topic3\", \"Topic3\", \"Topic3\", \"Topic3\", \"Topic3\", \"Topic3\", \"Topic3\", \"Topic4\", \"Topic4\", \"Topic4\", \"Topic4\", \"Topic4\", \"Topic4\", \"Topic4\", \"Topic4\", \"Topic4\", \"Topic4\", \"Topic4\", \"Topic4\", \"Topic4\", \"Topic4\", \"Topic4\", \"Topic4\", \"Topic4\", \"Topic4\", \"Topic4\", \"Topic4\", \"Topic4\", \"Topic4\", \"Topic4\", \"Topic4\", \"Topic4\", \"Topic4\", \"Topic4\", \"Topic4\", \"Topic4\", \"Topic4\", \"Topic4\", \"Topic4\", \"Topic4\", \"Topic4\", \"Topic4\", \"Topic4\", \"Topic4\", \"Topic4\", \"Topic4\", \"Topic4\", \"Topic4\", \"Topic4\", \"Topic4\", \"Topic4\", \"Topic4\", \"Topic4\", \"Topic4\", \"Topic4\", \"Topic4\", \"Topic4\", \"Topic4\", \"Topic4\", \"Topic4\", \"Topic4\", \"Topic4\", \"Topic4\", \"Topic4\", \"Topic4\", \"Topic4\", \"Topic4\", \"Topic4\", \"Topic4\", \"Topic4\", \"Topic4\", \"Topic4\", \"Topic4\", \"Topic5\", \"Topic5\", \"Topic5\", \"Topic5\", \"Topic5\", \"Topic5\", \"Topic5\", \"Topic5\", \"Topic5\", \"Topic5\", \"Topic5\", \"Topic5\", \"Topic5\", \"Topic5\", \"Topic5\", \"Topic5\", \"Topic5\", \"Topic5\", \"Topic5\", \"Topic5\", \"Topic5\", \"Topic5\", \"Topic5\", \"Topic5\", \"Topic5\", \"Topic5\", \"Topic5\", \"Topic5\", \"Topic5\", \"Topic5\", \"Topic5\", \"Topic5\", \"Topic5\", \"Topic5\", \"Topic5\", \"Topic5\", \"Topic5\", \"Topic5\", \"Topic5\", \"Topic5\", \"Topic5\", \"Topic5\", \"Topic5\", \"Topic5\", \"Topic5\", \"Topic5\", \"Topic5\", \"Topic5\", \"Topic5\", \"Topic5\", \"Topic5\", \"Topic5\", \"Topic5\", \"Topic5\", \"Topic5\", \"Topic5\", \"Topic5\"], \"logprob\": [30.0, 29.0, 28.0, 27.0, 26.0, 25.0, 24.0, 23.0, 22.0, 21.0, 20.0, 19.0, 18.0, 17.0, 16.0, 15.0, 14.0, 13.0, 12.0, 11.0, 10.0, 9.0, 8.0, 7.0, 6.0, 5.0, 4.0, 3.0, 2.0, 1.0, -4.7654, -5.1648, -5.2951, -5.4996, -5.6047, -5.8059, -6.1491, -6.2825, -6.3115, -6.5205, -6.5366, -6.5398, -6.6796, -5.491, -6.7651, -6.7774, -6.8679, -7.0631, -7.1265, -3.813, -7.394, -7.5563, -7.5947, -7.5912, -7.6504, -7.6465, -7.669, -7.6159, -7.6666, -7.8045, -4.6062, -6.6816, -6.3381, -4.6031, -4.211, -5.7171, -6.3012, -4.691, -4.5164, -6.1615, -5.116, -4.6748, -5.2466, -4.5498, -5.6763, -5.0405, -5.7951, -5.0851, -5.5583, -4.8747, -5.1819, -5.1938, -4.8862, -5.3879, -5.551, -5.3521, -4.6377, -4.6988, -5.001, -4.7418, -4.8697, -5.0493, -5.1056, -5.2723, -5.2246, -5.2593, -5.2653, -5.2552, -5.2481, -5.5004, -5.9276, -5.9726, -6.2156, -6.2194, -6.423, -6.4522, -6.5201, -6.7786, -6.7887, -6.7674, -6.8784, -6.9963, -7.0056, -7.036, -7.0295, -7.1536, -7.1495, -7.3163, -7.3465, -7.3419, -7.3518, -7.3857, -7.4483, -7.445, -7.4791, -7.4946, -7.5364, -7.5081, -4.143, -6.1774, -4.9452, -4.1095, -6.7362, -6.0795, -5.0909, -5.1367, -4.7839, -6.3458, -5.8568, -5.7752, -6.564, -5.834, -4.5648, -6.4692, -5.8032, -4.2782, -5.0916, -5.3517, -5.7747, -4.4309, -5.5353, -5.9175, -4.9882, -4.552, -5.5458, -5.6585, -5.2044, -4.54, -4.8814, -5.0386, -4.9264, -5.3895, -5.0406, -5.1836, -5.5403, -5.1815, -5.0356, -5.2225, -5.3266, -5.2332, -5.2869, -5.4508, -5.4819, -4.7969, -4.9874, -5.2249, -5.2718, -4.9391, -5.6236, -5.6168, -5.8909, -6.0315, -6.049, -6.0411, -6.1347, -6.2386, -6.3178, -6.336, -6.3666, -6.4, -6.4386, -6.4866, -6.5802, -6.6711, -6.6592, -6.7367, -6.7951, -6.8345, -6.8698, -6.896, -6.8511, -6.9541, -6.9799, -4.8645, -5.1424, -6.191, -6.1808, -5.3174, -5.8776, -5.7672, -5.1244, -6.0846, -5.1449, -4.308, -5.1442, -4.8565, -4.5702, -5.6193, -4.8529, -5.0948, -5.2839, -5.3373, -5.1977, -4.8016, -4.6865, -4.9489, -5.5362, -5.2731, -5.2475, -4.9267, -5.1381, -5.3594, -5.2449, -5.0699, -5.2999, -5.1974, -5.2526, -4.8919, -5.5143, -5.607, -5.7271, -5.7339, -5.7956, -5.8722, -5.9189, -6.0395, -6.2331, -6.2696, -6.2759, -6.2863, -6.3383, -6.3515, -6.3632, -6.3978, -6.4461, -6.5577, -6.5657, -6.6124, -6.4882, -6.7559, -6.7842, -6.7887, -6.8182, -6.8534, -6.927, -6.9602, -7.0018, -5.9054, -5.6908, -4.9577, -5.0428, -5.3397, -5.3192, -5.8901, -5.4664, -5.8097, -5.7473, -4.8996, -4.2638, -5.4241, -4.8996, -5.2623, -5.3453, -4.5482, -4.7874, -4.7016, -5.255, -5.4859, -4.9804, -5.1532, -5.1169, -5.1262, -5.0295, -5.3183, -5.5202, -5.1217, -5.3918, -5.3807, -5.3958, -5.3319, -5.367, -5.4167, -5.4259, -3.433, -3.8277, -3.976, -4.6849, -5.1592, -5.1714, -5.2658, -5.3592, -5.4242, -5.65, -5.6157, -5.8768, -5.8707, -5.8766, -5.9779, -5.9947, -5.4121, -6.0172, -6.1678, -6.1994, -6.2526, -5.8683, -6.3696, -6.4037, -6.4335, -6.4143, -6.5048, -6.4898, -6.5394, -6.6001, -5.6994, -5.1831, -4.0244, -3.6825, -5.452, -4.3761, -4.7913, -4.398, -4.5331, -5.2131, -4.5819, -5.1136, -4.7897, -5.3208, -5.1286, -5.3681, -5.3773, -5.3572, -4.9813, -5.0258, -5.0252, -5.0586, -5.0863, -5.3493, -5.3302, -5.3114, -5.3292], \"loglift\": [30.0, 29.0, 28.0, 27.0, 26.0, 25.0, 24.0, 23.0, 22.0, 21.0, 20.0, 19.0, 18.0, 17.0, 16.0, 15.0, 14.0, 13.0, 12.0, 11.0, 10.0, 9.0, 8.0, 7.0, 6.0, 5.0, 4.0, 3.0, 2.0, 1.0, 1.2419, 1.2419, 1.2418, 1.2418, 1.2418, 1.2418, 1.2417, 1.2416, 1.2416, 1.2415, 1.2415, 1.2415, 1.2415, 1.2414, 1.2414, 1.2414, 1.2413, 1.2412, 1.2412, 1.2411, 1.2409, 1.2407, 1.2407, 1.2407, 1.2407, 1.2406, 1.2406, 1.2406, 1.2406, 1.2404, 1.2389, 1.2398, 1.2356, 1.2134, 1.1721, 1.1983, 1.2121, 1.1259, 1.0873, 1.1731, 1.0996, 1.0261, 1.0279, 0.8865, 1.0691, 0.9525, 1.0713, 0.9173, 1.0199, 0.8334, 0.8938, 0.8698, 0.7183, 0.9001, 0.9061, 0.7773, 0.3181, 0.3185, 0.5086, 0.304, 0.321, 0.4532, 0.2914, 0.4509, 0.0997, 0.1882, 0.192, -0.2421, 1.3232, 1.3232, 1.3231, 1.3231, 1.323, 1.323, 1.3229, 1.3229, 1.3229, 1.3227, 1.3227, 1.3227, 1.3227, 1.3226, 1.3226, 1.3226, 1.3226, 1.3225, 1.3225, 1.3223, 1.3223, 1.3223, 1.3223, 1.3223, 1.3222, 1.3222, 1.3221, 1.3221, 1.3221, 1.3221, 1.3075, 1.3145, 1.2902, 1.2324, 1.3046, 1.2836, 1.2181, 1.2002, 1.163, 1.2613, 1.2045, 1.1631, 1.2551, 1.1546, 0.8926, 1.2262, 1.0869, 0.7676, 0.9274, 0.9481, 1.0511, 0.671, 0.9801, 1.0828, 0.7874, 0.5731, 0.9557, 0.995, 0.7994, 0.4731, 0.5905, 0.5841, 0.3979, 0.6416, 0.1502, 0.3189, 0.7591, 0.2155, -0.0799, 0.211, 0.2779, -0.232, -0.2696, 0.3197, 0.5022, 1.682, 1.682, 1.6819, 1.6819, 1.6819, 1.6818, 1.6818, 1.6817, 1.6817, 1.6817, 1.6817, 1.6817, 1.6816, 1.6816, 1.6816, 1.6815, 1.6815, 1.6815, 1.6815, 1.6814, 1.6813, 1.6813, 1.6813, 1.6812, 1.6812, 1.6811, 1.6811, 1.6811, 1.6811, 1.6811, 1.6805, 1.6791, 1.68, 1.677, 1.6098, 1.6275, 1.6, 1.5106, 1.6033, 1.4439, 1.249, 1.3866, 1.2801, 1.174, 1.465, 1.0306, 1.0442, 1.104, 1.1032, 0.8852, 0.4499, 0.3308, 0.4536, 1.088, 0.7416, 0.7021, 0.0744, 0.3771, 0.7114, 0.4057, -0.1141, 0.503, -0.0067, 0.1809, 1.9492, 1.949, 1.949, 1.949, 1.949, 1.9489, 1.9489, 1.9489, 1.9488, 1.9487, 1.9487, 1.9487, 1.9487, 1.9486, 1.9486, 1.9486, 1.9486, 1.9486, 1.9485, 1.9484, 1.9484, 1.9483, 1.9483, 1.9482, 1.9482, 1.9482, 1.9481, 1.9481, 1.948, 1.948, 1.9425, 1.9322, 1.8947, 1.8106, 1.649, 1.5857, 1.7122, 1.5755, 1.6706, 1.606, 1.1179, 0.7374, 1.3331, 0.9447, 1.1793, 1.1959, 0.5769, 0.6601, 0.5499, 0.9604, 1.1712, 0.606, 0.6213, 0.5337, 0.4965, -0.0123, 0.5125, 1.0311, -0.1086, 0.6516, 0.5885, 0.6081, 0.0706, 0.1355, 0.4983, -0.4701, 2.149, 2.149, 2.149, 2.1489, 2.1488, 2.1488, 2.1488, 2.1487, 2.1487, 2.1486, 2.1486, 2.1485, 2.1485, 2.1485, 2.1485, 2.1484, 2.1484, 2.1484, 2.1483, 2.1483, 2.1483, 2.1482, 2.1482, 2.1481, 2.1481, 2.1481, 2.148, 2.148, 2.148, 2.1479, 2.1413, 2.1302, 1.9126, 1.8327, 2.026, 1.8592, 1.7876, 1.6728, 1.5498, 1.7547, 1.3984, 1.3268, 0.7673, 1.3034, 1.0104, 1.3617, 1.3362, 1.2287, 0.2703, -0.0127, -0.024, 0.0433, -0.1306, 0.9569, 0.3931, -0.1207, 0.2571]}, \"token.table\": {\"Topic\": [1, 4, 1, 1, 2, 3, 4, 5, 1, 2, 3, 4, 5, 2, 1, 1, 2, 3, 4, 5, 1, 2, 3, 4, 5, 1, 2, 3, 5, 2, 3, 1, 2, 5, 1, 2, 3, 4, 5, 1, 1, 4, 1, 2, 1, 4, 5, 3, 4, 5, 1, 3, 4, 4, 4, 3, 4, 5, 1, 5, 1, 3, 5, 1, 2, 4, 5, 1, 2, 3, 5, 5, 3, 5, 4, 3, 5, 5, 4, 1, 2, 1, 2, 3, 1, 2, 5, 1, 5, 2, 1, 2, 2, 5, 1, 2, 3, 1, 1, 2, 3, 5, 5, 3, 5, 4, 3, 1, 4, 1, 2, 4, 1, 2, 3, 4, 5, 2, 2, 1, 2, 3, 4, 5, 2, 1, 2, 3, 4, 5, 3, 2, 5, 5, 1, 2, 1, 2, 3, 4, 5, 2, 5, 1, 2, 3, 4, 5, 1, 4, 2, 3, 4, 5, 3, 2, 4, 1, 2, 3, 4, 5, 1, 3, 4, 1, 2, 5, 2, 3, 4, 5, 1, 3, 1, 2, 3, 4, 5, 3, 4, 5, 2, 1, 2, 4, 1, 3, 1, 2, 3, 4, 5, 1, 2, 3, 4, 5, 1, 2, 3, 4, 5, 4, 1, 4, 1, 2, 3, 5, 3, 3, 5, 1, 4, 4, 1, 3, 1, 2, 3, 4, 5, 1, 3, 5, 2, 5, 2, 1, 2, 4, 1, 2, 3, 4, 5, 4, 1, 2, 3, 4, 5, 1, 4, 1, 3, 1, 2, 4, 1, 2, 4, 5, 1, 2, 3, 4, 5, 4, 1, 2, 3, 4, 5, 2, 1, 1, 1, 2, 3, 4, 5, 1, 2, 4, 1, 2, 3, 5, 2, 1, 2, 3, 4, 5, 5, 1, 2, 3, 4, 5, 2, 3, 4, 3, 1, 2, 3, 4, 5, 1, 2, 2, 1, 2, 3, 4, 5, 5, 2, 2, 3, 1, 2, 4, 5, 1, 2, 3, 4, 5, 5, 1, 1, 2, 3, 4, 5, 1, 2, 3, 4, 1, 2, 3, 4, 5, 3, 5, 2, 3, 1, 2, 3, 4, 5, 2, 4, 5, 5, 5, 1, 1, 2, 3, 4, 5, 1, 2, 3, 4, 5, 1, 2, 3, 4, 5, 1, 2, 3, 4, 5, 3, 1, 2, 2, 3, 1, 2, 3, 4, 5, 3, 5, 2, 5, 3, 2, 3, 2, 4, 4, 4, 3, 1, 3, 1, 2, 3, 4, 5, 1, 2, 3, 4, 5, 5, 3, 2, 1, 2, 4, 5, 5, 3, 4, 5, 1, 5, 1, 3, 4, 1, 2, 4, 2, 3, 3, 5, 2, 3, 4, 5, 2, 3, 4, 5, 4, 5, 3, 1, 1, 2, 3, 4, 5, 2, 2, 2, 1, 1, 2, 1, 2, 3, 4, 1, 2, 3, 4, 5, 3, 5, 3, 4, 4, 1, 2, 3, 1, 4, 1, 2, 2, 3, 5, 3, 3, 5, 1, 1, 3, 3, 5, 4, 5, 3, 1, 1, 4, 1, 2, 3, 4, 5, 1, 2, 3, 2, 2, 1, 3, 2, 3, 4, 5, 1, 3, 4, 5, 5, 1, 2, 3, 4, 5, 4, 3, 5, 3, 5, 1, 2, 1, 2, 4, 1, 2, 1, 2, 4, 3, 5, 3, 1, 3, 4, 4, 5, 3, 4, 5, 3, 4, 1, 2, 3, 5, 3, 1, 2, 3, 4, 5, 1, 1, 3, 4, 5, 3, 5, 5, 4, 4, 4, 1, 2, 1, 2, 3, 4, 5, 3, 5, 1, 2, 3, 4, 5, 1, 1, 2, 3, 4, 5, 5, 3, 3, 1, 1, 3, 1, 3, 1, 2, 4, 1, 2, 3, 4, 5, 4, 1, 2, 3, 4, 5, 2, 4, 1, 2, 1, 2, 3, 4, 5, 4, 2, 5, 1, 2, 4, 5, 1, 2, 3, 5, 1, 2, 3, 4, 5], \"Freq\": [0.9998168079082399, 0.9993797429551807, 0.999619728629784, 0.1742096501612627, 0.21295552012130764, 0.3075453428078568, 0.14133436655880033, 0.1639361240354932, 0.664608638083559, 0.22680929519011084, 0.05453301770756932, 0.0010012181953654097, 0.05306456435436672, 0.9998381991301335, 0.999597424642776, 0.4614246806070676, 0.0684550068015717, 0.003621045699831248, 0.4591830808881245, 0.007242091399662496, 0.689211896105419, 0.09019951155497953, 0.023049927979202793, 0.17316020275285404, 0.02428814725081286, 0.8073823740243008, 0.08855920286093204, 0.043750363166356866, 0.06033316210844374, 0.9991295613762957, 0.999467676799901, 0.14801262925874822, 0.8519862764431033, 0.9995253558126279, 0.17709492188160741, 0.21109846357374504, 0.20033451571960273, 0.297605053667586, 0.11382792562576179, 0.999267552461694, 0.9969088202149431, 0.0030619943798355005, 0.9994223461111971, 0.0003718089085235108, 0.01676024701738057, 0.9829658385869147, 0.9996232687911326, 0.9210411576426365, 0.03507392070230908, 0.04349166167086326, 0.8412753304887365, 0.15348990247331995, 0.005084941554330845, 0.9994589853677043, 0.9995197428121501, 0.9302017136062866, 0.00632482952427781, 0.0632482952427781, 0.9991502942413386, 0.9995898095175568, 0.005421515102381089, 0.29786441797787866, 0.6966646906559699, 0.1484664075449711, 0.001520133865648168, 0.6881139298500708, 0.1618942566915299, 0.7059510249364491, 0.06603529319697769, 0.18181396053941598, 0.04608010240606619, 0.9993877766258208, 0.9989966479864948, 0.9983769748676534, 0.99908300094395, 0.2515069023506932, 0.7484139747108307, 0.999580232532709, 0.9997755632140229, 0.03257116313841724, 0.9674087829375733, 0.8008703573369688, 0.1869122421719587, 0.01211025609980295, 0.0002579332081187399, 0.9842731221811116, 0.015475992487124396, 0.9336581082335682, 0.06620484767474392, 0.9998854321729193, 0.06558460403181343, 0.9341672591086031, 0.9072713108444572, 0.09252901184135634, 0.9996361255030756, 0.6871317533444835, 0.3127492779396605, 0.9988781259433296, 0.7486300282996431, 0.20333270833840927, 0.047926522262217816, 0.9999583265722336, 0.9988876948423765, 0.2711809791111306, 0.7287816814309884, 0.9995028892949285, 0.9988729335344864, 0.25919950958839033, 0.7406043448202108, 0.05261444426015526, 0.0004192385996825121, 0.9468503773829535, 0.25404131798117824, 0.008412544507138017, 0.2583352209066966, 0.007098084427897702, 0.47206642979117186, 0.9995326795855328, 0.9995870636911157, 0.019719506365070895, 0.0279359673505171, 0.5284211471265091, 0.10373281994125835, 0.32023656690776586, 0.9993187055143514, 0.38652379388111735, 0.3302372444432168, 0.15130372194688474, 0.040637812843523344, 0.09125169526596216, 0.9997395269871011, 0.999618664693839, 0.9997817392227647, 0.9985330268695202, 0.08691299492759262, 0.9130492422398695, 0.2029995727704941, 0.42102578058285006, 0.08847981378686363, 0.27309275858688076, 0.014279969946614067, 0.7617318615782086, 0.2381942879050829, 0.3981210323983408, 0.3093932788256544, 0.1847367532905753, 0.004416493563483493, 0.10333003409339307, 0.12945237910336327, 0.8704990614260198, 0.03578812435701684, 0.01789406217850842, 0.6952174527872345, 0.2511796135427663, 0.9999521849504672, 0.9989388373615304, 0.9994051034443845, 0.07701747478435153, 0.47227696801724994, 0.11017932894887637, 0.25348325155198037, 0.08704055205430342, 0.9325230299406553, 0.06713587058067712, 0.0002893787525029186, 0.14321208995923676, 0.709475985890012, 0.1472525564471149, 0.9993365415948455, 0.5520578982621221, 0.01868554989584699, 0.4292671418036991, 0.9980753689408467, 0.0018313309521850397, 0.23222041378824113, 0.07661751452736579, 0.2916708693210647, 0.24672361880087162, 0.15276991169281048, 0.15055544172821175, 0.1754911867644468, 0.6739708446114479, 0.9996763336224894, 0.06458800689681753, 0.8840796370391903, 0.051194757404648, 0.957233022363682, 0.04263794479278527, 0.3969751870328026, 0.24579747317546113, 0.1659305952137903, 0.08895767265679602, 0.10232648838492131, 0.20737790154601254, 0.2751642945563506, 0.10566876260024806, 0.26098056803282743, 0.15076119317294898, 0.4803182973914045, 0.2566331468172625, 0.18411471654793582, 0.07788205756471839, 0.00103988692461676, 0.9987433357961588, 0.9984914575546899, 0.9990675544914839, 0.8673206971305469, 0.10178987470798288, 0.0288293762789494, 0.0019958798962349585, 0.999763656303819, 0.7881223799485875, 0.21192665549904804, 0.2431063820735828, 0.7568109826426398, 0.9989830114285623, 0.9994637005116795, 0.9992708960195931, 0.6283415825441102, 0.161128875951088, 0.2005973127370868, 0.009867109196499706, 0.00010172277522164647, 0.9980352714010463, 0.21054241750939004, 0.7893872146316588, 0.9995398247680832, 0.9996936317796692, 0.9991310083709729, 0.21240472860624934, 0.7861891270494469, 0.0012151300263515408, 0.21504641599355065, 0.5208149699007509, 0.11871785382681034, 0.023663478990317916, 0.12173949806711247, 0.9988634640059617, 0.30202421863663076, 0.13857581796268942, 0.28365143976978263, 0.2564389276745453, 0.01932608343069402, 0.9995822270653899, 0.9990594723755163, 0.9998110995994641, 0.9985698542153902, 0.9934799545847305, 0.006036770557372494, 0.0004311978969551782, 0.13946726498850345, 0.692318455091079, 0.06272337314297774, 0.1053752668802026, 0.38713416784398985, 0.15126032396789318, 0.15733016040320189, 0.0007283803722370458, 0.3036132184941419, 0.9996218996885684, 0.03420265659678734, 0.3314285596984463, 0.1254097408548869, 0.11063676241871585, 0.3983886902189173, 0.9988579536024911, 0.9998149086165731, 0.9998065661641656, 0.07187102148769801, 0.00018241376012106096, 0.2241865111887839, 0.2601220219326329, 0.44363026461442023, 0.27981767710715416, 0.010722309011522595, 0.7094017994397691, 0.5923305267410418, 0.3515589695439567, 0.0008424898277328645, 0.055243261561340684, 0.9992466210084042, 0.10130680447634638, 0.47748415830321517, 0.0689474622116695, 0.23386979182198292, 0.11834448847176338, 0.998585386746056, 0.08390917975227703, 0.32768179221399707, 0.09454124537266582, 0.3661561016172745, 0.12766127712538775, 0.9913217619610071, 0.008741113732722308, 0.9990784359863278, 0.9985750152912947, 0.20133932968375398, 0.48052635306983904, 0.12006570497895068, 0.1308705642944401, 0.06720095427926344, 0.15517292446034636, 0.8448036769768393, 0.998322113952258, 0.7008662894634603, 0.18509706273006254, 0.07477127843176476, 0.027060081718162484, 0.01220755566232894, 0.9996555142899477, 0.9990891326921072, 0.9991387104316277, 0.9995086235078913, 0.05607472322429076, 0.5921490772485104, 0.2615325091180921, 0.09016815494465953, 0.3486316357392001, 0.10266579299726222, 0.1492665988367009, 0.27548997359385596, 0.12396020096362824, 0.9995378851471939, 0.9993620721352621, 0.2267289192409738, 0.4273403726158113, 0.10310402660164765, 0.12772240322801845, 0.11513005361398845, 0.34995100686327907, 0.6500351640028313, 0.9996051745070369, 0.9992966509193066, 0.33024938811799864, 0.06526093315072773, 0.6016739690481727, 0.0006228508996357896, 0.0022145809764828072, 0.5604691130135514, 0.4394066739380456, 0.9994805940114307, 0.99889663060258, 0.3798356064163658, 0.08026264437154201, 0.5212696814338106, 0.014000223398802176, 0.004534163259839341, 0.9986361663276278, 0.9997689830916289, 0.9990591701026866, 0.9990201268468273, 0.9994247671606391, 0.9999350757909202, 0.0063615941415863545, 0.5057006357478429, 0.1922307794957616, 0.18153592557657292, 0.11413990648237546, 0.1818525201840569, 0.1571822531067185, 0.3904613962056683, 0.180038529957782, 0.09042741277980285, 0.2956453902501296, 0.43990556282085636, 0.029291852113446343, 0.2033716579167806, 0.03184279418939212, 0.7227603327304434, 0.10625929770897556, 0.12641810208040852, 0.020785967174099772, 0.023652997129148017, 0.9993940021936721, 0.059739509456782636, 0.9397827308574462, 0.9983891599097097, 0.9991495858682272, 0.12551115352967127, 0.09701748080145133, 0.09548855202091269, 0.4629874334521982, 0.2190537961935348, 0.018611853870108802, 0.9814429371148445, 0.9608767484773337, 0.03877038134532317, 0.9994318144660954, 0.05274309609247609, 0.9469600153397234, 0.9000815879591312, 0.09981970545394747, 0.9993458956487957, 0.9994113088487213, 0.9990983773784999, 0.9998368573080874, 0.9997045541841626, 0.18181301106954936, 0.5851436813448104, 0.18031337507879502, 0.002856449506198733, 0.049916455120822864, 0.45442236417577786, 0.36627681589867767, 0.013477247825351939, 0.16303122369377346, 0.0028258745440254062, 0.9994589483035182, 0.9995907732223158, 0.9998008101868106, 0.04861786882555164, 0.7201629191403268, 0.00034358917897916357, 0.23089192827399793, 0.9996659812396335, 0.5447587045846299, 0.00018541821122689925, 0.45501629035081076, 0.9984668174974127, 0.9999492229425792, 0.2378106365970637, 0.744126956815221, 0.017930770043740267, 0.714769580576806, 0.2851737216601122, 0.9993896561487331, 0.9989625920787525, 0.9998861006242986, 0.8048591131787911, 0.19506930230737202, 0.17470168709202505, 0.6689896275799598, 0.1558482498926511, 0.0005123216630264665, 0.05072054764050341, 0.47975123502164235, 0.399249815372036, 0.0702642448964772, 0.9990076605082215, 0.9990124584095023, 0.9993990279737639, 0.9993196561492385, 0.2060036465647353, 0.1887999159094362, 0.2790407301892468, 0.24274274902641796, 0.08337192548337252, 0.9993797526264523, 0.9998772536161387, 0.999573008047317, 0.9998890089496589, 0.9981156971476682, 0.9993255962517366, 0.3971141258111384, 0.20332403813327432, 0.258922022894298, 0.14063413233173497, 0.10220849897871295, 0.3897879141774531, 0.2524426782004356, 0.23429964344196527, 0.021262651594768398, 0.9977802619689636, 0.0017413268097189593, 0.9998122690328338, 0.00016630277262688522, 0.9981047241916129, 0.022430956238532952, 0.135091698850112, 0.8424257624922714, 0.5291449955924218, 0.4707947058869313, 0.14814120314148635, 0.8518119180635466, 0.9994499407044126, 0.4507344774057154, 0.5491930642410009, 0.9993642524317822, 0.999425996387678, 0.999946573762456, 0.9997097616509586, 0.9704840631523198, 0.029224112315753673, 0.3788371254113715, 0.6211624175838517, 0.0006713333385003333, 0.998944007688496, 0.9997431848405203, 0.9999070903811649, 0.9990145684906834, 0.9994332200656014, 0.44073759579671795, 0.01453261258797508, 0.375298346131567, 0.14413632134038443, 0.02524085344227251, 0.8566680306177203, 6.012971366727875e-05, 0.14322897795545797, 0.9990628845596093, 0.9994201864609723, 0.9987490896375585, 0.9998355745155775, 0.004880772096587878, 0.14287351046375424, 0.7889102534302951, 0.06345003725564241, 0.9718511693956638, 0.006621354518580271, 0.005356601408289658, 0.016144201466650774, 0.9996555189785024, 0.12988272849048302, 0.044128513229525164, 0.561024889088202, 0.10656706627667421, 0.15846746691080232, 0.9996588531345044, 0.11558812617637206, 0.8843471212883788, 0.9970642125509127, 0.0028452708878338316, 0.2104869388015584, 0.7894892730436941, 0.42885477881886674, 0.3333944066200516, 0.23770764618677287, 0.8430457380556617, 0.15666281113137234, 0.294442779549063, 0.1656121523806704, 0.5399070514320359, 0.9983309207360027, 0.0015413477238474644, 0.9997634913453046, 0.9990803217968549, 0.0008676488708417471, 0.99975123060192, 0.9986547499083294, 0.9991806968361606, 0.6485098027550814, 0.10031815355892763, 0.2511397253855076, 0.9241681883493302, 0.07540284381929682, 0.3914249818452302, 0.5736448071959732, 0.014766207985543772, 0.020135738162105142, 0.9993767976844983, 0.18995585516872607, 0.2369633311567811, 0.2129959382402614, 0.26499662108592464, 0.09508492487416893, 0.9997904384961277, 0.0045829617480254384, 0.9950755695400234, 0.007320883821485447, 0.9922613302659505, 0.0004255703626628361, 0.9992392115323392, 0.9992828961496695, 0.9991657578390603, 0.9985657697901971, 0.9994889903962465, 0.1118406904458578, 0.8880099162883583, 0.24113166635680988, 0.3287790200515022, 0.22287180100374898, 0.1105736290824244, 0.09662512082661398, 0.9995673189226959, 0.9994787656836636, 0.4533594337045974, 0.19523595343840736, 0.17226303146144792, 0.006370072760572818, 0.1727373985819161, 0.99891274236253, 0.010914559642651636, 0.3480834979368984, 0.09750339947435462, 0.4353999750781115, 0.10814509512593996, 0.9988023064477954, 0.9992747531103928, 0.9987867043168623, 0.9997380330073842, 0.710463159988601, 0.2895494992638107, 0.8058259281793809, 0.19410066970702358, 0.8904412971922833, 0.09876425955985957, 0.010791874631634994, 0.3190843309752985, 0.39634302818593437, 0.14433143316454286, 0.06757293940847849, 0.07262044699551826, 0.9995569408683572, 0.2001504997267451, 0.3665518026589556, 0.21720272547556255, 0.11311309746715591, 0.10302386389910556, 0.006239514785364933, 0.993217308106727, 0.017884519167499776, 0.981584955847007, 0.21233829411766658, 0.23845029832713416, 0.2927396630112249, 0.152787188472346, 0.10366121445114432, 0.999514820189837, 0.998245093887581, 0.9999153617873813, 0.18674303452729438, 0.6730947717669161, 0.12498119188851116, 0.015121631088551642, 0.16868083340647494, 0.5687401652454197, 0.08150696453379346, 0.1809792215461893, 0.1840202726251507, 0.3218137659221762, 0.04445308995342496, 0.3719204907574582, 0.07782062131497337], \"Term\": [\"acknowledge\", \"actual\", \"ahead\", \"also\", \"also\", \"also\", \"also\", \"also\", \"another\", \"another\", \"another\", \"another\", \"another\", \"answer\", \"app\", \"area\", \"area\", \"area\", \"area\", \"area\", \"around\", \"around\", \"around\", \"around\", \"around\", \"arrive\", \"arrive\", \"arrive\", \"arrive\", \"as\", \"atmosphere\", \"attitude\", \"attitude\", \"bacon\", \"bad\", \"bad\", \"bad\", \"bad\", \"bad\", \"bagel\", \"bar\", \"bar\", \"bartender\", \"bartender\", \"bathroom\", \"bathroom\", \"bbq\", \"bean\", \"bean\", \"bean\", \"beer\", \"beer\", \"beer\", \"bell\", \"biscuit\", \"bland\", \"bland\", \"bland\", \"booth\", \"bowl\", \"bread\", \"bread\", \"bread\", \"breakfast\", \"breakfast\", \"breakfast\", \"breakfast\", \"bring\", \"bring\", \"bring\", \"bring\", \"brisket\", \"buck\", \"buffalo\", \"bug\", \"burger\", \"burger\", \"burnt\", \"burrito\", \"business\", \"business\", \"busy\", \"busy\", \"busy\", \"call\", \"call\", \"call\", \"car\", \"car\", \"card\", \"cash\", \"cash\", \"cashier\", \"cashier\", \"chair\", \"charge\", \"charge\", \"chat\", \"check\", \"check\", \"check\", \"cheese\", \"cheesesteak\", \"chicken\", \"chicken\", \"chinese\", \"chop\", \"clean\", \"clean\", \"coffee\", \"coffee\", \"coffee\", \"cold\", \"cold\", \"cold\", \"cold\", \"cold\", \"company\", \"contact\", \"cook\", \"cook\", \"cook\", \"cook\", \"cook\", \"corporate\", \"could\", \"could\", \"could\", \"could\", \"could\", \"crab\", \"credit\", \"crust\", \"curry\", \"customer\", \"customer\", \"day\", \"day\", \"day\", \"day\", \"day\", \"delivery\", \"delivery\", \"didnt\", \"didnt\", \"didnt\", \"didnt\", \"didnt\", \"dirty\", \"dirty\", \"disgust\", \"disgust\", \"disgust\", \"disgust\", \"dish\", \"disrespectful\", \"dog\", \"dont\", \"dont\", \"dont\", \"dont\", \"dont\", \"drink\", \"drink\", \"drink\", \"drive\", \"drive\", \"drive\", \"driver\", \"dry\", \"dry\", \"dry\", \"early\", \"early\", \"eat\", \"eat\", \"eat\", \"eat\", \"eat\", \"egg\", \"egg\", \"egg\", \"email\", \"employee\", \"employee\", \"employee\", \"empty\", \"empty\", \"even\", \"even\", \"even\", \"even\", \"even\", \"ever\", \"ever\", \"ever\", \"ever\", \"ever\", \"experience\", \"experience\", \"experience\", \"experience\", \"experience\", \"fake\", \"female\", \"filthy\", \"finally\", \"finally\", \"finally\", \"finally\", \"fish\", \"flavor\", \"flavor\", \"floor\", \"floor\", \"fly\", \"friday\", \"fried\", \"friend\", \"friend\", \"friend\", \"friend\", \"friend\", \"frustrate\", \"fry\", \"fry\", \"fuck\", \"garlic\", \"gift\", \"girl\", \"girl\", \"girl\", \"give\", \"give\", \"give\", \"give\", \"give\", \"glove\", \"great\", \"great\", \"great\", \"great\", \"great\", \"greet\", \"ground\", \"group\", \"guacamole\", \"guest\", \"guest\", \"guest\", \"guy\", \"guy\", \"guy\", \"guy\", \"half\", \"half\", \"half\", \"half\", \"half\", \"health\", \"home\", \"home\", \"home\", \"home\", \"home\", \"honor\", \"host\", \"hostess\", \"hot\", \"hot\", \"hot\", \"hot\", \"hot\", \"hotel\", \"hotel\", \"hotel\", \"hour\", \"hour\", \"hour\", \"hour\", \"hung\", \"im\", \"im\", \"im\", \"im\", \"im\", \"indian\", \"ive\", \"ive\", \"ive\", \"ive\", \"ive\", \"job\", \"job\", \"juice\", \"king\", \"know\", \"know\", \"know\", \"know\", \"know\", \"lady\", \"lady\", \"lazy\", \"leave\", \"leave\", \"leave\", \"leave\", \"leave\", \"lettuce\", \"lie\", \"listen\", \"lobster\", \"location\", \"location\", \"location\", \"location\", \"look\", \"look\", \"look\", \"look\", \"look\", \"mac\", \"mad\", \"make\", \"make\", \"make\", \"make\", \"make\", \"manager\", \"manager\", \"mash\", \"mask\", \"meal\", \"meal\", \"meal\", \"meal\", \"meal\", \"meat\", \"meat\", \"meet\", \"melt\", \"menu\", \"menu\", \"menu\", \"menu\", \"menu\", \"message\", \"mexican\", \"microwave\", \"mile\", \"milk\", \"min\", \"money\", \"money\", \"money\", \"money\", \"money\", \"much\", \"much\", \"much\", \"much\", \"much\", \"need\", \"need\", \"need\", \"need\", \"need\", \"night\", \"night\", \"night\", \"night\", \"night\", \"noodle\", \"number\", \"number\", \"office\", \"oil\", \"old\", \"old\", \"old\", \"old\", \"old\", \"onion\", \"onion\", \"online\", \"online\", \"overcook\", \"overprice\", \"overprice\", \"owner\", \"owner\", \"oyster\", \"pancake\", \"par\", \"party\", \"pasta\", \"pay\", \"pay\", \"pay\", \"pay\", \"pay\", \"people\", \"people\", \"people\", \"people\", \"people\", \"pepper\", \"pho\", \"phone\", \"pick\", \"pick\", \"pick\", \"pick\", \"pie\", \"piece\", \"piece\", \"piece\", \"piss\", \"pizza\", \"plate\", \"plate\", \"plate\", \"pm\", \"pm\", \"poison\", \"policy\", \"portion\", \"potato\", \"potato\", \"price\", \"price\", \"price\", \"price\", \"quality\", \"quality\", \"quality\", \"quality\", \"queso\", \"ranch\", \"rare\", \"rate\", \"really\", \"really\", \"really\", \"really\", \"really\", \"receipt\", \"refund\", \"refuse\", \"reservation\", \"reserve\", \"respect\", \"restaurant\", \"restaurant\", \"restaurant\", \"restaurant\", \"review\", \"review\", \"review\", \"review\", \"review\", \"rib\", \"rib\", \"rice\", \"rice\", \"roach\", \"roll\", \"roll\", \"roll\", \"room\", \"room\", \"rude\", \"rude\", \"rudely\", \"salad\", \"salad\", \"salmon\", \"salty\", \"sandwich\", \"sat\", \"saturday\", \"saturday\", \"sauce\", \"sauce\", \"sausage\", \"sausage\", \"seafood\", \"seat\", \"security\", \"selection\", \"serve\", \"serve\", \"serve\", \"serve\", \"serve\", \"server\", \"server\", \"server\", \"shes\", \"shit\", \"shortly\", \"shrimp\", \"sick\", \"sick\", \"sick\", \"sick\", \"sit\", \"sit\", \"sit\", \"sit\", \"slice\", \"small\", \"small\", \"small\", \"small\", \"small\", \"smell\", \"soggy\", \"soggy\", \"soup\", \"soup\", \"speak\", \"speak\", \"staff\", \"staff\", \"staff\", \"stand\", \"stand\", \"stay\", \"stay\", \"stay\", \"steak\", \"steak\", \"sushi\", \"table\", \"table\", \"taco\", \"tacos\", \"takeout\", \"taste\", \"taste\", \"taste\", \"tasteless\", \"tasteless\", \"tell\", \"tell\", \"tell\", \"tell\", \"thai\", \"think\", \"think\", \"think\", \"think\", \"think\", \"thru\", \"tiny\", \"tiny\", \"toast\", \"toast\", \"tomato\", \"tomato\", \"topping\", \"tortilla\", \"tourist\", \"trash\", \"treat\", \"treat\", \"try\", \"try\", \"try\", \"try\", \"try\", \"tuna\", \"turkey\", \"two\", \"two\", \"two\", \"two\", \"two\", \"upstairs\", \"use\", \"use\", \"use\", \"use\", \"use\", \"vegan\", \"vegetable\", \"waffle\", \"waited\", \"waiter\", \"waiter\", \"waitress\", \"waitress\", \"walk\", \"walk\", \"walk\", \"want\", \"want\", \"want\", \"want\", \"want\", \"wash\", \"way\", \"way\", \"way\", \"way\", \"way\", \"wear\", \"wear\", \"website\", \"website\", \"well\", \"well\", \"well\", \"well\", \"well\", \"wet\", \"whether\", \"wing\", \"work\", \"work\", \"work\", \"work\", \"wrong\", \"wrong\", \"wrong\", \"wrong\", \"year\", \"year\", \"year\", \"year\", \"year\"]}, \"R\": 30, \"lambda.step\": 0.01, \"plot.opts\": {\"xlab\": \"PC1\", \"ylab\": \"PC2\"}, \"topic.order\": [5, 1, 3, 4, 2]};\n",
       "\n",
       "function LDAvis_load_lib(url, callback){\n",
       "  var s = document.createElement('script');\n",
       "  s.src = url;\n",
       "  s.async = true;\n",
       "  s.onreadystatechange = s.onload = callback;\n",
       "  s.onerror = function(){console.warn(\"failed to load library \" + url);};\n",
       "  document.getElementsByTagName(\"head\")[0].appendChild(s);\n",
       "}\n",
       "\n",
       "if(typeof(LDAvis) !== \"undefined\"){\n",
       "   // already loaded: just create the visualization\n",
       "   !function(LDAvis){\n",
       "       new LDAvis(\"#\" + \"ldavis_el22490272012820966572496361\", ldavis_el22490272012820966572496361_data);\n",
       "   }(LDAvis);\n",
       "}else if(typeof define === \"function\" && define.amd){\n",
       "   // require.js is available: use it to load d3/LDAvis\n",
       "   require.config({paths: {d3: \"https://d3js.org/d3.v5\"}});\n",
       "   require([\"d3\"], function(d3){\n",
       "      window.d3 = d3;\n",
       "      LDAvis_load_lib(\"https://cdn.jsdelivr.net/gh/bmabey/pyLDAvis@3.4.0/pyLDAvis/js/ldavis.v3.0.0.js\", function(){\n",
       "        new LDAvis(\"#\" + \"ldavis_el22490272012820966572496361\", ldavis_el22490272012820966572496361_data);\n",
       "      });\n",
       "    });\n",
       "}else{\n",
       "    // require.js not available: dynamically load d3 & LDAvis\n",
       "    LDAvis_load_lib(\"https://d3js.org/d3.v5.js\", function(){\n",
       "         LDAvis_load_lib(\"https://cdn.jsdelivr.net/gh/bmabey/pyLDAvis@3.4.0/pyLDAvis/js/ldavis.v3.0.0.js\", function(){\n",
       "                 new LDAvis(\"#\" + \"ldavis_el22490272012820966572496361\", ldavis_el22490272012820966572496361_data);\n",
       "            })\n",
       "         });\n",
       "}\n",
       "</script>"
      ],
      "text/plain": [
       "<IPython.core.display.HTML object>"
      ]
     },
     "execution_count": 27,
     "metadata": {},
     "output_type": "execute_result"
    }
   ],
   "source": [
    "panel_bow = lda_model.prepare(best_model_bow, bow, vectorizer_bow, mds='tsne')\n",
    "pyLDAvis.display(panel_bow)"
   ]
  },
  {
   "cell_type": "markdown",
   "metadata": {},
   "source": [
    "### TF-IDF : sklearn"
   ]
  },
  {
   "cell_type": "code",
   "execution_count": 28,
   "metadata": {},
   "outputs": [],
   "source": [
    "# Create bag of words\n",
    "tfidf, vectorizer_tfidf = create_tfidf(review_sample['tokens_without_top_words'])"
   ]
  },
  {
   "cell_type": "code",
   "execution_count": 29,
   "metadata": {},
   "outputs": [
    {
     "data": {
      "image/png": "[encoded data removed]",
      "text/plain": [
       "<Figure size 640x480 with 2 Axes>"
      ]
     },
     "metadata": {},
     "output_type": "display_data"
    }
   ],
   "source": [
    "# LDA tuning with perplexity\n",
    "topic_range = range(2, 7)\n",
    "best_model_tfidf, best_num_topics_tfidf, best_perplexity_tfidf, best_log_likelihood_tfidf = tune_lda(tfidf, topic_range, max_iter=10)"
   ]
  },
  {
   "cell_type": "markdown",
   "metadata": {},
   "source": [
    "Décision basée sur le graphique et non sur les chiffres."
   ]
  },
  {
   "cell_type": "code",
   "execution_count": 30,
   "metadata": {},
   "outputs": [],
   "source": [
    "#best_params_sklearn_bow = 2\n",
    "best_params_sklearn_tfidf = LatentDirichletAllocation(n_components=4, max_iter=10, learning_method='online', random_state=100).fit(tfidf)"
   ]
  },
  {
   "cell_type": "code",
   "execution_count": 31,
   "metadata": {},
   "outputs": [
    {
     "name": "stdout",
     "output_type": "stream",
     "text": [
      "Topic #0: table tell customer drink restaurant manager even leave make people server bad give didnt rude\n",
      "Topic #1: pizza call drive delivery hour location phone thru close online deliver pick mcdonalds burrito dont\n",
      "Topic #2: chicken taste fry cheese bad sauce eat burger salad meat sandwich cook rice dry flavor\n",
      "Topic #3: dirty coffee bathroom clean trash mask smell wear disgust bagel breakfast floor hand filthy fly\n"
     ]
    }
   ],
   "source": [
    "sklearn_print_top_words(best_params_sklearn_tfidf, vectorizer_tfidf.get_feature_names_out(), 15)"
   ]
  },
  {
   "cell_type": "markdown",
   "metadata": {},
   "source": [
    "Interprétation des topics :\n",
    "Topic 0 : Relation client du restaurant et problématique avec son staff.\n",
    "Topic 1 : Problématique de livraison, d'attente et de contact à distance avec le restaurant.\n",
    "Topic 2 : Qualité de la nourriture de manière ciblé, goût déplaisant des aliments, aliments surgelés ou froid.\n",
    "Topic 3 : Qualité de la propreté et expérience gachée pour des questions d'hygiène."
   ]
  },
  {
   "cell_type": "code",
   "execution_count": 32,
   "metadata": {},
   "outputs": [
    {
     "data": {
      "text/html": [
       "<div>\n",
       "<style scoped>\n",
       "    .dataframe tbody tr th:only-of-type {\n",
       "        vertical-align: middle;\n",
       "    }\n",
       "\n",
       "    .dataframe tbody tr th {\n",
       "        vertical-align: top;\n",
       "    }\n",
       "\n",
       "    .dataframe thead th {\n",
       "        text-align: right;\n",
       "    }\n",
       "</style>\n",
       "<table border=\"1\" class=\"dataframe\">\n",
       "  <thead>\n",
       "    <tr style=\"text-align: right;\">\n",
       "      <th></th>\n",
       "      <th>text</th>\n",
       "      <th>clean_comment</th>\n",
       "      <th>tokens</th>\n",
       "      <th>tokens_without_stopwords</th>\n",
       "      <th>tokens_lemm</th>\n",
       "      <th>tokens_without_top_words</th>\n",
       "    </tr>\n",
       "  </thead>\n",
       "  <tbody>\n",
       "    <tr>\n",
       "      <th>3155066</th>\n",
       "      <td>I have a laundry list of issues with this plac...</td>\n",
       "      <td>i have a laundry list of issues with this plac...</td>\n",
       "      <td>[i, have, a, laundry, list, of, issues, with, ...</td>\n",
       "      <td>[laundry, list, issues, place, boil, salads, e...</td>\n",
       "      <td>[laundry, list, issue, place, boil, salad, exp...</td>\n",
       "      <td>[laundry, list, issue, boil, salad, expensive,...</td>\n",
       "    </tr>\n",
       "    <tr>\n",
       "      <th>5796398</th>\n",
       "      <td>I expected better food, after being in NO for ...</td>\n",
       "      <td>i expected better food after being in no for a...</td>\n",
       "      <td>[i, expected, better, food, after, being, in, ...</td>\n",
       "      <td>[expected, better, food, days, shame, airport,...</td>\n",
       "      <td>[expect, well, food, day, shame, airport, does...</td>\n",
       "      <td>[expect, well, day, shame, airport, doesnt, ke...</td>\n",
       "    </tr>\n",
       "    <tr>\n",
       "      <th>2221781</th>\n",
       "      <td>Worst dinner experience, drinks and food was g...</td>\n",
       "      <td>worst dinner experience drinks and food was go...</td>\n",
       "      <td>[worst, dinner, experience, drinks, and, food,...</td>\n",
       "      <td>[worst, dinner, experience, drinks, food, good...</td>\n",
       "      <td>[bad, dinner, experience, drink, food, good, b...</td>\n",
       "      <td>[bad, dinner, experience, drink, bit, dinner, ...</td>\n",
       "    </tr>\n",
       "    <tr>\n",
       "      <th>3226366</th>\n",
       "      <td>Hello my fellow yelpers, word to the wise don'...</td>\n",
       "      <td>hello my fellow yelpers word to the wise dont ...</td>\n",
       "      <td>[hello, my, fellow, yelpers, word, to, the, wi...</td>\n",
       "      <td>[hello, fellow, yelpers, word, wise, dont, try...</td>\n",
       "      <td>[hello, fellow, yelpers, word, wise, dont, try...</td>\n",
       "      <td>[hello, fellow, yelpers, word, wise, dont, try...</td>\n",
       "    </tr>\n",
       "    <tr>\n",
       "      <th>2684804</th>\n",
       "      <td>Do not go here you will be sorry or sick, I wa...</td>\n",
       "      <td>do not go here you will be sorry or sick i war...</td>\n",
       "      <td>[do, not, go, here, you, will, be, sorry, or, ...</td>\n",
       "      <td>[go, sorry, sick, warned, place, anymore, owne...</td>\n",
       "      <td>[go, sorry, sick, warn, place, anymore, owners...</td>\n",
       "      <td>[sorry, sick, warn, anymore, ownership, change...</td>\n",
       "    </tr>\n",
       "  </tbody>\n",
       "</table>\n",
       "</div>"
      ],
      "text/plain": [
       "                                                      text  \\\n",
       "3155066  I have a laundry list of issues with this plac...   \n",
       "5796398  I expected better food, after being in NO for ...   \n",
       "2221781  Worst dinner experience, drinks and food was g...   \n",
       "3226366  Hello my fellow yelpers, word to the wise don'...   \n",
       "2684804  Do not go here you will be sorry or sick, I wa...   \n",
       "\n",
       "                                             clean_comment  \\\n",
       "3155066  i have a laundry list of issues with this plac...   \n",
       "5796398  i expected better food after being in no for a...   \n",
       "2221781  worst dinner experience drinks and food was go...   \n",
       "3226366  hello my fellow yelpers word to the wise dont ...   \n",
       "2684804  do not go here you will be sorry or sick i war...   \n",
       "\n",
       "                                                    tokens  \\\n",
       "3155066  [i, have, a, laundry, list, of, issues, with, ...   \n",
       "5796398  [i, expected, better, food, after, being, in, ...   \n",
       "2221781  [worst, dinner, experience, drinks, and, food,...   \n",
       "3226366  [hello, my, fellow, yelpers, word, to, the, wi...   \n",
       "2684804  [do, not, go, here, you, will, be, sorry, or, ...   \n",
       "\n",
       "                                  tokens_without_stopwords  \\\n",
       "3155066  [laundry, list, issues, place, boil, salads, e...   \n",
       "5796398  [expected, better, food, days, shame, airport,...   \n",
       "2221781  [worst, dinner, experience, drinks, food, good...   \n",
       "3226366  [hello, fellow, yelpers, word, wise, dont, try...   \n",
       "2684804  [go, sorry, sick, warned, place, anymore, owne...   \n",
       "\n",
       "                                               tokens_lemm  \\\n",
       "3155066  [laundry, list, issue, place, boil, salad, exp...   \n",
       "5796398  [expect, well, food, day, shame, airport, does...   \n",
       "2221781  [bad, dinner, experience, drink, food, good, b...   \n",
       "3226366  [hello, fellow, yelpers, word, wise, dont, try...   \n",
       "2684804  [go, sorry, sick, warn, place, anymore, owners...   \n",
       "\n",
       "                                  tokens_without_top_words  \n",
       "3155066  [laundry, list, issue, boil, salad, expensive,...  \n",
       "5796398  [expect, well, day, shame, airport, doesnt, ke...  \n",
       "2221781  [bad, dinner, experience, drink, bit, dinner, ...  \n",
       "3226366  [hello, fellow, yelpers, word, wise, dont, try...  \n",
       "2684804  [sorry, sick, warn, anymore, ownership, change...  "
      ]
     },
     "execution_count": 32,
     "metadata": {},
     "output_type": "execute_result"
    }
   ],
   "source": [
    "review_sample.head()"
   ]
  },
  {
   "cell_type": "markdown",
   "metadata": {},
   "source": [
    "Interprétation des topics :\n",
    "- Sujet en lien avec le contact client\n",
    "- Sujet en lien avec le temps d'attente et la qualité de la nourriture / boisson"
   ]
  },
  {
   "cell_type": "code",
   "execution_count": 33,
   "metadata": {},
   "outputs": [
    {
     "data": {
      "text/html": [
       "\n",
       "<link rel=\"stylesheet\" type=\"text/css\" href=\"https://cdn.jsdelivr.net/gh/bmabey/pyLDAvis@3.4.0/pyLDAvis/js/ldavis.v1.0.0.css\">\n",
       "\n",
       "\n",
       "<div id=\"ldavis_el22490272012744807154240121\" style=\"background-color:white;\"></div>\n",
       "<script type=\"text/javascript\">\n",
       "\n",
       "var ldavis_el22490272012744807154240121_data = {\"mdsDat\": {\"x\": [-56.51333236694336, 75.73945617675781, 73.33978271484375, -59.344329833984375], \"y\": [45.801021575927734, 44.234153747558594, -88.1529541015625, -86.71747589111328], \"topics\": [1, 2, 3, 4], \"cluster\": [1, 1, 1, 1], \"Freq\": [51.37894955794149, 30.744760870981143, 10.587554465401297, 7.288735105676067]}, \"tinfo\": {\"Term\": [\"pizza\", \"call\", \"dirty\", \"coffee\", \"drive\", \"hour\", \"delivery\", \"location\", \"clean\", \"disgust\", \"chicken\", \"close\", \"bathroom\", \"breakfast\", \"phone\", \"tell\", \"smell\", \"trash\", \"customer\", \"mask\", \"hand\", \"min\", \"taste\", \"floor\", \"wear\", \"pick\", \"thru\", \"deliver\", \"online\", \"bagel\", \"seat\", \"bartender\", \"reservation\", \"hostess\", \"management\", \"talk\", \"card\", \"stand\", \"group\", \"treat\", \"speak\", \"watch\", \"ignore\", \"greet\", \"apologize\", \"explain\", \"job\", \"acknowledge\", \"young\", \"act\", \"guest\", \"apology\", \"yell\", \"host\", \"eye\", \"question\", \"game\", \"cash\", \"patron\", \"available\", \"response\", \"walk\", \"table\", \"bar\", \"party\", \"manager\", \"sit\", \"drink\", \"owner\", \"server\", \"room\", \"leave\", \"staff\", \"people\", \"customer\", \"rude\", \"front\", \"waitress\", \"check\", \"tell\", \"experience\", \"restaurant\", \"another\", \"even\", \"make\", \"want\", \"didnt\", \"work\", \"give\", \"could\", \"dont\", \"know\", \"bad\", \"hour\", \"look\", \"eat\", \"meat\", \"rice\", \"flavor\", \"dry\", \"shrimp\", \"bland\", \"fish\", \"beef\", \"potato\", \"crab\", \"bean\", \"soggy\", \"onion\", \"pork\", \"bacon\", \"tasteless\", \"lettuce\", \"salty\", \"pasta\", \"raw\", \"tomato\", \"noodle\", \"salt\", \"bbq\", \"spicy\", \"seafood\", \"rib\", \"thai\", \"pepper\", \"inedible\", \"brown\", \"chicken\", \"taste\", \"frozen\", \"chinese\", \"sauce\", \"cheese\", \"fry\", \"soup\", \"salad\", \"piece\", \"burger\", \"bread\", \"steak\", \"fresh\", \"cook\", \"dish\", \"sandwich\", \"eat\", \"small\", \"price\", \"bad\", \"cold\", \"roll\", \"meal\", \"well\", \"quality\", \"really\", \"even\", \"dont\", \"restaurant\", \"ever\", \"look\", \"delivery\", \"thru\", \"burrito\", \"driver\", \"hung\", \"chipotle\", \"mile\", \"pickup\", \"indian\", \"uber\", \"wendys\", \"donut\", \"lock\", \"advertise\", \"grubhub\", \"pepperoni\", \"eats\", \"hut\", \"nugget\", \"ramen\", \"drivethru\", \"john\", \"subway\", \"domino\", \"franchise\", \"pizzas\", \"doordash\", \"smh\", \"curbside\", \"row\", \"pizza\", \"popeyes\", \"drive\", \"mcdonalds\", \"online\", \"deliver\", \"call\", \"window\", \"car\", \"answer\", \"phone\", \"pick\", \"store\", \"refund\", \"location\", \"close\", \"hour\", \"wrong\", \"min\", \"pm\", \"open\", \"always\", \"dont\", \"tell\", \"give\", \"ever\", \"line\", \"customer\", \"bad\", \"bathroom\", \"mask\", \"trash\", \"wear\", \"bagel\", \"filthy\", \"fly\", \"health\", \"wash\", \"na\", \"biscuit\", \"tourist\", \"beware\", \"roach\", \"glove\", \"milk\", \"vegan\", \"fruit\", \"gon\", \"toilet\", \"fake\", \"trap\", \"english\", \"department\", \"rotten\", \"apple\", \"omg\", \"cuban\", \"nose\", \"cleanliness\", \"coffee\", \"wipe\", \"dirty\", \"restroom\", \"bug\", \"smell\", \"floor\", \"garbage\", \"clean\", \"breakfast\", \"disgust\", \"hand\", \"cup\", \"cream\", \"gross\", \"ice\", \"egg\", \"smoke\", \"nasty\"], \"Freq\": [2220.0, 1690.0, 1064.0, 970.0, 1006.0, 1617.0, 837.0, 1232.0, 674.0, 728.0, 1550.0, 1026.0, 521.0, 658.0, 750.0, 1798.0, 528.0, 475.0, 1643.0, 471.0, 645.0, 930.0, 1389.0, 465.0, 426.0, 705.0, 491.0, 570.0, 496.0, 400.0, 916.5764903875926, 560.1034010242613, 534.6550431382196, 479.98447160420005, 513.9230012728882, 498.85445989444077, 452.67041428412625, 450.6864367938961, 394.03831826793856, 389.18545051384984, 406.1910094272645, 334.74942124817744, 301.593287516178, 275.35724559394544, 284.21693283903005, 283.53688202872735, 286.03713313931905, 244.73640906402485, 250.77250488290122, 244.84513389289563, 231.4155050398617, 235.34464173121083, 223.50923280887412, 217.65910565828278, 227.3078804477389, 230.4626332565809, 212.85797637415334, 215.6185322269492, 203.75150354704377, 219.15592455705948, 209.90841171609324, 1001.9184828655517, 1701.8918246376036, 1007.3607566936396, 563.2207751681894, 1235.9222027405492, 930.9944155268273, 1307.239133718629, 666.4691140066124, 1098.2051564366393, 494.28808079117283, 1147.5416386219754, 1006.6657743601426, 1114.8005953531494, 1310.171825650069, 1033.6559770790607, 498.344885855912, 969.5396987650585, 748.4708137912492, 1317.298220368955, 983.5101333624434, 1279.5070966375756, 818.7579162254694, 1232.1179228999586, 1129.130458595724, 960.1518661815268, 1043.3314655527736, 712.6883106286417, 1057.6014581613335, 874.9378622156639, 1020.0060299753088, 820.8488986448012, 1085.636868456338, 909.9744147007958, 784.7451689317714, 787.9974426117409, 697.1064282218681, 640.2096612472556, 627.4524869773857, 636.467113366441, 600.066579324776, 528.4352531882876, 477.57304445180137, 396.7516657056547, 392.9302798408085, 346.2186986606323, 324.9333196908434, 334.9320599447868, 333.06908741519237, 309.57913484602693, 310.58050989879956, 294.535359390619, 298.8345589719776, 283.4635269849769, 281.4785743562112, 274.7256045179828, 261.04998246072483, 244.2200180695007, 244.7451575619289, 247.3384305080002, 238.46510567183347, 226.2238195853522, 221.70332264758588, 222.00064239205412, 212.525249862898, 209.64013512506634, 215.1793922467557, 1459.4659095512382, 1270.8130597705006, 298.27258785553744, 276.95131823006545, 817.065039543977, 896.5822508897204, 945.546081580581, 470.4094354173285, 750.1373330882737, 472.38710054005355, 775.4036370331618, 527.9533157153114, 568.3421284855484, 430.9759633999288, 644.8565217526583, 481.7114061794336, 660.4523546663861, 813.6461233269288, 481.78649445802694, 568.640177206004, 863.836836081984, 622.8215849145058, 437.7124251443212, 548.5324615711496, 579.2975652453658, 465.38202527288763, 525.6356645105261, 544.9377344784918, 538.262857083762, 524.6316709287689, 487.2538266412704, 483.9599069753702, 836.8679168026961, 490.9096865730887, 402.57139712865984, 351.1143170343911, 198.37623106333749, 193.93650384575227, 178.73149888192307, 168.86826942375376, 192.21818135507024, 160.150902954899, 141.50669115467332, 140.60476068837568, 140.5404481528479, 154.2263558439503, 132.42400753884854, 130.12450759946148, 133.3281119445609, 126.7190089465209, 130.46513626252323, 124.46165211977092, 114.8124635536324, 120.79505833413494, 113.33243418229365, 95.16906486318341, 98.0260163841467, 88.97122830965608, 84.29266424256662, 88.27896585689565, 82.94184495817525, 89.97688674888045, 2155.427624408826, 114.02840428117852, 939.6858279435884, 419.8156221347569, 466.16735336685196, 445.477524230256, 1067.0766250645302, 327.6744345824595, 320.1382295520985, 338.0365601204, 493.32362536262764, 432.79707320568366, 374.9369488374465, 305.2944344332411, 586.2467315595761, 480.2740325025054, 620.5892076097902, 361.92237407109104, 350.76947399259916, 307.67283308729986, 307.9661152273688, 285.78883429467726, 387.5564045963851, 375.7160581275739, 367.5773870555684, 333.1344110180909, 264.26087674292353, 311.3488757398384, 314.1254667366336, 521.1635859788311, 470.6532538574224, 474.8176886129163, 425.53456700546474, 400.168509716618, 352.479759733065, 328.9848937784502, 319.7663495087433, 282.1706505365916, 272.1534226600887, 272.63585735560554, 251.25532702522008, 239.10895107710786, 212.57867011440084, 211.46551736615893, 210.3720068118847, 205.22032474511198, 191.20564378999012, 185.80013220111846, 155.03868306171992, 161.9461862865734, 153.5387516868315, 163.44678027513348, 144.8918874421461, 141.64407038579844, 140.56812827586617, 138.1467372508141, 125.18995632800566, 121.65157650879573, 119.99325794364489, 948.5576561263917, 178.70280139606498, 1022.8555031238234, 218.12386545521994, 215.43724174091307, 436.11305256234647, 390.6803854096457, 284.71017178990695, 501.77505114837567, 397.5835088062695, 414.94249591453274, 354.4643766699607, 280.06300439624454, 280.2974845864252, 288.14541215485906, 285.4243315584794, 256.18841042449276, 218.28256475457346, 219.0761607239273], \"Total\": [2220.0, 1690.0, 1064.0, 970.0, 1006.0, 1617.0, 837.0, 1232.0, 674.0, 728.0, 1550.0, 1026.0, 521.0, 658.0, 750.0, 1798.0, 528.0, 475.0, 1643.0, 471.0, 645.0, 930.0, 1389.0, 465.0, 426.0, 705.0, 491.0, 570.0, 496.0, 400.0, 917.6080884555281, 561.1223143629214, 535.6665848346105, 481.0023180423722, 515.0144178950037, 499.9578130569985, 453.72781790198985, 451.76021756315714, 395.0840357043416, 390.2243667746777, 407.31873068408015, 335.82533221383056, 302.6298082366707, 276.3903936582657, 285.2896101366639, 284.6335297341365, 287.1795760597621, 245.7580473903653, 251.84548481637535, 245.9178818382167, 232.45536261809957, 236.41305031104076, 224.5491503954968, 218.6751971550206, 228.37500145779165, 231.54944233778068, 213.90329945752006, 216.67762701691566, 204.78631799326752, 220.28598512152968, 210.99332168088938, 1037.84148745383, 1802.3645593438564, 1066.856685171214, 588.6054088269245, 1345.7074821810213, 1030.5663740780774, 1503.0344464140014, 733.0440188671381, 1262.2400274432086, 531.8281441957096, 1359.766800409928, 1186.0216892449712, 1343.4265073434483, 1643.7435000308328, 1257.1368233237167, 544.8277354862153, 1187.2052473248068, 879.3679320251657, 1798.0025358053601, 1301.1542750522638, 1854.2997300656682, 1079.5633549649149, 1988.1756315387497, 1804.2464976852918, 1436.344569888053, 1633.4672560255583, 930.1327107001752, 1827.3664307363695, 1347.5091636322722, 1973.341777043278, 1267.2096389711735, 2266.0628158448853, 1617.7692085251092, 1303.9402214915654, 1670.3556397143886, 698.1414445080273, 641.2193656517477, 628.4799763539131, 637.52141588579, 601.0749634514402, 529.4571323216936, 478.5919653552242, 397.76670637727295, 393.94360001879204, 347.2302728397515, 325.94692232182706, 335.99754404909265, 334.13147595201224, 310.5866106125817, 311.6375111565644, 295.546345230538, 299.8607584833621, 284.4726861007492, 282.5004767682187, 275.78081902424094, 262.06631649396405, 245.22983104344138, 245.76426033834076, 248.37611003563725, 239.48112233362343, 227.24788849020098, 222.71202339896712, 223.020814637648, 213.56813547070612, 210.67652610810956, 216.32153163460518, 1550.8318777241427, 1389.4989621571165, 303.9775203435221, 282.101188537216, 915.9745701873678, 1027.1853691321562, 1090.2789119397103, 510.35414406226175, 907.8579502811982, 527.2120571557301, 956.9030095225403, 608.4903639097902, 669.699390264427, 505.0491631466003, 908.0064405193071, 608.3711132741062, 1021.3909581946996, 1670.3556397143886, 690.9377099673351, 939.2276624713845, 2266.0628158448853, 1171.7110346502188, 582.5155051464736, 1089.8462274221472, 1392.111007700072, 691.2419524401471, 1201.7252957402413, 1988.1756315387497, 1973.341777043278, 1854.2997300656682, 1529.2251734516233, 1303.9402214915654, 837.7920612102972, 491.83240631424036, 403.5603564555871, 352.03190884771215, 199.30208485358918, 194.88794461712297, 179.69974126047143, 169.79232406582804, 193.27565801439587, 161.08011633672416, 142.4350319071913, 141.5507778812026, 141.49611345188674, 155.28685026901786, 133.33793410363805, 131.04371434039842, 134.2799667390129, 127.63453217450437, 131.43007612978911, 125.44056794627468, 115.73163966344057, 121.78892745104145, 114.28998484515571, 96.07712955103199, 98.97977213929465, 89.90202198137769, 85.20826530467666, 89.25079858188819, 83.8555722427691, 90.99102848398634, 2220.796380910545, 115.69184676590125, 1006.2736500297609, 445.1362126589732, 496.5725645074695, 570.0804168994791, 1690.8479367292036, 420.04357756281, 424.8354855698887, 455.74088843441035, 750.5299424210158, 705.6297826249776, 591.3283867338071, 445.2868296376743, 1232.378508328073, 1026.8107764889112, 1617.7692085251092, 895.7392547582135, 930.3099622963673, 777.545663501446, 906.860661662904, 749.6048792954059, 1973.341777043278, 1798.0025358053601, 1827.3664307363695, 1529.2251734516233, 673.1497889508599, 1643.7435000308328, 2266.0628158448853, 521.9907185115746, 471.4565301472592, 475.67609782154705, 426.3499052779963, 400.97563950330937, 353.28979018152165, 329.8072259545806, 320.5722965849906, 282.9847180054676, 272.9822255415729, 273.46753526065027, 252.08154840433085, 239.96721844852186, 213.3800046412261, 212.26692848230877, 211.22057328052392, 206.0485872531541, 192.03593870328902, 186.63242691483134, 155.84682358949274, 162.79887416413908, 154.3520456735324, 164.3149312644558, 145.70426630563185, 142.4812141490749, 141.41823151616444, 138.98998434523753, 126.0174126841742, 122.46397866567547, 120.80586216905961, 970.0834791570738, 180.48988732886275, 1064.2563164050894, 221.51660489458337, 218.9769983470722, 528.7466327263013, 465.27233190174394, 322.0872935487305, 674.3784606729253, 658.8811951394871, 728.4887667118894, 645.790793768386, 436.6341478728947, 442.96836294124626, 526.6160643722931, 518.4395195632744, 588.1279047458322, 270.41482972691637, 465.98512790840545], \"Category\": [\"Default\", \"Default\", \"Default\", \"Default\", \"Default\", \"Default\", \"Default\", \"Default\", \"Default\", \"Default\", \"Default\", \"Default\", \"Default\", \"Default\", \"Default\", \"Default\", \"Default\", \"Default\", \"Default\", \"Default\", \"Default\", \"Default\", \"Default\", \"Default\", \"Default\", \"Default\", \"Default\", \"Default\", \"Default\", \"Default\", \"Topic1\", \"Topic1\", \"Topic1\", \"Topic1\", \"Topic1\", \"Topic1\", \"Topic1\", \"Topic1\", \"Topic1\", \"Topic1\", \"Topic1\", \"Topic1\", \"Topic1\", \"Topic1\", \"Topic1\", \"Topic1\", \"Topic1\", \"Topic1\", \"Topic1\", \"Topic1\", \"Topic1\", \"Topic1\", \"Topic1\", \"Topic1\", \"Topic1\", \"Topic1\", \"Topic1\", \"Topic1\", \"Topic1\", \"Topic1\", \"Topic1\", \"Topic1\", \"Topic1\", \"Topic1\", \"Topic1\", \"Topic1\", \"Topic1\", \"Topic1\", \"Topic1\", \"Topic1\", \"Topic1\", \"Topic1\", \"Topic1\", \"Topic1\", \"Topic1\", \"Topic1\", \"Topic1\", \"Topic1\", \"Topic1\", \"Topic1\", \"Topic1\", \"Topic1\", \"Topic1\", \"Topic1\", \"Topic1\", \"Topic1\", \"Topic1\", \"Topic1\", \"Topic1\", \"Topic1\", \"Topic1\", \"Topic1\", \"Topic1\", \"Topic1\", \"Topic1\", \"Topic1\", \"Topic2\", \"Topic2\", \"Topic2\", \"Topic2\", \"Topic2\", \"Topic2\", \"Topic2\", \"Topic2\", \"Topic2\", \"Topic2\", \"Topic2\", \"Topic2\", \"Topic2\", \"Topic2\", \"Topic2\", \"Topic2\", \"Topic2\", \"Topic2\", \"Topic2\", \"Topic2\", \"Topic2\", \"Topic2\", \"Topic2\", \"Topic2\", \"Topic2\", \"Topic2\", \"Topic2\", \"Topic2\", \"Topic2\", \"Topic2\", \"Topic2\", \"Topic2\", \"Topic2\", \"Topic2\", \"Topic2\", \"Topic2\", \"Topic2\", \"Topic2\", \"Topic2\", \"Topic2\", \"Topic2\", \"Topic2\", \"Topic2\", \"Topic2\", \"Topic2\", \"Topic2\", \"Topic2\", \"Topic2\", \"Topic2\", \"Topic2\", \"Topic2\", \"Topic2\", \"Topic2\", \"Topic2\", \"Topic2\", \"Topic2\", \"Topic2\", \"Topic2\", \"Topic2\", \"Topic2\", \"Topic2\", \"Topic2\", \"Topic2\", \"Topic3\", \"Topic3\", \"Topic3\", \"Topic3\", \"Topic3\", \"Topic3\", \"Topic3\", \"Topic3\", \"Topic3\", \"Topic3\", \"Topic3\", \"Topic3\", \"Topic3\", \"Topic3\", \"Topic3\", \"Topic3\", \"Topic3\", \"Topic3\", \"Topic3\", \"Topic3\", \"Topic3\", \"Topic3\", \"Topic3\", \"Topic3\", \"Topic3\", \"Topic3\", \"Topic3\", \"Topic3\", \"Topic3\", \"Topic3\", \"Topic3\", \"Topic3\", \"Topic3\", \"Topic3\", \"Topic3\", \"Topic3\", \"Topic3\", \"Topic3\", \"Topic3\", \"Topic3\", \"Topic3\", \"Topic3\", \"Topic3\", \"Topic3\", \"Topic3\", \"Topic3\", \"Topic3\", \"Topic3\", \"Topic3\", \"Topic3\", \"Topic3\", \"Topic3\", \"Topic3\", \"Topic3\", \"Topic3\", \"Topic3\", \"Topic3\", \"Topic3\", \"Topic3\", \"Topic4\", \"Topic4\", \"Topic4\", \"Topic4\", \"Topic4\", \"Topic4\", \"Topic4\", \"Topic4\", \"Topic4\", \"Topic4\", \"Topic4\", \"Topic4\", \"Topic4\", \"Topic4\", \"Topic4\", \"Topic4\", \"Topic4\", \"Topic4\", \"Topic4\", \"Topic4\", \"Topic4\", \"Topic4\", \"Topic4\", \"Topic4\", \"Topic4\", \"Topic4\", \"Topic4\", \"Topic4\", \"Topic4\", \"Topic4\", \"Topic4\", \"Topic4\", \"Topic4\", \"Topic4\", \"Topic4\", \"Topic4\", \"Topic4\", \"Topic4\", \"Topic4\", \"Topic4\", \"Topic4\", \"Topic4\", \"Topic4\", \"Topic4\", \"Topic4\", \"Topic4\", \"Topic4\", \"Topic4\", \"Topic4\"], \"logprob\": [30.0, 29.0, 28.0, 27.0, 26.0, 25.0, 24.0, 23.0, 22.0, 21.0, 20.0, 19.0, 18.0, 17.0, 16.0, 15.0, 14.0, 13.0, 12.0, 11.0, 10.0, 9.0, 8.0, 7.0, 6.0, 5.0, 4.0, 3.0, 2.0, 1.0, -5.6767, -6.1693, -6.2158, -6.3236, -6.2553, -6.2851, -6.3822, -6.3866, -6.5209, -6.5333, -6.4906, -6.684, -6.7883, -6.8793, -6.8476, -6.85, -6.8413, -6.9972, -6.9728, -6.9968, -7.0532, -7.0363, -7.0879, -7.1145, -7.0711, -7.0573, -7.1368, -7.1239, -7.1805, -7.1076, -7.1507, -5.5877, -5.0579, -5.5823, -6.1637, -5.3778, -5.6611, -5.3217, -5.9954, -5.496, -6.2943, -5.452, -5.583, -5.481, -5.3195, -5.5565, -6.2861, -5.6206, -5.8794, -5.314, -5.6063, -5.3432, -5.7896, -5.3809, -5.4682, -5.6303, -5.5472, -5.9283, -5.5336, -5.7232, -5.5698, -5.787, -5.5075, -5.684, -5.832, -5.8279, -5.4369, -5.5221, -5.5422, -5.5279, -5.5868, -5.714, -5.8152, -6.0006, -6.0102, -6.1368, -6.2003, -6.17, -6.1755, -6.2487, -6.2454, -6.2985, -6.284, -6.3368, -6.3438, -6.3681, -6.4192, -6.4858, -6.4837, -6.4731, -6.5097, -6.5624, -6.5825, -6.5812, -6.6248, -6.6385, -6.6124, -4.6981, -4.8365, -6.2859, -6.36, -5.2782, -5.1853, -5.1321, -5.8303, -5.3636, -5.8261, -5.3305, -5.7149, -5.6412, -5.9178, -5.5149, -5.8065, -5.491, -5.2824, -5.8064, -5.6406, -5.2225, -5.5496, -5.9023, -5.6766, -5.6221, -5.841, -5.7193, -5.6832, -5.6955, -5.7212, -5.7951, -5.8019, -4.1882, -4.7216, -4.92, -5.0567, -5.6277, -5.6503, -5.732, -5.7887, -5.6592, -5.8417, -5.9655, -5.9719, -5.9723, -5.8794, -6.0318, -6.0493, -6.025, -6.0759, -6.0467, -6.0938, -6.1745, -6.1237, -6.1875, -6.3622, -6.3326, -6.4295, -6.4835, -6.4373, -6.4997, -6.4183, -3.2421, -6.1814, -4.0723, -4.878, -4.7733, -4.8187, -3.9452, -5.1258, -5.1491, -5.0947, -4.7167, -4.8476, -4.9911, -5.1966, -4.5441, -4.7435, -4.4872, -5.0264, -5.0577, -5.1888, -5.1878, -5.2626, -4.958, -4.989, -5.0109, -5.1093, -5.3409, -5.1769, -5.168, -4.2884, -4.3904, -4.3816, -4.4911, -4.5526, -4.6795, -4.7485, -4.7769, -4.902, -4.9381, -4.9364, -5.018, -5.0676, -5.1852, -5.1904, -5.1956, -5.2204, -5.2911, -5.3198, -5.5008, -5.4572, -5.5105, -5.448, -5.5685, -5.5912, -5.5988, -5.6162, -5.7147, -5.7433, -5.7571, -3.6895, -5.3588, -3.6141, -5.1594, -5.1718, -4.4666, -4.5766, -4.893, -4.3263, -4.5591, -4.5163, -4.6739, -4.9095, -4.9086, -4.881, -4.8905, -4.9986, -5.1587, -5.1551], \"loglift\": [30.0, 29.0, 28.0, 27.0, 26.0, 25.0, 24.0, 23.0, 22.0, 21.0, 20.0, 19.0, 18.0, 17.0, 16.0, 15.0, 14.0, 13.0, 12.0, 11.0, 10.0, 9.0, 8.0, 7.0, 6.0, 5.0, 4.0, 3.0, 2.0, 1.0, 0.6648, 0.6641, 0.6641, 0.6638, 0.6638, 0.6637, 0.6636, 0.6636, 0.6633, 0.6633, 0.6632, 0.6627, 0.6625, 0.6622, 0.6622, 0.6621, 0.662, 0.6618, 0.6617, 0.6616, 0.6615, 0.6614, 0.6613, 0.6613, 0.6613, 0.6612, 0.661, 0.661, 0.6609, 0.6608, 0.6608, 0.6307, 0.6086, 0.6086, 0.6219, 0.5808, 0.5643, 0.5264, 0.5707, 0.5267, 0.5927, 0.4963, 0.502, 0.4794, 0.4391, 0.4702, 0.5768, 0.4634, 0.5048, 0.3548, 0.3861, 0.2949, 0.3894, 0.1875, 0.1972, 0.2632, 0.2177, 0.3997, 0.1191, 0.2341, 0.006, 0.2317, -0.0699, 0.0906, 0.1582, -0.0854, 1.178, 1.1779, 1.1778, 1.1778, 1.1778, 1.1775, 1.1773, 1.1769, 1.1769, 1.1765, 1.1763, 1.1763, 1.1763, 1.1762, 1.1761, 1.176, 1.176, 1.1759, 1.1758, 1.1756, 1.1756, 1.1753, 1.1753, 1.1753, 1.1752, 1.1749, 1.1749, 1.1749, 1.1746, 1.1745, 1.1742, 1.1187, 1.0902, 1.1605, 1.161, 1.0652, 1.0435, 1.037, 1.0979, 0.9886, 1.0696, 0.9691, 1.0375, 1.0153, 1.0208, 0.8372, 0.946, 0.7435, 0.4602, 0.8189, 0.6776, 0.215, 0.5475, 0.8937, 0.4929, 0.3027, 0.7838, 0.3525, -0.1149, -0.1197, -0.0831, 0.0357, 0.1883, 2.2444, 2.2436, 2.243, 2.2429, 2.2408, 2.2406, 2.2401, 2.24, 2.24, 2.2397, 2.239, 2.2388, 2.2387, 2.2386, 2.2386, 2.2385, 2.2384, 2.2383, 2.2381, 2.2377, 2.2375, 2.2373, 2.2371, 2.236, 2.2358, 2.2351, 2.2347, 2.2345, 2.2345, 2.2343, 2.2156, 2.231, 2.177, 2.1869, 2.1823, 1.9989, 1.7852, 1.9972, 1.9625, 1.9467, 1.8259, 1.7567, 1.7899, 1.868, 1.5025, 1.4856, 1.2874, 1.3393, 1.2701, 1.3184, 1.1655, 1.2812, 0.6179, 0.6799, 0.6418, 0.7215, 1.3105, 0.5817, 0.2695, 2.6173, 2.6171, 2.617, 2.6169, 2.6168, 2.6165, 2.6163, 2.6163, 2.616, 2.6158, 2.6158, 2.6156, 2.6153, 2.6151, 2.6151, 2.6148, 2.6148, 2.6145, 2.6144, 2.6136, 2.6136, 2.6136, 2.6135, 2.6132, 2.6129, 2.6128, 2.6128, 2.6123, 2.6122, 2.6121, 2.5964, 2.6089, 2.5792, 2.6034, 2.6025, 2.4262, 2.4441, 2.4955, 2.3232, 2.1137, 2.056, 2.019, 2.1748, 2.1612, 2.0158, 2.022, 1.7878, 2.4047, 1.8641]}, \"token.table\": {\"Topic\": [1, 1, 3, 1, 2, 3, 1, 2, 3, 1, 3, 1, 1, 4, 1, 2, 1, 2, 3, 4, 4, 1, 2, 1, 4, 2, 2, 2, 4, 4, 2, 1, 2, 1, 2, 4, 2, 1, 4, 2, 3, 3, 1, 3, 1, 3, 1, 1, 1, 2, 3, 2, 3, 1, 2, 3, 2, 4, 3, 1, 2, 4, 4, 1, 2, 3, 1, 4, 1, 2, 3, 1, 2, 3, 4, 1, 2, 3, 2, 2, 4, 4, 1, 2, 4, 3, 1, 2, 3, 1, 2, 3, 3, 4, 1, 2, 3, 1, 4, 1, 2, 4, 1, 2, 3, 1, 2, 3, 4, 3, 3, 1, 2, 1, 3, 3, 3, 2, 1, 2, 3, 4, 3, 2, 4, 4, 1, 2, 3, 1, 2, 3, 4, 1, 2, 3, 1, 1, 4, 4, 2, 2, 1, 4, 4, 3, 2, 3, 4, 1, 3, 2, 3, 4, 1, 2, 3, 1, 3, 4, 1, 2, 3, 4, 4, 1, 2, 4, 1, 3, 1, 1, 3, 4, 4, 1, 1, 1, 2, 3, 3, 3, 1, 2, 3, 4, 1, 3, 2, 1, 3, 1, 2, 3, 1, 2, 3, 2, 1, 2, 3, 1, 2, 3, 3, 1, 2, 3, 4, 1, 2, 3, 4, 1, 1, 3, 4, 2, 3, 1, 2, 2, 3, 4, 1, 3, 4, 1, 2, 3, 4, 2, 4, 3, 4, 2, 1, 3, 1, 2, 3, 1, 2, 1, 2, 2, 1, 1, 2, 3, 2, 3, 1, 3, 1, 2, 3, 3, 1, 2, 3, 2, 3, 3, 1, 3, 2, 3, 2, 2, 1, 2, 1, 2, 3, 1, 3, 2, 1, 2, 3, 1, 3, 1, 1, 1, 2, 3, 1, 4, 2, 2, 4, 1, 2, 1, 2, 4, 3, 1, 3, 1, 2, 3, 2, 2, 1, 2, 3, 4, 2, 3, 2, 1, 1, 2, 2, 1, 2, 1, 2, 2, 4, 3, 1, 2, 4, 2, 1, 2, 1, 2, 1, 2, 3, 4, 1, 1, 2, 1, 2, 3, 4, 3, 1, 2, 1, 1, 2, 4, 2, 1, 2, 3, 2, 3, 4, 2, 4, 4, 4, 1, 3, 4, 1, 2, 1, 2, 1, 2, 3, 4, 1, 4, 1, 2, 3, 3, 1, 3, 1, 4, 1, 2, 3, 1, 2, 3, 1, 1], \"Freq\": [0.9969154727651249, 0.9962675270649064, 0.9917130763693865, 0.4695807214206821, 0.14807801158436282, 0.38153433615430415, 0.7586400522335413, 0.12412425763039624, 0.11671385418977556, 0.25672482537594055, 0.7416494955304949, 0.9954796456273114, 0.9940229597766213, 0.9970425912438551, 0.9941622018267744, 0.9979543182905086, 0.47924532030021977, 0.3812780448797329, 0.13856632649564365, 0.0008825880668512334, 0.997566835969093, 0.9438943524437794, 0.05530264825638827, 0.997999875723717, 0.9981020380699496, 0.9944595716736211, 0.9970948573004408, 0.9980724722180601, 0.9959693725885757, 0.998290344555142, 0.9972478747895905, 0.13147291188962879, 0.86772121847155, 0.239800439237837, 0.15632560279428614, 0.6040542709915134, 0.9938908918376308, 0.013700069060427466, 0.9818382826639683, 0.809904444115707, 0.18915187662573285, 0.9986114680329142, 0.36845418589511875, 0.631044328009778, 0.24480064291355247, 0.7532327474263153, 0.998395915186873, 0.996872648892067, 0.8506109590298248, 0.09211161454734734, 0.05572184089901259, 0.8732601017846013, 0.12655943504124656, 0.0006448152210202871, 0.940785407468599, 0.058033369891825844, 0.9819171675111783, 0.0177241365976747, 0.995443819683832, 0.23577265478102996, 0.020759856395813958, 0.7443891364784719, 0.9933292792701413, 0.47428407565535446, 0.057459467071182574, 0.46746685074860395, 0.02164762152041528, 0.9782663248987667, 0.25603582378957157, 0.5317010607363436, 0.21165628099937916, 0.1938312242579932, 0.7103473843545774, 0.02753284435482858, 0.06828145399997489, 0.6493462334915762, 0.25454372352869786, 0.09573218756618666, 0.9964568963711317, 0.3657146052696479, 0.6320993177500087, 0.9919264118941717, 0.11222209769599611, 0.24505641741778741, 0.6412691296914064, 0.9897970734694631, 0.796961326372045, 0.013384083343652663, 0.18920226908527174, 0.1754138487055463, 0.043853462176386575, 0.7805916267396811, 0.9990545849656859, 0.9951664675064863, 0.6385190741672758, 0.26263152715029847, 0.0985633470191097, 0.03852455406465646, 0.9612346050766722, 0.09059851437091876, 0.3390580765093475, 0.5696724767262317, 0.2071104252828483, 0.7922795633835943, 0.9887889078694856, 0.5168896801689868, 0.2726339685597205, 0.19662078029957536, 0.014189128475227089, 0.9961089731229534, 0.985819857963822, 0.8695742157595203, 0.12973754558003556, 0.0655885205759368, 0.9341395354754635, 0.9970687064956986, 0.9936781361988108, 0.9976135454466637, 0.47175582328966714, 0.48732137075861554, 0.010776148247733514, 0.030532420035244954, 0.9904679248133815, 0.5628027463567578, 0.43527946546021146, 0.9919974937497342, 0.6196635651582214, 0.2741206517948301, 0.10612744500680578, 0.4629795613434541, 0.3184619299071499, 0.21775733605560763, 0.0006539259341009239, 0.7562515981899806, 0.20904515722324665, 0.034584676746493015, 0.9977742266178962, 0.9939791945308611, 0.9950928766047017, 0.9963492005221579, 0.9987631105449403, 0.9976451495519411, 0.1590466376918095, 0.8403680451013177, 0.9975524309625291, 0.990101289201638, 0.8533822674108539, 0.049500131520351154, 0.09702025777988826, 0.9140503824673587, 0.0844303566134508, 0.9803356500284398, 0.0164485847320208, 0.9946054956677165, 0.01375794747172865, 0.8676678872170202, 0.11831834825686639, 0.9957770662733538, 0.1148756897309954, 0.8848532857657754, 0.5789752849808346, 0.21998871886795415, 0.20138270781942072, 0.9940314372504129, 0.9966113771047946, 0.9949694573683889, 0.4519421569178434, 0.5468879882031046, 0.9972561895536756, 0.989965840459189, 0.9937391738280068, 0.3654434257615661, 0.08516690007155141, 0.5481651386423491, 0.9982147659324052, 0.9969123285868495, 0.9979161887484211, 0.5625029795378726, 0.05377775738439003, 0.3838619233989219, 0.9934667775575668, 0.9950285227383697, 0.15045149348511475, 0.2584679503462228, 0.04050617132291551, 0.5497266108109962, 0.9979188823455943, 0.9933997999153061, 0.9967887921800913, 0.9958925489202733, 0.9935221742439715, 0.6478801729022171, 0.24463197758792607, 0.1073224159740579, 0.8442624129769261, 0.1250214374617399, 0.030152229034890215, 0.9971294727335593, 0.5749091901271488, 0.03268217618293869, 0.3921861141952643, 0.42438260361221064, 0.09980699855507057, 0.4755032614087102, 0.9964938015625748, 0.6020214631480925, 0.3711826600811169, 0.0023007189674449395, 0.02454100231941269, 0.6257459839597412, 0.24608610883802048, 0.12803128635491606, 0.0005542479928784246, 0.9980303116577787, 0.9184759811224237, 0.08099828636111989, 0.9990316601466596, 0.05616258414624412, 0.9435314136569013, 0.4964003052794401, 0.5037407903852359, 0.9983650239976346, 0.996106053044021, 0.9942213333598765, 0.6223732126557072, 0.3772936055995738, 0.9964018699766102, 0.14378141272605077, 0.2918548079215359, 0.09442361432755572, 0.46997208040306143, 0.9949849859692497, 0.9962113049834668, 0.9891191105422712, 0.9928772972390694, 0.9966136804418427, 0.060414131074188124, 0.9384328360190555, 0.5634823756308747, 0.09593535553793756, 0.3396332127090203, 0.9085402552349456, 0.09003552078904867, 0.9564981761245527, 0.04247327602684515, 0.9946885867755552, 0.9961603001559246, 0.8299672471141357, 0.10495549941084586, 0.06475977623222404, 0.997339792898159, 0.9920353727330463, 0.34242471282489323, 0.6568691961971688, 0.2848519222817808, 0.10203650947407074, 0.6136362305871199, 0.995333569581621, 0.07397402899016024, 0.8952754277783497, 0.028451549611600093, 0.029268779685848307, 0.9703726188154324, 0.9899666107447002, 0.6031800086029645, 0.39611821460493196, 0.008643651458200577, 0.9853762662348657, 0.9981112817084269, 0.9976047332187983, 0.393940697004623, 0.6058169097179202, 0.3038010052177546, 0.6727022258393137, 0.021700071801268185, 0.9933083737013697, 0.9885159325259778, 0.997168697130556, 0.5325676361050313, 0.4377040259238226, 0.029956929530908012, 0.312158345471621, 0.684951765243485, 0.9987555975050856, 0.9952921653018397, 0.6902875404909162, 0.28312574902947735, 0.026964357050426414, 0.013543002798492952, 0.9841248700238211, 0.9968029413585292, 0.9980983642773977, 0.9982191178509672, 0.24720372029203097, 0.7519113158882609, 0.9288714886405315, 0.06957134631518151, 0.9966226133603029, 0.9891085033272181, 0.8225039477136863, 0.17738721502916058, 0.17293454328551192, 0.8261204297078595, 0.001101493906277146, 0.9968902706305277, 0.9948231019261103, 0.1654606384010939, 0.6461776410930294, 0.1625234673052165, 0.02545548283093752, 0.8919461594145327, 0.10698986979513365, 0.9945086904943683, 0.999337311360723, 0.8698820954237262, 0.1291355023261087, 0.9982115983582686, 0.9033867428799554, 0.09606368157370095, 0.3010401617966885, 0.6976026826250186, 0.1739963799403004, 0.8245915397170759, 0.985985575459691, 0.051772308545866993, 0.140524837481639, 0.8061688044999289, 0.9970310972006781, 0.0764175238973706, 0.9209291341477994, 0.9967624108965837, 0.9938152856509497, 0.8490569853246634, 0.08431549010175406, 0.0269809568325613, 0.04047143524884195, 0.9983172100295643, 0.1508139345328069, 0.8481417308379635, 0.2198440036306272, 0.08455538601177968, 0.6341653950883477, 0.060879877928481374, 0.9887130543686445, 0.9443150616652195, 0.05548267107316213, 0.9980842122435453, 0.06836996830319184, 0.9147182075090191, 0.01655272916814118, 0.9981514058984156, 0.7324795008757261, 0.058398137883030554, 0.2091209508954237, 0.9954227831186674, 0.9983075407322621, 0.9945663083148661, 0.9959311196180047, 0.9957095296693589, 0.9977192030594982, 0.9985786592501844, 0.9968624030713472, 0.9932945396285519, 0.9949109709164577, 0.8170449062499959, 0.18278221098582384, 0.9654653548859748, 0.03372383974152607, 0.6683633023201537, 0.22835746162605253, 0.10303934244102371, 0.9965202431692847, 0.9975423765432173, 0.9991793002093711, 0.5092984654803857, 0.4159151079169863, 0.07398835253100103, 0.9969457520290741, 0.2190248938784049, 0.7808713607838783, 0.005540476615057904, 0.9917453140953648, 0.7665572791900584, 0.05268065453059308, 0.1806193869620334, 0.44432573194241887, 0.15071350204077022, 0.40413546473154677, 0.9975544312034599, 0.9966428430631115], \"Term\": [\"acknowledge\", \"act\", \"advertise\", \"always\", \"always\", \"always\", \"another\", \"another\", \"another\", \"answer\", \"answer\", \"apologize\", \"apology\", \"apple\", \"available\", \"bacon\", \"bad\", \"bad\", \"bad\", \"bad\", \"bagel\", \"bar\", \"bar\", \"bartender\", \"bathroom\", \"bbq\", \"bean\", \"beef\", \"beware\", \"biscuit\", \"bland\", \"bread\", \"bread\", \"breakfast\", \"breakfast\", \"breakfast\", \"brown\", \"bug\", \"bug\", \"burger\", \"burger\", \"burrito\", \"call\", \"call\", \"car\", \"car\", \"card\", \"cash\", \"check\", \"check\", \"check\", \"cheese\", \"cheese\", \"chicken\", \"chicken\", \"chicken\", \"chinese\", \"chinese\", \"chipotle\", \"clean\", \"clean\", \"clean\", \"cleanliness\", \"close\", \"close\", \"close\", \"coffee\", \"coffee\", \"cold\", \"cold\", \"cold\", \"cook\", \"cook\", \"cook\", \"cook\", \"could\", \"could\", \"could\", \"crab\", \"cream\", \"cream\", \"cuban\", \"cup\", \"cup\", \"cup\", \"curbside\", \"customer\", \"customer\", \"customer\", \"deliver\", \"deliver\", \"deliver\", \"delivery\", \"department\", \"didnt\", \"didnt\", \"didnt\", \"dirty\", \"dirty\", \"disgust\", \"disgust\", \"disgust\", \"dish\", \"dish\", \"domino\", \"dont\", \"dont\", \"dont\", \"dont\", \"donut\", \"doordash\", \"drink\", \"drink\", \"drive\", \"drive\", \"driver\", \"drivethru\", \"dry\", \"eat\", \"eat\", \"eat\", \"eat\", \"eats\", \"egg\", \"egg\", \"english\", \"even\", \"even\", \"even\", \"ever\", \"ever\", \"ever\", \"ever\", \"experience\", \"experience\", \"experience\", \"explain\", \"eye\", \"fake\", \"filthy\", \"fish\", \"flavor\", \"floor\", \"floor\", \"fly\", \"franchise\", \"fresh\", \"fresh\", \"fresh\", \"front\", \"front\", \"frozen\", \"frozen\", \"fruit\", \"fry\", \"fry\", \"fry\", \"game\", \"garbage\", \"garbage\", \"give\", \"give\", \"give\", \"glove\", \"gon\", \"greet\", \"gross\", \"gross\", \"group\", \"grubhub\", \"guest\", \"hand\", \"hand\", \"hand\", \"health\", \"host\", \"hostess\", \"hour\", \"hour\", \"hour\", \"hung\", \"hut\", \"ice\", \"ice\", \"ice\", \"ice\", \"ignore\", \"indian\", \"inedible\", \"job\", \"john\", \"know\", \"know\", \"know\", \"leave\", \"leave\", \"leave\", \"lettuce\", \"line\", \"line\", \"line\", \"location\", \"location\", \"location\", \"lock\", \"look\", \"look\", \"look\", \"look\", \"make\", \"make\", \"make\", \"make\", \"management\", \"manager\", \"manager\", \"mask\", \"mcdonalds\", \"mcdonalds\", \"meal\", \"meal\", \"meat\", \"mile\", \"milk\", \"min\", \"min\", \"na\", \"nasty\", \"nasty\", \"nasty\", \"nasty\", \"noodle\", \"nose\", \"nugget\", \"omg\", \"onion\", \"online\", \"online\", \"open\", \"open\", \"open\", \"owner\", \"owner\", \"party\", \"party\", \"pasta\", \"patron\", \"people\", \"people\", \"people\", \"pepper\", \"pepperoni\", \"phone\", \"phone\", \"pick\", \"pick\", \"pick\", \"pickup\", \"piece\", \"piece\", \"piece\", \"pizza\", \"pizza\", \"pizzas\", \"pm\", \"pm\", \"popeyes\", \"popeyes\", \"pork\", \"potato\", \"price\", \"price\", \"quality\", \"quality\", \"quality\", \"question\", \"ramen\", \"raw\", \"really\", \"really\", \"really\", \"refund\", \"refund\", \"reservation\", \"response\", \"restaurant\", \"restaurant\", \"restaurant\", \"restroom\", \"restroom\", \"rib\", \"rice\", \"roach\", \"roll\", \"roll\", \"room\", \"room\", \"rotten\", \"row\", \"rude\", \"rude\", \"salad\", \"salad\", \"salad\", \"salt\", \"salty\", \"sandwich\", \"sandwich\", \"sandwich\", \"sandwich\", \"sauce\", \"sauce\", \"seafood\", \"seat\", \"server\", \"server\", \"shrimp\", \"sit\", \"sit\", \"small\", \"small\", \"smell\", \"smell\", \"smh\", \"smoke\", \"smoke\", \"smoke\", \"soggy\", \"soup\", \"soup\", \"speak\", \"spicy\", \"staff\", \"staff\", \"staff\", \"staff\", \"stand\", \"steak\", \"steak\", \"store\", \"store\", \"store\", \"store\", \"subway\", \"table\", \"table\", \"talk\", \"taste\", \"taste\", \"taste\", \"tasteless\", \"tell\", \"tell\", \"tell\", \"thai\", \"thru\", \"toilet\", \"tomato\", \"tourist\", \"trap\", \"trash\", \"treat\", \"uber\", \"vegan\", \"waitress\", \"waitress\", \"walk\", \"walk\", \"want\", \"want\", \"want\", \"wash\", \"watch\", \"wear\", \"well\", \"well\", \"well\", \"wendys\", \"window\", \"window\", \"wipe\", \"wipe\", \"work\", \"work\", \"work\", \"wrong\", \"wrong\", \"wrong\", \"yell\", \"young\"]}, \"R\": 30, \"lambda.step\": 0.01, \"plot.opts\": {\"xlab\": \"PC1\", \"ylab\": \"PC2\"}, \"topic.order\": [1, 3, 2, 4]};\n",
       "\n",
       "function LDAvis_load_lib(url, callback){\n",
       "  var s = document.createElement('script');\n",
       "  s.src = url;\n",
       "  s.async = true;\n",
       "  s.onreadystatechange = s.onload = callback;\n",
       "  s.onerror = function(){console.warn(\"failed to load library \" + url);};\n",
       "  document.getElementsByTagName(\"head\")[0].appendChild(s);\n",
       "}\n",
       "\n",
       "if(typeof(LDAvis) !== \"undefined\"){\n",
       "   // already loaded: just create the visualization\n",
       "   !function(LDAvis){\n",
       "       new LDAvis(\"#\" + \"ldavis_el22490272012744807154240121\", ldavis_el22490272012744807154240121_data);\n",
       "   }(LDAvis);\n",
       "}else if(typeof define === \"function\" && define.amd){\n",
       "   // require.js is available: use it to load d3/LDAvis\n",
       "   require.config({paths: {d3: \"https://d3js.org/d3.v5\"}});\n",
       "   require([\"d3\"], function(d3){\n",
       "      window.d3 = d3;\n",
       "      LDAvis_load_lib(\"https://cdn.jsdelivr.net/gh/bmabey/pyLDAvis@3.4.0/pyLDAvis/js/ldavis.v3.0.0.js\", function(){\n",
       "        new LDAvis(\"#\" + \"ldavis_el22490272012744807154240121\", ldavis_el22490272012744807154240121_data);\n",
       "      });\n",
       "    });\n",
       "}else{\n",
       "    // require.js not available: dynamically load d3 & LDAvis\n",
       "    LDAvis_load_lib(\"https://d3js.org/d3.v5.js\", function(){\n",
       "         LDAvis_load_lib(\"https://cdn.jsdelivr.net/gh/bmabey/pyLDAvis@3.4.0/pyLDAvis/js/ldavis.v3.0.0.js\", function(){\n",
       "                 new LDAvis(\"#\" + \"ldavis_el22490272012744807154240121\", ldavis_el22490272012744807154240121_data);\n",
       "            })\n",
       "         });\n",
       "}\n",
       "</script>"
      ],
      "text/plain": [
       "<IPython.core.display.HTML object>"
      ]
     },
     "execution_count": 33,
     "metadata": {},
     "output_type": "execute_result"
    }
   ],
   "source": [
    "panel_tfidf = lda_model.prepare(best_model_tfidf, tfidf, vectorizer_tfidf, mds='tsne')\n",
    "pyLDAvis.display(panel_tfidf)"
   ]
  },
  {
   "cell_type": "code",
   "execution_count": 36,
   "metadata": {},
   "outputs": [
    {
     "ename": "TypeError",
     "evalue": "unhashable type: 'numpy.ndarray'",
     "output_type": "error",
     "traceback": [
      "\u001b[0;31m---------------------------------------------------------------------------\u001b[0m",
      "\u001b[0;31mTypeError\u001b[0m                                 Traceback (most recent call last)",
      "Cell \u001b[0;32mIn[36], line 5\u001b[0m\n\u001b[1;32m      2\u001b[0m data_test \u001b[38;5;241m=\u001b[39m review_sample\u001b[38;5;241m.\u001b[39mloc[\u001b[38;5;241m3022807\u001b[39m,\u001b[38;5;124m'\u001b[39m\u001b[38;5;124mtext\u001b[39m\u001b[38;5;124m'\u001b[39m]\n\u001b[1;32m      4\u001b[0m \u001b[38;5;28;01mtry\u001b[39;00m:\n\u001b[0;32m----> 5\u001b[0m     results \u001b[38;5;241m=\u001b[39m \u001b[43mlda\u001b[49m\u001b[43m(\u001b[49m\u001b[43mdata_test\u001b[49m\u001b[43m)\u001b[49m\n\u001b[1;32m      6\u001b[0m \u001b[38;5;28;01mexcept\u001b[39;00m \u001b[38;5;167;01mValueError\u001b[39;00m \u001b[38;5;28;01mas\u001b[39;00m e:\n\u001b[1;32m      7\u001b[0m     \u001b[38;5;28mprint\u001b[39m(\u001b[38;5;124mf\u001b[39m\u001b[38;5;124m\"\u001b[39m\u001b[38;5;124mError : \u001b[39m\u001b[38;5;132;01m{\u001b[39;00me\u001b[38;5;132;01m}\u001b[39;00m\u001b[38;5;124m\"\u001b[39m)\n",
      "File \u001b[0;32m~/Documents/OpenClassrooms_Ingénieur IA/Improve_your_AI_product/src/pipeline.py:65\u001b[0m, in \u001b[0;36mlda\u001b[0;34m(data_source, n_top_words)\u001b[0m\n\u001b[1;32m     63\u001b[0m data_transformed[\u001b[38;5;124m'\u001b[39m\u001b[38;5;124mmost_probable_topic\u001b[39m\u001b[38;5;124m'\u001b[39m] \u001b[38;5;241m=\u001b[39m most_probable_topics\n\u001b[1;32m     64\u001b[0m data_transformed[\u001b[38;5;124m'\u001b[39m\u001b[38;5;124mtopic_probability\u001b[39m\u001b[38;5;124m'\u001b[39m] \u001b[38;5;241m=\u001b[39m topic_probabilities\u001b[38;5;241m.\u001b[39mmax(axis\u001b[38;5;241m=\u001b[39m\u001b[38;5;241m1\u001b[39m)\n\u001b[0;32m---> 65\u001b[0m data_transformed[\u001b[38;5;124m'\u001b[39m\u001b[38;5;124mtopic_interpretated\u001b[39m\u001b[38;5;124m'\u001b[39m] \u001b[38;5;241m=\u001b[39m \u001b[43mdic_topics\u001b[49m\u001b[43m[\u001b[49m\u001b[43mmost_probable_topics\u001b[49m\u001b[43m]\u001b[49m\n\u001b[1;32m     67\u001b[0m details \u001b[38;5;241m=\u001b[39m data_transformed[[\u001b[38;5;124m'\u001b[39m\u001b[38;5;124mcomment\u001b[39m\u001b[38;5;124m'\u001b[39m, \u001b[38;5;124m'\u001b[39m\u001b[38;5;124mmost_probable_topic\u001b[39m\u001b[38;5;124m'\u001b[39m, \u001b[38;5;124m'\u001b[39m\u001b[38;5;124mtopic_probability\u001b[39m\u001b[38;5;124m'\u001b[39m,\u001b[38;5;124m'\u001b[39m\u001b[38;5;124mtopic_interpretated\u001b[39m\u001b[38;5;124m'\u001b[39m]]\n\u001b[1;32m     68\u001b[0m \u001b[38;5;28mprint\u001b[39m(\u001b[38;5;124mf\u001b[39m\u001b[38;5;124m\"\u001b[39m\u001b[38;5;132;01m{\u001b[39;00m\u001b[38;5;28mtype\u001b[39m(most_probable_topics)\u001b[38;5;132;01m}\u001b[39;00m\u001b[38;5;124m : \u001b[39m\u001b[38;5;132;01m{\u001b[39;00mmost_probable_topics\u001b[38;5;132;01m}\u001b[39;00m\u001b[38;5;124m\"\u001b[39m)\n",
      "\u001b[0;31mTypeError\u001b[0m: unhashable type: 'numpy.ndarray'"
     ]
    }
   ],
   "source": [
    "from src.pipeline import lda\n",
    "data_test = review_sample.loc[3022807,'text']\n",
    "\n",
    "try:\n",
    "    results = lda(data_test)\n",
    "except ValueError as e:\n",
    "    print(f\"Error : {e}\")"
   ]
  },
  {
   "cell_type": "code",
   "execution_count": 38,
   "metadata": {},
   "outputs": [
    {
     "data": {
      "text/plain": [
       "'Qualité de la nourriture de manière ciblé, goût déplaisant des aliments, aliments surgelés, problématique de chaleur (froid).'"
      ]
     },
     "execution_count": 38,
     "metadata": {},
     "output_type": "execute_result"
    }
   ],
   "source": [
    "dic_topics[1]"
   ]
  },
  {
   "cell_type": "markdown",
   "metadata": {},
   "source": [
    "## Get reviews from Yelp API"
   ]
  },
  {
   "cell_type": "code",
   "execution_count": null,
   "metadata": {},
   "outputs": [],
   "source": [
    "# Ne pas récupérer que les commentaires négatifs\n",
    "restaurants = search_with_pagination(term=\"restaurants\", location=\"New York, NY\", total=1500)\n",
    "data = []  # Liste pour stocker les données\n",
    "\n",
    "for restaurant in restaurants:\n",
    "    business_id = restaurant['id']\n",
    "    reviews = get_review(business_id)\n",
    "\n",
    "    if reviews and 'reviews' in reviews:\n",
    "        for review in reviews['reviews']:\n",
    "            if review['rating'] <= 3:  # Filtrer pour ne garder que les avis avec un rating de 1\n",
    "                data.append({'business_id': business_id, 'review': review['text'], 'rating': review['rating']})\n",
    "    else:\n",
    "        print(f\"Aucun avis disponible pour le restaurant {business_id}.\\n\")\n",
    "\n",
    "# Créer un DataFrame à partir de la liste de dictionnaires\n",
    "reviews_from_api = pd.DataFrame(data)"
   ]
  },
  {
   "cell_type": "code",
   "execution_count": 21,
   "metadata": {},
   "outputs": [
    {
     "data": {
      "text/html": [
       "<div>\n",
       "<style scoped>\n",
       "    .dataframe tbody tr th:only-of-type {\n",
       "        vertical-align: middle;\n",
       "    }\n",
       "\n",
       "    .dataframe tbody tr th {\n",
       "        vertical-align: top;\n",
       "    }\n",
       "\n",
       "    .dataframe thead th {\n",
       "        text-align: right;\n",
       "    }\n",
       "</style>\n",
       "<table border=\"1\" class=\"dataframe\">\n",
       "  <thead>\n",
       "    <tr style=\"text-align: right;\">\n",
       "      <th></th>\n",
       "      <th>business_id</th>\n",
       "      <th>review</th>\n",
       "      <th>rating</th>\n",
       "    </tr>\n",
       "  </thead>\n",
       "  <tbody>\n",
       "    <tr>\n",
       "      <th>0</th>\n",
       "      <td>MGd6HFEq1ALD58XWNviSXw</td>\n",
       "      <td>This is literally just a tourist trap. There's...</td>\n",
       "      <td>2</td>\n",
       "    </tr>\n",
       "    <tr>\n",
       "      <th>1</th>\n",
       "      <td>OwDRIugcA4LkUuTRqpJsog</td>\n",
       "      <td>Had an awful experience tonight. Chicken came ...</td>\n",
       "      <td>1</td>\n",
       "    </tr>\n",
       "    <tr>\n",
       "      <th>2</th>\n",
       "      <td>m4CFfE1_u5rwVgb45ZqRpA</td>\n",
       "      <td>I never write reviews but this time i felt is ...</td>\n",
       "      <td>1</td>\n",
       "    </tr>\n",
       "    <tr>\n",
       "      <th>3</th>\n",
       "      <td>ipAsHykRvgJzpx5hD8vTJw</td>\n",
       "      <td>Really nice place for a quick bite. The onigir...</td>\n",
       "      <td>2</td>\n",
       "    </tr>\n",
       "    <tr>\n",
       "      <th>4</th>\n",
       "      <td>rp8S7scxOkVVeG7dNneMGQ</td>\n",
       "      <td>Update-\\n\\nAs y'all know (based on my previous...</td>\n",
       "      <td>1</td>\n",
       "    </tr>\n",
       "    <tr>\n",
       "      <th>...</th>\n",
       "      <td>...</td>\n",
       "      <td>...</td>\n",
       "      <td>...</td>\n",
       "    </tr>\n",
       "    <tr>\n",
       "      <th>77</th>\n",
       "      <td>eOLHik1-6IqTiebYRIIWpA</td>\n",
       "      <td>The unique location and presentations of each ...</td>\n",
       "      <td>1</td>\n",
       "    </tr>\n",
       "    <tr>\n",
       "      <th>78</th>\n",
       "      <td>mlGfXoxc8cEss8Yms6VrXg</td>\n",
       "      <td>The cashier was very nice and had a very pleas...</td>\n",
       "      <td>2</td>\n",
       "    </tr>\n",
       "    <tr>\n",
       "      <th>79</th>\n",
       "      <td>r-EDS_eO70HUgDmOk5_8Qw</td>\n",
       "      <td>The atmosphere and ambiance was good at first ...</td>\n",
       "      <td>2</td>\n",
       "    </tr>\n",
       "    <tr>\n",
       "      <th>80</th>\n",
       "      <td>rJ4N10Nbh-GM49qOSGFoAw</td>\n",
       "      <td>It hurts my heart and soul and taste buds that...</td>\n",
       "      <td>2</td>\n",
       "    </tr>\n",
       "    <tr>\n",
       "      <th>81</th>\n",
       "      <td>rJ4N10Nbh-GM49qOSGFoAw</td>\n",
       "      <td>***2 1/2 stars***\\n\\nThis just wasn't my cup o...</td>\n",
       "      <td>2</td>\n",
       "    </tr>\n",
       "  </tbody>\n",
       "</table>\n",
       "<p>82 rows × 3 columns</p>\n",
       "</div>"
      ],
      "text/plain": [
       "               business_id                                             review  \\\n",
       "0   MGd6HFEq1ALD58XWNviSXw  This is literally just a tourist trap. There's...   \n",
       "1   OwDRIugcA4LkUuTRqpJsog  Had an awful experience tonight. Chicken came ...   \n",
       "2   m4CFfE1_u5rwVgb45ZqRpA  I never write reviews but this time i felt is ...   \n",
       "3   ipAsHykRvgJzpx5hD8vTJw  Really nice place for a quick bite. The onigir...   \n",
       "4   rp8S7scxOkVVeG7dNneMGQ  Update-\\n\\nAs y'all know (based on my previous...   \n",
       "..                     ...                                                ...   \n",
       "77  eOLHik1-6IqTiebYRIIWpA  The unique location and presentations of each ...   \n",
       "78  mlGfXoxc8cEss8Yms6VrXg  The cashier was very nice and had a very pleas...   \n",
       "79  r-EDS_eO70HUgDmOk5_8Qw  The atmosphere and ambiance was good at first ...   \n",
       "80  rJ4N10Nbh-GM49qOSGFoAw  It hurts my heart and soul and taste buds that...   \n",
       "81  rJ4N10Nbh-GM49qOSGFoAw  ***2 1/2 stars***\\n\\nThis just wasn't my cup o...   \n",
       "\n",
       "    rating  \n",
       "0        2  \n",
       "1        1  \n",
       "2        1  \n",
       "3        2  \n",
       "4        1  \n",
       "..     ...  \n",
       "77       1  \n",
       "78       2  \n",
       "79       2  \n",
       "80       2  \n",
       "81       2  \n",
       "\n",
       "[82 rows x 3 columns]"
      ]
     },
     "execution_count": 21,
     "metadata": {},
     "output_type": "execute_result"
    }
   ],
   "source": [
    "reviews_from_api"
   ]
  },
  {
   "cell_type": "code",
   "execution_count": 24,
   "metadata": {},
   "outputs": [
    {
     "data": {
      "text/html": [
       "<div>\n",
       "<style scoped>\n",
       "    .dataframe tbody tr th:only-of-type {\n",
       "        vertical-align: middle;\n",
       "    }\n",
       "\n",
       "    .dataframe tbody tr th {\n",
       "        vertical-align: top;\n",
       "    }\n",
       "\n",
       "    .dataframe thead th {\n",
       "        text-align: right;\n",
       "    }\n",
       "</style>\n",
       "<table border=\"1\" class=\"dataframe\">\n",
       "  <thead>\n",
       "    <tr style=\"text-align: right;\">\n",
       "      <th></th>\n",
       "      <th>0</th>\n",
       "    </tr>\n",
       "  </thead>\n",
       "  <tbody>\n",
       "    <tr>\n",
       "      <th>0</th>\n",
       "      <td>I went to see dr swing since I was 12 week pre...</td>\n",
       "    </tr>\n",
       "  </tbody>\n",
       "</table>\n",
       "</div>"
      ],
      "text/plain": [
       "                                                   0\n",
       "0  I went to see dr swing since I was 12 week pre..."
      ]
     },
     "execution_count": 24,
     "metadata": {},
     "output_type": "execute_result"
    }
   ],
   "source": [
    "pd.DataFrame(reviews_from_api['review'])"
   ]
  },
  {
   "cell_type": "code",
   "execution_count": 28,
   "metadata": {},
   "outputs": [
    {
     "name": "stdout",
     "output_type": "stream",
     "text": [
      "                                               review  most_probable_topic  \\\n",
      "0   This is literally just a tourist trap. There's...                    3   \n",
      "1   Had an awful experience tonight. Chicken came ...                    0   \n",
      "2   I never write reviews but this time i felt is ...                    4   \n",
      "3   Really nice place for a quick bite. The onigir...                    3   \n",
      "4   Update-\\n\\nAs y'all know (based on my previous...                    0   \n",
      "..                                                ...                  ...   \n",
      "77  The unique location and presentations of each ...                    2   \n",
      "78  The cashier was very nice and had a very pleas...                    0   \n",
      "79  The atmosphere and ambiance was good at first ...                    4   \n",
      "80  It hurts my heart and soul and taste buds that...                    3   \n",
      "81  ***2 1/2 stars***\\n\\nThis just wasn't my cup o...                    4   \n",
      "\n",
      "    topic_probability  \n",
      "0            0.662439  \n",
      "1            0.699357  \n",
      "2            0.687491  \n",
      "3            0.666476  \n",
      "4            0.936631  \n",
      "..                ...  \n",
      "77           0.343411  \n",
      "78           0.698001  \n",
      "79           0.580562  \n",
      "80           0.388711  \n",
      "81           0.587490  \n",
      "\n",
      "[82 rows x 3 columns]\n",
      "Topic #0:\n",
      "customer call tell give make dont manager rude know want\n",
      "Topic #1:\n",
      "pizza chicken cheese sandwich fry burger sauce salad cold wing\n",
      "Topic #2:\n",
      "taste meal restaurant dish eat menu price steak bad rice\n",
      "Topic #3:\n",
      "bad dont eat look taco use ive coffee ever restaurant\n",
      "Topic #4:\n",
      "table drink server leave sit bar even waitress walk restaurant\n"
     ]
    }
   ],
   "source": [
    "import pickle\n",
    "from pathlib import Path\n",
    "import pandas as pd\n",
    "from src.data_processing.general_preprocessing import clean_comment, tokenize_comment, delete_stopwords, lemmatized_tokens, delete_most_frequent_word\n",
    "\n",
    "top_words_path = \"../src/models/top_words.pkl\"\n",
    "vectorizer_path = \"../src/models/vectorizer.pkl\"\n",
    "model_path = \"../src/models/lda_model.pkl\"\n",
    "\n",
    "with open(top_words_path, 'rb') as f:\n",
    "    top_words = pickle.load(f)\n",
    "\n",
    "with open(vectorizer_path, 'rb') as f:\n",
    "    vectorizer = pickle.load(f)\n",
    "\n",
    "with open(model_path, 'rb') as f:\n",
    "    lda_model = pickle.load(f)\n",
    "\n",
    "data_source = reviews_from_api['review']\n",
    "\n",
    "data_transformed = pd.DataFrame(data_source)\n",
    "\n",
    "data_transformed['clean_comment'] = data_transformed['review'].apply(clean_comment)\n",
    "data_transformed['tokens'] = data_transformed['clean_comment'].apply(tokenize_comment)\n",
    "data_transformed['tokens_without_stopwords'] = data_transformed['tokens'].apply(delete_stopwords)\n",
    "data_transformed['tokens_lemm'] = data_transformed['tokens_without_stopwords'].apply(lemmatized_tokens)\n",
    "data_transformed['tokens_without_top_words'] = data_transformed['tokens_lemm'].apply(lambda comment: delete_most_frequent_word(comment, top_words))\n",
    "\n",
    "bow = vectorizer.transform(data_transformed['tokens_without_top_words'].apply(\" \".join))\n",
    "feature_names = vectorizer.get_feature_names_out()\n",
    "\n",
    "# Transformation avec LDA\n",
    "topic_probabilities = lda_model.transform(bow)\n",
    "\n",
    "# Trouver le topic le plus probable pour chaque document\n",
    "most_probable_topics = topic_probabilities.argmax(axis=1)\n",
    "\n",
    "# Ajouter les résultats au DataFrame\n",
    "data_transformed['most_probable_topic'] = most_probable_topics\n",
    "data_transformed['topic_probability'] = topic_probabilities.max(axis=1)\n",
    "\n",
    "# Afficher les résultats\n",
    "print(data_transformed[['review', 'most_probable_topic', 'topic_probability']])\n",
    "\n",
    "# Obtenir les mots clés pour chaque topic\n",
    "n_top_words = 10\n",
    "for topic_idx, topic in enumerate(lda_model.components_):\n",
    "    print(\"Topic #%d:\" % topic_idx)\n",
    "    print(\" \".join([feature_names[i] for i in topic.argsort()[:-n_top_words - 1:-1]]))\n"
   ]
  },
  {
   "cell_type": "code",
   "execution_count": 3,
   "metadata": {},
   "outputs": [
    {
     "ename": "ModuleNotFoundError",
     "evalue": "No module named 'data_processing'",
     "output_type": "error",
     "traceback": [
      "\u001b[0;31m---------------------------------------------------------------------------\u001b[0m",
      "\u001b[0;31mModuleNotFoundError\u001b[0m                       Traceback (most recent call last)",
      "Cell \u001b[0;32mIn[3], line 1\u001b[0m\n\u001b[0;32m----> 1\u001b[0m \u001b[38;5;28;01mfrom\u001b[39;00m \u001b[38;5;21;01msrc\u001b[39;00m\u001b[38;5;21;01m.\u001b[39;00m\u001b[38;5;21;01mpipeline\u001b[39;00m \u001b[38;5;28;01mimport\u001b[39;00m lda\n\u001b[1;32m      3\u001b[0m results \u001b[38;5;241m=\u001b[39m lda(review_sample[\u001b[38;5;124m'\u001b[39m\u001b[38;5;124mtokens_without_top_words\u001b[39m\u001b[38;5;124m'\u001b[39m])\n",
      "File \u001b[0;32m~/Documents/OpenClassrooms_Ingénieur IA/Improve_your_AI_product/src/pipeline.py:4\u001b[0m\n\u001b[1;32m      2\u001b[0m \u001b[38;5;28;01mfrom\u001b[39;00m \u001b[38;5;21;01mpathlib\u001b[39;00m \u001b[38;5;28;01mimport\u001b[39;00m Path\n\u001b[1;32m      3\u001b[0m \u001b[38;5;28;01mimport\u001b[39;00m \u001b[38;5;21;01mpandas\u001b[39;00m \u001b[38;5;28;01mas\u001b[39;00m \u001b[38;5;21;01mpd\u001b[39;00m\n\u001b[0;32m----> 4\u001b[0m \u001b[38;5;28;01mfrom\u001b[39;00m \u001b[38;5;21;01mdata_processing\u001b[39;00m\u001b[38;5;21;01m.\u001b[39;00m\u001b[38;5;21;01mgeneral_preprocessing\u001b[39;00m \u001b[38;5;28;01mimport\u001b[39;00m clean_comment, tokenize_comment, delete_stopwords, lemmatized_tokens, delete_most_frequent_word\n\u001b[1;32m      5\u001b[0m \u001b[38;5;28;01mfrom\u001b[39;00m \u001b[38;5;21;01mvisualization\u001b[39;00m\u001b[38;5;21;01m.\u001b[39;00m\u001b[38;5;21;01mlda_visualisation\u001b[39;00m \u001b[38;5;28;01mimport\u001b[39;00m sklearn_print_top_words\n\u001b[1;32m      7\u001b[0m \u001b[38;5;28;01mdef\u001b[39;00m \u001b[38;5;21mlda\u001b[39m(data_source:pd\u001b[38;5;241m.\u001b[39mSeries, n_top_words \u001b[38;5;241m=\u001b[39m \u001b[38;5;241m10\u001b[39m):\n",
      "\u001b[0;31mModuleNotFoundError\u001b[0m: No module named 'data_processing'"
     ]
    }
   ],
   "source": [
    "from src.pipeline import lda\n",
    "\n",
    "results = lda(review_sample['tokens_without_top_words'])"
   ]
  },
  {
   "cell_type": "code",
   "execution_count": 4,
   "metadata": {},
   "outputs": [
    {
     "ename": "NameError",
     "evalue": "name 'review_sample' is not defined",
     "output_type": "error",
     "traceback": [
      "\u001b[0;31m---------------------------------------------------------------------------\u001b[0m",
      "\u001b[0;31mNameError\u001b[0m                                 Traceback (most recent call last)",
      "Cell \u001b[0;32mIn[4], line 3\u001b[0m\n\u001b[1;32m      1\u001b[0m \u001b[38;5;66;03m# Enregistrement du modèle\u001b[39;00m\n\u001b[1;32m      2\u001b[0m \u001b[38;5;28;01mwith\u001b[39;00m \u001b[38;5;28mopen\u001b[39m(\u001b[38;5;124m'\u001b[39m\u001b[38;5;124m../data/processed/tokens_without_top_words.pkl\u001b[39m\u001b[38;5;124m'\u001b[39m, \u001b[38;5;124m'\u001b[39m\u001b[38;5;124mwb\u001b[39m\u001b[38;5;124m'\u001b[39m) \u001b[38;5;28;01mas\u001b[39;00m f:\n\u001b[0;32m----> 3\u001b[0m     pickle\u001b[38;5;241m.\u001b[39mdump(\u001b[43mreview_sample\u001b[49m[\u001b[38;5;124m'\u001b[39m\u001b[38;5;124mtokens_without_top_words\u001b[39m\u001b[38;5;124m'\u001b[39m], f)\n",
      "\u001b[0;31mNameError\u001b[0m: name 'review_sample' is not defined"
     ]
    }
   ],
   "source": [
    "# Enregistrement des données preprocessed\n",
    "with open('../data/processed/tokens_without_top_words.pkl', 'wb') as f:\n",
    "    pickle.dump(review_sample['tokens_without_top_words'], f)"
   ]
  },
  {
   "cell_type": "markdown",
   "metadata": {},
   "source": [
    "## Pipeline"
   ]
  },
  {
   "cell_type": "markdown",
   "metadata": {},
   "source": [
    "Modularité du pipeline : \n",
    "- Dagster \n",
    "- Airflow\n",
    "- Spark : contraintes de rapidité\n",
    "\n",
    "Création d'une class homemade pour structurer le code.\n",
    "\n",
    "Nouveau comm : probabilité d'appartenance à chaque topic --> Choix du topic"
   ]
  },
  {
   "cell_type": "markdown",
   "metadata": {},
   "source": [
    "Page web : \n",
    "Dashboard : zone de texte + bouton -> prediction du topic associé (Streamlit)\n",
    "API : récupération des commentaires (graphql, requests ?)\n",
    "- Requête 1 : Liste des restaurants choisi\n",
    "- Requête 2 : Récupérer les reviews"
   ]
  },
  {
   "cell_type": "code",
   "execution_count": null,
   "metadata": {},
   "outputs": [],
   "source": [
    "pipeline.transform(new_data)"
   ]
  },
  {
   "cell_type": "code",
   "execution_count": null,
   "metadata": {},
   "outputs": [],
   "source": [
    "class CleanCommentTransformer(BaseEstimator, TransformerMixin):\n",
    "    def fit(self, X, y=None):\n",
    "        return self\n",
    "    \n",
    "    def transform(self, X):\n",
    "        return X.apply(clean_comment)\n",
    "\n",
    "class TokenizeTransformer(BaseEstimator, TransformerMixin):\n",
    "    def fit(self, X, y=None):\n",
    "        return self\n",
    "    \n",
    "    def transform(self, X):\n",
    "        return X.apply(tokenize_comment)\n",
    "\n",
    "class RemoveStopwordsTransformer(BaseEstimator, TransformerMixin):\n",
    "    def fit(self, X, y=None):\n",
    "        return self\n",
    "    \n",
    "    def transform(self, X):\n",
    "        return X.apply(delete_stopwords)\n",
    "\n",
    "class LemmatizeTransformer(BaseEstimator, TransformerMixin):\n",
    "    def fit(self, X, y=None):\n",
    "        return self\n",
    "    \n",
    "    def transform(self, X):\n",
    "        return X.apply(lemmatized_tokens)"
   ]
  },
  {
   "cell_type": "code",
   "execution_count": null,
   "metadata": {},
   "outputs": [],
   "source": [
    "class BOWTransformer(BaseEstimator, TransformerMixin):\n",
    "    def __init__(self, max_features=5000):\n",
    "        self.max_features = max_features\n",
    "        self.vectorizer = None\n",
    "\n",
    "    def fit(self, X, y=None):\n",
    "        self.vectorizer = CountVectorizer(max_features=self.max_features)\n",
    "        self.vectorizer.fit(X.apply(\" \".join))\n",
    "        return self\n",
    "\n",
    "    def transform(self, X):\n",
    "        return self.vectorizer.transform(X.apply(\" \".join))\n",
    "\n",
    "class TFIDFTransformer(BaseEstimator, TransformerMixin):\n",
    "    def __init__(self, max_features=5000):\n",
    "        self.max_features = max_features\n",
    "        self.vectorizer = None\n",
    "\n",
    "    def fit(self, X, y=None):\n",
    "        self.vectorizer = TfidfVectorizer(max_features=self.max_features)\n",
    "        self.vectorizer.fit(X.apply(\" \".join))\n",
    "        return self\n",
    "\n",
    "    def transform(self, X):\n",
    "        return self.vectorizer.transform(X.apply(\" \".join))"
   ]
  },
  {
   "cell_type": "code",
   "execution_count": null,
   "metadata": {},
   "outputs": [],
   "source": [
    "# Pipeline pour le prétraitement textuel\n",
    "preprocessing_pipeline = Pipeline([\n",
    "    ('clean', CleanCommentTransformer()),\n",
    "    ('tokenize', TokenizeTransformer()),\n",
    "    ('remove_stopwords', RemoveStopwordsTransformer()),\n",
    "    ('lemmatize', LemmatizeTransformer()),\n",
    "    # Ajouter ici les autres transformateurs personnalisés si nécessaire\n",
    "])\n",
    "\n",
    "# Pipeline complet avec BoW ou TF-IDF et LDA\n",
    "bow_lda_pipeline = Pipeline([\n",
    "    ('preprocessing', preprocessing_pipeline),\n",
    "    ('bow', BOWTransformer()),\n",
    "    ('lda', LatentDirichletAllocation(n_components=10, random_state=0))\n",
    "])\n",
    "\n",
    "tfidf_lda_pipeline = Pipeline([\n",
    "    ('preprocessing', preprocessing_pipeline),\n",
    "    ('tfidf', TFIDFTransformer()),\n",
    "    ('lda', LatentDirichletAllocation(n_components=10, random_state=0))\n",
    "])"
   ]
  },
  {
   "cell_type": "markdown",
   "metadata": {},
   "source": [
    "<a id=\"section3\"></a>\n",
    "# 3. Classement d'images non supervisé"
   ]
  },
  {
   "cell_type": "markdown",
   "metadata": {},
   "source": [
    "<a id=\"section31\"></a>\n",
    "## 3.1. Chargement des données"
   ]
  },
  {
   "cell_type": "code",
   "execution_count": 8,
   "metadata": {},
   "outputs": [
    {
     "ename": "FileNotFoundError",
     "evalue": "[Errno 2] No such file or directory: '/Users/matthieudridi/Documents/OpenClassrooms_Ingénieur IA/Improve_your_AI_product/yelp_photos/photos/sample'",
     "output_type": "error",
     "traceback": [
      "\u001b[0;31m---------------------------------------------------------------------------\u001b[0m",
      "\u001b[0;31mFileNotFoundError\u001b[0m                         Traceback (most recent call last)",
      "Cell \u001b[0;32mIn[8], line 3\u001b[0m\n\u001b[1;32m      1\u001b[0m img_folder \u001b[38;5;241m=\u001b[39m Path(\u001b[38;5;124m\"\u001b[39m\u001b[38;5;124m/Users/matthieudridi/Documents/OpenClassrooms_Ingénieur IA/Improve_your_AI_product/yelp_photos/photos\u001b[39m\u001b[38;5;124m\"\u001b[39m)\n\u001b[1;32m      2\u001b[0m img_folder_sample \u001b[38;5;241m=\u001b[39m img_folder \u001b[38;5;241m/\u001b[39m \u001b[38;5;124m\"\u001b[39m\u001b[38;5;124msample\u001b[39m\u001b[38;5;124m\"\u001b[39m\n\u001b[0;32m----> 3\u001b[0m \u001b[43mimg_folder_sample\u001b[49m\u001b[38;5;241;43m.\u001b[39;49m\u001b[43mmkdir\u001b[49m\u001b[43m(\u001b[49m\u001b[43mexist_ok\u001b[49m\u001b[38;5;241;43m=\u001b[39;49m\u001b[38;5;28;43;01mTrue\u001b[39;49;00m\u001b[43m)\u001b[49m\n\u001b[1;32m      4\u001b[0m dest_path \u001b[38;5;241m=\u001b[39m img_folder_sample \u001b[38;5;241m/\u001b[39m \u001b[38;5;124m\"\u001b[39m\u001b[38;5;124mprocessed_images\u001b[39m\u001b[38;5;124m\"\u001b[39m\n\u001b[1;32m      5\u001b[0m ssl\u001b[38;5;241m.\u001b[39m_create_default_https_context \u001b[38;5;241m=\u001b[39m ssl\u001b[38;5;241m.\u001b[39m_create_unverified_context\n",
      "File \u001b[0;32m/Library/Frameworks/Python.framework/Versions/3.10/lib/python3.10/pathlib.py:1175\u001b[0m, in \u001b[0;36mPath.mkdir\u001b[0;34m(self, mode, parents, exist_ok)\u001b[0m\n\u001b[1;32m   1171\u001b[0m \u001b[38;5;250m\u001b[39m\u001b[38;5;124;03m\"\"\"\u001b[39;00m\n\u001b[1;32m   1172\u001b[0m \u001b[38;5;124;03mCreate a new directory at this given path.\u001b[39;00m\n\u001b[1;32m   1173\u001b[0m \u001b[38;5;124;03m\"\"\"\u001b[39;00m\n\u001b[1;32m   1174\u001b[0m \u001b[38;5;28;01mtry\u001b[39;00m:\n\u001b[0;32m-> 1175\u001b[0m     \u001b[38;5;28;43mself\u001b[39;49m\u001b[38;5;241;43m.\u001b[39;49m\u001b[43m_accessor\u001b[49m\u001b[38;5;241;43m.\u001b[39;49m\u001b[43mmkdir\u001b[49m\u001b[43m(\u001b[49m\u001b[38;5;28;43mself\u001b[39;49m\u001b[43m,\u001b[49m\u001b[43m \u001b[49m\u001b[43mmode\u001b[49m\u001b[43m)\u001b[49m\n\u001b[1;32m   1176\u001b[0m \u001b[38;5;28;01mexcept\u001b[39;00m \u001b[38;5;167;01mFileNotFoundError\u001b[39;00m:\n\u001b[1;32m   1177\u001b[0m     \u001b[38;5;28;01mif\u001b[39;00m \u001b[38;5;129;01mnot\u001b[39;00m parents \u001b[38;5;129;01mor\u001b[39;00m \u001b[38;5;28mself\u001b[39m\u001b[38;5;241m.\u001b[39mparent \u001b[38;5;241m==\u001b[39m \u001b[38;5;28mself\u001b[39m:\n",
      "\u001b[0;31mFileNotFoundError\u001b[0m: [Errno 2] No such file or directory: '/Users/matthieudridi/Documents/OpenClassrooms_Ingénieur IA/Improve_your_AI_product/yelp_photos/photos/sample'"
     ]
    }
   ],
   "source": [
    "img_folder = Path(\"/Users/matthieudridi/Documents/OpenClassrooms_Ingénieur IA/Improve_your_AI_product/yelp_photos/photos\")\n",
    "img_folder_sample = img_folder / \"sample\"\n",
    "img_folder_sample.mkdir(exist_ok=True)\n",
    "dest_path = img_folder_sample / \"processed_images\"\n",
    "ssl._create_default_https_context = ssl._create_unverified_context"
   ]
  },
  {
   "cell_type": "code",
   "execution_count": null,
   "metadata": {},
   "outputs": [],
   "source": [
    "photo = pd.read_json(\"/Users/matthieudridi/Documents/OpenClassrooms_Ingénieur IA/Improve_your_AI_product/yelp_photos/photos.json\", lines=True)"
   ]
  },
  {
   "cell_type": "code",
   "execution_count": 39,
   "metadata": {},
   "outputs": [],
   "source": [
    "checkin = pd.read_json(\"../data/raw/yelp_dataset/yelp_academic_dataset_checkin.json\", lines=True)\n",
    "review = pd.read_json(\"../data/raw/yelp_dataset/yelp_academic_dataset_review.json\", lines=True)\n",
    "tip = pd.read_json(\"../data/raw/yelp_dataset/yelp_academic_dataset_tip.json\", lines=True)\n",
    "user = pd.read_json(\"../data/raw/yelp_dataset/yelp_academic_dataset_user.json\", lines=True)"
   ]
  },
  {
   "cell_type": "markdown",
   "metadata": {},
   "source": [
    "Extraction de descripteurs : \n",
    "- Descripteurs manuels / traditionnels : SIFT, ORB, SURF. Reconstruction de scène 3D, d'image.\n",
    "- Deeplearning : reconnaissance d'image, classification\n",
    "\n",
    "Objectif: Estimer la faisabilité : comparaison des clusters aux vrais labels. Indice ARI : sous estimation de la performance de notre modèle avec cette metric.\n",
    "\n",
    "Extraire les descripteurs : extraction des points d'intéret avec un vecteur descriptor qui représente ces points d'intérêts. \n",
    "Clustering sur ces descripteurs : identification des caractéristiques de l'ensemble de mes images\n",
    "Pour obtenir un vecteur par image on utilise des visual bag of words : on compte le nombre de fois où on trouve une caractéristique dans une image : faire un predict sur mon image\n",
    "Clustering de ces vecteurs d'image.\n",
    "Calculer l'ARI\n",
    "\n",
    "Deeplearning : ResNET\n",
    "JV : calcul matricielle, réseau de neurone : calcul matricielle -> tous les 2 sur carte graphique\n",
    "GPU : camion, distribuer les calculs\n",
    "CPU : ferrari"
   ]
  },
  {
   "cell_type": "markdown",
   "metadata": {},
   "source": [
    "<a id=\"section32\"></a>\n",
    "## 3.2. Preprocessing des données"
   ]
  },
  {
   "cell_type": "code",
   "execution_count": null,
   "metadata": {},
   "outputs": [],
   "source": [
    "LABELS = list(photo['label'].unique())"
   ]
  },
  {
   "cell_type": "code",
   "execution_count": null,
   "metadata": {},
   "outputs": [],
   "source": [
    "def select_and_copy_images(dataframe, source_path:Path, dest_path:Path, num_images:int):\n",
    "    sample = pd.DataFrame(columns=dataframe.columns)\n",
    "\n",
    "    for label in dataframe['label'].unique():\n",
    "        sample = pd.concat([sample, dataframe.loc[dataframe['label']==label,:].sample(n=num_images)])\n",
    "    \n",
    "    print(f\"Taille de l'échantillon : {len(sample)}\")\n",
    "\n",
    "    # Copying selected images to sample folder\n",
    "    for img in source_path.glob('*.jpg'):\n",
    "        if img.stem in sample['photo_id'].to_list():\n",
    "            shutil.copyfile(img, dest_path / img.name)\n",
    "            sample.loc[sample['photo_id'] == img.stem, 'path'] = str(img)\n",
    "    \n",
    "    return sample\n",
    "\n",
    "def jpg_to_png(img_path:Path) -> Path:\n",
    "    # Create png dir if not exist\n",
    "    png_folder = img_path.parent / \"png_img\"\n",
    "    png_folder.mkdir(exist_ok=True)\n",
    "    \n",
    "    # Log error file if not exist\n",
    "    log_error_file = png_folder / \"log_errors.txt\" \n",
    "    log_error_file.touch(exist_ok=True)\n",
    "\n",
    "    if img_path.suffix == '.jpg':\n",
    "        try:\n",
    "            with Image.open(img_path) as img:\n",
    "                png_img = img_path.stem + \".png\"\n",
    "                img.save(png_folder / png_img, \"PNG\")\n",
    "                png_img = Path(png_folder.absolute() / png_img)\n",
    "                return png_img\n",
    "        except IOError as e:\n",
    "            with open(log_error_file, 'a') as file:\n",
    "                file.write(f\"Impossible de traiter l'image {img_path.name}: {e}\")\n",
    "\n",
    "    else:\n",
    "        return img_path\n",
    "    \n",
    "def process_images(directory:Path, batch_size=100):\n",
    "    # Get the list of images\n",
    "    images = list(directory.glob('*.jpg'))\n",
    "\n",
    "    # Create destination dir if not exist\n",
    "    dest_folder = directory / \"processed_images\"\n",
    "    dest_folder.mkdir(exist_ok=True)\n",
    "\n",
    "    # Create file for record errors if not exist\n",
    "    error_file = dest_folder / \"errors.txt\"   \n",
    "    error_file.touch(exist_ok=True)\n",
    "\n",
    "    for i in range(0, len(images), batch_size):\n",
    "        for img_path in images[i: i + batch_size]:\n",
    "\n",
    "            # Conversion to png if necessary\n",
    "            img_path = jpg_to_png(img_path)\n",
    "\n",
    "            try:\n",
    "                img = Image.open(img_path)\n",
    "                img.verify()\n",
    "            except (UnidentifiedImageError, IOError):\n",
    "                with open(error_file, 'a') as file:\n",
    "                    file.write(f\"Le fichier {img_path} n'a pas pu être identifié comme une image valide.\")\n",
    "                continue\n",
    "            \n",
    "            img = Image.open(img_path)\n",
    "\n",
    "            # Median filter --> Gaussien filter instead\n",
    "            img = img.filter(ImageFilter.MedianFilter(size=3))\n",
    "\n",
    "            # Equalize histogram\n",
    "            img = ImageOps.equalize(img)\n",
    "\n",
    "            # Path destination\n",
    "            dest_path = dest_folder / img_path.name\n",
    "\n",
    "            # Save image processed\n",
    "            img.save(dest_path)\n",
    "\n",
    "            # Free memory\n",
    "            img.close()\n",
    "\n",
    "def sift_features(directory:Path, batch_size=100):\n",
    "    destination_path = directory / 'sift'\n",
    "    destination_path.mkdir(exist_ok=True)\n",
    "    \n",
    "    # Create SIFT detector\n",
    "    sift = cv2.SIFT_create()\n",
    "\n",
    "    batch_num = 0\n",
    "    batch_descriptors = list()\n",
    "    images_files = list(directory.glob('*.png'))\n",
    "    total_images = len(images_files)\n",
    "    images_processed = 0\n",
    "    image_names = list()\n",
    "\n",
    "    # Pour le diagnostic\n",
    "    descriptor_count = {}\n",
    "\n",
    "    # Iterate over all images\n",
    "    for i, img_path in enumerate(images_files):\n",
    "        img = cv2.imread(str(img_path), cv2.IMREAD_GRAYSCALE)\n",
    "        keypoints, descriptors = sift.detectAndCompute(img, None)\n",
    "\n",
    "        if descriptors is not None:\n",
    "            batch_descriptors.extend(descriptors)\n",
    "            for _ in range(len(descriptors)):\n",
    "                image_names.append(img_path.stem)\n",
    "\n",
    "            # Ajout dans le dictionnaire pour le diagnostic\n",
    "            descriptor_count[img_path.stem] = len(descriptors)\n",
    "\n",
    "            images_processed += 1\n",
    "        \n",
    "        if images_processed >= batch_size or i == total_images - 1:\n",
    "            # Concatenate all numpy array in batch_descriptors in one numpy array\n",
    "            descriptors_to_save = np.vstack(batch_descriptors)\n",
    "            descriptor_path = destination_path / f\"descriptors_batch_{batch_num}.npy\"\n",
    "            image_names_path = destination_path / f\"images_names_batch_{batch_num}.npy\"\n",
    "            np.save(image_names_path, np.array(image_names))\n",
    "            np.save(descriptor_path, descriptors_to_save)\n",
    "            batch_descriptors = list()\n",
    "            images_processed = 0\n",
    "            batch_num += 1\n",
    "            image_names = list()\n",
    "\n",
    "    # # Afficher les statistiques de descripteurs\n",
    "    # print(\"Nombre de descripteurs par image :\")\n",
    "    # for photo_id, count in descriptor_count.items():\n",
    "    #     print(f\"{photo_id}: {count}\")\n",
    "\n",
    "    return batch_num\n",
    "\n",
    "def load_descriptors(directory:Path):\n",
    "    descriptor_files = list(directory.glob('descriptors_batch_*.npy'))\n",
    "\n",
    "    all_descriptors = [np.load(file) for file in descriptor_files]\n",
    "\n",
    "    all_descriptors_stacked = np.vstack(all_descriptors)\n",
    "\n",
    "    return all_descriptors_stacked\n",
    "\n",
    "def elbow_method(descriptors, range_n_clusters):\n",
    "    inertia = list()\n",
    "\n",
    "    for n_clusters in range_n_clusters:\n",
    "        kmeans = KMeans(n_clusters=n_clusters, random_state=42)\n",
    "        kmeans.fit(descriptors)\n",
    "        inertia.append(kmeans.inertia_)\n",
    "\n",
    "    plt.figure(figsize=(8, 4))\n",
    "    plt.plot(range_n_clusters, inertia, 'bo-')\n",
    "    plt.xlabel('Number of Clusters (k)')\n",
    "    plt.ylabel('Inertia')\n",
    "    plt.title('Elbow Method For Optimal k')\n",
    "    plt.show()\n",
    "\n",
    "def apply_pca_and_kmean(descriptors, n_components=None, n_clusters=100):\n",
    "    # Descriptors normalisation before ACP\n",
    "    scaler = StandardScaler()\n",
    "    descriptors_scaled = scaler.fit_transform(descriptors)\n",
    "\n",
    "    # Apply ACP\n",
    "    pca = PCA(n_components=n_components, random_state=42)\n",
    "    descriptors_pca = pca.fit_transform(descriptors_scaled)\n",
    "\n",
    "    # Apply Kmeans\n",
    "    kmeans = KMeans(n_clusters=n_clusters, random_state=42)\n",
    "    kmeans.fit(descriptors_pca)\n",
    "\n",
    "    return pca, kmeans, kmeans.cluster_centers_, descriptors_pca\n",
    "\n",
    "def create_photo_cluster_table(directory, kmeans_labels):\n",
    "    # Load images\n",
    "    image_names_files = list(Path(directory).glob('images_names_batch_*.npy'))\n",
    "    image_names = [np.load(file) for file in image_names_files]\n",
    "    image_names = np.concatenate(image_names)\n",
    "\n",
    "    # Create Dataframe\n",
    "    photo_cluster_df = pd.DataFrame({\n",
    "        'photo_id' : image_names,\n",
    "        'cluster_label' : kmeans_labels\n",
    "    })\n",
    "    \n",
    "    # Get the most frequent cluster by photo\n",
    "    photo_cluster_df = photo_cluster_df.groupby('photo_id')['cluster_label'].agg(lambda x: x.value_counts().index[0])\n",
    "\n",
    "    # Reset index to turn the Series back into a DataFrame\n",
    "    photo_cluster_df = photo_cluster_df.reset_index()\n",
    "\n",
    "    return photo_cluster_df"
   ]
  },
  {
   "cell_type": "code",
   "execution_count": null,
   "metadata": {},
   "outputs": [],
   "source": [
    "photo_sample = select_and_copy_images(photo, img_folder, img_folder_sample, 200)"
   ]
  },
  {
   "cell_type": "code",
   "execution_count": null,
   "metadata": {},
   "outputs": [],
   "source": [
    "process_images(img_folder_sample)"
   ]
  },
  {
   "cell_type": "code",
   "execution_count": null,
   "metadata": {},
   "outputs": [],
   "source": [
    "batch_sift = sift_features(dest_path)"
   ]
  },
  {
   "cell_type": "markdown",
   "metadata": {},
   "source": []
  },
  {
   "cell_type": "code",
   "execution_count": null,
   "metadata": {},
   "outputs": [],
   "source": [
    "img_folder_sample_sift = dest_path / \"sift\""
   ]
  },
  {
   "cell_type": "code",
   "execution_count": null,
   "metadata": {},
   "outputs": [],
   "source": [
    "# Load descriptors and train KMeans with k = 5 because we have 5 categories of photo\n",
    "descriptors = load_descriptors(img_folder_sample_sift)\n",
    "pca_model, kmeans_model, cluster_center, descriptors_pca = apply_pca_and_kmean(descriptors, n_components=0.80, n_clusters=5)"
   ]
  },
  {
   "cell_type": "code",
   "execution_count": null,
   "metadata": {},
   "outputs": [],
   "source": [
    "elbow_method(descriptors, range(2,10));"
   ]
  },
  {
   "cell_type": "code",
   "execution_count": null,
   "metadata": {},
   "outputs": [],
   "source": [
    "photo_cluster_df = create_photo_cluster_table(img_folder_sample_sift, kmeans_model.labels_)"
   ]
  },
  {
   "cell_type": "code",
   "execution_count": null,
   "metadata": {},
   "outputs": [],
   "source": [
    "encoder = LabelEncoder()\n",
    "photo['label_numeric'] = encoder.fit_transform(photo['label'])\n",
    "comparison_df = photo_cluster_df.merge(photo[['photo_id','label_numeric']], left_on='photo_id', right_on='photo_id')\n",
    "#cluster_mod = comparison_df.groupby('cluster_label')['label_numeric'].agg(lambda x: x.mode()[0])\n",
    "#comparison_df['predicted_category'] = comparison_df['cluster_label'].map(cluster_mod)"
   ]
  },
  {
   "cell_type": "code",
   "execution_count": null,
   "metadata": {},
   "outputs": [],
   "source": [
    "# Utilisation de la fonction crosstab pour créer la matrice de correspondance\n",
    "correspondence_matrix = pd.crosstab(comparison_df['label_numeric'], comparison_df['cluster_label'])\n",
    "\n",
    "# Affichage de la matrice de correspondance\n",
    "print(correspondence_matrix)\n",
    "\n",
    "# Visualisation de la matrice de correspondance en tant que heatmap\n",
    "sns.set(context='talk', style='whitegrid')\n",
    "plt.figure(figsize=(10,8))\n",
    "sns.heatmap(correspondence_matrix, annot=True, fmt='d', cmap='Blues')\n",
    "plt.xlabel('Cluster Labels')\n",
    "plt.ylabel('True Labels')\n",
    "plt.title('Correspondence Matrix Heatmap')\n",
    "plt.show();"
   ]
  },
  {
   "cell_type": "code",
   "execution_count": null,
   "metadata": {},
   "outputs": [],
   "source": [
    "#conf_matrix = confusion_matrix(comparison_df['label_numeric'], comparison_df['predicted_category'])\n",
    "\n",
    "# labels = encoder.classes_\n",
    "# sns.set(context='talk', style='whitegrid')\n",
    "# plt.figure(figsize=(10,8))\n",
    "# sns.heatmap(conf_matrix, annot=True, fmt='d', cmap='Blues', xticklabels=labels, yticklabels=labels)\n",
    "# plt.title('Matrice de Confusion')\n",
    "# plt.xlabel('Prédictions')\n",
    "# plt.ylabel('Véritables Étiquettes')\n",
    "# plt.show()"
   ]
  },
  {
   "cell_type": "code",
   "execution_count": null,
   "metadata": {},
   "outputs": [],
   "source": [
    "ari_score = adjusted_rand_score(comparison_df['label_numeric'], comparison_df['cluster_label'])\n",
    "print(\"Adjusted Rand Index:\", ari_score)"
   ]
  },
  {
   "cell_type": "code",
   "execution_count": null,
   "metadata": {},
   "outputs": [],
   "source": [
    "pca_model, kmeans_model, cluster_center, descriptors_pca = apply_pca_and_kmean(descriptors, n_components=0.80, n_clusters=5)\n"
   ]
  },
  {
   "cell_type": "code",
   "execution_count": null,
   "metadata": {},
   "outputs": [],
   "source": [
    "def visualize_clusters_with_tsne(descriptors_pca, kmeans_labels, perplexity=30, n_iter=1000):\n",
    "    # Apply t-SNE on descriptors\n",
    "    tsne = TSNE(n_components=2, perplexity=perplexity, n_iter=n_iter, random_state=42)\n",
    "    descriptors_tsne = tsne.fit_transform(descriptors_pca)\n",
    "\n",
    "    # Visualisation\n",
    "    plt.figure(figsize=(10, 10))\n",
    "    unique_labels = np.unique(kmeans_labels)\n",
    "    for label in unique_labels:\n",
    "        cluster_descriptors = descriptors_tsne[kmeans_labels == label]\n",
    "        plt.scatter(cluster_descriptors[:, 0], cluster_descriptors[:, 1], label=f'Cluster {label}')"
   ]
  },
  {
   "cell_type": "code",
   "execution_count": null,
   "metadata": {},
   "outputs": [],
   "source": [
    "# Avec 5 clusters\n",
    "#visualize_clusters_with_tsne(descriptors_pca, kmeans_model.labels_)"
   ]
  },
  {
   "cell_type": "markdown",
   "metadata": {},
   "source": [
    "# CNN unsupervised"
   ]
  },
  {
   "cell_type": "code",
   "execution_count": null,
   "metadata": {},
   "outputs": [],
   "source": [
    "# Diviser le DataFrame de manière stratifiée\n",
    "train_df, validation_df = train_test_split(\n",
    "    photo_sample, \n",
    "    test_size=0.2,\n",
    "    stratify=photo_sample['label'],\n",
    "    random_state=42\n",
    ")"
   ]
  },
  {
   "cell_type": "code",
   "execution_count": null,
   "metadata": {},
   "outputs": [],
   "source": [
    "# Set paths for architecture folder\n",
    "cnn_folder = Path(\"/Users/matthieudridi/Documents/OpenClassrooms_Ingénieur IA/Improve_your_AI_product/yelp_photos/photos/cnn\")\n",
    "cnn_folder.mkdir(exist_ok=True)\n",
    "\n",
    "train_folder = Path(\"/Users/matthieudridi/Documents/OpenClassrooms_Ingénieur IA/Improve_your_AI_product/yelp_photos/photos/cnn/train\")\n",
    "train_folder.mkdir(exist_ok=True)\n",
    "\n",
    "validation_folder = Path(\"/Users/matthieudridi/Documents/OpenClassrooms_Ingénieur IA/Improve_your_AI_product/yelp_photos/photos/cnn/validation\")\n",
    "validation_folder.mkdir(exist_ok=True)\n",
    "\n",
    "# Copy images\n",
    "for label in LABELS :\n",
    "    train_label_path = train_folder / label\n",
    "    train_label_path.mkdir(exist_ok=True)\n",
    "    validation_label_path = validation_folder / label\n",
    "    validation_label_path.mkdir(exist_ok=True)\n",
    "\n",
    "    for img in img_folder.glob('*.jpg'):\n",
    "        if img.stem in train_df['photo_id'].to_list() and train_df.loc[train_df['photo_id']==img.stem,'label'].values == label:\n",
    "            shutil.copyfile(img, train_label_path / img.name)\n",
    "        elif img.stem in validation_df['photo_id'].to_list() and validation_df.loc[validation_df['photo_id']==img.stem,'label'].values == label:\n",
    "            shutil.copyfile(img, validation_label_path / img.name)"
   ]
  },
  {
   "cell_type": "code",
   "execution_count": null,
   "metadata": {},
   "outputs": [],
   "source": [
    "#shutil.rmtree(train_folder)\n",
    "#shutil.rmtree(validation_folder)"
   ]
  },
  {
   "cell_type": "code",
   "execution_count": null,
   "metadata": {},
   "outputs": [],
   "source": [
    "# Charger VGG-16 pré-entraîné sur ImageNet et sans les couches fully-connected\n",
    "base_model = VGG16(weights='imagenet', include_top=False, input_shape=(224, 224, 3))"
   ]
  },
  {
   "cell_type": "code",
   "execution_count": null,
   "metadata": {},
   "outputs": [],
   "source": [
    "# Créer un ImageDataGenerator pour le prétraitement\n",
    "datagen = ImageDataGenerator(rescale=1./255)\n",
    "batch_size = 32"
   ]
  },
  {
   "cell_type": "code",
   "execution_count": null,
   "metadata": {},
   "outputs": [],
   "source": [
    "def extract_features(directory, sample_count):\n",
    "    features = np.zeros(shape=(sample_count, 7, 7, 512))\n",
    "    labels = np.zeros(shape=(sample_count, 5))\n",
    "\n",
    "    generator = ImageDataGenerator(rescale=1./255).flow_from_directory(directory,\n",
    "        target_size=(224, 224),\n",
    "        batch_size = batch_size, \n",
    "        class_mode='categorical')\n",
    "    \n",
    "    i = 0\n",
    "    labels_name = list(generator.class_indices.keys())\n",
    "    \n",
    "    for inputs_batch, labels_batch in generator:\n",
    "        features_batch = base_model.predict(inputs_batch)\n",
    "        features[i * batch_size : (i+1) * batch_size] = features_batch\n",
    "        labels[i * batch_size : (i+1) * batch_size] = labels_batch\n",
    "\n",
    "        i += 1\n",
    "        \n",
    "        if i * batch_size >= sample_count:\n",
    "            break\n",
    "\n",
    "    return features, labels, labels_name"
   ]
  },
  {
   "cell_type": "code",
   "execution_count": null,
   "metadata": {},
   "outputs": [],
   "source": [
    "train_features, train_labels, train_labels_name = extract_features(train_folder, 800)"
   ]
  },
  {
   "cell_type": "code",
   "execution_count": null,
   "metadata": {},
   "outputs": [],
   "source": [
    "validation_features, validation_labels, validation_labels_name = extract_features(validation_folder, 200)"
   ]
  },
  {
   "cell_type": "code",
   "execution_count": null,
   "metadata": {},
   "outputs": [],
   "source": [
    "train_features = np.reshape(train_features, (800, 7 * 7 * 512))\n",
    "validation_features = np.reshape(validation_features, (200, 7 * 7 * 512))"
   ]
  },
  {
   "cell_type": "code",
   "execution_count": null,
   "metadata": {},
   "outputs": [],
   "source": [
    "model = Sequential()\n",
    "model.add(Dense(2048, activation='relu', input_dim=7 * 7 * 512))\n",
    "model.add(Dropout(0.5))\n",
    "model.add(Dense(512, activation='relu', input_dim=7 * 7 * 512))\n",
    "model.add(Dropout(0.5))\n",
    "model.add(Dense(128, activation='relu', input_dim=7 * 7 * 512))\n",
    "model.add(Dropout(0.5))\n",
    "model.add(Dense(5, activation='softmax'))"
   ]
  },
  {
   "cell_type": "code",
   "execution_count": null,
   "metadata": {},
   "outputs": [],
   "source": [
    "model.summary()"
   ]
  },
  {
   "cell_type": "code",
   "execution_count": null,
   "metadata": {},
   "outputs": [],
   "source": [
    "model.compile(optimizer='adam',\n",
    "              loss='categorical_crossentropy',\n",
    "              metrics=['accuracy'])"
   ]
  },
  {
   "cell_type": "code",
   "execution_count": null,
   "metadata": {},
   "outputs": [],
   "source": [
    "history = model.fit(train_features, train_labels,\n",
    "                    epochs=25,\n",
    "                    batch_size=16,\n",
    "                    validation_data=(validation_features, validation_labels))"
   ]
  },
  {
   "cell_type": "code",
   "execution_count": null,
   "metadata": {},
   "outputs": [],
   "source": [
    "acc = history.history['accuracy']\n",
    "val_acc = history.history['val_accuracy']\n",
    "loss = history.history['loss']\n",
    "val_loss = history.history['val_loss']\n",
    "epochs = range(1, len(acc) + 1)\n",
    "\n",
    "f, axes = plt.subplots(1,2,figsize=(14,4))\n",
    "\n",
    "axes[0].plot(epochs, acc, 'bo', label='Training accuracy')\n",
    "axes[0].plot(epochs, val_acc, 'b', label='Validation accuracy')\n",
    "axes[0].legend()\n",
    "\n",
    "axes[1].plot(epochs, loss, 'bo', label='Training loss')\n",
    "axes[1].plot(epochs, val_loss, 'b', label='Validation loss')\n",
    "axes[1].yaxis.set_label_position(\"right\")\n",
    "axes[1].legend()\n",
    "\n",
    "plt.show()"
   ]
  },
  {
   "cell_type": "code",
   "execution_count": null,
   "metadata": {},
   "outputs": [],
   "source": [
    "# Prédire les étiquettes pour l'ensemble de validation\n",
    "val_predictions = model.predict(validation_features)\n",
    "val_predicted_labels = np.argmax(val_predictions, axis=1)\n",
    "\n",
    "# Obtenir les vraies étiquettes de l'ensemble de validation\n",
    "true_labels = validation_labels.argmax(1)\n",
    "\n",
    "# Calculer la matrice de confusion\n",
    "conf_matrix = confusion_matrix(true_labels, val_predicted_labels)\n",
    "\n",
    "# Afficher la matrice de confusion\n",
    "sns.set(context='talk', style='whitegrid')\n",
    "plt.figure(figsize=(10,8))\n",
    "sns.heatmap(conf_matrix, annot=True, fmt='d', cmap='Blues', xticklabels=train_labels_name, yticklabels=train_labels_name)\n",
    "plt.title('Matrice de Confusion')\n",
    "plt.xlabel('Prédictions')\n",
    "plt.ylabel('Véritables Étiquettes')\n",
    "plt.show()"
   ]
  },
  {
   "cell_type": "markdown",
   "metadata": {},
   "source": [
    "# CNN"
   ]
  },
  {
   "cell_type": "code",
   "execution_count": null,
   "metadata": {},
   "outputs": [],
   "source": []
  },
  {
   "cell_type": "code",
   "execution_count": null,
   "metadata": {},
   "outputs": [],
   "source": [
    "photo_sample['label'].value_counts()"
   ]
  },
  {
   "cell_type": "code",
   "execution_count": null,
   "metadata": {},
   "outputs": [],
   "source": [
    "# Diviser le DataFrame de manière stratifiée\n",
    "train_df, validation_df = train_test_split(\n",
    "    photo_sample, \n",
    "    test_size=0.2,\n",
    "    stratify=photo_sample['label'],\n",
    "    random_state=42\n",
    ")"
   ]
  },
  {
   "cell_type": "code",
   "execution_count": null,
   "metadata": {},
   "outputs": [],
   "source": [
    "# Créer un ImageDataGenerator pour le prétraitement\n",
    "datagen = ImageDataGenerator(rescale=1./255)\n",
    "\n",
    "# Créer le train_generator avec train_df\n",
    "train_generator = datagen.flow_from_dataframe(\n",
    "    dataframe=train_df,\n",
    "    directory=img_folder_sample,\n",
    "    x_col='path',\n",
    "    y_col='label',\n",
    "    target_size=(224, 224),\n",
    "    batch_size=32,\n",
    "    class_mode='categorical',\n",
    "    shuffle=True\n",
    ")\n",
    "\n",
    "# Créer le validation_generator avec validation_df\n",
    "validation_generator = datagen.flow_from_dataframe(\n",
    "    dataframe=validation_df,\n",
    "    directory=img_folder_sample,\n",
    "    x_col='path',\n",
    "    y_col='label',\n",
    "    target_size=(224, 224),\n",
    "    batch_size=32,\n",
    "    class_mode='categorical',\n",
    "    shuffle=True\n",
    ")"
   ]
  },
  {
   "cell_type": "code",
   "execution_count": null,
   "metadata": {},
   "outputs": [],
   "source": [
    "# Charger VGG-16 pré-entraîné sur ImageNet et sans les couches fully-connected\n",
    "base_model = VGG16(weights='imagenet', include_top=False, input_shape=(224, 224, 3))\n",
    "\n",
    "# Geler les couches du modèle de base pour ne pas les réentraîner\n",
    "for layer in base_model.layers:\n",
    "    layer.trainable = False"
   ]
  },
  {
   "cell_type": "code",
   "execution_count": null,
   "metadata": {},
   "outputs": [],
   "source": [
    "# Créer un modèle séquentiel\n",
    "model = Sequential()\n",
    "\n",
    "# Ajouter le modèle de base\n",
    "model.add(base_model)\n",
    "\n",
    "# Ajouter des nouvelles couches\n",
    "model.add(Flatten())\n",
    "\n",
    "# Ajouter une couche Dense avec régularisation L2\n",
    "model.add(Dense(64, activation='relu', kernel_regularizer=l2(0.01)))\n",
    "\n",
    "# Ajouter une couche Dense avec régularisation L2\n",
    "model.add(Dense(64, activation='relu'))\n",
    "\n",
    "# Augmenter le taux de dropout pour plus de régularisation\n",
    "model.add(Dropout(0.5))\n",
    "\n",
    "# La dernière couche Dense pour la classification finale, pas besoin de régularisation ici\n",
    "model.add(Dense(5, activation='softmax'))"
   ]
  },
  {
   "cell_type": "code",
   "execution_count": null,
   "metadata": {},
   "outputs": [],
   "source": [
    "model.compile(optimizer='adam',\n",
    "              loss='categorical_crossentropy',\n",
    "              metrics=['accuracy'])"
   ]
  },
  {
   "cell_type": "code",
   "execution_count": null,
   "metadata": {},
   "outputs": [],
   "source": [
    "# Obtenir les noms et indices des classes\n",
    "class_indices = train_generator.class_indices\n",
    "class_names = list(class_indices.keys())\n",
    "\n",
    "# Identifier les classes uniques et leurs fréquences dans le générateur\n",
    "unique_classes, class_counts = np.unique(train_generator.classes, return_counts=True)\n",
    "\n",
    "# Calculer les poids pour les classes uniques\n",
    "class_weights = compute_class_weight(\n",
    "    'balanced',\n",
    "    classes=unique_classes,\n",
    "    y=train_generator.classes)\n",
    "\n",
    "# Créer un dictionnaire de poids de classe en fonction des noms de classe\n",
    "class_weights_dict = {class_names[class_idx]: weight for class_idx, weight in zip(unique_classes, class_weights)}\n",
    "\n",
    "# Ajuster les poids de classe en fonction des indices réels\n",
    "adjusted_class_weights = {class_indices[class_name]: weight for class_name, weight in class_weights_dict.items()}\n",
    "\n",
    "# Ajouter manuellement un poids par défaut pour toute classe manquante\n",
    "for class_name, class_index in class_indices.items():\n",
    "    if class_index not in adjusted_class_weights:\n",
    "        adjusted_class_weights[class_index] = np.mean(list(class_weights_dict.values()))\n",
    "\n",
    "# Vérifier les poids ajustés\n",
    "print(adjusted_class_weights)\n"
   ]
  },
  {
   "cell_type": "code",
   "execution_count": null,
   "metadata": {},
   "outputs": [],
   "source": [
    "# Nombre d'époques pour l'entraînement\n",
    "epochs = 10\n",
    "\n",
    "# Entraîner le modèle avec les poids des classes ajustés\n",
    "history = model.fit(\n",
    "    train_generator,\n",
    "    steps_per_epoch=train_generator.samples // train_generator.batch_size,\n",
    "    epochs=epochs,\n",
    "    validation_data=validation_generator,\n",
    "    validation_steps=validation_generator.samples // validation_generator.batch_size,\n",
    "    class_weight=adjusted_class_weights)"
   ]
  },
  {
   "cell_type": "code",
   "execution_count": null,
   "metadata": {},
   "outputs": [],
   "source": [
    "# Tracer l'accuracy d'entraînement et de validation\n",
    "plt.plot(history.history['accuracy'], label='Entraînement')\n",
    "plt.plot(history.history['val_accuracy'], label='Validation')\n",
    "plt.title('Accuracy au Cours des Époques')\n",
    "plt.ylabel('Accuracy')\n",
    "plt.xlabel('Époque')\n",
    "plt.legend()\n",
    "plt.show()"
   ]
  },
  {
   "cell_type": "code",
   "execution_count": null,
   "metadata": {},
   "outputs": [],
   "source": [
    "# Créer un nouveau générateur de validation pour les prédictions sans mélange\n",
    "validation_generator_for_pred = datagen.flow_from_dataframe(\n",
    "    dataframe=validation_df,\n",
    "    directory=img_folder_sample,\n",
    "    x_col='path',\n",
    "    y_col='label',\n",
    "    target_size=(224, 224),\n",
    "    batch_size=32,\n",
    "    class_mode='categorical',\n",
    "    shuffle=False  # Important pour garder le même ordre\n",
    ")\n",
    "\n",
    "# Prédire les étiquettes pour l'ensemble de validation\n",
    "val_predictions = model.predict(validation_generator_for_pred)\n",
    "val_predicted_labels = np.argmax(val_predictions, axis=1)\n",
    "\n",
    "# Obtenir les vraies étiquettes de l'ensemble de validation\n",
    "true_labels = validation_generator_for_pred.classes\n",
    "\n",
    "# Calculer la matrice de confusion\n",
    "conf_matrix = confusion_matrix(true_labels, val_predicted_labels)\n",
    "\n",
    "# Obtenir les noms des classes pour les étiquettes de l'axe\n",
    "class_labels = list(validation_generator_for_pred.class_indices.keys())\n",
    "\n",
    "# Afficher la matrice de confusion\n",
    "sns.set(context='talk', style='whitegrid')\n",
    "plt.figure(figsize=(10,8))\n",
    "sns.heatmap(conf_matrix, annot=True, fmt='d', cmap='Blues', xticklabels=class_labels, yticklabels=class_labels)\n",
    "plt.title('Matrice de Confusion')\n",
    "plt.xlabel('Prédictions')\n",
    "plt.ylabel('Véritables Étiquettes')\n",
    "plt.show()"
   ]
  },
  {
   "cell_type": "code",
   "execution_count": null,
   "metadata": {},
   "outputs": [],
   "source": [
    "# Prédire les étiquettes pour l'ensemble de validation avec shuffle=False\n",
    "val_predictions = model.predict(validation_generator_for_pred)\n",
    "val_predicted_labels = np.argmax(val_predictions, axis=1)\n",
    "\n",
    "# Obtenir les vraies étiquettes de l'ensemble de validation\n",
    "true_labels = validation_generator_for_pred.classes\n",
    "\n",
    "# Calculer l'Adjusted Rand Index\n",
    "ari_score = adjusted_rand_score(true_labels, val_predicted_labels)\n",
    "\n",
    "print(f\"L'Adjusted Rand Index est : {ari_score}\")"
   ]
  },
  {
   "cell_type": "code",
   "execution_count": null,
   "metadata": {},
   "outputs": [],
   "source": [
    "def predict_image(model, img_path, target_size=(224,224)):\n",
    "    # Charger et prétraiter l'image\n",
    "    img = load_img(img_path, target_size=target_size)\n",
    "    img_array = img_to_array(img)\n",
    "    img_array = np.expand_dims(img_array, axis=0) / 255.0  # Normalisation\n",
    "\n",
    "    # Prédiction\n",
    "    prediction = model.predict(img_array)\n",
    "\n",
    "    class_indices = train_generator.class_indices\n",
    "    classes = list(class_indices.keys())\n",
    "\n",
    "    # Obtenir le label de la classe avec la plus haute probabilité\n",
    "    predicted_class = classes[np.argmax(prediction)]\n",
    "\n",
    "    print(f\"Classe prédite pour l'image: {predicted_class}\")\n",
    "\n",
    "    return prediction"
   ]
  },
  {
   "cell_type": "code",
   "execution_count": null,
   "metadata": {},
   "outputs": [],
   "source": []
  },
  {
   "cell_type": "code",
   "execution_count": null,
   "metadata": {},
   "outputs": [],
   "source": []
  },
  {
   "cell_type": "code",
   "execution_count": null,
   "metadata": {},
   "outputs": [],
   "source": []
  },
  {
   "cell_type": "markdown",
   "metadata": {},
   "source": [
    "# Essais"
   ]
  },
  {
   "cell_type": "code",
   "execution_count": null,
   "metadata": {},
   "outputs": [],
   "source": [
    "# Création d'une instance de SentimentIntensityAnalyzer\n",
    "sia = SentimentIntensityAnalyzer()\n",
    "\n",
    "# Fonction pour obtenir le score de sentiment\n",
    "def get_vader_sentiment(comment):\n",
    "    # Calcul des scores de sentiment\n",
    "    sentiment_dict = sia.polarity_scores(comment)\n",
    "    # Retourne le score 'composé' qui est une métrique globale de sentiment\n",
    "    return sentiment_dict['compound']\n",
    "\n",
    "# Application de cette fonction aux commentaires nettoyés\n",
    "review_sample['vader_sentiment'] = review_sample['cleaned_comment'].apply(get_vader_sentiment)"
   ]
  },
  {
   "cell_type": "code",
   "execution_count": null,
   "metadata": {},
   "outputs": [],
   "source": [
    "def remove_most_frequent_words(text:str, n:int):\n",
    "    most_freq_words = pd.Series(corpus.split()).value_counts().head(n).index\n",
    "    return ' '.join(word for word in text.split() if word not in most_freq_words)\n",
    "\n",
    "corpus_witout_freq_word = remove_most_frequent_words(corpus, 20)\n",
    "word_freq_2 = pd.Series(corpus_witout_freq_word.split()).value_counts()\n",
    "word_freq_2"
   ]
  }
 ],
 "metadata": {
  "kernelspec": {
   "display_name": "env",
   "language": "python",
   "name": "python3"
  },
  "language_info": {
   "codemirror_mode": {
    "name": "ipython",
    "version": 3
   },
   "file_extension": ".py",
   "mimetype": "text/x-python",
   "name": "python",
   "nbconvert_exporter": "python",
   "pygments_lexer": "ipython3",
   "version": "3.10.11"
  }
 },
 "nbformat": 4,
 "nbformat_minor": 2
}

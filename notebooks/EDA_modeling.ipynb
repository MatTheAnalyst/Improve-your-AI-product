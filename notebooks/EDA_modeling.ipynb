{
 "cells": [
  {
   "cell_type": "markdown",
   "metadata": {},
   "source": [
    "# Import"
   ]
  },
  {
   "cell_type": "code",
   "execution_count": 1,
   "metadata": {},
   "outputs": [],
   "source": [
    "import pandas as pd\n",
    "import numpy as np\n",
    "import seaborn as sns\n",
    "from PIL import Image, ImageOps\n",
    "from PIL import ImageFilter\n",
    "from matplotlib import pyplot as plt\n",
    "import cv2\n",
    "from pathlib import Path\n",
    "import shutil\n",
    "from PIL import Image\n",
    "from wordcloud import WordCloud\n",
    "from sklearn.cluster import KMeans\n",
    "from sklearn.preprocessing import StandardScaler, LabelEncoder\n",
    "from sklearn.decomposition import PCA, LatentDirichletAllocation\n",
    "from sklearn.manifold import TSNE\n",
    "from sklearn.model_selection import train_test_split\n",
    "from sklearn.utils import compute_class_weight\n",
    "from sklearn.feature_extraction.text import CountVectorizer, TfidfVectorizer\n",
    "from sklearn.metrics import confusion_matrix, adjusted_rand_score\n",
    "from tensorflow.keras.preprocessing.image import ImageDataGenerator, load_img, img_to_array\n",
    "from tensorflow.keras.models import Sequential\n",
    "from tensorflow.keras import Model\n",
    "from tensorflow.keras.regularizers import l2\n",
    "from tensorflow.keras.layers import Dense, Flatten, Dropout\n",
    "from tensorflow.keras.applications.vgg16 import VGG16\n",
    "from gensim import corpora\n",
    "from gensim.models import LdaModel, LdaMulticore\n",
    "from gensim.models.coherencemodel import CoherenceModel\n",
    "from gensim.matutils import Sparse2Corpus\n",
    "from nltk.stem import WordNetLemmatizer\n",
    "from nltk.corpus import wordnet, stopwords\n",
    "from nltk.collections import Counter\n",
    "from nltk.tokenize import word_tokenize\n",
    "from nltk import pos_tag\n",
    "import ssl\n",
    "import string\n",
    "\n",
    "try:\n",
    "    from PIL import UnidentifiedImageError\n",
    "except ImportError:\n",
    "    UnidentifiedImageError = IOError"
   ]
  },
  {
   "cell_type": "code",
   "execution_count": null,
   "metadata": {},
   "outputs": [],
   "source": []
  },
  {
   "cell_type": "markdown",
   "metadata": {},
   "source": [
    "<a id=\"section1\"></a>\n",
    "# Section #\n",
    "\n",
    "[Aller a la section 1](#section1)"
   ]
  },
  {
   "cell_type": "code",
   "execution_count": null,
   "metadata": {},
   "outputs": [],
   "source": [
    "pd.set_option('display.max_rows', 500)"
   ]
  },
  {
   "cell_type": "markdown",
   "metadata": {},
   "source": [
    "Import of datasets."
   ]
  },
  {
   "cell_type": "code",
   "execution_count": null,
   "metadata": {},
   "outputs": [],
   "source": [
    "img_folder = Path(\"/Users/matthieudridi/Documents/OpenClassrooms_Ingénieur IA/Improve_your_AI_product/yelp_photos/photos\")\n",
    "img_folder_sample = img_folder / \"sample\"\n",
    "img_folder_sample.mkdir(exist_ok=True)\n",
    "dest_path = img_folder_sample / \"processed_images\"\n",
    "ssl._create_default_https_context = ssl._create_unverified_context"
   ]
  },
  {
   "cell_type": "code",
   "execution_count": null,
   "metadata": {},
   "outputs": [],
   "source": [
    "photo = pd.read_json(\"/Users/matthieudridi/Documents/OpenClassrooms_Ingénieur IA/Improve_your_AI_product/yelp_photos/photos.json\", lines=True)"
   ]
  },
  {
   "cell_type": "code",
   "execution_count": null,
   "metadata": {},
   "outputs": [],
   "source": [
    "business = pd.read_json(\"./yelp_dataset/yelp_academic_dataset_business.json\", lines=True)\n",
    "checkin = pd.read_json(\"./yelp_dataset/yelp_academic_dataset_checkin.json\", lines=True)\n",
    "review = pd.read_json(\"./yelp_dataset/yelp_academic_dataset_review.json\", lines=True)\n",
    "tip = pd.read_json(\"./yelp_dataset/yelp_academic_dataset_tip.json\", lines=True)\n",
    "user = pd.read_json(\"./yelp_dataset/yelp_academic_dataset_user.json\", lines=True)"
   ]
  },
  {
   "cell_type": "code",
   "execution_count": null,
   "metadata": {},
   "outputs": [],
   "source": [
    "LABELS = list(photo['label'].unique())"
   ]
  },
  {
   "cell_type": "code",
   "execution_count": null,
   "metadata": {},
   "outputs": [],
   "source": [
    "def select_and_copy_images(dataframe, source_path:Path, dest_path:Path, num_images:int):\n",
    "    sample = pd.DataFrame(columns=dataframe.columns)\n",
    "\n",
    "    for label in dataframe['label'].unique():\n",
    "        sample = pd.concat([sample, dataframe.loc[dataframe['label']==label,:].sample(n=num_images)])\n",
    "    \n",
    "    print(f\"Taille de l'échantillon : {len(sample)}\")\n",
    "\n",
    "    # Copying selected images to sample folder\n",
    "    for img in source_path.glob('*.jpg'):\n",
    "        if img.stem in sample['photo_id'].to_list():\n",
    "            shutil.copyfile(img, dest_path / img.name)\n",
    "            sample.loc[sample['photo_id'] == img.stem, 'path'] = str(img)\n",
    "    \n",
    "    return sample\n",
    "\n",
    "def jpg_to_png(img_path:Path) -> Path:\n",
    "    # Create png dir if not exist\n",
    "    png_folder = img_path.parent / \"png_img\"\n",
    "    png_folder.mkdir(exist_ok=True)\n",
    "    \n",
    "    # Log error file if not exist\n",
    "    log_error_file = png_folder / \"log_errors.txt\" \n",
    "    log_error_file.touch(exist_ok=True)\n",
    "\n",
    "    if img_path.suffix == '.jpg':\n",
    "        try:\n",
    "            with Image.open(img_path) as img:\n",
    "                png_img = img_path.stem + \".png\"\n",
    "                img.save(png_folder / png_img, \"PNG\")\n",
    "                png_img = Path(png_folder.absolute() / png_img)\n",
    "                return png_img\n",
    "        except IOError as e:\n",
    "            with open(log_error_file, 'a') as file:\n",
    "                file.write(f\"Impossible de traiter l'image {img_path.name}: {e}\")\n",
    "\n",
    "    else:\n",
    "        return img_path\n",
    "    \n",
    "def process_images(directory:Path, batch_size=100):\n",
    "    # Get the list of images\n",
    "    images = list(directory.glob('*.jpg'))\n",
    "\n",
    "    # Create destination dir if not exist\n",
    "    dest_folder = directory / \"processed_images\"\n",
    "    dest_folder.mkdir(exist_ok=True)\n",
    "\n",
    "    # Create file for record errors if not exist\n",
    "    error_file = dest_folder / \"errors.txt\"   \n",
    "    error_file.touch(exist_ok=True)\n",
    "\n",
    "    for i in range(0, len(images), batch_size):\n",
    "        for img_path in images[i: i + batch_size]:\n",
    "\n",
    "            # Conversion to png if necessary\n",
    "            img_path = jpg_to_png(img_path)\n",
    "\n",
    "            try:\n",
    "                img = Image.open(img_path)\n",
    "                img.verify()\n",
    "            except (UnidentifiedImageError, IOError):\n",
    "                with open(error_file, 'a') as file:\n",
    "                    file.write(f\"Le fichier {img_path} n'a pas pu être identifié comme une image valide.\")\n",
    "                continue\n",
    "            \n",
    "            img = Image.open(img_path)\n",
    "\n",
    "            # Median filter --> Gaussien filter instead\n",
    "            img = img.filter(ImageFilter.MedianFilter(size=3))\n",
    "\n",
    "            # Equalize histogram\n",
    "            img = ImageOps.equalize(img)\n",
    "\n",
    "            # Path destination\n",
    "            dest_path = dest_folder / img_path.name\n",
    "\n",
    "            # Save image processed\n",
    "            img.save(dest_path)\n",
    "\n",
    "            # Free memory\n",
    "            img.close()\n",
    "\n",
    "def sift_features(directory:Path, batch_size=100):\n",
    "    destination_path = directory / 'sift'\n",
    "    destination_path.mkdir(exist_ok=True)\n",
    "    \n",
    "    # Create SIFT detector\n",
    "    sift = cv2.SIFT_create()\n",
    "\n",
    "    batch_num = 0\n",
    "    batch_descriptors = list()\n",
    "    images_files = list(directory.glob('*.png'))\n",
    "    total_images = len(images_files)\n",
    "    images_processed = 0\n",
    "    image_names = list()\n",
    "\n",
    "    # Pour le diagnostic\n",
    "    descriptor_count = {}\n",
    "\n",
    "    # Iterate over all images\n",
    "    for i, img_path in enumerate(images_files):\n",
    "        img = cv2.imread(str(img_path), cv2.IMREAD_GRAYSCALE)\n",
    "        keypoints, descriptors = sift.detectAndCompute(img, None)\n",
    "\n",
    "        if descriptors is not None:\n",
    "            batch_descriptors.extend(descriptors)\n",
    "            for _ in range(len(descriptors)):\n",
    "                image_names.append(img_path.stem)\n",
    "\n",
    "            # Ajout dans le dictionnaire pour le diagnostic\n",
    "            descriptor_count[img_path.stem] = len(descriptors)\n",
    "\n",
    "            images_processed += 1\n",
    "        \n",
    "        if images_processed >= batch_size or i == total_images - 1:\n",
    "            # Concatenate all numpy array in batch_descriptors in one numpy array\n",
    "            descriptors_to_save = np.vstack(batch_descriptors)\n",
    "            descriptor_path = destination_path / f\"descriptors_batch_{batch_num}.npy\"\n",
    "            image_names_path = destination_path / f\"images_names_batch_{batch_num}.npy\"\n",
    "            np.save(image_names_path, np.array(image_names))\n",
    "            np.save(descriptor_path, descriptors_to_save)\n",
    "            batch_descriptors = list()\n",
    "            images_processed = 0\n",
    "            batch_num += 1\n",
    "            image_names = list()\n",
    "\n",
    "    # # Afficher les statistiques de descripteurs\n",
    "    # print(\"Nombre de descripteurs par image :\")\n",
    "    # for photo_id, count in descriptor_count.items():\n",
    "    #     print(f\"{photo_id}: {count}\")\n",
    "\n",
    "    return batch_num\n",
    "\n",
    "def load_descriptors(directory:Path):\n",
    "    descriptor_files = list(directory.glob('descriptors_batch_*.npy'))\n",
    "\n",
    "    all_descriptors = [np.load(file) for file in descriptor_files]\n",
    "\n",
    "    all_descriptors_stacked = np.vstack(all_descriptors)\n",
    "\n",
    "    return all_descriptors_stacked\n",
    "\n",
    "def elbow_method(descriptors, range_n_clusters):\n",
    "    inertia = list()\n",
    "\n",
    "    for n_clusters in range_n_clusters:\n",
    "        kmeans = KMeans(n_clusters=n_clusters, random_state=42)\n",
    "        kmeans.fit(descriptors)\n",
    "        inertia.append(kmeans.inertia_)\n",
    "\n",
    "    plt.figure(figsize=(8, 4))\n",
    "    plt.plot(range_n_clusters, inertia, 'bo-')\n",
    "    plt.xlabel('Number of Clusters (k)')\n",
    "    plt.ylabel('Inertia')\n",
    "    plt.title('Elbow Method For Optimal k')\n",
    "    plt.show()\n",
    "\n",
    "def apply_pca_and_kmean(descriptors, n_components=None, n_clusters=100):\n",
    "    # Descriptors normalisation before ACP\n",
    "    scaler = StandardScaler()\n",
    "    descriptors_scaled = scaler.fit_transform(descriptors)\n",
    "\n",
    "    # Apply ACP\n",
    "    pca = PCA(n_components=n_components, random_state=42)\n",
    "    descriptors_pca = pca.fit_transform(descriptors_scaled)\n",
    "\n",
    "    # Apply Kmeans\n",
    "    kmeans = KMeans(n_clusters=n_clusters, random_state=42)\n",
    "    kmeans.fit(descriptors_pca)\n",
    "\n",
    "    return pca, kmeans, kmeans.cluster_centers_, descriptors_pca\n",
    "\n",
    "def create_photo_cluster_table(directory, kmeans_labels):\n",
    "    # Load images\n",
    "    image_names_files = list(Path(directory).glob('images_names_batch_*.npy'))\n",
    "    image_names = [np.load(file) for file in image_names_files]\n",
    "    image_names = np.concatenate(image_names)\n",
    "\n",
    "    # Create Dataframe\n",
    "    photo_cluster_df = pd.DataFrame({\n",
    "        'photo_id' : image_names,\n",
    "        'cluster_label' : kmeans_labels\n",
    "    })\n",
    "    \n",
    "    # Get the most frequent cluster by photo\n",
    "    photo_cluster_df = photo_cluster_df.groupby('photo_id')['cluster_label'].agg(lambda x: x.value_counts().index[0])\n",
    "\n",
    "    # Reset index to turn the Series back into a DataFrame\n",
    "    photo_cluster_df = photo_cluster_df.reset_index()\n",
    "\n",
    "    return photo_cluster_df"
   ]
  },
  {
   "cell_type": "code",
   "execution_count": null,
   "metadata": {},
   "outputs": [],
   "source": [
    "photo_sample = select_and_copy_images(photo, img_folder, img_folder_sample, 200)"
   ]
  },
  {
   "cell_type": "code",
   "execution_count": null,
   "metadata": {},
   "outputs": [],
   "source": [
    "process_images(img_folder_sample)"
   ]
  },
  {
   "cell_type": "code",
   "execution_count": null,
   "metadata": {},
   "outputs": [],
   "source": [
    "batch_sift = sift_features(dest_path)"
   ]
  },
  {
   "cell_type": "markdown",
   "metadata": {},
   "source": []
  },
  {
   "cell_type": "code",
   "execution_count": null,
   "metadata": {},
   "outputs": [],
   "source": [
    "img_folder_sample_sift = dest_path / \"sift\""
   ]
  },
  {
   "cell_type": "code",
   "execution_count": null,
   "metadata": {},
   "outputs": [],
   "source": [
    "# Load descriptors and train KMeans with k = 5 because we have 5 categories of photo\n",
    "descriptors = load_descriptors(img_folder_sample_sift)\n",
    "pca_model, kmeans_model, cluster_center, descriptors_pca = apply_pca_and_kmean(descriptors, n_components=0.80, n_clusters=5)"
   ]
  },
  {
   "cell_type": "code",
   "execution_count": null,
   "metadata": {},
   "outputs": [],
   "source": [
    "elbow_method(descriptors, range(2,10));"
   ]
  },
  {
   "cell_type": "code",
   "execution_count": null,
   "metadata": {},
   "outputs": [],
   "source": [
    "photo_cluster_df = create_photo_cluster_table(img_folder_sample_sift, kmeans_model.labels_)"
   ]
  },
  {
   "cell_type": "code",
   "execution_count": null,
   "metadata": {},
   "outputs": [],
   "source": [
    "encoder = LabelEncoder()\n",
    "photo['label_numeric'] = encoder.fit_transform(photo['label'])\n",
    "comparison_df = photo_cluster_df.merge(photo[['photo_id','label_numeric']], left_on='photo_id', right_on='photo_id')\n",
    "#cluster_mod = comparison_df.groupby('cluster_label')['label_numeric'].agg(lambda x: x.mode()[0])\n",
    "#comparison_df['predicted_category'] = comparison_df['cluster_label'].map(cluster_mod)"
   ]
  },
  {
   "cell_type": "code",
   "execution_count": null,
   "metadata": {},
   "outputs": [],
   "source": [
    "# Utilisation de la fonction crosstab pour créer la matrice de correspondance\n",
    "correspondence_matrix = pd.crosstab(comparison_df['label_numeric'], comparison_df['cluster_label'])\n",
    "\n",
    "# Affichage de la matrice de correspondance\n",
    "print(correspondence_matrix)\n",
    "\n",
    "# Visualisation de la matrice de correspondance en tant que heatmap\n",
    "sns.set(context='talk', style='whitegrid')\n",
    "plt.figure(figsize=(10,8))\n",
    "sns.heatmap(correspondence_matrix, annot=True, fmt='d', cmap='Blues')\n",
    "plt.xlabel('Cluster Labels')\n",
    "plt.ylabel('True Labels')\n",
    "plt.title('Correspondence Matrix Heatmap')\n",
    "plt.show();"
   ]
  },
  {
   "cell_type": "code",
   "execution_count": null,
   "metadata": {},
   "outputs": [],
   "source": [
    "#conf_matrix = confusion_matrix(comparison_df['label_numeric'], comparison_df['predicted_category'])\n",
    "\n",
    "# labels = encoder.classes_\n",
    "# sns.set(context='talk', style='whitegrid')\n",
    "# plt.figure(figsize=(10,8))\n",
    "# sns.heatmap(conf_matrix, annot=True, fmt='d', cmap='Blues', xticklabels=labels, yticklabels=labels)\n",
    "# plt.title('Matrice de Confusion')\n",
    "# plt.xlabel('Prédictions')\n",
    "# plt.ylabel('Véritables Étiquettes')\n",
    "# plt.show()"
   ]
  },
  {
   "cell_type": "code",
   "execution_count": null,
   "metadata": {},
   "outputs": [],
   "source": [
    "ari_score = adjusted_rand_score(comparison_df['label_numeric'], comparison_df['cluster_label'])\n",
    "print(\"Adjusted Rand Index:\", ari_score)"
   ]
  },
  {
   "cell_type": "code",
   "execution_count": null,
   "metadata": {},
   "outputs": [],
   "source": [
    "pca_model, kmeans_model, cluster_center, descriptors_pca = apply_pca_and_kmean(descriptors, n_components=0.80, n_clusters=5)\n"
   ]
  },
  {
   "cell_type": "code",
   "execution_count": null,
   "metadata": {},
   "outputs": [],
   "source": [
    "def visualize_clusters_with_tsne(descriptors_pca, kmeans_labels, perplexity=30, n_iter=1000):\n",
    "    # Apply t-SNE on descriptors\n",
    "    tsne = TSNE(n_components=2, perplexity=perplexity, n_iter=n_iter, random_state=42)\n",
    "    descriptors_tsne = tsne.fit_transform(descriptors_pca)\n",
    "\n",
    "    # Visualisation\n",
    "    plt.figure(figsize=(10, 10))\n",
    "    unique_labels = np.unique(kmeans_labels)\n",
    "    for label in unique_labels:\n",
    "        cluster_descriptors = descriptors_tsne[kmeans_labels == label]\n",
    "        plt.scatter(cluster_descriptors[:, 0], cluster_descriptors[:, 1], label=f'Cluster {label}')"
   ]
  },
  {
   "cell_type": "code",
   "execution_count": null,
   "metadata": {},
   "outputs": [],
   "source": [
    "# Avec 5 clusters\n",
    "#visualize_clusters_with_tsne(descriptors_pca, kmeans_model.labels_)"
   ]
  },
  {
   "cell_type": "markdown",
   "metadata": {},
   "source": [
    "# CNN unsupervised"
   ]
  },
  {
   "cell_type": "code",
   "execution_count": null,
   "metadata": {},
   "outputs": [],
   "source": [
    "# Diviser le DataFrame de manière stratifiée\n",
    "train_df, validation_df = train_test_split(\n",
    "    photo_sample, \n",
    "    test_size=0.2,\n",
    "    stratify=photo_sample['label'],\n",
    "    random_state=42\n",
    ")"
   ]
  },
  {
   "cell_type": "code",
   "execution_count": null,
   "metadata": {},
   "outputs": [],
   "source": [
    "# Set paths for architecture folder\n",
    "cnn_folder = Path(\"/Users/matthieudridi/Documents/OpenClassrooms_Ingénieur IA/Improve_your_AI_product/yelp_photos/photos/cnn\")\n",
    "cnn_folder.mkdir(exist_ok=True)\n",
    "\n",
    "train_folder = Path(\"/Users/matthieudridi/Documents/OpenClassrooms_Ingénieur IA/Improve_your_AI_product/yelp_photos/photos/cnn/train\")\n",
    "train_folder.mkdir(exist_ok=True)\n",
    "\n",
    "validation_folder = Path(\"/Users/matthieudridi/Documents/OpenClassrooms_Ingénieur IA/Improve_your_AI_product/yelp_photos/photos/cnn/validation\")\n",
    "validation_folder.mkdir(exist_ok=True)\n",
    "\n",
    "# Copy images\n",
    "for label in LABELS :\n",
    "    train_label_path = train_folder / label\n",
    "    train_label_path.mkdir(exist_ok=True)\n",
    "    validation_label_path = validation_folder / label\n",
    "    validation_label_path.mkdir(exist_ok=True)\n",
    "\n",
    "    for img in img_folder.glob('*.jpg'):\n",
    "        if img.stem in train_df['photo_id'].to_list() and train_df.loc[train_df['photo_id']==img.stem,'label'].values == label:\n",
    "            shutil.copyfile(img, train_label_path / img.name)\n",
    "        elif img.stem in validation_df['photo_id'].to_list() and validation_df.loc[validation_df['photo_id']==img.stem,'label'].values == label:\n",
    "            shutil.copyfile(img, validation_label_path / img.name)"
   ]
  },
  {
   "cell_type": "code",
   "execution_count": null,
   "metadata": {},
   "outputs": [],
   "source": [
    "#shutil.rmtree(train_folder)\n",
    "#shutil.rmtree(validation_folder)"
   ]
  },
  {
   "cell_type": "code",
   "execution_count": null,
   "metadata": {},
   "outputs": [],
   "source": [
    "# Charger VGG-16 pré-entraîné sur ImageNet et sans les couches fully-connected\n",
    "base_model = VGG16(weights='imagenet', include_top=False, input_shape=(224, 224, 3))"
   ]
  },
  {
   "cell_type": "code",
   "execution_count": null,
   "metadata": {},
   "outputs": [],
   "source": [
    "# Créer un ImageDataGenerator pour le prétraitement\n",
    "datagen = ImageDataGenerator(rescale=1./255)\n",
    "batch_size = 32"
   ]
  },
  {
   "cell_type": "code",
   "execution_count": null,
   "metadata": {},
   "outputs": [],
   "source": [
    "def extract_features(directory, sample_count):\n",
    "    features = np.zeros(shape=(sample_count, 7, 7, 512))\n",
    "    labels = np.zeros(shape=(sample_count, 5))\n",
    "\n",
    "    generator = ImageDataGenerator(rescale=1./255).flow_from_directory(directory,\n",
    "        target_size=(224, 224),\n",
    "        batch_size = batch_size, \n",
    "        class_mode='categorical')\n",
    "    \n",
    "    i = 0\n",
    "    labels_name = list(generator.class_indices.keys())\n",
    "    \n",
    "    for inputs_batch, labels_batch in generator:\n",
    "        features_batch = base_model.predict(inputs_batch)\n",
    "        features[i * batch_size : (i+1) * batch_size] = features_batch\n",
    "        labels[i * batch_size : (i+1) * batch_size] = labels_batch\n",
    "\n",
    "        i += 1\n",
    "        \n",
    "        if i * batch_size >= sample_count:\n",
    "            break\n",
    "\n",
    "    return features, labels, labels_name"
   ]
  },
  {
   "cell_type": "code",
   "execution_count": null,
   "metadata": {},
   "outputs": [],
   "source": [
    "train_features, train_labels, train_labels_name = extract_features(train_folder, 800)"
   ]
  },
  {
   "cell_type": "code",
   "execution_count": null,
   "metadata": {},
   "outputs": [],
   "source": [
    "validation_features, validation_labels, validation_labels_name = extract_features(validation_folder, 200)"
   ]
  },
  {
   "cell_type": "code",
   "execution_count": null,
   "metadata": {},
   "outputs": [],
   "source": [
    "train_features = np.reshape(train_features, (800, 7 * 7 * 512))\n",
    "validation_features = np.reshape(validation_features, (200, 7 * 7 * 512))"
   ]
  },
  {
   "cell_type": "code",
   "execution_count": null,
   "metadata": {},
   "outputs": [],
   "source": [
    "model = Sequential()\n",
    "model.add(Dense(2048, activation='relu', input_dim=7 * 7 * 512))\n",
    "model.add(Dropout(0.5))\n",
    "model.add(Dense(512, activation='relu', input_dim=7 * 7 * 512))\n",
    "model.add(Dropout(0.5))\n",
    "model.add(Dense(128, activation='relu', input_dim=7 * 7 * 512))\n",
    "model.add(Dropout(0.5))\n",
    "model.add(Dense(5, activation='softmax'))"
   ]
  },
  {
   "cell_type": "code",
   "execution_count": null,
   "metadata": {},
   "outputs": [],
   "source": [
    "model.summary()"
   ]
  },
  {
   "cell_type": "code",
   "execution_count": null,
   "metadata": {},
   "outputs": [],
   "source": [
    "model.compile(optimizer='adam',\n",
    "              loss='categorical_crossentropy',\n",
    "              metrics=['accuracy'])"
   ]
  },
  {
   "cell_type": "code",
   "execution_count": null,
   "metadata": {},
   "outputs": [],
   "source": [
    "history = model.fit(train_features, train_labels,\n",
    "                    epochs=25,\n",
    "                    batch_size=16,\n",
    "                    validation_data=(validation_features, validation_labels))"
   ]
  },
  {
   "cell_type": "code",
   "execution_count": null,
   "metadata": {},
   "outputs": [],
   "source": [
    "acc = history.history['accuracy']\n",
    "val_acc = history.history['val_accuracy']\n",
    "loss = history.history['loss']\n",
    "val_loss = history.history['val_loss']\n",
    "epochs = range(1, len(acc) + 1)\n",
    "\n",
    "f, axes = plt.subplots(1,2,figsize=(14,4))\n",
    "\n",
    "axes[0].plot(epochs, acc, 'bo', label='Training accuracy')\n",
    "axes[0].plot(epochs, val_acc, 'b', label='Validation accuracy')\n",
    "axes[0].legend()\n",
    "\n",
    "axes[1].plot(epochs, loss, 'bo', label='Training loss')\n",
    "axes[1].plot(epochs, val_loss, 'b', label='Validation loss')\n",
    "axes[1].yaxis.set_label_position(\"right\")\n",
    "axes[1].legend()\n",
    "\n",
    "plt.show()"
   ]
  },
  {
   "cell_type": "code",
   "execution_count": null,
   "metadata": {},
   "outputs": [],
   "source": [
    "# Prédire les étiquettes pour l'ensemble de validation\n",
    "val_predictions = model.predict(validation_features)\n",
    "val_predicted_labels = np.argmax(val_predictions, axis=1)\n",
    "\n",
    "# Obtenir les vraies étiquettes de l'ensemble de validation\n",
    "true_labels = validation_labels.argmax(1)\n",
    "\n",
    "# Calculer la matrice de confusion\n",
    "conf_matrix = confusion_matrix(true_labels, val_predicted_labels)\n",
    "\n",
    "# Afficher la matrice de confusion\n",
    "sns.set(context='talk', style='whitegrid')\n",
    "plt.figure(figsize=(10,8))\n",
    "sns.heatmap(conf_matrix, annot=True, fmt='d', cmap='Blues', xticklabels=train_labels_name, yticklabels=train_labels_name)\n",
    "plt.title('Matrice de Confusion')\n",
    "plt.xlabel('Prédictions')\n",
    "plt.ylabel('Véritables Étiquettes')\n",
    "plt.show()"
   ]
  },
  {
   "cell_type": "markdown",
   "metadata": {},
   "source": [
    "# CNN"
   ]
  },
  {
   "cell_type": "code",
   "execution_count": null,
   "metadata": {},
   "outputs": [],
   "source": []
  },
  {
   "cell_type": "code",
   "execution_count": null,
   "metadata": {},
   "outputs": [],
   "source": [
    "photo_sample['label'].value_counts()"
   ]
  },
  {
   "cell_type": "code",
   "execution_count": null,
   "metadata": {},
   "outputs": [],
   "source": [
    "# Diviser le DataFrame de manière stratifiée\n",
    "train_df, validation_df = train_test_split(\n",
    "    photo_sample, \n",
    "    test_size=0.2,\n",
    "    stratify=photo_sample['label'],\n",
    "    random_state=42\n",
    ")"
   ]
  },
  {
   "cell_type": "code",
   "execution_count": null,
   "metadata": {},
   "outputs": [],
   "source": [
    "# Créer un ImageDataGenerator pour le prétraitement\n",
    "datagen = ImageDataGenerator(rescale=1./255)\n",
    "\n",
    "# Créer le train_generator avec train_df\n",
    "train_generator = datagen.flow_from_dataframe(\n",
    "    dataframe=train_df,\n",
    "    directory=img_folder_sample,\n",
    "    x_col='path',\n",
    "    y_col='label',\n",
    "    target_size=(224, 224),\n",
    "    batch_size=32,\n",
    "    class_mode='categorical',\n",
    "    shuffle=True\n",
    ")\n",
    "\n",
    "# Créer le validation_generator avec validation_df\n",
    "validation_generator = datagen.flow_from_dataframe(\n",
    "    dataframe=validation_df,\n",
    "    directory=img_folder_sample,\n",
    "    x_col='path',\n",
    "    y_col='label',\n",
    "    target_size=(224, 224),\n",
    "    batch_size=32,\n",
    "    class_mode='categorical',\n",
    "    shuffle=True\n",
    ")"
   ]
  },
  {
   "cell_type": "code",
   "execution_count": null,
   "metadata": {},
   "outputs": [],
   "source": [
    "# Charger VGG-16 pré-entraîné sur ImageNet et sans les couches fully-connected\n",
    "base_model = VGG16(weights='imagenet', include_top=False, input_shape=(224, 224, 3))\n",
    "\n",
    "# Geler les couches du modèle de base pour ne pas les réentraîner\n",
    "for layer in base_model.layers:\n",
    "    layer.trainable = False"
   ]
  },
  {
   "cell_type": "code",
   "execution_count": null,
   "metadata": {},
   "outputs": [],
   "source": [
    "# Créer un modèle séquentiel\n",
    "model = Sequential()\n",
    "\n",
    "# Ajouter le modèle de base\n",
    "model.add(base_model)\n",
    "\n",
    "# Ajouter des nouvelles couches\n",
    "model.add(Flatten())\n",
    "\n",
    "# Ajouter une couche Dense avec régularisation L2\n",
    "model.add(Dense(64, activation='relu', kernel_regularizer=l2(0.01)))\n",
    "\n",
    "# Ajouter une couche Dense avec régularisation L2\n",
    "model.add(Dense(64, activation='relu'))\n",
    "\n",
    "# Augmenter le taux de dropout pour plus de régularisation\n",
    "model.add(Dropout(0.5))\n",
    "\n",
    "# La dernière couche Dense pour la classification finale, pas besoin de régularisation ici\n",
    "model.add(Dense(5, activation='softmax'))"
   ]
  },
  {
   "cell_type": "code",
   "execution_count": null,
   "metadata": {},
   "outputs": [],
   "source": [
    "model.compile(optimizer='adam',\n",
    "              loss='categorical_crossentropy',\n",
    "              metrics=['accuracy'])"
   ]
  },
  {
   "cell_type": "code",
   "execution_count": null,
   "metadata": {},
   "outputs": [],
   "source": [
    "# Obtenir les noms et indices des classes\n",
    "class_indices = train_generator.class_indices\n",
    "class_names = list(class_indices.keys())\n",
    "\n",
    "# Identifier les classes uniques et leurs fréquences dans le générateur\n",
    "unique_classes, class_counts = np.unique(train_generator.classes, return_counts=True)\n",
    "\n",
    "# Calculer les poids pour les classes uniques\n",
    "class_weights = compute_class_weight(\n",
    "    'balanced',\n",
    "    classes=unique_classes,\n",
    "    y=train_generator.classes)\n",
    "\n",
    "# Créer un dictionnaire de poids de classe en fonction des noms de classe\n",
    "class_weights_dict = {class_names[class_idx]: weight for class_idx, weight in zip(unique_classes, class_weights)}\n",
    "\n",
    "# Ajuster les poids de classe en fonction des indices réels\n",
    "adjusted_class_weights = {class_indices[class_name]: weight for class_name, weight in class_weights_dict.items()}\n",
    "\n",
    "# Ajouter manuellement un poids par défaut pour toute classe manquante\n",
    "for class_name, class_index in class_indices.items():\n",
    "    if class_index not in adjusted_class_weights:\n",
    "        adjusted_class_weights[class_index] = np.mean(list(class_weights_dict.values()))\n",
    "\n",
    "# Vérifier les poids ajustés\n",
    "print(adjusted_class_weights)\n"
   ]
  },
  {
   "cell_type": "code",
   "execution_count": null,
   "metadata": {},
   "outputs": [],
   "source": [
    "# Nombre d'époques pour l'entraînement\n",
    "epochs = 10\n",
    "\n",
    "# Entraîner le modèle avec les poids des classes ajustés\n",
    "history = model.fit(\n",
    "    train_generator,\n",
    "    steps_per_epoch=train_generator.samples // train_generator.batch_size,\n",
    "    epochs=epochs,\n",
    "    validation_data=validation_generator,\n",
    "    validation_steps=validation_generator.samples // validation_generator.batch_size,\n",
    "    class_weight=adjusted_class_weights)"
   ]
  },
  {
   "cell_type": "code",
   "execution_count": null,
   "metadata": {},
   "outputs": [],
   "source": [
    "# Tracer l'accuracy d'entraînement et de validation\n",
    "plt.plot(history.history['accuracy'], label='Entraînement')\n",
    "plt.plot(history.history['val_accuracy'], label='Validation')\n",
    "plt.title('Accuracy au Cours des Époques')\n",
    "plt.ylabel('Accuracy')\n",
    "plt.xlabel('Époque')\n",
    "plt.legend()\n",
    "plt.show()"
   ]
  },
  {
   "cell_type": "code",
   "execution_count": null,
   "metadata": {},
   "outputs": [],
   "source": [
    "# Créer un nouveau générateur de validation pour les prédictions sans mélange\n",
    "validation_generator_for_pred = datagen.flow_from_dataframe(\n",
    "    dataframe=validation_df,\n",
    "    directory=img_folder_sample,\n",
    "    x_col='path',\n",
    "    y_col='label',\n",
    "    target_size=(224, 224),\n",
    "    batch_size=32,\n",
    "    class_mode='categorical',\n",
    "    shuffle=False  # Important pour garder le même ordre\n",
    ")\n",
    "\n",
    "# Prédire les étiquettes pour l'ensemble de validation\n",
    "val_predictions = model.predict(validation_generator_for_pred)\n",
    "val_predicted_labels = np.argmax(val_predictions, axis=1)\n",
    "\n",
    "# Obtenir les vraies étiquettes de l'ensemble de validation\n",
    "true_labels = validation_generator_for_pred.classes\n",
    "\n",
    "# Calculer la matrice de confusion\n",
    "conf_matrix = confusion_matrix(true_labels, val_predicted_labels)\n",
    "\n",
    "# Obtenir les noms des classes pour les étiquettes de l'axe\n",
    "class_labels = list(validation_generator_for_pred.class_indices.keys())\n",
    "\n",
    "# Afficher la matrice de confusion\n",
    "sns.set(context='talk', style='whitegrid')\n",
    "plt.figure(figsize=(10,8))\n",
    "sns.heatmap(conf_matrix, annot=True, fmt='d', cmap='Blues', xticklabels=class_labels, yticklabels=class_labels)\n",
    "plt.title('Matrice de Confusion')\n",
    "plt.xlabel('Prédictions')\n",
    "plt.ylabel('Véritables Étiquettes')\n",
    "plt.show()"
   ]
  },
  {
   "cell_type": "code",
   "execution_count": null,
   "metadata": {},
   "outputs": [],
   "source": [
    "# Prédire les étiquettes pour l'ensemble de validation avec shuffle=False\n",
    "val_predictions = model.predict(validation_generator_for_pred)\n",
    "val_predicted_labels = np.argmax(val_predictions, axis=1)\n",
    "\n",
    "# Obtenir les vraies étiquettes de l'ensemble de validation\n",
    "true_labels = validation_generator_for_pred.classes\n",
    "\n",
    "# Calculer l'Adjusted Rand Index\n",
    "ari_score = adjusted_rand_score(true_labels, val_predicted_labels)\n",
    "\n",
    "print(f\"L'Adjusted Rand Index est : {ari_score}\")"
   ]
  },
  {
   "cell_type": "code",
   "execution_count": null,
   "metadata": {},
   "outputs": [],
   "source": [
    "def predict_image(model, img_path, target_size=(224,224)):\n",
    "    # Charger et prétraiter l'image\n",
    "    img = load_img(img_path, target_size=target_size)\n",
    "    img_array = img_to_array(img)\n",
    "    img_array = np.expand_dims(img_array, axis=0) / 255.0  # Normalisation\n",
    "\n",
    "    # Prédiction\n",
    "    prediction = model.predict(img_array)\n",
    "\n",
    "    class_indices = train_generator.class_indices\n",
    "    classes = list(class_indices.keys())\n",
    "\n",
    "    # Obtenir le label de la classe avec la plus haute probabilité\n",
    "    predicted_class = classes[np.argmax(prediction)]\n",
    "\n",
    "    print(f\"Classe prédite pour l'image: {predicted_class}\")\n",
    "\n",
    "    return prediction"
   ]
  },
  {
   "cell_type": "code",
   "execution_count": null,
   "metadata": {},
   "outputs": [],
   "source": []
  },
  {
   "cell_type": "markdown",
   "metadata": {},
   "source": [
    "# Détection des sujets d'insatisfaction"
   ]
  },
  {
   "cell_type": "markdown",
   "metadata": {},
   "source": [
    "## Chargement des données"
   ]
  },
  {
   "cell_type": "markdown",
   "metadata": {},
   "source": [
    "Faire en sorte de prendre un sample avec des 'user_id' unique."
   ]
  },
  {
   "cell_type": "code",
   "execution_count": 2,
   "metadata": {},
   "outputs": [],
   "source": [
    "import sys\n",
    "from pathlib import Path\n",
    "\n",
    "# Ajout chemin du dossier racine au sys.path\n",
    "if str(Path().absolute().parents[0]) not in sys.path:\n",
    "    sys.path.append(str(Path().absolute().parents[0]))\n",
    "    \n",
    "from src.data_processing.general_preprocessing import clean_comment, tokenize_comment, delete_stopwords, lemmatized_tokens"
   ]
  },
  {
   "cell_type": "code",
   "execution_count": 3,
   "metadata": {},
   "outputs": [],
   "source": [
    "review = pd.read_json(\"../data/raw/yelp_dataset/yelp_academic_dataset_review.json\", lines=True)\n",
    "review_sample = review.loc[review['stars']==1,'text'].sample(n=10000)\n",
    "review_sample = review_sample.to_frame()"
   ]
  },
  {
   "cell_type": "markdown",
   "metadata": {},
   "source": [
    "## Preprocessing des données"
   ]
  },
  {
   "cell_type": "code",
   "execution_count": 4,
   "metadata": {},
   "outputs": [],
   "source": [
    "review_sample['clean_comment'] = review_sample['text'].apply(clean_comment)\n",
    "review_sample['tokens'] = review_sample['clean_comment'].apply(tokenize_comment)\n",
    "review_sample['tokens_without_stopwords'] = review_sample['tokens'].apply(delete_stopwords)\n",
    "review_sample['tokens_lemm'] = review_sample['tokens_without_stopwords'].apply(lemmatized_tokens)"
   ]
  },
  {
   "cell_type": "markdown",
   "metadata": {},
   "source": [
    "## EDA"
   ]
  },
  {
   "cell_type": "code",
   "execution_count": 9,
   "metadata": {},
   "outputs": [
    {
     "data": {
      "image/png": "[encoded data removed]",
      "text/plain": [
       "<Figure size 640x480 with 1 Axes>"
      ]
     },
     "metadata": {},
     "output_type": "display_data"
    }
   ],
   "source": [
    "joined_corpus = \" \".join([\" \".join(word) for word in review_sample['tokens_lemm'].values])\n",
    "wordcloud = WordCloud(background_color = 'white', max_words = 50).generate(joined_corpus)\n",
    "plt.imshow(wordcloud)\n",
    "plt.axis(\"off\")\n",
    "plt.show()"
   ]
  },
  {
   "cell_type": "code",
   "execution_count": 10,
   "metadata": {},
   "outputs": [
    {
     "data": {
      "image/png": "[encoded data removed]",
      "text/plain": [
       "<Figure size 2000x1000 with 1 Axes>"
      ]
     },
     "metadata": {},
     "output_type": "display_data"
    }
   ],
   "source": [
    "word_freq = pd.Series(joined_corpus.split()).value_counts()\n",
    "plt.figure(figsize=(20,10))\n",
    "sns.barplot(word_freq.head(30))\n",
    "plt.xticks(rotation=90);"
   ]
  },
  {
   "cell_type": "markdown",
   "metadata": {},
   "source": [
    "Supprimer les chiffres.\n",
    "Supprimer les adverbes."
   ]
  },
  {
   "cell_type": "markdown",
   "metadata": {},
   "source": [
    "## Modeling"
   ]
  },
  {
   "cell_type": "code",
   "execution_count": 5,
   "metadata": {},
   "outputs": [],
   "source": [
    "from src.data_processing.lda_preprocessing import create_bow, create_tfidf\n",
    "from src.models.lda_tuning import tune_lda_coherence, tune_lda_perplexity\n",
    "from src.visualization.lda_visualisation import gensim_print_top_words_topics, sklearn_print_top_words"
   ]
  },
  {
   "cell_type": "markdown",
   "metadata": {},
   "source": [
    "Gensim lda tune coherence score: bow, tf-idf\n",
    "Sklearn lda tune perplexity\n",
    "Enlever les commentaires non anglophones"
   ]
  },
  {
   "cell_type": "markdown",
   "metadata": {},
   "source": [
    "### Bag of words : gensim"
   ]
  },
  {
   "cell_type": "code",
   "execution_count": 6,
   "metadata": {},
   "outputs": [],
   "source": [
    "# Create bag of words\n",
    "bow, features_names_bow, bow_gensim, dictionary_gensim = create_bow(review_sample['tokens_lemm'])"
   ]
  },
  {
   "cell_type": "code",
   "execution_count": 7,
   "metadata": {},
   "outputs": [],
   "source": [
    "# LDA tuning\n",
    "topic_range = range(2, 7)\n",
    "max_df_range = np.linspace(0.5, 0.95, 10)\n",
    "alpha_range = list(np.arange(0.01, 1, 0.3))\n",
    "eta_range = list(np.arange(0.01, 1, 0.3))\n",
    "\n",
    "#best_model_gensim_bow, best_params_gensim_bow, best_score_gensim_bow = tune_lda_coherence(review_sample['tokens_lemm'], bow_gensim, dictionary_gensim, topic_range, alpha_range, eta_range)"
   ]
  },
  {
   "cell_type": "code",
   "execution_count": 11,
   "metadata": {},
   "outputs": [],
   "source": [
    "# LDA best_params_gensim_bow : {'num_topics': 5, 'alpha': 0.31, 'eta': 0.9099999999999999}\n",
    "best_model_gensim_bow = LdaMulticore(corpus=bow_gensim, \n",
    "                                    id2word=dictionary_gensim, \n",
    "                                    num_topics=5, \n",
    "                                    random_state=100, \n",
    "                                    chunksize=100, \n",
    "                                    passes=10, \n",
    "                                    alpha=0.31, \n",
    "                                    eta=0.91)"
   ]
  },
  {
   "cell_type": "code",
   "execution_count": 12,
   "metadata": {},
   "outputs": [
    {
     "name": "stdout",
     "output_type": "stream",
     "text": [
      "Topic 1: minus ketchup responsibility coincidence marsh string maria tear state sot\n",
      "Topic 2: frizy insulting light baasssic eggrollsenjoy refundable nonresponsive field basically condense\n",
      "Topic 3: improperly cease confuse courthouse puddle img disdain communicate melissa oem\n",
      "Topic 4: instructed frizy refundable insulting baasssic pho eggrollsenjoy gps light condense\n",
      "Topic 5: pho fell frizy insulting manger gps refundable incur condense baasssic\n"
     ]
    }
   ],
   "source": [
    "gensim_print_top_words_topics(best_model_gensim_bow, 5, 10)"
   ]
  },
  {
   "cell_type": "markdown",
   "metadata": {},
   "source": [
    "### Bag of words : sklearn"
   ]
  },
  {
   "cell_type": "markdown",
   "metadata": {},
   "source": [
    "max_features dans mon vectorizer : garder les 5000 mots les plus fréquents\n",
    "Regarder s'il existe un hyperparamètre qui permet de limiter l'apparition du même mot dans plusieurs topics\n",
    "log likely hood : log vraisemblance"
   ]
  },
  {
   "cell_type": "code",
   "execution_count": 34,
   "metadata": {},
   "outputs": [
    {
     "data": {
      "text/plain": [
       "(10000, 24102)"
      ]
     },
     "execution_count": 34,
     "metadata": {},
     "output_type": "execute_result"
    }
   ],
   "source": [
    "bow.todense().shape"
   ]
  },
  {
   "cell_type": "code",
   "execution_count": 13,
   "metadata": {},
   "outputs": [
    {
     "name": "stdout",
     "output_type": "stream",
     "text": [
      "N_topics : 2, perplexity : 1125.2302715905253\n",
      "N_topics : 3, perplexity : 1110.0101561153874\n",
      "N_topics : 4, perplexity : 1124.4261695764017\n",
      "N_topics : 5, perplexity : 1140.016752351747\n",
      "N_topics : 6, perplexity : 1143.0451932653743\n"
     ]
    }
   ],
   "source": [
    "# LDA tuning with perplexity\n",
    "topic_range = range(2, 7)\n",
    "best_model_sklearn_bow, best_params_sklearn_bow, best_score_sklearn_bow = tune_lda_perplexity(bow, topic_range, max_iter=10)"
   ]
  },
  {
   "cell_type": "code",
   "execution_count": 14,
   "metadata": {},
   "outputs": [
    {
     "data": {
      "text/plain": [
       "3"
      ]
     },
     "execution_count": 14,
     "metadata": {},
     "output_type": "execute_result"
    }
   ],
   "source": [
    "best_params_sklearn_bow"
   ]
  },
  {
   "cell_type": "code",
   "execution_count": 11,
   "metadata": {},
   "outputs": [],
   "source": [
    "#best_params_sklearn_bow = 3\n",
    "best_params_sklearn_bow = LatentDirichletAllocation(n_components=4,\n",
    "                                                    max_iter=10,\n",
    "                                                    learning_method='online',\n",
    "                                                    random_state=100).fit(bow)"
   ]
  },
  {
   "cell_type": "code",
   "execution_count": 17,
   "metadata": {},
   "outputs": [
    {
     "name": "stdout",
     "output_type": "stream",
     "text": [
      "Topic #0: call get would say tell service go time car back\n",
      "Topic #1: order food get go place come good like time restaurant\n",
      "Topic #2: go get say one place time like ask room would\n"
     ]
    }
   ],
   "source": [
    "sklearn_print_top_words(best_model_sklearn_bow,features_names_bow.get_feature_names_out(), 10)"
   ]
  },
  {
   "cell_type": "markdown",
   "metadata": {},
   "source": [
    "Supprimer les mots présents dans les 3 topics ?"
   ]
  },
  {
   "cell_type": "markdown",
   "metadata": {},
   "source": [
    "### TF-IDF : gensim"
   ]
  },
  {
   "cell_type": "code",
   "execution_count": 14,
   "metadata": {},
   "outputs": [],
   "source": [
    "# Create tf-idf\n",
    "tfidf, features_names_tfidf, tfidf_gensim, dictionary_gensim = create_tfidf(review_sample['tokens_lemm'])"
   ]
  },
  {
   "cell_type": "code",
   "execution_count": null,
   "metadata": {},
   "outputs": [],
   "source": [
    "# LDA tuning\n",
    "topic_range = range(2, 7)\n",
    "max_df_range = np.linspace(0.5, 0.95, 10)\n",
    "alpha_range = list(np.arange(0.01, 1, 0.3))\n",
    "eta_range = list(np.arange(0.01, 1, 0.3))\n",
    "\n",
    "#best_model_gensim_tfidf, best_params_gensim_tfidf, best_score_gensim_tfidf = tune_lda_coherence(review_sample['tokens_lemm'], tfidf_gensim, dictionary_gensim, topic_range, alpha_range, eta_range)"
   ]
  },
  {
   "cell_type": "code",
   "execution_count": 15,
   "metadata": {},
   "outputs": [],
   "source": [
    "#best_params_gensim_tfidf : {'#num_topics': 5, 'alpha': 0.31, 'eta': 0.01}\n",
    "best_model_gensim_tfidf = LdaMulticore(corpus=tfidf_gensim, \n",
    "                                         id2word=dictionary_gensim, \n",
    "                                         num_topics=5, \n",
    "                                         random_state=100, \n",
    "                                         chunksize=100, \n",
    "                                         passes=10, \n",
    "                                         alpha=0.31, \n",
    "                                         eta=0.01)"
   ]
  },
  {
   "cell_type": "code",
   "execution_count": 16,
   "metadata": {},
   "outputs": [
    {
     "name": "stdout",
     "output_type": "stream",
     "text": [
      "Topic 1: disrespected nitrogen older crawfishgumbo portionsfood 5131 reality freeon typically wiregrass\n",
      "Topic 2: 1259 nordstrom lori greenville 2010 nitrogen freeon peices 5131 rib\n",
      "Topic 3: peices 722 1259 5131 relleno illegitimate nitrogen forcing vegetarian misinformation\n",
      "Topic 4: crack hotspur maintained claw injuriesat windshieldthey cascade drivewow fk 5131\n",
      "Topic 5: hurtful ethnic tapeo hep inspecting carne reality freeon vial ashls\n"
     ]
    }
   ],
   "source": [
    "gensim_print_top_words_topics(best_model_gensim_tfidf, 5, 10)"
   ]
  },
  {
   "cell_type": "markdown",
   "metadata": {},
   "source": [
    "### TF-IDF : sklearn"
   ]
  },
  {
   "cell_type": "code",
   "execution_count": 17,
   "metadata": {},
   "outputs": [],
   "source": [
    "# LDA tuning with perplexity\n",
    "topic_range = range(2, 7)\n",
    "best_model_gensim_tfidf, best_params_gensim_tfidf, best_score_gensim_tfidf = tune_lda_perplexity(tfidf, topic_range, max_iter=10)"
   ]
  },
  {
   "cell_type": "code",
   "execution_count": 29,
   "metadata": {},
   "outputs": [],
   "source": [
    "#best_params_sklearn_bow = 2\n",
    "best_params_sklearn_tfidf = LatentDirichletAllocation(n_components=4, \n",
    "                                                    max_iter=10, \n",
    "                                                    learning_method='online', \n",
    "                                                    random_state=100).fit(tfidf)"
   ]
  },
  {
   "cell_type": "markdown",
   "metadata": {},
   "source": [
    "perplexity varie peu ? Graphique à faire."
   ]
  },
  {
   "cell_type": "code",
   "execution_count": 30,
   "metadata": {},
   "outputs": [
    {
     "name": "stdout",
     "output_type": "stream",
     "text": [
      "Topic #0: timeso tonightfailure depends lactose chuys connor experence mrs kohns disgustingordered\n",
      "Topic #1: botox bruce terribledont leban yarn craig fbi nitrogen allegro staffgarbage\n",
      "Topic #2: custard rm worstever conesand overpricedstale gritty la zoo vparkingcard vanderbilt\n",
      "Topic #3: get go order food time service place say come would\n"
     ]
    }
   ],
   "source": [
    "sklearn_print_top_words(best_params_sklearn_tfidf,features_names_tfidf, 10)"
   ]
  },
  {
   "cell_type": "code",
   "execution_count": null,
   "metadata": {},
   "outputs": [],
   "source": []
  },
  {
   "cell_type": "code",
   "execution_count": null,
   "metadata": {},
   "outputs": [],
   "source": []
  },
  {
   "cell_type": "code",
   "execution_count": null,
   "metadata": {},
   "outputs": [],
   "source": []
  },
  {
   "cell_type": "markdown",
   "metadata": {},
   "source": [
    "# Essais"
   ]
  },
  {
   "cell_type": "code",
   "execution_count": null,
   "metadata": {},
   "outputs": [],
   "source": [
    "# Création d'une instance de SentimentIntensityAnalyzer\n",
    "sia = SentimentIntensityAnalyzer()\n",
    "\n",
    "# Fonction pour obtenir le score de sentiment\n",
    "def get_vader_sentiment(comment):\n",
    "    # Calcul des scores de sentiment\n",
    "    sentiment_dict = sia.polarity_scores(comment)\n",
    "    # Retourne le score 'composé' qui est une métrique globale de sentiment\n",
    "    return sentiment_dict['compound']\n",
    "\n",
    "# Application de cette fonction aux commentaires nettoyés\n",
    "review_sample['vader_sentiment'] = review_sample['cleaned_comment'].apply(get_vader_sentiment)"
   ]
  },
  {
   "cell_type": "code",
   "execution_count": null,
   "metadata": {},
   "outputs": [],
   "source": [
    "def remove_most_frequent_words(text:str, n:int):\n",
    "    most_freq_words = pd.Series(corpus.split()).value_counts().head(n).index\n",
    "    return ' '.join(word for word in text.split() if word not in most_freq_words)\n",
    "\n",
    "corpus_witout_freq_word = remove_most_frequent_words(corpus, 20)\n",
    "word_freq_2 = pd.Series(corpus_witout_freq_word.split()).value_counts()\n",
    "word_freq_2"
   ]
  }
 ],
 "metadata": {
  "kernelspec": {
   "display_name": "env",
   "language": "python",
   "name": "python3"
  },
  "language_info": {
   "codemirror_mode": {
    "name": "ipython",
    "version": 3
   },
   "file_extension": ".py",
   "mimetype": "text/x-python",
   "name": "python",
   "nbconvert_exporter": "python",
   "pygments_lexer": "ipython3",
   "version": "3.10.11"
  }
 },
 "nbformat": 4,
 "nbformat_minor": 2
}
